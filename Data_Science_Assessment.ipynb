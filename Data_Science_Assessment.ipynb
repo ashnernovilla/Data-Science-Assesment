{
  "nbformat": 4,
  "nbformat_minor": 0,
  "metadata": {
    "colab": {
      "provenance": [],
      "toc_visible": true,
      "authorship_tag": "ABX9TyPYLqY2ZtYrPMooMv/J788f",
      "include_colab_link": true
    },
    "kernelspec": {
      "name": "python3",
      "display_name": "Python 3"
    },
    "language_info": {
      "name": "python"
    }
  },
  "cells": [
    {
      "cell_type": "markdown",
      "metadata": {
        "id": "view-in-github",
        "colab_type": "text"
      },
      "source": [
        "<a href=\"https://colab.research.google.com/github/ashnernovilla/Data-Science-Assesment/blob/master/Data_Science_Assessment.ipynb\" target=\"_parent\"><img src=\"https://colab.research.google.com/assets/colab-badge.svg\" alt=\"Open In Colab\"/></a>"
      ]
    },
    {
      "cell_type": "markdown",
      "source": [
        "# Technical Data Task"
      ],
      "metadata": {
        "id": "x24HMNI4vPYL"
      }
    },
    {
      "cell_type": "markdown",
      "source": [
        "## Import Library"
      ],
      "metadata": {
        "id": "gs1xSY2tsUGh"
      }
    },
    {
      "cell_type": "code",
      "execution_count": 15,
      "metadata": {
        "id": "5ccUlsN1qFFI"
      },
      "outputs": [],
      "source": [
        "import pandas as pd\n",
        "import numpy as np\n",
        "import matplotlib.pyplot as plt\n",
        "import seaborn as sns\n",
        "import plotly.graph_objs as go\n",
        "import plotly.express as px\n",
        "import plotly.io as pio\n",
        "pio.templates.default = \"plotly_white\""
      ]
    },
    {
      "cell_type": "markdown",
      "source": [
        "## Import Dataset and Get the 1st Five"
      ],
      "metadata": {
        "id": "ISK_31d2s7Aq"
      }
    },
    {
      "cell_type": "code",
      "source": [
        "df_raw = pd.read_parquet(r'https://d37ci6vzurychx.cloudfront.net/trip-data/green_tripdata_2016-02.parquet')"
      ],
      "metadata": {
        "id": "CquMQtzWsXLW"
      },
      "execution_count": 16,
      "outputs": []
    },
    {
      "cell_type": "code",
      "source": [
        "df_raw.head()"
      ],
      "metadata": {
        "colab": {
          "base_uri": "https://localhost:8080/",
          "height": 226
        },
        "id": "EQ1d18lhrndu",
        "outputId": "dbb319d8-8fa4-4fb7-c743-c8d8e5a7d2ef"
      },
      "execution_count": 17,
      "outputs": [
        {
          "output_type": "execute_result",
          "data": {
            "text/plain": [
              "   VendorID lpep_pickup_datetime lpep_dropoff_datetime store_and_fwd_flag  \\\n",
              "0         2  2016-02-01 00:11:39   2016-02-01 00:22:25                  N   \n",
              "1         2  2016-02-01 00:44:47   2016-02-01 00:51:57                  N   \n",
              "2         2  2016-02-01 00:10:55   2016-02-01 00:35:08                  N   \n",
              "3         2  2016-02-01 00:36:25   2016-02-01 00:40:10                  N   \n",
              "4         2  2016-02-01 00:06:28   2016-02-01 00:17:09                  N   \n",
              "\n",
              "   RatecodeID  PULocationID  DOLocationID  passenger_count  trip_distance  \\\n",
              "0           1           265           265                1           3.80   \n",
              "1           1           265           265                1           1.50   \n",
              "2           1           225            77                1           3.84   \n",
              "3           1            77            39                1           1.04   \n",
              "4           1            80            52                1           5.18   \n",
              "\n",
              "   fare_amount  extra  mta_tax  tip_amount  tolls_amount ehail_fee  \\\n",
              "0        15.23    0.0      0.0        0.00           0.0      None   \n",
              "1         8.79    0.0      0.0        0.00           0.0      None   \n",
              "2        15.50    0.5      0.5        3.36           0.0      None   \n",
              "3         5.50    0.5      0.5        0.00           0.0      None   \n",
              "4        16.00    0.5      0.5        0.00           0.0      None   \n",
              "\n",
              "   improvement_surcharge  total_amount  payment_type  trip_type  \\\n",
              "0                   0.46         15.69             2        1.0   \n",
              "1                   0.26          9.05             2        1.0   \n",
              "2                   0.30         20.16             1        1.0   \n",
              "3                   0.30          6.80             2        1.0   \n",
              "4                   0.30         17.30             2        1.0   \n",
              "\n",
              "  congestion_surcharge  \n",
              "0                 None  \n",
              "1                 None  \n",
              "2                 None  \n",
              "3                 None  \n",
              "4                 None  "
            ],
            "text/html": [
              "\n",
              "  <div id=\"df-fb956a0b-6c02-45a2-a081-79fe207118cd\" class=\"colab-df-container\">\n",
              "    <div>\n",
              "<style scoped>\n",
              "    .dataframe tbody tr th:only-of-type {\n",
              "        vertical-align: middle;\n",
              "    }\n",
              "\n",
              "    .dataframe tbody tr th {\n",
              "        vertical-align: top;\n",
              "    }\n",
              "\n",
              "    .dataframe thead th {\n",
              "        text-align: right;\n",
              "    }\n",
              "</style>\n",
              "<table border=\"1\" class=\"dataframe\">\n",
              "  <thead>\n",
              "    <tr style=\"text-align: right;\">\n",
              "      <th></th>\n",
              "      <th>VendorID</th>\n",
              "      <th>lpep_pickup_datetime</th>\n",
              "      <th>lpep_dropoff_datetime</th>\n",
              "      <th>store_and_fwd_flag</th>\n",
              "      <th>RatecodeID</th>\n",
              "      <th>PULocationID</th>\n",
              "      <th>DOLocationID</th>\n",
              "      <th>passenger_count</th>\n",
              "      <th>trip_distance</th>\n",
              "      <th>fare_amount</th>\n",
              "      <th>extra</th>\n",
              "      <th>mta_tax</th>\n",
              "      <th>tip_amount</th>\n",
              "      <th>tolls_amount</th>\n",
              "      <th>ehail_fee</th>\n",
              "      <th>improvement_surcharge</th>\n",
              "      <th>total_amount</th>\n",
              "      <th>payment_type</th>\n",
              "      <th>trip_type</th>\n",
              "      <th>congestion_surcharge</th>\n",
              "    </tr>\n",
              "  </thead>\n",
              "  <tbody>\n",
              "    <tr>\n",
              "      <th>0</th>\n",
              "      <td>2</td>\n",
              "      <td>2016-02-01 00:11:39</td>\n",
              "      <td>2016-02-01 00:22:25</td>\n",
              "      <td>N</td>\n",
              "      <td>1</td>\n",
              "      <td>265</td>\n",
              "      <td>265</td>\n",
              "      <td>1</td>\n",
              "      <td>3.80</td>\n",
              "      <td>15.23</td>\n",
              "      <td>0.0</td>\n",
              "      <td>0.0</td>\n",
              "      <td>0.00</td>\n",
              "      <td>0.0</td>\n",
              "      <td>None</td>\n",
              "      <td>0.46</td>\n",
              "      <td>15.69</td>\n",
              "      <td>2</td>\n",
              "      <td>1.0</td>\n",
              "      <td>None</td>\n",
              "    </tr>\n",
              "    <tr>\n",
              "      <th>1</th>\n",
              "      <td>2</td>\n",
              "      <td>2016-02-01 00:44:47</td>\n",
              "      <td>2016-02-01 00:51:57</td>\n",
              "      <td>N</td>\n",
              "      <td>1</td>\n",
              "      <td>265</td>\n",
              "      <td>265</td>\n",
              "      <td>1</td>\n",
              "      <td>1.50</td>\n",
              "      <td>8.79</td>\n",
              "      <td>0.0</td>\n",
              "      <td>0.0</td>\n",
              "      <td>0.00</td>\n",
              "      <td>0.0</td>\n",
              "      <td>None</td>\n",
              "      <td>0.26</td>\n",
              "      <td>9.05</td>\n",
              "      <td>2</td>\n",
              "      <td>1.0</td>\n",
              "      <td>None</td>\n",
              "    </tr>\n",
              "    <tr>\n",
              "      <th>2</th>\n",
              "      <td>2</td>\n",
              "      <td>2016-02-01 00:10:55</td>\n",
              "      <td>2016-02-01 00:35:08</td>\n",
              "      <td>N</td>\n",
              "      <td>1</td>\n",
              "      <td>225</td>\n",
              "      <td>77</td>\n",
              "      <td>1</td>\n",
              "      <td>3.84</td>\n",
              "      <td>15.50</td>\n",
              "      <td>0.5</td>\n",
              "      <td>0.5</td>\n",
              "      <td>3.36</td>\n",
              "      <td>0.0</td>\n",
              "      <td>None</td>\n",
              "      <td>0.30</td>\n",
              "      <td>20.16</td>\n",
              "      <td>1</td>\n",
              "      <td>1.0</td>\n",
              "      <td>None</td>\n",
              "    </tr>\n",
              "    <tr>\n",
              "      <th>3</th>\n",
              "      <td>2</td>\n",
              "      <td>2016-02-01 00:36:25</td>\n",
              "      <td>2016-02-01 00:40:10</td>\n",
              "      <td>N</td>\n",
              "      <td>1</td>\n",
              "      <td>77</td>\n",
              "      <td>39</td>\n",
              "      <td>1</td>\n",
              "      <td>1.04</td>\n",
              "      <td>5.50</td>\n",
              "      <td>0.5</td>\n",
              "      <td>0.5</td>\n",
              "      <td>0.00</td>\n",
              "      <td>0.0</td>\n",
              "      <td>None</td>\n",
              "      <td>0.30</td>\n",
              "      <td>6.80</td>\n",
              "      <td>2</td>\n",
              "      <td>1.0</td>\n",
              "      <td>None</td>\n",
              "    </tr>\n",
              "    <tr>\n",
              "      <th>4</th>\n",
              "      <td>2</td>\n",
              "      <td>2016-02-01 00:06:28</td>\n",
              "      <td>2016-02-01 00:17:09</td>\n",
              "      <td>N</td>\n",
              "      <td>1</td>\n",
              "      <td>80</td>\n",
              "      <td>52</td>\n",
              "      <td>1</td>\n",
              "      <td>5.18</td>\n",
              "      <td>16.00</td>\n",
              "      <td>0.5</td>\n",
              "      <td>0.5</td>\n",
              "      <td>0.00</td>\n",
              "      <td>0.0</td>\n",
              "      <td>None</td>\n",
              "      <td>0.30</td>\n",
              "      <td>17.30</td>\n",
              "      <td>2</td>\n",
              "      <td>1.0</td>\n",
              "      <td>None</td>\n",
              "    </tr>\n",
              "  </tbody>\n",
              "</table>\n",
              "</div>\n",
              "    <div class=\"colab-df-buttons\">\n",
              "\n",
              "  <div class=\"colab-df-container\">\n",
              "    <button class=\"colab-df-convert\" onclick=\"convertToInteractive('df-fb956a0b-6c02-45a2-a081-79fe207118cd')\"\n",
              "            title=\"Convert this dataframe to an interactive table.\"\n",
              "            style=\"display:none;\">\n",
              "\n",
              "  <svg xmlns=\"http://www.w3.org/2000/svg\" height=\"24px\" viewBox=\"0 -960 960 960\">\n",
              "    <path d=\"M120-120v-720h720v720H120Zm60-500h600v-160H180v160Zm220 220h160v-160H400v160Zm0 220h160v-160H400v160ZM180-400h160v-160H180v160Zm440 0h160v-160H620v160ZM180-180h160v-160H180v160Zm440 0h160v-160H620v160Z\"/>\n",
              "  </svg>\n",
              "    </button>\n",
              "\n",
              "  <style>\n",
              "    .colab-df-container {\n",
              "      display:flex;\n",
              "      gap: 12px;\n",
              "    }\n",
              "\n",
              "    .colab-df-convert {\n",
              "      background-color: #E8F0FE;\n",
              "      border: none;\n",
              "      border-radius: 50%;\n",
              "      cursor: pointer;\n",
              "      display: none;\n",
              "      fill: #1967D2;\n",
              "      height: 32px;\n",
              "      padding: 0 0 0 0;\n",
              "      width: 32px;\n",
              "    }\n",
              "\n",
              "    .colab-df-convert:hover {\n",
              "      background-color: #E2EBFA;\n",
              "      box-shadow: 0px 1px 2px rgba(60, 64, 67, 0.3), 0px 1px 3px 1px rgba(60, 64, 67, 0.15);\n",
              "      fill: #174EA6;\n",
              "    }\n",
              "\n",
              "    .colab-df-buttons div {\n",
              "      margin-bottom: 4px;\n",
              "    }\n",
              "\n",
              "    [theme=dark] .colab-df-convert {\n",
              "      background-color: #3B4455;\n",
              "      fill: #D2E3FC;\n",
              "    }\n",
              "\n",
              "    [theme=dark] .colab-df-convert:hover {\n",
              "      background-color: #434B5C;\n",
              "      box-shadow: 0px 1px 3px 1px rgba(0, 0, 0, 0.15);\n",
              "      filter: drop-shadow(0px 1px 2px rgba(0, 0, 0, 0.3));\n",
              "      fill: #FFFFFF;\n",
              "    }\n",
              "  </style>\n",
              "\n",
              "    <script>\n",
              "      const buttonEl =\n",
              "        document.querySelector('#df-fb956a0b-6c02-45a2-a081-79fe207118cd button.colab-df-convert');\n",
              "      buttonEl.style.display =\n",
              "        google.colab.kernel.accessAllowed ? 'block' : 'none';\n",
              "\n",
              "      async function convertToInteractive(key) {\n",
              "        const element = document.querySelector('#df-fb956a0b-6c02-45a2-a081-79fe207118cd');\n",
              "        const dataTable =\n",
              "          await google.colab.kernel.invokeFunction('convertToInteractive',\n",
              "                                                    [key], {});\n",
              "        if (!dataTable) return;\n",
              "\n",
              "        const docLinkHtml = 'Like what you see? Visit the ' +\n",
              "          '<a target=\"_blank\" href=https://colab.research.google.com/notebooks/data_table.ipynb>data table notebook</a>'\n",
              "          + ' to learn more about interactive tables.';\n",
              "        element.innerHTML = '';\n",
              "        dataTable['output_type'] = 'display_data';\n",
              "        await google.colab.output.renderOutput(dataTable, element);\n",
              "        const docLink = document.createElement('div');\n",
              "        docLink.innerHTML = docLinkHtml;\n",
              "        element.appendChild(docLink);\n",
              "      }\n",
              "    </script>\n",
              "  </div>\n",
              "\n",
              "\n",
              "<div id=\"df-c000a38d-8306-40bf-bfd3-6d8bc42407c7\">\n",
              "  <button class=\"colab-df-quickchart\" onclick=\"quickchart('df-c000a38d-8306-40bf-bfd3-6d8bc42407c7')\"\n",
              "            title=\"Suggest charts\"\n",
              "            style=\"display:none;\">\n",
              "\n",
              "<svg xmlns=\"http://www.w3.org/2000/svg\" height=\"24px\"viewBox=\"0 0 24 24\"\n",
              "     width=\"24px\">\n",
              "    <g>\n",
              "        <path d=\"M19 3H5c-1.1 0-2 .9-2 2v14c0 1.1.9 2 2 2h14c1.1 0 2-.9 2-2V5c0-1.1-.9-2-2-2zM9 17H7v-7h2v7zm4 0h-2V7h2v10zm4 0h-2v-4h2v4z\"/>\n",
              "    </g>\n",
              "</svg>\n",
              "  </button>\n",
              "\n",
              "<style>\n",
              "  .colab-df-quickchart {\n",
              "      --bg-color: #E8F0FE;\n",
              "      --fill-color: #1967D2;\n",
              "      --hover-bg-color: #E2EBFA;\n",
              "      --hover-fill-color: #174EA6;\n",
              "      --disabled-fill-color: #AAA;\n",
              "      --disabled-bg-color: #DDD;\n",
              "  }\n",
              "\n",
              "  [theme=dark] .colab-df-quickchart {\n",
              "      --bg-color: #3B4455;\n",
              "      --fill-color: #D2E3FC;\n",
              "      --hover-bg-color: #434B5C;\n",
              "      --hover-fill-color: #FFFFFF;\n",
              "      --disabled-bg-color: #3B4455;\n",
              "      --disabled-fill-color: #666;\n",
              "  }\n",
              "\n",
              "  .colab-df-quickchart {\n",
              "    background-color: var(--bg-color);\n",
              "    border: none;\n",
              "    border-radius: 50%;\n",
              "    cursor: pointer;\n",
              "    display: none;\n",
              "    fill: var(--fill-color);\n",
              "    height: 32px;\n",
              "    padding: 0;\n",
              "    width: 32px;\n",
              "  }\n",
              "\n",
              "  .colab-df-quickchart:hover {\n",
              "    background-color: var(--hover-bg-color);\n",
              "    box-shadow: 0 1px 2px rgba(60, 64, 67, 0.3), 0 1px 3px 1px rgba(60, 64, 67, 0.15);\n",
              "    fill: var(--button-hover-fill-color);\n",
              "  }\n",
              "\n",
              "  .colab-df-quickchart-complete:disabled,\n",
              "  .colab-df-quickchart-complete:disabled:hover {\n",
              "    background-color: var(--disabled-bg-color);\n",
              "    fill: var(--disabled-fill-color);\n",
              "    box-shadow: none;\n",
              "  }\n",
              "\n",
              "  .colab-df-spinner {\n",
              "    border: 2px solid var(--fill-color);\n",
              "    border-color: transparent;\n",
              "    border-bottom-color: var(--fill-color);\n",
              "    animation:\n",
              "      spin 1s steps(1) infinite;\n",
              "  }\n",
              "\n",
              "  @keyframes spin {\n",
              "    0% {\n",
              "      border-color: transparent;\n",
              "      border-bottom-color: var(--fill-color);\n",
              "      border-left-color: var(--fill-color);\n",
              "    }\n",
              "    20% {\n",
              "      border-color: transparent;\n",
              "      border-left-color: var(--fill-color);\n",
              "      border-top-color: var(--fill-color);\n",
              "    }\n",
              "    30% {\n",
              "      border-color: transparent;\n",
              "      border-left-color: var(--fill-color);\n",
              "      border-top-color: var(--fill-color);\n",
              "      border-right-color: var(--fill-color);\n",
              "    }\n",
              "    40% {\n",
              "      border-color: transparent;\n",
              "      border-right-color: var(--fill-color);\n",
              "      border-top-color: var(--fill-color);\n",
              "    }\n",
              "    60% {\n",
              "      border-color: transparent;\n",
              "      border-right-color: var(--fill-color);\n",
              "    }\n",
              "    80% {\n",
              "      border-color: transparent;\n",
              "      border-right-color: var(--fill-color);\n",
              "      border-bottom-color: var(--fill-color);\n",
              "    }\n",
              "    90% {\n",
              "      border-color: transparent;\n",
              "      border-bottom-color: var(--fill-color);\n",
              "    }\n",
              "  }\n",
              "</style>\n",
              "\n",
              "  <script>\n",
              "    async function quickchart(key) {\n",
              "      const quickchartButtonEl =\n",
              "        document.querySelector('#' + key + ' button');\n",
              "      quickchartButtonEl.disabled = true;  // To prevent multiple clicks.\n",
              "      quickchartButtonEl.classList.add('colab-df-spinner');\n",
              "      try {\n",
              "        const charts = await google.colab.kernel.invokeFunction(\n",
              "            'suggestCharts', [key], {});\n",
              "      } catch (error) {\n",
              "        console.error('Error during call to suggestCharts:', error);\n",
              "      }\n",
              "      quickchartButtonEl.classList.remove('colab-df-spinner');\n",
              "      quickchartButtonEl.classList.add('colab-df-quickchart-complete');\n",
              "    }\n",
              "    (() => {\n",
              "      let quickchartButtonEl =\n",
              "        document.querySelector('#df-c000a38d-8306-40bf-bfd3-6d8bc42407c7 button');\n",
              "      quickchartButtonEl.style.display =\n",
              "        google.colab.kernel.accessAllowed ? 'block' : 'none';\n",
              "    })();\n",
              "  </script>\n",
              "</div>\n",
              "\n",
              "    </div>\n",
              "  </div>\n"
            ],
            "application/vnd.google.colaboratory.intrinsic+json": {
              "type": "dataframe",
              "variable_name": "df_raw"
            }
          },
          "metadata": {},
          "execution_count": 17
        }
      ]
    },
    {
      "cell_type": "markdown",
      "source": [
        "## 1.\tReport the number of rows and columns that been loaded."
      ],
      "metadata": {
        "id": "MvcU175usYBw"
      }
    },
    {
      "cell_type": "code",
      "source": [
        "## Print the Number of Rows\n",
        "print(\"Number of Rows: \", len(df_raw))\n",
        "## Print the Number of Columns\n",
        "print(\"Number of Columns: \", len(df_raw.columns))"
      ],
      "metadata": {
        "colab": {
          "base_uri": "https://localhost:8080/",
          "height": 0
        },
        "id": "hkAp5p38s0Ha",
        "outputId": "f50cd201-def7-4024-d5b6-9f91535eb654"
      },
      "execution_count": 18,
      "outputs": [
        {
          "output_type": "stream",
          "name": "stdout",
          "text": [
            "Number of Rows:  1510722\n",
            "Number of Columns:  20\n"
          ]
        }
      ]
    },
    {
      "cell_type": "markdown",
      "source": [
        "## 2.\tVisualise the trip distance by time of day in any way you see fit and report on any observations."
      ],
      "metadata": {
        "id": "wa5C4YLFteKD"
      }
    },
    {
      "cell_type": "markdown",
      "source": [
        "### 2.1 Visualise the trip distance by time of day."
      ],
      "metadata": {
        "id": "o1oFFq26AL41"
      }
    },
    {
      "cell_type": "code",
      "source": [
        "# Visualise the trip distance by time of day in any way you see fit and report on any observations.\n",
        "df_1 = df_raw.copy()\n",
        "\n",
        "# Convert pickup datetime to datetime object\n",
        "df_1['lpep_pickup_datetime'] = pd.to_datetime(df_1['lpep_pickup_datetime'])\n",
        "\n",
        "# Extract hour from pickup datetime\n",
        "df_1['pickup_hour'] = df_1['lpep_pickup_datetime'].dt.hour\n",
        "\n",
        "# Group by pickup hour and calculate the average trip distance\n",
        "hourly_trip_distance = df_1.groupby('pickup_hour')['trip_distance'].mean()\n",
        "hourly_trip_distance_median = df_1.groupby('pickup_hour')['trip_distance'].median()\n",
        "\n",
        "\n",
        "# Create the Plotly figure\n",
        "fig = go.Figure()\n",
        "\n",
        "# Add the trace for the line plot\n",
        "fig.add_trace(go.Scatter(\n",
        "    x=hourly_trip_distance.index,\n",
        "    y=hourly_trip_distance.values,\n",
        "    mode='lines+markers',\n",
        "    name='Average Trip Distance',\n",
        "    line=dict(color='royalblue', width=2),\n",
        "    marker=dict(size=8)\n",
        "))\n",
        "\n",
        "# Add the trace for the line plot\n",
        "fig.add_trace(go.Scatter(\n",
        "    x=hourly_trip_distance_median.index,\n",
        "    y=hourly_trip_distance_median.values,\n",
        "    mode='lines+markers',\n",
        "    name='Median Trip Distance',\n",
        "    line=dict(color='darkolivegreen', width=2),\n",
        "    marker=dict(size=8)\n",
        "))\n",
        "\n",
        "# Customize layout\n",
        "fig.update_layout(\n",
        "    title='Trip Distance by Time of Day',\n",
        "    xaxis_title='February Hour of Day',\n",
        "    yaxis_title='Trip Distance (miles)',\n",
        "    xaxis=dict(tickmode='linear'),\n",
        "    yaxis=dict(gridcolor='LightGray'),\n",
        "    template='plotly_white'\n",
        ")\n",
        "\n",
        "\n",
        "\n",
        "# Show the interactive plot\n",
        "fig.show()\n",
        "\n",
        "# Observations:\n",
        "# From the plot we can see if there are any patterns in trip distance based on the time of day.\n",
        "# For example, it might be observe that trip distances are generally longer during certain hours (rush hours) or shorter during other hours.\n",
        "\n",
        "# By Taking the median we are removing the possible outliers focusing on the 50th Percentile of the data.\n",
        "# We can notice that the highest median is between 5 to 6 AM in the morning. As this is the rush hour - people going to work\n",
        "# But we notice that median is around 2.8 Miles in distance."
      ],
      "metadata": {
        "colab": {
          "base_uri": "https://localhost:8080/",
          "height": 542
        },
        "id": "JiahwTM3tcEm",
        "outputId": "830e5ac6-8f09-4ab6-f835-e9dde8fd9996"
      },
      "execution_count": 101,
      "outputs": [
        {
          "output_type": "display_data",
          "data": {
            "text/html": [
              "<html>\n",
              "<head><meta charset=\"utf-8\" /></head>\n",
              "<body>\n",
              "    <div>            <script src=\"https://cdnjs.cloudflare.com/ajax/libs/mathjax/2.7.5/MathJax.js?config=TeX-AMS-MML_SVG\"></script><script type=\"text/javascript\">if (window.MathJax && window.MathJax.Hub && window.MathJax.Hub.Config) {window.MathJax.Hub.Config({SVG: {font: \"STIX-Web\"}});}</script>                <script type=\"text/javascript\">window.PlotlyConfig = {MathJaxConfig: 'local'};</script>\n",
              "        <script charset=\"utf-8\" src=\"https://cdn.plot.ly/plotly-2.24.1.min.js\"></script>                <div id=\"6eeb6d8d-9dd3-4e44-80de-12817f354e7b\" class=\"plotly-graph-div\" style=\"height:525px; width:100%;\"></div>            <script type=\"text/javascript\">                                    window.PLOTLYENV=window.PLOTLYENV || {};                                    if (document.getElementById(\"6eeb6d8d-9dd3-4e44-80de-12817f354e7b\")) {                    Plotly.newPlot(                        \"6eeb6d8d-9dd3-4e44-80de-12817f354e7b\",                        [{\"line\":{\"color\":\"royalblue\",\"width\":2},\"marker\":{\"size\":8},\"mode\":\"lines+markers\",\"name\":\"Average Trip Distance\",\"x\":[0,1,2,3,4,5,6,7,8,9,10,11,12,13,14,15,16,17,18,19,20,21,22,23],\"y\":[2.8008500970245795,2.8210765181666453,2.942638955069092,3.1325498867041883,3.4151264214046826,4.220525599128541,4.010888574793875,3.2060166859791424,2.875606137458788,2.8583184535242867,2.7901021633598893,2.767529742149604,2.745999048606038,2.7390128680548953,2.6807090485392746,2.6171494905540227,2.5328817547593707,2.4711353344201856,2.4220308139203737,2.4392679459156237,2.518245924347363,2.614882337341896,2.780947436008248,2.8478251843176916],\"type\":\"scatter\"},{\"line\":{\"color\":\"darkolivegreen\",\"width\":2},\"marker\":{\"size\":8},\"mode\":\"lines+markers\",\"name\":\"Median Trip Distance\",\"x\":[0,1,2,3,4,5,6,7,8,9,10,11,12,13,14,15,16,17,18,19,20,21,22,23],\"y\":[1.93,1.94,2.03,2.11,2.23,2.79,2.8,2.1,1.86,1.87,1.8,1.79,1.78,1.74,1.7,1.69,1.65,1.64,1.62,1.64,1.69,1.76,1.87,1.94],\"type\":\"scatter\"}],                        {\"template\":{\"data\":{\"histogram2dcontour\":[{\"type\":\"histogram2dcontour\",\"colorbar\":{\"outlinewidth\":0,\"ticks\":\"\"},\"colorscale\":[[0.0,\"#0d0887\"],[0.1111111111111111,\"#46039f\"],[0.2222222222222222,\"#7201a8\"],[0.3333333333333333,\"#9c179e\"],[0.4444444444444444,\"#bd3786\"],[0.5555555555555556,\"#d8576b\"],[0.6666666666666666,\"#ed7953\"],[0.7777777777777778,\"#fb9f3a\"],[0.8888888888888888,\"#fdca26\"],[1.0,\"#f0f921\"]]}],\"choropleth\":[{\"type\":\"choropleth\",\"colorbar\":{\"outlinewidth\":0,\"ticks\":\"\"}}],\"histogram2d\":[{\"type\":\"histogram2d\",\"colorbar\":{\"outlinewidth\":0,\"ticks\":\"\"},\"colorscale\":[[0.0,\"#0d0887\"],[0.1111111111111111,\"#46039f\"],[0.2222222222222222,\"#7201a8\"],[0.3333333333333333,\"#9c179e\"],[0.4444444444444444,\"#bd3786\"],[0.5555555555555556,\"#d8576b\"],[0.6666666666666666,\"#ed7953\"],[0.7777777777777778,\"#fb9f3a\"],[0.8888888888888888,\"#fdca26\"],[1.0,\"#f0f921\"]]}],\"heatmap\":[{\"type\":\"heatmap\",\"colorbar\":{\"outlinewidth\":0,\"ticks\":\"\"},\"colorscale\":[[0.0,\"#0d0887\"],[0.1111111111111111,\"#46039f\"],[0.2222222222222222,\"#7201a8\"],[0.3333333333333333,\"#9c179e\"],[0.4444444444444444,\"#bd3786\"],[0.5555555555555556,\"#d8576b\"],[0.6666666666666666,\"#ed7953\"],[0.7777777777777778,\"#fb9f3a\"],[0.8888888888888888,\"#fdca26\"],[1.0,\"#f0f921\"]]}],\"heatmapgl\":[{\"type\":\"heatmapgl\",\"colorbar\":{\"outlinewidth\":0,\"ticks\":\"\"},\"colorscale\":[[0.0,\"#0d0887\"],[0.1111111111111111,\"#46039f\"],[0.2222222222222222,\"#7201a8\"],[0.3333333333333333,\"#9c179e\"],[0.4444444444444444,\"#bd3786\"],[0.5555555555555556,\"#d8576b\"],[0.6666666666666666,\"#ed7953\"],[0.7777777777777778,\"#fb9f3a\"],[0.8888888888888888,\"#fdca26\"],[1.0,\"#f0f921\"]]}],\"contourcarpet\":[{\"type\":\"contourcarpet\",\"colorbar\":{\"outlinewidth\":0,\"ticks\":\"\"}}],\"contour\":[{\"type\":\"contour\",\"colorbar\":{\"outlinewidth\":0,\"ticks\":\"\"},\"colorscale\":[[0.0,\"#0d0887\"],[0.1111111111111111,\"#46039f\"],[0.2222222222222222,\"#7201a8\"],[0.3333333333333333,\"#9c179e\"],[0.4444444444444444,\"#bd3786\"],[0.5555555555555556,\"#d8576b\"],[0.6666666666666666,\"#ed7953\"],[0.7777777777777778,\"#fb9f3a\"],[0.8888888888888888,\"#fdca26\"],[1.0,\"#f0f921\"]]}],\"surface\":[{\"type\":\"surface\",\"colorbar\":{\"outlinewidth\":0,\"ticks\":\"\"},\"colorscale\":[[0.0,\"#0d0887\"],[0.1111111111111111,\"#46039f\"],[0.2222222222222222,\"#7201a8\"],[0.3333333333333333,\"#9c179e\"],[0.4444444444444444,\"#bd3786\"],[0.5555555555555556,\"#d8576b\"],[0.6666666666666666,\"#ed7953\"],[0.7777777777777778,\"#fb9f3a\"],[0.8888888888888888,\"#fdca26\"],[1.0,\"#f0f921\"]]}],\"mesh3d\":[{\"type\":\"mesh3d\",\"colorbar\":{\"outlinewidth\":0,\"ticks\":\"\"}}],\"scatter\":[{\"fillpattern\":{\"fillmode\":\"overlay\",\"size\":10,\"solidity\":0.2},\"type\":\"scatter\"}],\"parcoords\":[{\"type\":\"parcoords\",\"line\":{\"colorbar\":{\"outlinewidth\":0,\"ticks\":\"\"}}}],\"scatterpolargl\":[{\"type\":\"scatterpolargl\",\"marker\":{\"colorbar\":{\"outlinewidth\":0,\"ticks\":\"\"}}}],\"bar\":[{\"error_x\":{\"color\":\"#2a3f5f\"},\"error_y\":{\"color\":\"#2a3f5f\"},\"marker\":{\"line\":{\"color\":\"white\",\"width\":0.5},\"pattern\":{\"fillmode\":\"overlay\",\"size\":10,\"solidity\":0.2}},\"type\":\"bar\"}],\"scattergeo\":[{\"type\":\"scattergeo\",\"marker\":{\"colorbar\":{\"outlinewidth\":0,\"ticks\":\"\"}}}],\"scatterpolar\":[{\"type\":\"scatterpolar\",\"marker\":{\"colorbar\":{\"outlinewidth\":0,\"ticks\":\"\"}}}],\"histogram\":[{\"marker\":{\"pattern\":{\"fillmode\":\"overlay\",\"size\":10,\"solidity\":0.2}},\"type\":\"histogram\"}],\"scattergl\":[{\"type\":\"scattergl\",\"marker\":{\"colorbar\":{\"outlinewidth\":0,\"ticks\":\"\"}}}],\"scatter3d\":[{\"type\":\"scatter3d\",\"line\":{\"colorbar\":{\"outlinewidth\":0,\"ticks\":\"\"}},\"marker\":{\"colorbar\":{\"outlinewidth\":0,\"ticks\":\"\"}}}],\"scattermapbox\":[{\"type\":\"scattermapbox\",\"marker\":{\"colorbar\":{\"outlinewidth\":0,\"ticks\":\"\"}}}],\"scatterternary\":[{\"type\":\"scatterternary\",\"marker\":{\"colorbar\":{\"outlinewidth\":0,\"ticks\":\"\"}}}],\"scattercarpet\":[{\"type\":\"scattercarpet\",\"marker\":{\"colorbar\":{\"outlinewidth\":0,\"ticks\":\"\"}}}],\"carpet\":[{\"aaxis\":{\"endlinecolor\":\"#2a3f5f\",\"gridcolor\":\"#C8D4E3\",\"linecolor\":\"#C8D4E3\",\"minorgridcolor\":\"#C8D4E3\",\"startlinecolor\":\"#2a3f5f\"},\"baxis\":{\"endlinecolor\":\"#2a3f5f\",\"gridcolor\":\"#C8D4E3\",\"linecolor\":\"#C8D4E3\",\"minorgridcolor\":\"#C8D4E3\",\"startlinecolor\":\"#2a3f5f\"},\"type\":\"carpet\"}],\"table\":[{\"cells\":{\"fill\":{\"color\":\"#EBF0F8\"},\"line\":{\"color\":\"white\"}},\"header\":{\"fill\":{\"color\":\"#C8D4E3\"},\"line\":{\"color\":\"white\"}},\"type\":\"table\"}],\"barpolar\":[{\"marker\":{\"line\":{\"color\":\"white\",\"width\":0.5},\"pattern\":{\"fillmode\":\"overlay\",\"size\":10,\"solidity\":0.2}},\"type\":\"barpolar\"}],\"pie\":[{\"automargin\":true,\"type\":\"pie\"}]},\"layout\":{\"autotypenumbers\":\"strict\",\"colorway\":[\"#636efa\",\"#EF553B\",\"#00cc96\",\"#ab63fa\",\"#FFA15A\",\"#19d3f3\",\"#FF6692\",\"#B6E880\",\"#FF97FF\",\"#FECB52\"],\"font\":{\"color\":\"#2a3f5f\"},\"hovermode\":\"closest\",\"hoverlabel\":{\"align\":\"left\"},\"paper_bgcolor\":\"white\",\"plot_bgcolor\":\"white\",\"polar\":{\"bgcolor\":\"white\",\"angularaxis\":{\"gridcolor\":\"#EBF0F8\",\"linecolor\":\"#EBF0F8\",\"ticks\":\"\"},\"radialaxis\":{\"gridcolor\":\"#EBF0F8\",\"linecolor\":\"#EBF0F8\",\"ticks\":\"\"}},\"ternary\":{\"bgcolor\":\"white\",\"aaxis\":{\"gridcolor\":\"#DFE8F3\",\"linecolor\":\"#A2B1C6\",\"ticks\":\"\"},\"baxis\":{\"gridcolor\":\"#DFE8F3\",\"linecolor\":\"#A2B1C6\",\"ticks\":\"\"},\"caxis\":{\"gridcolor\":\"#DFE8F3\",\"linecolor\":\"#A2B1C6\",\"ticks\":\"\"}},\"coloraxis\":{\"colorbar\":{\"outlinewidth\":0,\"ticks\":\"\"}},\"colorscale\":{\"sequential\":[[0.0,\"#0d0887\"],[0.1111111111111111,\"#46039f\"],[0.2222222222222222,\"#7201a8\"],[0.3333333333333333,\"#9c179e\"],[0.4444444444444444,\"#bd3786\"],[0.5555555555555556,\"#d8576b\"],[0.6666666666666666,\"#ed7953\"],[0.7777777777777778,\"#fb9f3a\"],[0.8888888888888888,\"#fdca26\"],[1.0,\"#f0f921\"]],\"sequentialminus\":[[0.0,\"#0d0887\"],[0.1111111111111111,\"#46039f\"],[0.2222222222222222,\"#7201a8\"],[0.3333333333333333,\"#9c179e\"],[0.4444444444444444,\"#bd3786\"],[0.5555555555555556,\"#d8576b\"],[0.6666666666666666,\"#ed7953\"],[0.7777777777777778,\"#fb9f3a\"],[0.8888888888888888,\"#fdca26\"],[1.0,\"#f0f921\"]],\"diverging\":[[0,\"#8e0152\"],[0.1,\"#c51b7d\"],[0.2,\"#de77ae\"],[0.3,\"#f1b6da\"],[0.4,\"#fde0ef\"],[0.5,\"#f7f7f7\"],[0.6,\"#e6f5d0\"],[0.7,\"#b8e186\"],[0.8,\"#7fbc41\"],[0.9,\"#4d9221\"],[1,\"#276419\"]]},\"xaxis\":{\"gridcolor\":\"#EBF0F8\",\"linecolor\":\"#EBF0F8\",\"ticks\":\"\",\"title\":{\"standoff\":15},\"zerolinecolor\":\"#EBF0F8\",\"automargin\":true,\"zerolinewidth\":2},\"yaxis\":{\"gridcolor\":\"#EBF0F8\",\"linecolor\":\"#EBF0F8\",\"ticks\":\"\",\"title\":{\"standoff\":15},\"zerolinecolor\":\"#EBF0F8\",\"automargin\":true,\"zerolinewidth\":2},\"scene\":{\"xaxis\":{\"backgroundcolor\":\"white\",\"gridcolor\":\"#DFE8F3\",\"linecolor\":\"#EBF0F8\",\"showbackground\":true,\"ticks\":\"\",\"zerolinecolor\":\"#EBF0F8\",\"gridwidth\":2},\"yaxis\":{\"backgroundcolor\":\"white\",\"gridcolor\":\"#DFE8F3\",\"linecolor\":\"#EBF0F8\",\"showbackground\":true,\"ticks\":\"\",\"zerolinecolor\":\"#EBF0F8\",\"gridwidth\":2},\"zaxis\":{\"backgroundcolor\":\"white\",\"gridcolor\":\"#DFE8F3\",\"linecolor\":\"#EBF0F8\",\"showbackground\":true,\"ticks\":\"\",\"zerolinecolor\":\"#EBF0F8\",\"gridwidth\":2}},\"shapedefaults\":{\"line\":{\"color\":\"#2a3f5f\"}},\"annotationdefaults\":{\"arrowcolor\":\"#2a3f5f\",\"arrowhead\":0,\"arrowwidth\":1},\"geo\":{\"bgcolor\":\"white\",\"landcolor\":\"white\",\"subunitcolor\":\"#C8D4E3\",\"showland\":true,\"showlakes\":true,\"lakecolor\":\"white\"},\"title\":{\"x\":0.05},\"mapbox\":{\"style\":\"light\"}}},\"xaxis\":{\"title\":{\"text\":\"February Hour of Day\"},\"tickmode\":\"linear\"},\"yaxis\":{\"title\":{\"text\":\"Trip Distance (miles)\"},\"gridcolor\":\"LightGray\"},\"title\":{\"text\":\"Trip Distance by Time of Day\"}},                        {\"responsive\": true}                    ).then(function(){\n",
              "                            \n",
              "var gd = document.getElementById('6eeb6d8d-9dd3-4e44-80de-12817f354e7b');\n",
              "var x = new MutationObserver(function (mutations, observer) {{\n",
              "        var display = window.getComputedStyle(gd).display;\n",
              "        if (!display || display === 'none') {{\n",
              "            console.log([gd, 'removed!']);\n",
              "            Plotly.purge(gd);\n",
              "            observer.disconnect();\n",
              "        }}\n",
              "}});\n",
              "\n",
              "// Listen for the removal of the full notebook cells\n",
              "var notebookContainer = gd.closest('#notebook-container');\n",
              "if (notebookContainer) {{\n",
              "    x.observe(notebookContainer, {childList: true});\n",
              "}}\n",
              "\n",
              "// Listen for the clearing of the current output cell\n",
              "var outputEl = gd.closest('.output');\n",
              "if (outputEl) {{\n",
              "    x.observe(outputEl, {childList: true});\n",
              "}}\n",
              "\n",
              "                        })                };                            </script>        </div>\n",
              "</body>\n",
              "</html>"
            ]
          },
          "metadata": {}
        }
      ]
    },
    {
      "cell_type": "markdown",
      "source": [
        "### 2.2 Visualise the trip distance by day of the week."
      ],
      "metadata": {
        "id": "BLQl7piQAJiI"
      }
    },
    {
      "cell_type": "code",
      "source": [
        "import plotly.graph_objs as go\n",
        "import numpy as np\n",
        "\n",
        "# Create a copy of the dataframe\n",
        "df_2 = df_1.copy()\n",
        "\n",
        "# Extract the weekday name from the 'lpep_pickup_datetime' column\n",
        "df_2['pickup_weekday'] = df_2['lpep_pickup_datetime'].dt.day_name()\n",
        "\n",
        "# Define a custom ordering of weekdays, starting with Sunday\n",
        "weekday_order = ['Sunday', 'Monday', 'Tuesday', 'Wednesday', 'Thursday', 'Friday', 'Saturday']\n",
        "\n",
        "# Group by weekday and calculate the average trip distance\n",
        "weekly_trip_distance = df_2.groupby('pickup_weekday')['trip_distance'].mean().reindex(weekday_order)\n",
        "\n",
        "# Normalize the values to create a gradient color from lowest to highest.\n",
        "# Note this is only for design but applicaple if we need to normalize our data.\n",
        "# Min Max was used to normalize the data.\n",
        "normalized_values = (weekly_trip_distance - weekly_trip_distance.min()) / (weekly_trip_distance.max() - weekly_trip_distance.min())\n",
        "\n",
        "# Create the Plotly histogram (bar chart)\n",
        "fig = go.Figure()\n",
        "\n",
        "# Add the trace for the bar plot with gradient colors\n",
        "fig.add_trace(go.Bar(\n",
        "    x=weekly_trip_distance.index,\n",
        "    y=weekly_trip_distance.values,\n",
        "    name='Avg Trip Distance',\n",
        "    marker=dict(\n",
        "        color=normalized_values,  # Use the normalized values for the gradient\n",
        "        colorscale='Greens',  # Color gradient from light blue to dark blue\n",
        "        showscale=False  # Hide the color scale bar\n",
        "    )\n",
        "))\n",
        "\n",
        "# Customize layout\n",
        "fig.update_layout(\n",
        "    title='Average Trip Distance by Day of Week (Gradient from Highest to Lowest)',\n",
        "    xaxis_title='Day of Week',\n",
        "    yaxis_title='Average Trip Distance (miles)',\n",
        "    xaxis=dict(categoryorder='array', categoryarray=weekday_order),\n",
        "    yaxis=dict(gridcolor='LightGray'),\n",
        "    template='plotly_white'\n",
        ")\n",
        "\n",
        "# Show the interactive plot\n",
        "fig.show()\n",
        "\n",
        "\n",
        "# Observations:\n",
        "# We can analyze the plot to see if there are any patterns in trip distance based on the day of the week.\n",
        "# For example, you might observe that trip distances are generally longer during Sunday and Saturday, as well as Monday and Friday\n",
        "# or shorter during other days (e.g., Tueday, Wednesday, and Thursday).\n"
      ],
      "metadata": {
        "colab": {
          "base_uri": "https://localhost:8080/",
          "height": 542
        },
        "id": "WMoL2XDH_0Pg",
        "outputId": "10a84dc7-7347-45ff-bde9-2ca9e61ee45c"
      },
      "execution_count": 21,
      "outputs": [
        {
          "output_type": "display_data",
          "data": {
            "text/html": [
              "<html>\n",
              "<head><meta charset=\"utf-8\" /></head>\n",
              "<body>\n",
              "    <div>            <script src=\"https://cdnjs.cloudflare.com/ajax/libs/mathjax/2.7.5/MathJax.js?config=TeX-AMS-MML_SVG\"></script><script type=\"text/javascript\">if (window.MathJax && window.MathJax.Hub && window.MathJax.Hub.Config) {window.MathJax.Hub.Config({SVG: {font: \"STIX-Web\"}});}</script>                <script type=\"text/javascript\">window.PlotlyConfig = {MathJaxConfig: 'local'};</script>\n",
              "        <script charset=\"utf-8\" src=\"https://cdn.plot.ly/plotly-2.24.1.min.js\"></script>                <div id=\"dacc5dfd-e0bf-4522-bf6a-86f45a5ccd58\" class=\"plotly-graph-div\" style=\"height:525px; width:100%;\"></div>            <script type=\"text/javascript\">                                    window.PLOTLYENV=window.PLOTLYENV || {};                                    if (document.getElementById(\"dacc5dfd-e0bf-4522-bf6a-86f45a5ccd58\")) {                    Plotly.newPlot(                        \"dacc5dfd-e0bf-4522-bf6a-86f45a5ccd58\",                        [{\"marker\":{\"color\":[1.0,0.35702089801040066,0.03438871553780891,0.0,0.10963410239257665,0.25113459177314945,0.6982754859321137],\"colorscale\":[[0.0,\"rgb(247,252,245)\"],[0.125,\"rgb(229,245,224)\"],[0.25,\"rgb(199,233,192)\"],[0.375,\"rgb(161,217,155)\"],[0.5,\"rgb(116,196,118)\"],[0.625,\"rgb(65,171,93)\"],[0.75,\"rgb(35,139,69)\"],[0.875,\"rgb(0,109,44)\"],[1.0,\"rgb(0,68,27)\"]],\"showscale\":false},\"name\":\"Avg Trip Distance\",\"x\":[\"Sunday\",\"Monday\",\"Tuesday\",\"Wednesday\",\"Thursday\",\"Friday\",\"Saturday\"],\"y\":[2.959231434822373,2.7245959053493114,2.606861172252604,2.5943120638085744,2.634319671495336,2.685955941078239,2.849126314929276],\"type\":\"bar\"}],                        {\"template\":{\"data\":{\"histogram2dcontour\":[{\"type\":\"histogram2dcontour\",\"colorbar\":{\"outlinewidth\":0,\"ticks\":\"\"},\"colorscale\":[[0.0,\"#0d0887\"],[0.1111111111111111,\"#46039f\"],[0.2222222222222222,\"#7201a8\"],[0.3333333333333333,\"#9c179e\"],[0.4444444444444444,\"#bd3786\"],[0.5555555555555556,\"#d8576b\"],[0.6666666666666666,\"#ed7953\"],[0.7777777777777778,\"#fb9f3a\"],[0.8888888888888888,\"#fdca26\"],[1.0,\"#f0f921\"]]}],\"choropleth\":[{\"type\":\"choropleth\",\"colorbar\":{\"outlinewidth\":0,\"ticks\":\"\"}}],\"histogram2d\":[{\"type\":\"histogram2d\",\"colorbar\":{\"outlinewidth\":0,\"ticks\":\"\"},\"colorscale\":[[0.0,\"#0d0887\"],[0.1111111111111111,\"#46039f\"],[0.2222222222222222,\"#7201a8\"],[0.3333333333333333,\"#9c179e\"],[0.4444444444444444,\"#bd3786\"],[0.5555555555555556,\"#d8576b\"],[0.6666666666666666,\"#ed7953\"],[0.7777777777777778,\"#fb9f3a\"],[0.8888888888888888,\"#fdca26\"],[1.0,\"#f0f921\"]]}],\"heatmap\":[{\"type\":\"heatmap\",\"colorbar\":{\"outlinewidth\":0,\"ticks\":\"\"},\"colorscale\":[[0.0,\"#0d0887\"],[0.1111111111111111,\"#46039f\"],[0.2222222222222222,\"#7201a8\"],[0.3333333333333333,\"#9c179e\"],[0.4444444444444444,\"#bd3786\"],[0.5555555555555556,\"#d8576b\"],[0.6666666666666666,\"#ed7953\"],[0.7777777777777778,\"#fb9f3a\"],[0.8888888888888888,\"#fdca26\"],[1.0,\"#f0f921\"]]}],\"heatmapgl\":[{\"type\":\"heatmapgl\",\"colorbar\":{\"outlinewidth\":0,\"ticks\":\"\"},\"colorscale\":[[0.0,\"#0d0887\"],[0.1111111111111111,\"#46039f\"],[0.2222222222222222,\"#7201a8\"],[0.3333333333333333,\"#9c179e\"],[0.4444444444444444,\"#bd3786\"],[0.5555555555555556,\"#d8576b\"],[0.6666666666666666,\"#ed7953\"],[0.7777777777777778,\"#fb9f3a\"],[0.8888888888888888,\"#fdca26\"],[1.0,\"#f0f921\"]]}],\"contourcarpet\":[{\"type\":\"contourcarpet\",\"colorbar\":{\"outlinewidth\":0,\"ticks\":\"\"}}],\"contour\":[{\"type\":\"contour\",\"colorbar\":{\"outlinewidth\":0,\"ticks\":\"\"},\"colorscale\":[[0.0,\"#0d0887\"],[0.1111111111111111,\"#46039f\"],[0.2222222222222222,\"#7201a8\"],[0.3333333333333333,\"#9c179e\"],[0.4444444444444444,\"#bd3786\"],[0.5555555555555556,\"#d8576b\"],[0.6666666666666666,\"#ed7953\"],[0.7777777777777778,\"#fb9f3a\"],[0.8888888888888888,\"#fdca26\"],[1.0,\"#f0f921\"]]}],\"surface\":[{\"type\":\"surface\",\"colorbar\":{\"outlinewidth\":0,\"ticks\":\"\"},\"colorscale\":[[0.0,\"#0d0887\"],[0.1111111111111111,\"#46039f\"],[0.2222222222222222,\"#7201a8\"],[0.3333333333333333,\"#9c179e\"],[0.4444444444444444,\"#bd3786\"],[0.5555555555555556,\"#d8576b\"],[0.6666666666666666,\"#ed7953\"],[0.7777777777777778,\"#fb9f3a\"],[0.8888888888888888,\"#fdca26\"],[1.0,\"#f0f921\"]]}],\"mesh3d\":[{\"type\":\"mesh3d\",\"colorbar\":{\"outlinewidth\":0,\"ticks\":\"\"}}],\"scatter\":[{\"fillpattern\":{\"fillmode\":\"overlay\",\"size\":10,\"solidity\":0.2},\"type\":\"scatter\"}],\"parcoords\":[{\"type\":\"parcoords\",\"line\":{\"colorbar\":{\"outlinewidth\":0,\"ticks\":\"\"}}}],\"scatterpolargl\":[{\"type\":\"scatterpolargl\",\"marker\":{\"colorbar\":{\"outlinewidth\":0,\"ticks\":\"\"}}}],\"bar\":[{\"error_x\":{\"color\":\"#2a3f5f\"},\"error_y\":{\"color\":\"#2a3f5f\"},\"marker\":{\"line\":{\"color\":\"white\",\"width\":0.5},\"pattern\":{\"fillmode\":\"overlay\",\"size\":10,\"solidity\":0.2}},\"type\":\"bar\"}],\"scattergeo\":[{\"type\":\"scattergeo\",\"marker\":{\"colorbar\":{\"outlinewidth\":0,\"ticks\":\"\"}}}],\"scatterpolar\":[{\"type\":\"scatterpolar\",\"marker\":{\"colorbar\":{\"outlinewidth\":0,\"ticks\":\"\"}}}],\"histogram\":[{\"marker\":{\"pattern\":{\"fillmode\":\"overlay\",\"size\":10,\"solidity\":0.2}},\"type\":\"histogram\"}],\"scattergl\":[{\"type\":\"scattergl\",\"marker\":{\"colorbar\":{\"outlinewidth\":0,\"ticks\":\"\"}}}],\"scatter3d\":[{\"type\":\"scatter3d\",\"line\":{\"colorbar\":{\"outlinewidth\":0,\"ticks\":\"\"}},\"marker\":{\"colorbar\":{\"outlinewidth\":0,\"ticks\":\"\"}}}],\"scattermapbox\":[{\"type\":\"scattermapbox\",\"marker\":{\"colorbar\":{\"outlinewidth\":0,\"ticks\":\"\"}}}],\"scatterternary\":[{\"type\":\"scatterternary\",\"marker\":{\"colorbar\":{\"outlinewidth\":0,\"ticks\":\"\"}}}],\"scattercarpet\":[{\"type\":\"scattercarpet\",\"marker\":{\"colorbar\":{\"outlinewidth\":0,\"ticks\":\"\"}}}],\"carpet\":[{\"aaxis\":{\"endlinecolor\":\"#2a3f5f\",\"gridcolor\":\"#C8D4E3\",\"linecolor\":\"#C8D4E3\",\"minorgridcolor\":\"#C8D4E3\",\"startlinecolor\":\"#2a3f5f\"},\"baxis\":{\"endlinecolor\":\"#2a3f5f\",\"gridcolor\":\"#C8D4E3\",\"linecolor\":\"#C8D4E3\",\"minorgridcolor\":\"#C8D4E3\",\"startlinecolor\":\"#2a3f5f\"},\"type\":\"carpet\"}],\"table\":[{\"cells\":{\"fill\":{\"color\":\"#EBF0F8\"},\"line\":{\"color\":\"white\"}},\"header\":{\"fill\":{\"color\":\"#C8D4E3\"},\"line\":{\"color\":\"white\"}},\"type\":\"table\"}],\"barpolar\":[{\"marker\":{\"line\":{\"color\":\"white\",\"width\":0.5},\"pattern\":{\"fillmode\":\"overlay\",\"size\":10,\"solidity\":0.2}},\"type\":\"barpolar\"}],\"pie\":[{\"automargin\":true,\"type\":\"pie\"}]},\"layout\":{\"autotypenumbers\":\"strict\",\"colorway\":[\"#636efa\",\"#EF553B\",\"#00cc96\",\"#ab63fa\",\"#FFA15A\",\"#19d3f3\",\"#FF6692\",\"#B6E880\",\"#FF97FF\",\"#FECB52\"],\"font\":{\"color\":\"#2a3f5f\"},\"hovermode\":\"closest\",\"hoverlabel\":{\"align\":\"left\"},\"paper_bgcolor\":\"white\",\"plot_bgcolor\":\"white\",\"polar\":{\"bgcolor\":\"white\",\"angularaxis\":{\"gridcolor\":\"#EBF0F8\",\"linecolor\":\"#EBF0F8\",\"ticks\":\"\"},\"radialaxis\":{\"gridcolor\":\"#EBF0F8\",\"linecolor\":\"#EBF0F8\",\"ticks\":\"\"}},\"ternary\":{\"bgcolor\":\"white\",\"aaxis\":{\"gridcolor\":\"#DFE8F3\",\"linecolor\":\"#A2B1C6\",\"ticks\":\"\"},\"baxis\":{\"gridcolor\":\"#DFE8F3\",\"linecolor\":\"#A2B1C6\",\"ticks\":\"\"},\"caxis\":{\"gridcolor\":\"#DFE8F3\",\"linecolor\":\"#A2B1C6\",\"ticks\":\"\"}},\"coloraxis\":{\"colorbar\":{\"outlinewidth\":0,\"ticks\":\"\"}},\"colorscale\":{\"sequential\":[[0.0,\"#0d0887\"],[0.1111111111111111,\"#46039f\"],[0.2222222222222222,\"#7201a8\"],[0.3333333333333333,\"#9c179e\"],[0.4444444444444444,\"#bd3786\"],[0.5555555555555556,\"#d8576b\"],[0.6666666666666666,\"#ed7953\"],[0.7777777777777778,\"#fb9f3a\"],[0.8888888888888888,\"#fdca26\"],[1.0,\"#f0f921\"]],\"sequentialminus\":[[0.0,\"#0d0887\"],[0.1111111111111111,\"#46039f\"],[0.2222222222222222,\"#7201a8\"],[0.3333333333333333,\"#9c179e\"],[0.4444444444444444,\"#bd3786\"],[0.5555555555555556,\"#d8576b\"],[0.6666666666666666,\"#ed7953\"],[0.7777777777777778,\"#fb9f3a\"],[0.8888888888888888,\"#fdca26\"],[1.0,\"#f0f921\"]],\"diverging\":[[0,\"#8e0152\"],[0.1,\"#c51b7d\"],[0.2,\"#de77ae\"],[0.3,\"#f1b6da\"],[0.4,\"#fde0ef\"],[0.5,\"#f7f7f7\"],[0.6,\"#e6f5d0\"],[0.7,\"#b8e186\"],[0.8,\"#7fbc41\"],[0.9,\"#4d9221\"],[1,\"#276419\"]]},\"xaxis\":{\"gridcolor\":\"#EBF0F8\",\"linecolor\":\"#EBF0F8\",\"ticks\":\"\",\"title\":{\"standoff\":15},\"zerolinecolor\":\"#EBF0F8\",\"automargin\":true,\"zerolinewidth\":2},\"yaxis\":{\"gridcolor\":\"#EBF0F8\",\"linecolor\":\"#EBF0F8\",\"ticks\":\"\",\"title\":{\"standoff\":15},\"zerolinecolor\":\"#EBF0F8\",\"automargin\":true,\"zerolinewidth\":2},\"scene\":{\"xaxis\":{\"backgroundcolor\":\"white\",\"gridcolor\":\"#DFE8F3\",\"linecolor\":\"#EBF0F8\",\"showbackground\":true,\"ticks\":\"\",\"zerolinecolor\":\"#EBF0F8\",\"gridwidth\":2},\"yaxis\":{\"backgroundcolor\":\"white\",\"gridcolor\":\"#DFE8F3\",\"linecolor\":\"#EBF0F8\",\"showbackground\":true,\"ticks\":\"\",\"zerolinecolor\":\"#EBF0F8\",\"gridwidth\":2},\"zaxis\":{\"backgroundcolor\":\"white\",\"gridcolor\":\"#DFE8F3\",\"linecolor\":\"#EBF0F8\",\"showbackground\":true,\"ticks\":\"\",\"zerolinecolor\":\"#EBF0F8\",\"gridwidth\":2}},\"shapedefaults\":{\"line\":{\"color\":\"#2a3f5f\"}},\"annotationdefaults\":{\"arrowcolor\":\"#2a3f5f\",\"arrowhead\":0,\"arrowwidth\":1},\"geo\":{\"bgcolor\":\"white\",\"landcolor\":\"white\",\"subunitcolor\":\"#C8D4E3\",\"showland\":true,\"showlakes\":true,\"lakecolor\":\"white\"},\"title\":{\"x\":0.05},\"mapbox\":{\"style\":\"light\"}}},\"xaxis\":{\"title\":{\"text\":\"Day of Week\"},\"categoryorder\":\"array\",\"categoryarray\":[\"Sunday\",\"Monday\",\"Tuesday\",\"Wednesday\",\"Thursday\",\"Friday\",\"Saturday\"]},\"yaxis\":{\"title\":{\"text\":\"Average Trip Distance (miles)\"},\"gridcolor\":\"LightGray\"},\"title\":{\"text\":\"Average Trip Distance by Day of Week (Gradient from Highest to Lowest)\"}},                        {\"responsive\": true}                    ).then(function(){\n",
              "                            \n",
              "var gd = document.getElementById('dacc5dfd-e0bf-4522-bf6a-86f45a5ccd58');\n",
              "var x = new MutationObserver(function (mutations, observer) {{\n",
              "        var display = window.getComputedStyle(gd).display;\n",
              "        if (!display || display === 'none') {{\n",
              "            console.log([gd, 'removed!']);\n",
              "            Plotly.purge(gd);\n",
              "            observer.disconnect();\n",
              "        }}\n",
              "}});\n",
              "\n",
              "// Listen for the removal of the full notebook cells\n",
              "var notebookContainer = gd.closest('#notebook-container');\n",
              "if (notebookContainer) {{\n",
              "    x.observe(notebookContainer, {childList: true});\n",
              "}}\n",
              "\n",
              "// Listen for the clearing of the current output cell\n",
              "var outputEl = gd.closest('.output');\n",
              "if (outputEl) {{\n",
              "    x.observe(outputEl, {childList: true});\n",
              "}}\n",
              "\n",
              "                        })                };                            </script>        </div>\n",
              "</body>\n",
              "</html>"
            ]
          },
          "metadata": {}
        }
      ]
    },
    {
      "cell_type": "markdown",
      "source": [
        "## 3.\tThe most popular pickup locations on weekdays vs weekend?"
      ],
      "metadata": {
        "id": "D5VpcJXQG4c6"
      }
    },
    {
      "cell_type": "code",
      "source": [
        "df_3 = df_2.copy()\n",
        "\n",
        "# Define a function to categorize days as weekday or weekend\n",
        "def categorize_day(day):\n",
        "  if day in ['Saturday', 'Sunday']:\n",
        "    return 'Weekend'\n",
        "  else:\n",
        "    return 'Weekday'\n",
        "\n",
        "# Apply the function to create a new 'day_type' column\n",
        "df_3['day_type'] = df_3['pickup_weekday'].map(categorize_day)\n",
        "\n",
        "# Group by day type and pickup location, then count the number of trips\n",
        "popular_pickup_locations = df_3.groupby(['day_type', 'PULocationID'])['PULocationID'].count().reset_index(name='trip_count')\n",
        "\n",
        "# Find the most popular pickup locations for weekdays and weekends\n",
        "weekday_popular = popular_pickup_locations[popular_pickup_locations['day_type'] == 'Weekday'].nlargest(10, 'trip_count')\n",
        "weekend_popular = popular_pickup_locations[popular_pickup_locations['day_type'] == 'Weekend'].nlargest(10, 'trip_count')\n",
        "\n",
        "# Find the most popular pickup locations for weekdays and weekends No Limits\n",
        "weekday_popular_nolimits = popular_pickup_locations[popular_pickup_locations['day_type'] == 'Weekday']\n",
        "weekend_popular_nolimits = popular_pickup_locations[popular_pickup_locations['day_type'] == 'Weekend']\n",
        "\n",
        "\n",
        "print(\"Most Popular Pickup Locations on Weekdays:\")\n",
        "print(weekday_popular)\n",
        "\n",
        "print(\"\\nMost Popular Pickup Locations on Weekends:\")\n",
        "print(weekend_popular)\n"
      ],
      "metadata": {
        "colab": {
          "base_uri": "https://localhost:8080/",
          "height": 0
        },
        "id": "IASCi47uGpRs",
        "outputId": "a9f1b3da-b5d8-457b-f879-f20320a10881"
      },
      "execution_count": 104,
      "outputs": [
        {
          "output_type": "stream",
          "name": "stdout",
          "text": [
            "Most Popular Pickup Locations on Weekdays:\n",
            "    day_type  PULocationID  trip_count\n",
            "67   Weekday            75       56926\n",
            "66   Weekday            74       53267\n",
            "37   Weekday            41       53060\n",
            "137  Weekday           166       45733\n",
            "6    Weekday             7       44827\n",
            "74   Weekday            82       37719\n",
            "38   Weekday            42       36941\n",
            "215  Weekday           255       35738\n",
            "150  Weekday           181       35093\n",
            "86   Weekday            97       31991\n",
            "\n",
            "Most Popular Pickup Locations on Weekends:\n",
            "    day_type  PULocationID  trip_count\n",
            "433  Weekend           255       29380\n",
            "259  Weekend            41       26256\n",
            "228  Weekend             7       24650\n",
            "287  Weekend            74       20695\n",
            "295  Weekend            82       19720\n",
            "370  Weekend           181       19662\n",
            "260  Weekend            42       16518\n",
            "434  Weekend           256       15870\n",
            "329  Weekend           129       15324\n",
            "288  Weekend            75       15202\n"
          ]
        }
      ]
    },
    {
      "cell_type": "code",
      "source": [
        "# Create a treemap for weekday popular pickup locations\n",
        "fig_weekday = px.treemap(weekday_popular_nolimits, path=['PULocationID'], values='trip_count',\n",
        "                       title='Most Popular Pickup Locations on Weekdays')\n",
        "fig_weekday.show()\n",
        "\n",
        "# Create a treemap for weekend popular pickup locations\n",
        "fig_weekend = px.treemap(weekend_popular_nolimits, path=['PULocationID'], values='trip_count',\n",
        "                       title='Most Popular Pickup Locations on Weekends')\n",
        "fig_weekend.show()\n"
      ],
      "metadata": {
        "colab": {
          "base_uri": "https://localhost:8080/",
          "height": 1067
        },
        "id": "XOc_HLxYsHgI",
        "outputId": "268acdf7-e72c-4642-8e72-99bdf6d1b224"
      },
      "execution_count": 105,
      "outputs": [
        {
          "output_type": "display_data",
          "data": {
            "text/html": [
              "<html>\n",
              "<head><meta charset=\"utf-8\" /></head>\n",
              "<body>\n",
              "    <div>            <script src=\"https://cdnjs.cloudflare.com/ajax/libs/mathjax/2.7.5/MathJax.js?config=TeX-AMS-MML_SVG\"></script><script type=\"text/javascript\">if (window.MathJax && window.MathJax.Hub && window.MathJax.Hub.Config) {window.MathJax.Hub.Config({SVG: {font: \"STIX-Web\"}});}</script>                <script type=\"text/javascript\">window.PlotlyConfig = {MathJaxConfig: 'local'};</script>\n",
              "        <script charset=\"utf-8\" src=\"https://cdn.plot.ly/plotly-2.24.1.min.js\"></script>                <div id=\"47e17d54-8c32-4ab0-bbe7-8aabb038b900\" class=\"plotly-graph-div\" style=\"height:525px; width:100%;\"></div>            <script type=\"text/javascript\">                                    window.PLOTLYENV=window.PLOTLYENV || {};                                    if (document.getElementById(\"47e17d54-8c32-4ab0-bbe7-8aabb038b900\")) {                    Plotly.newPlot(                        \"47e17d54-8c32-4ab0-bbe7-8aabb038b900\",                        [{\"branchvalues\":\"total\",\"domain\":{\"x\":[0.0,1.0],\"y\":[0.0,1.0]},\"hovertemplate\":\"labels=%{label}\\u003cbr\\u003etrip_count=%{value}\\u003cbr\\u003eparent=%{parent}\\u003cbr\\u003eid=%{id}\\u003cextra\\u003e\\u003c\\u002fextra\\u003e\",\"ids\":[\"1\",\"2\",\"3\",\"4\",\"5\",\"6\",\"7\",\"8\",\"9\",\"10\",\"11\",\"14\",\"15\",\"16\",\"17\",\"18\",\"19\",\"20\",\"21\",\"22\",\"23\",\"24\",\"25\",\"26\",\"28\",\"29\",\"30\",\"31\",\"32\",\"33\",\"34\",\"35\",\"36\",\"37\",\"38\",\"39\",\"40\",\"41\",\"42\",\"43\",\"46\",\"47\",\"49\",\"50\",\"51\",\"52\",\"53\",\"54\",\"55\",\"56\",\"57\",\"58\",\"59\",\"60\",\"61\",\"62\",\"63\",\"64\",\"65\",\"66\",\"67\",\"69\",\"70\",\"71\",\"72\",\"73\",\"74\",\"75\",\"76\",\"77\",\"78\",\"79\",\"80\",\"81\",\"82\",\"83\",\"84\",\"85\",\"86\",\"89\",\"91\",\"92\",\"93\",\"94\",\"95\",\"96\",\"97\",\"98\",\"99\",\"101\",\"102\",\"106\",\"108\",\"111\",\"112\",\"115\",\"116\",\"117\",\"118\",\"119\",\"120\",\"121\",\"122\",\"123\",\"124\",\"126\",\"127\",\"128\",\"129\",\"130\",\"131\",\"132\",\"133\",\"134\",\"135\",\"136\",\"138\",\"139\",\"140\",\"141\",\"145\",\"146\",\"147\",\"149\",\"150\",\"151\",\"152\",\"153\",\"154\",\"155\",\"156\",\"157\",\"159\",\"160\",\"161\",\"164\",\"165\",\"166\",\"167\",\"168\",\"169\",\"171\",\"173\",\"174\",\"175\",\"176\",\"177\",\"178\",\"179\",\"180\",\"181\",\"182\",\"183\",\"184\",\"185\",\"187\",\"188\",\"189\",\"190\",\"191\",\"192\",\"193\",\"194\",\"195\",\"196\",\"197\",\"198\",\"200\",\"201\",\"202\",\"203\",\"205\",\"206\",\"207\",\"208\",\"210\",\"211\",\"212\",\"213\",\"214\",\"215\",\"216\",\"217\",\"218\",\"219\",\"220\",\"221\",\"222\",\"223\",\"225\",\"226\",\"227\",\"228\",\"229\",\"230\",\"231\",\"233\",\"235\",\"236\",\"238\",\"239\",\"240\",\"241\",\"242\",\"243\",\"244\",\"245\",\"246\",\"247\",\"248\",\"250\",\"251\",\"252\",\"253\",\"254\",\"255\",\"256\",\"257\",\"258\",\"259\",\"260\",\"262\",\"263\",\"264\",\"265\"],\"labels\":[\"1\",\"2\",\"3\",\"4\",\"5\",\"6\",\"7\",\"8\",\"9\",\"10\",\"11\",\"14\",\"15\",\"16\",\"17\",\"18\",\"19\",\"20\",\"21\",\"22\",\"23\",\"24\",\"25\",\"26\",\"28\",\"29\",\"30\",\"31\",\"32\",\"33\",\"34\",\"35\",\"36\",\"37\",\"38\",\"39\",\"40\",\"41\",\"42\",\"43\",\"46\",\"47\",\"49\",\"50\",\"51\",\"52\",\"53\",\"54\",\"55\",\"56\",\"57\",\"58\",\"59\",\"60\",\"61\",\"62\",\"63\",\"64\",\"65\",\"66\",\"67\",\"69\",\"70\",\"71\",\"72\",\"73\",\"74\",\"75\",\"76\",\"77\",\"78\",\"79\",\"80\",\"81\",\"82\",\"83\",\"84\",\"85\",\"86\",\"89\",\"91\",\"92\",\"93\",\"94\",\"95\",\"96\",\"97\",\"98\",\"99\",\"101\",\"102\",\"106\",\"108\",\"111\",\"112\",\"115\",\"116\",\"117\",\"118\",\"119\",\"120\",\"121\",\"122\",\"123\",\"124\",\"126\",\"127\",\"128\",\"129\",\"130\",\"131\",\"132\",\"133\",\"134\",\"135\",\"136\",\"138\",\"139\",\"140\",\"141\",\"145\",\"146\",\"147\",\"149\",\"150\",\"151\",\"152\",\"153\",\"154\",\"155\",\"156\",\"157\",\"159\",\"160\",\"161\",\"164\",\"165\",\"166\",\"167\",\"168\",\"169\",\"171\",\"173\",\"174\",\"175\",\"176\",\"177\",\"178\",\"179\",\"180\",\"181\",\"182\",\"183\",\"184\",\"185\",\"187\",\"188\",\"189\",\"190\",\"191\",\"192\",\"193\",\"194\",\"195\",\"196\",\"197\",\"198\",\"200\",\"201\",\"202\",\"203\",\"205\",\"206\",\"207\",\"208\",\"210\",\"211\",\"212\",\"213\",\"214\",\"215\",\"216\",\"217\",\"218\",\"219\",\"220\",\"221\",\"222\",\"223\",\"225\",\"226\",\"227\",\"228\",\"229\",\"230\",\"231\",\"233\",\"235\",\"236\",\"238\",\"239\",\"240\",\"241\",\"242\",\"243\",\"244\",\"245\",\"246\",\"247\",\"248\",\"250\",\"251\",\"252\",\"253\",\"254\",\"255\",\"256\",\"257\",\"258\",\"259\",\"260\",\"262\",\"263\",\"264\",\"265\"],\"name\":\"\",\"parents\":[\"\",\"\",\"\",\"\",\"\",\"\",\"\",\"\",\"\",\"\",\"\",\"\",\"\",\"\",\"\",\"\",\"\",\"\",\"\",\"\",\"\",\"\",\"\",\"\",\"\",\"\",\"\",\"\",\"\",\"\",\"\",\"\",\"\",\"\",\"\",\"\",\"\",\"\",\"\",\"\",\"\",\"\",\"\",\"\",\"\",\"\",\"\",\"\",\"\",\"\",\"\",\"\",\"\",\"\",\"\",\"\",\"\",\"\",\"\",\"\",\"\",\"\",\"\",\"\",\"\",\"\",\"\",\"\",\"\",\"\",\"\",\"\",\"\",\"\",\"\",\"\",\"\",\"\",\"\",\"\",\"\",\"\",\"\",\"\",\"\",\"\",\"\",\"\",\"\",\"\",\"\",\"\",\"\",\"\",\"\",\"\",\"\",\"\",\"\",\"\",\"\",\"\",\"\",\"\",\"\",\"\",\"\",\"\",\"\",\"\",\"\",\"\",\"\",\"\",\"\",\"\",\"\",\"\",\"\",\"\",\"\",\"\",\"\",\"\",\"\",\"\",\"\",\"\",\"\",\"\",\"\",\"\",\"\",\"\",\"\",\"\",\"\",\"\",\"\",\"\",\"\",\"\",\"\",\"\",\"\",\"\",\"\",\"\",\"\",\"\",\"\",\"\",\"\",\"\",\"\",\"\",\"\",\"\",\"\",\"\",\"\",\"\",\"\",\"\",\"\",\"\",\"\",\"\",\"\",\"\",\"\",\"\",\"\",\"\",\"\",\"\",\"\",\"\",\"\",\"\",\"\",\"\",\"\",\"\",\"\",\"\",\"\",\"\",\"\",\"\",\"\",\"\",\"\",\"\",\"\",\"\",\"\",\"\",\"\",\"\",\"\",\"\",\"\",\"\",\"\",\"\",\"\",\"\",\"\",\"\",\"\",\"\",\"\",\"\",\"\",\"\",\"\",\"\",\"\",\"\",\"\",\"\",\"\",\"\",\"\"],\"values\":[17,4,152,1,2,10,44827,32,22,151,29,873,29,72,17059,2012,33,1543,86,117,15,3013,23393,355,761,424,2,165,315,23429,1077,1507,2373,5165,19,536,8896,53060,36941,9739,7,1493,19630,1,256,9570,189,1042,1504,1522,103,13,57,707,19121,2954,208,11,17667,20502,56,4392,987,758,795,106,53267,56926,1742,458,1811,1,8015,111,37719,5311,1,1509,24,3425,595,8715,193,1048,23366,42,31991,38,2,32,170,3603,67,40,15967,36,15208,40,15,1663,183,1349,126,154,59,1207,3811,223,25819,11706,181,163,455,7846,450,1244,161,20,3,1,16347,5500,893,685,89,1,8379,800,22,209,50,496,5608,190,1,1,239,45733,2052,4575,1927,80,3902,2419,23,1,2065,54,5656,130,35093,2032,325,243,936,13,5234,6576,843,141,562,2840,40,1729,7097,761,520,128,1,221,31,83,16,236,337,4280,1,1695,781,3,233,635,1466,55,56,1374,44,62,17674,8196,12034,208,2197,3,1,1,2,1759,2841,2,2,166,1270,2068,6531,25138,4,1,6498,849,1080,9,68,21,451,35738,16254,981,338,92,17647,34,706,1818,703],\"type\":\"treemap\"}],                        {\"template\":{\"data\":{\"histogram2dcontour\":[{\"type\":\"histogram2dcontour\",\"colorbar\":{\"outlinewidth\":0,\"ticks\":\"\"},\"colorscale\":[[0.0,\"#0d0887\"],[0.1111111111111111,\"#46039f\"],[0.2222222222222222,\"#7201a8\"],[0.3333333333333333,\"#9c179e\"],[0.4444444444444444,\"#bd3786\"],[0.5555555555555556,\"#d8576b\"],[0.6666666666666666,\"#ed7953\"],[0.7777777777777778,\"#fb9f3a\"],[0.8888888888888888,\"#fdca26\"],[1.0,\"#f0f921\"]]}],\"choropleth\":[{\"type\":\"choropleth\",\"colorbar\":{\"outlinewidth\":0,\"ticks\":\"\"}}],\"histogram2d\":[{\"type\":\"histogram2d\",\"colorbar\":{\"outlinewidth\":0,\"ticks\":\"\"},\"colorscale\":[[0.0,\"#0d0887\"],[0.1111111111111111,\"#46039f\"],[0.2222222222222222,\"#7201a8\"],[0.3333333333333333,\"#9c179e\"],[0.4444444444444444,\"#bd3786\"],[0.5555555555555556,\"#d8576b\"],[0.6666666666666666,\"#ed7953\"],[0.7777777777777778,\"#fb9f3a\"],[0.8888888888888888,\"#fdca26\"],[1.0,\"#f0f921\"]]}],\"heatmap\":[{\"type\":\"heatmap\",\"colorbar\":{\"outlinewidth\":0,\"ticks\":\"\"},\"colorscale\":[[0.0,\"#0d0887\"],[0.1111111111111111,\"#46039f\"],[0.2222222222222222,\"#7201a8\"],[0.3333333333333333,\"#9c179e\"],[0.4444444444444444,\"#bd3786\"],[0.5555555555555556,\"#d8576b\"],[0.6666666666666666,\"#ed7953\"],[0.7777777777777778,\"#fb9f3a\"],[0.8888888888888888,\"#fdca26\"],[1.0,\"#f0f921\"]]}],\"heatmapgl\":[{\"type\":\"heatmapgl\",\"colorbar\":{\"outlinewidth\":0,\"ticks\":\"\"},\"colorscale\":[[0.0,\"#0d0887\"],[0.1111111111111111,\"#46039f\"],[0.2222222222222222,\"#7201a8\"],[0.3333333333333333,\"#9c179e\"],[0.4444444444444444,\"#bd3786\"],[0.5555555555555556,\"#d8576b\"],[0.6666666666666666,\"#ed7953\"],[0.7777777777777778,\"#fb9f3a\"],[0.8888888888888888,\"#fdca26\"],[1.0,\"#f0f921\"]]}],\"contourcarpet\":[{\"type\":\"contourcarpet\",\"colorbar\":{\"outlinewidth\":0,\"ticks\":\"\"}}],\"contour\":[{\"type\":\"contour\",\"colorbar\":{\"outlinewidth\":0,\"ticks\":\"\"},\"colorscale\":[[0.0,\"#0d0887\"],[0.1111111111111111,\"#46039f\"],[0.2222222222222222,\"#7201a8\"],[0.3333333333333333,\"#9c179e\"],[0.4444444444444444,\"#bd3786\"],[0.5555555555555556,\"#d8576b\"],[0.6666666666666666,\"#ed7953\"],[0.7777777777777778,\"#fb9f3a\"],[0.8888888888888888,\"#fdca26\"],[1.0,\"#f0f921\"]]}],\"surface\":[{\"type\":\"surface\",\"colorbar\":{\"outlinewidth\":0,\"ticks\":\"\"},\"colorscale\":[[0.0,\"#0d0887\"],[0.1111111111111111,\"#46039f\"],[0.2222222222222222,\"#7201a8\"],[0.3333333333333333,\"#9c179e\"],[0.4444444444444444,\"#bd3786\"],[0.5555555555555556,\"#d8576b\"],[0.6666666666666666,\"#ed7953\"],[0.7777777777777778,\"#fb9f3a\"],[0.8888888888888888,\"#fdca26\"],[1.0,\"#f0f921\"]]}],\"mesh3d\":[{\"type\":\"mesh3d\",\"colorbar\":{\"outlinewidth\":0,\"ticks\":\"\"}}],\"scatter\":[{\"fillpattern\":{\"fillmode\":\"overlay\",\"size\":10,\"solidity\":0.2},\"type\":\"scatter\"}],\"parcoords\":[{\"type\":\"parcoords\",\"line\":{\"colorbar\":{\"outlinewidth\":0,\"ticks\":\"\"}}}],\"scatterpolargl\":[{\"type\":\"scatterpolargl\",\"marker\":{\"colorbar\":{\"outlinewidth\":0,\"ticks\":\"\"}}}],\"bar\":[{\"error_x\":{\"color\":\"#2a3f5f\"},\"error_y\":{\"color\":\"#2a3f5f\"},\"marker\":{\"line\":{\"color\":\"white\",\"width\":0.5},\"pattern\":{\"fillmode\":\"overlay\",\"size\":10,\"solidity\":0.2}},\"type\":\"bar\"}],\"scattergeo\":[{\"type\":\"scattergeo\",\"marker\":{\"colorbar\":{\"outlinewidth\":0,\"ticks\":\"\"}}}],\"scatterpolar\":[{\"type\":\"scatterpolar\",\"marker\":{\"colorbar\":{\"outlinewidth\":0,\"ticks\":\"\"}}}],\"histogram\":[{\"marker\":{\"pattern\":{\"fillmode\":\"overlay\",\"size\":10,\"solidity\":0.2}},\"type\":\"histogram\"}],\"scattergl\":[{\"type\":\"scattergl\",\"marker\":{\"colorbar\":{\"outlinewidth\":0,\"ticks\":\"\"}}}],\"scatter3d\":[{\"type\":\"scatter3d\",\"line\":{\"colorbar\":{\"outlinewidth\":0,\"ticks\":\"\"}},\"marker\":{\"colorbar\":{\"outlinewidth\":0,\"ticks\":\"\"}}}],\"scattermapbox\":[{\"type\":\"scattermapbox\",\"marker\":{\"colorbar\":{\"outlinewidth\":0,\"ticks\":\"\"}}}],\"scatterternary\":[{\"type\":\"scatterternary\",\"marker\":{\"colorbar\":{\"outlinewidth\":0,\"ticks\":\"\"}}}],\"scattercarpet\":[{\"type\":\"scattercarpet\",\"marker\":{\"colorbar\":{\"outlinewidth\":0,\"ticks\":\"\"}}}],\"carpet\":[{\"aaxis\":{\"endlinecolor\":\"#2a3f5f\",\"gridcolor\":\"#C8D4E3\",\"linecolor\":\"#C8D4E3\",\"minorgridcolor\":\"#C8D4E3\",\"startlinecolor\":\"#2a3f5f\"},\"baxis\":{\"endlinecolor\":\"#2a3f5f\",\"gridcolor\":\"#C8D4E3\",\"linecolor\":\"#C8D4E3\",\"minorgridcolor\":\"#C8D4E3\",\"startlinecolor\":\"#2a3f5f\"},\"type\":\"carpet\"}],\"table\":[{\"cells\":{\"fill\":{\"color\":\"#EBF0F8\"},\"line\":{\"color\":\"white\"}},\"header\":{\"fill\":{\"color\":\"#C8D4E3\"},\"line\":{\"color\":\"white\"}},\"type\":\"table\"}],\"barpolar\":[{\"marker\":{\"line\":{\"color\":\"white\",\"width\":0.5},\"pattern\":{\"fillmode\":\"overlay\",\"size\":10,\"solidity\":0.2}},\"type\":\"barpolar\"}],\"pie\":[{\"automargin\":true,\"type\":\"pie\"}]},\"layout\":{\"autotypenumbers\":\"strict\",\"colorway\":[\"#636efa\",\"#EF553B\",\"#00cc96\",\"#ab63fa\",\"#FFA15A\",\"#19d3f3\",\"#FF6692\",\"#B6E880\",\"#FF97FF\",\"#FECB52\"],\"font\":{\"color\":\"#2a3f5f\"},\"hovermode\":\"closest\",\"hoverlabel\":{\"align\":\"left\"},\"paper_bgcolor\":\"white\",\"plot_bgcolor\":\"white\",\"polar\":{\"bgcolor\":\"white\",\"angularaxis\":{\"gridcolor\":\"#EBF0F8\",\"linecolor\":\"#EBF0F8\",\"ticks\":\"\"},\"radialaxis\":{\"gridcolor\":\"#EBF0F8\",\"linecolor\":\"#EBF0F8\",\"ticks\":\"\"}},\"ternary\":{\"bgcolor\":\"white\",\"aaxis\":{\"gridcolor\":\"#DFE8F3\",\"linecolor\":\"#A2B1C6\",\"ticks\":\"\"},\"baxis\":{\"gridcolor\":\"#DFE8F3\",\"linecolor\":\"#A2B1C6\",\"ticks\":\"\"},\"caxis\":{\"gridcolor\":\"#DFE8F3\",\"linecolor\":\"#A2B1C6\",\"ticks\":\"\"}},\"coloraxis\":{\"colorbar\":{\"outlinewidth\":0,\"ticks\":\"\"}},\"colorscale\":{\"sequential\":[[0.0,\"#0d0887\"],[0.1111111111111111,\"#46039f\"],[0.2222222222222222,\"#7201a8\"],[0.3333333333333333,\"#9c179e\"],[0.4444444444444444,\"#bd3786\"],[0.5555555555555556,\"#d8576b\"],[0.6666666666666666,\"#ed7953\"],[0.7777777777777778,\"#fb9f3a\"],[0.8888888888888888,\"#fdca26\"],[1.0,\"#f0f921\"]],\"sequentialminus\":[[0.0,\"#0d0887\"],[0.1111111111111111,\"#46039f\"],[0.2222222222222222,\"#7201a8\"],[0.3333333333333333,\"#9c179e\"],[0.4444444444444444,\"#bd3786\"],[0.5555555555555556,\"#d8576b\"],[0.6666666666666666,\"#ed7953\"],[0.7777777777777778,\"#fb9f3a\"],[0.8888888888888888,\"#fdca26\"],[1.0,\"#f0f921\"]],\"diverging\":[[0,\"#8e0152\"],[0.1,\"#c51b7d\"],[0.2,\"#de77ae\"],[0.3,\"#f1b6da\"],[0.4,\"#fde0ef\"],[0.5,\"#f7f7f7\"],[0.6,\"#e6f5d0\"],[0.7,\"#b8e186\"],[0.8,\"#7fbc41\"],[0.9,\"#4d9221\"],[1,\"#276419\"]]},\"xaxis\":{\"gridcolor\":\"#EBF0F8\",\"linecolor\":\"#EBF0F8\",\"ticks\":\"\",\"title\":{\"standoff\":15},\"zerolinecolor\":\"#EBF0F8\",\"automargin\":true,\"zerolinewidth\":2},\"yaxis\":{\"gridcolor\":\"#EBF0F8\",\"linecolor\":\"#EBF0F8\",\"ticks\":\"\",\"title\":{\"standoff\":15},\"zerolinecolor\":\"#EBF0F8\",\"automargin\":true,\"zerolinewidth\":2},\"scene\":{\"xaxis\":{\"backgroundcolor\":\"white\",\"gridcolor\":\"#DFE8F3\",\"linecolor\":\"#EBF0F8\",\"showbackground\":true,\"ticks\":\"\",\"zerolinecolor\":\"#EBF0F8\",\"gridwidth\":2},\"yaxis\":{\"backgroundcolor\":\"white\",\"gridcolor\":\"#DFE8F3\",\"linecolor\":\"#EBF0F8\",\"showbackground\":true,\"ticks\":\"\",\"zerolinecolor\":\"#EBF0F8\",\"gridwidth\":2},\"zaxis\":{\"backgroundcolor\":\"white\",\"gridcolor\":\"#DFE8F3\",\"linecolor\":\"#EBF0F8\",\"showbackground\":true,\"ticks\":\"\",\"zerolinecolor\":\"#EBF0F8\",\"gridwidth\":2}},\"shapedefaults\":{\"line\":{\"color\":\"#2a3f5f\"}},\"annotationdefaults\":{\"arrowcolor\":\"#2a3f5f\",\"arrowhead\":0,\"arrowwidth\":1},\"geo\":{\"bgcolor\":\"white\",\"landcolor\":\"white\",\"subunitcolor\":\"#C8D4E3\",\"showland\":true,\"showlakes\":true,\"lakecolor\":\"white\"},\"title\":{\"x\":0.05},\"mapbox\":{\"style\":\"light\"}}},\"legend\":{\"tracegroupgap\":0},\"title\":{\"text\":\"Most Popular Pickup Locations on Weekdays\"}},                        {\"responsive\": true}                    ).then(function(){\n",
              "                            \n",
              "var gd = document.getElementById('47e17d54-8c32-4ab0-bbe7-8aabb038b900');\n",
              "var x = new MutationObserver(function (mutations, observer) {{\n",
              "        var display = window.getComputedStyle(gd).display;\n",
              "        if (!display || display === 'none') {{\n",
              "            console.log([gd, 'removed!']);\n",
              "            Plotly.purge(gd);\n",
              "            observer.disconnect();\n",
              "        }}\n",
              "}});\n",
              "\n",
              "// Listen for the removal of the full notebook cells\n",
              "var notebookContainer = gd.closest('#notebook-container');\n",
              "if (notebookContainer) {{\n",
              "    x.observe(notebookContainer, {childList: true});\n",
              "}}\n",
              "\n",
              "// Listen for the clearing of the current output cell\n",
              "var outputEl = gd.closest('.output');\n",
              "if (outputEl) {{\n",
              "    x.observe(outputEl, {childList: true});\n",
              "}}\n",
              "\n",
              "                        })                };                            </script>        </div>\n",
              "</body>\n",
              "</html>"
            ]
          },
          "metadata": {}
        },
        {
          "output_type": "display_data",
          "data": {
            "text/html": [
              "<html>\n",
              "<head><meta charset=\"utf-8\" /></head>\n",
              "<body>\n",
              "    <div>            <script src=\"https://cdnjs.cloudflare.com/ajax/libs/mathjax/2.7.5/MathJax.js?config=TeX-AMS-MML_SVG\"></script><script type=\"text/javascript\">if (window.MathJax && window.MathJax.Hub && window.MathJax.Hub.Config) {window.MathJax.Hub.Config({SVG: {font: \"STIX-Web\"}});}</script>                <script type=\"text/javascript\">window.PlotlyConfig = {MathJaxConfig: 'local'};</script>\n",
              "        <script charset=\"utf-8\" src=\"https://cdn.plot.ly/plotly-2.24.1.min.js\"></script>                <div id=\"4acdf8d4-b0a4-4f3f-8f2d-47dcec35853e\" class=\"plotly-graph-div\" style=\"height:525px; width:100%;\"></div>            <script type=\"text/javascript\">                                    window.PLOTLYENV=window.PLOTLYENV || {};                                    if (document.getElementById(\"4acdf8d4-b0a4-4f3f-8f2d-47dcec35853e\")) {                    Plotly.newPlot(                        \"4acdf8d4-b0a4-4f3f-8f2d-47dcec35853e\",                        [{\"branchvalues\":\"total\",\"domain\":{\"x\":[0.0,1.0],\"y\":[0.0,1.0]},\"hovertemplate\":\"labels=%{label}\\u003cbr\\u003etrip_count=%{value}\\u003cbr\\u003eparent=%{parent}\\u003cbr\\u003eid=%{id}\\u003cextra\\u003e\\u003c\\u002fextra\\u003e\",\"ids\":[\"1\",\"3\",\"6\",\"7\",\"8\",\"9\",\"10\",\"11\",\"14\",\"15\",\"16\",\"17\",\"18\",\"19\",\"20\",\"21\",\"22\",\"23\",\"24\",\"25\",\"26\",\"28\",\"29\",\"30\",\"31\",\"32\",\"33\",\"34\",\"35\",\"36\",\"37\",\"38\",\"39\",\"40\",\"41\",\"42\",\"43\",\"46\",\"47\",\"49\",\"51\",\"52\",\"53\",\"54\",\"55\",\"56\",\"57\",\"58\",\"59\",\"60\",\"61\",\"62\",\"63\",\"64\",\"65\",\"66\",\"67\",\"69\",\"70\",\"71\",\"72\",\"73\",\"74\",\"75\",\"76\",\"77\",\"78\",\"79\",\"80\",\"81\",\"82\",\"83\",\"85\",\"86\",\"89\",\"90\",\"91\",\"92\",\"93\",\"94\",\"95\",\"96\",\"97\",\"98\",\"100\",\"102\",\"106\",\"108\",\"109\",\"111\",\"112\",\"115\",\"116\",\"117\",\"118\",\"119\",\"120\",\"121\",\"122\",\"123\",\"124\",\"126\",\"127\",\"128\",\"129\",\"130\",\"131\",\"132\",\"133\",\"134\",\"135\",\"136\",\"138\",\"139\",\"140\",\"141\",\"145\",\"146\",\"147\",\"148\",\"149\",\"150\",\"152\",\"153\",\"154\",\"155\",\"156\",\"157\",\"159\",\"160\",\"161\",\"165\",\"166\",\"167\",\"168\",\"169\",\"171\",\"173\",\"174\",\"175\",\"176\",\"177\",\"178\",\"179\",\"180\",\"181\",\"182\",\"183\",\"184\",\"185\",\"187\",\"188\",\"189\",\"190\",\"191\",\"192\",\"193\",\"194\",\"195\",\"196\",\"197\",\"198\",\"200\",\"201\",\"202\",\"203\",\"205\",\"206\",\"207\",\"208\",\"210\",\"211\",\"212\",\"213\",\"214\",\"215\",\"216\",\"217\",\"218\",\"219\",\"220\",\"221\",\"222\",\"223\",\"225\",\"226\",\"227\",\"228\",\"229\",\"231\",\"232\",\"233\",\"235\",\"236\",\"238\",\"240\",\"241\",\"242\",\"243\",\"244\",\"245\",\"247\",\"248\",\"250\",\"251\",\"252\",\"253\",\"254\",\"255\",\"256\",\"257\",\"258\",\"259\",\"260\",\"262\",\"263\",\"264\",\"265\"],\"labels\":[\"1\",\"3\",\"6\",\"7\",\"8\",\"9\",\"10\",\"11\",\"14\",\"15\",\"16\",\"17\",\"18\",\"19\",\"20\",\"21\",\"22\",\"23\",\"24\",\"25\",\"26\",\"28\",\"29\",\"30\",\"31\",\"32\",\"33\",\"34\",\"35\",\"36\",\"37\",\"38\",\"39\",\"40\",\"41\",\"42\",\"43\",\"46\",\"47\",\"49\",\"51\",\"52\",\"53\",\"54\",\"55\",\"56\",\"57\",\"58\",\"59\",\"60\",\"61\",\"62\",\"63\",\"64\",\"65\",\"66\",\"67\",\"69\",\"70\",\"71\",\"72\",\"73\",\"74\",\"75\",\"76\",\"77\",\"78\",\"79\",\"80\",\"81\",\"82\",\"83\",\"85\",\"86\",\"89\",\"90\",\"91\",\"92\",\"93\",\"94\",\"95\",\"96\",\"97\",\"98\",\"100\",\"102\",\"106\",\"108\",\"109\",\"111\",\"112\",\"115\",\"116\",\"117\",\"118\",\"119\",\"120\",\"121\",\"122\",\"123\",\"124\",\"126\",\"127\",\"128\",\"129\",\"130\",\"131\",\"132\",\"133\",\"134\",\"135\",\"136\",\"138\",\"139\",\"140\",\"141\",\"145\",\"146\",\"147\",\"148\",\"149\",\"150\",\"152\",\"153\",\"154\",\"155\",\"156\",\"157\",\"159\",\"160\",\"161\",\"165\",\"166\",\"167\",\"168\",\"169\",\"171\",\"173\",\"174\",\"175\",\"176\",\"177\",\"178\",\"179\",\"180\",\"181\",\"182\",\"183\",\"184\",\"185\",\"187\",\"188\",\"189\",\"190\",\"191\",\"192\",\"193\",\"194\",\"195\",\"196\",\"197\",\"198\",\"200\",\"201\",\"202\",\"203\",\"205\",\"206\",\"207\",\"208\",\"210\",\"211\",\"212\",\"213\",\"214\",\"215\",\"216\",\"217\",\"218\",\"219\",\"220\",\"221\",\"222\",\"223\",\"225\",\"226\",\"227\",\"228\",\"229\",\"231\",\"232\",\"233\",\"235\",\"236\",\"238\",\"240\",\"241\",\"242\",\"243\",\"244\",\"245\",\"247\",\"248\",\"250\",\"251\",\"252\",\"253\",\"254\",\"255\",\"256\",\"257\",\"258\",\"259\",\"260\",\"262\",\"263\",\"264\",\"265\"],\"name\":\"\",\"parents\":[\"\",\"\",\"\",\"\",\"\",\"\",\"\",\"\",\"\",\"\",\"\",\"\",\"\",\"\",\"\",\"\",\"\",\"\",\"\",\"\",\"\",\"\",\"\",\"\",\"\",\"\",\"\",\"\",\"\",\"\",\"\",\"\",\"\",\"\",\"\",\"\",\"\",\"\",\"\",\"\",\"\",\"\",\"\",\"\",\"\",\"\",\"\",\"\",\"\",\"\",\"\",\"\",\"\",\"\",\"\",\"\",\"\",\"\",\"\",\"\",\"\",\"\",\"\",\"\",\"\",\"\",\"\",\"\",\"\",\"\",\"\",\"\",\"\",\"\",\"\",\"\",\"\",\"\",\"\",\"\",\"\",\"\",\"\",\"\",\"\",\"\",\"\",\"\",\"\",\"\",\"\",\"\",\"\",\"\",\"\",\"\",\"\",\"\",\"\",\"\",\"\",\"\",\"\",\"\",\"\",\"\",\"\",\"\",\"\",\"\",\"\",\"\",\"\",\"\",\"\",\"\",\"\",\"\",\"\",\"\",\"\",\"\",\"\",\"\",\"\",\"\",\"\",\"\",\"\",\"\",\"\",\"\",\"\",\"\",\"\",\"\",\"\",\"\",\"\",\"\",\"\",\"\",\"\",\"\",\"\",\"\",\"\",\"\",\"\",\"\",\"\",\"\",\"\",\"\",\"\",\"\",\"\",\"\",\"\",\"\",\"\",\"\",\"\",\"\",\"\",\"\",\"\",\"\",\"\",\"\",\"\",\"\",\"\",\"\",\"\",\"\",\"\",\"\",\"\",\"\",\"\",\"\",\"\",\"\",\"\",\"\",\"\",\"\",\"\",\"\",\"\",\"\",\"\",\"\",\"\",\"\",\"\",\"\",\"\",\"\",\"\",\"\",\"\",\"\",\"\",\"\",\"\",\"\",\"\",\"\",\"\",\"\",\"\",\"\",\"\",\"\",\"\",\"\"],\"values\":[7,57,3,24650,8,9,71,20,372,13,71,9531,780,10,588,36,58,11,1272,12063,76,305,57,2,107,170,8902,272,590,4010,5721,9,263,4325,26256,16518,2109,17,536,10172,202,3971,56,462,418,806,77,1,15,264,11410,1549,130,8,5874,5826,30,1390,558,295,359,28,20695,15202,1006,269,533,1,7960,72,19720,3150,847,20,1974,1,242,3987,96,444,8855,28,14684,15,1,92,3080,28,1,41,12153,15,6955,11,1,726,83,165,30,39,17,401,2068,72,15324,4192,47,60,280,2226,145,514,40,4,2,1,8245,2594,426,1,170,22,3799,383,8,123,18,277,1815,120,1,95,14391,758,1994,731,58,2759,643,5,2,1036,29,2891,78,19662,598,117,51,251,2,3097,4801,878,45,130,1057,12,1098,3605,304,512,42,2,215,14,35,5,7,217,742,1,603,299,2,80,289,865,14,10,668,8,32,8036,4311,6832,135,1425,2,1,4,1,613,753,1,58,462,583,3150,8757,3,2486,356,356,3,31,6,211,29380,15870,523,167,46,10132,15,231,750,345],\"type\":\"treemap\"}],                        {\"template\":{\"data\":{\"histogram2dcontour\":[{\"type\":\"histogram2dcontour\",\"colorbar\":{\"outlinewidth\":0,\"ticks\":\"\"},\"colorscale\":[[0.0,\"#0d0887\"],[0.1111111111111111,\"#46039f\"],[0.2222222222222222,\"#7201a8\"],[0.3333333333333333,\"#9c179e\"],[0.4444444444444444,\"#bd3786\"],[0.5555555555555556,\"#d8576b\"],[0.6666666666666666,\"#ed7953\"],[0.7777777777777778,\"#fb9f3a\"],[0.8888888888888888,\"#fdca26\"],[1.0,\"#f0f921\"]]}],\"choropleth\":[{\"type\":\"choropleth\",\"colorbar\":{\"outlinewidth\":0,\"ticks\":\"\"}}],\"histogram2d\":[{\"type\":\"histogram2d\",\"colorbar\":{\"outlinewidth\":0,\"ticks\":\"\"},\"colorscale\":[[0.0,\"#0d0887\"],[0.1111111111111111,\"#46039f\"],[0.2222222222222222,\"#7201a8\"],[0.3333333333333333,\"#9c179e\"],[0.4444444444444444,\"#bd3786\"],[0.5555555555555556,\"#d8576b\"],[0.6666666666666666,\"#ed7953\"],[0.7777777777777778,\"#fb9f3a\"],[0.8888888888888888,\"#fdca26\"],[1.0,\"#f0f921\"]]}],\"heatmap\":[{\"type\":\"heatmap\",\"colorbar\":{\"outlinewidth\":0,\"ticks\":\"\"},\"colorscale\":[[0.0,\"#0d0887\"],[0.1111111111111111,\"#46039f\"],[0.2222222222222222,\"#7201a8\"],[0.3333333333333333,\"#9c179e\"],[0.4444444444444444,\"#bd3786\"],[0.5555555555555556,\"#d8576b\"],[0.6666666666666666,\"#ed7953\"],[0.7777777777777778,\"#fb9f3a\"],[0.8888888888888888,\"#fdca26\"],[1.0,\"#f0f921\"]]}],\"heatmapgl\":[{\"type\":\"heatmapgl\",\"colorbar\":{\"outlinewidth\":0,\"ticks\":\"\"},\"colorscale\":[[0.0,\"#0d0887\"],[0.1111111111111111,\"#46039f\"],[0.2222222222222222,\"#7201a8\"],[0.3333333333333333,\"#9c179e\"],[0.4444444444444444,\"#bd3786\"],[0.5555555555555556,\"#d8576b\"],[0.6666666666666666,\"#ed7953\"],[0.7777777777777778,\"#fb9f3a\"],[0.8888888888888888,\"#fdca26\"],[1.0,\"#f0f921\"]]}],\"contourcarpet\":[{\"type\":\"contourcarpet\",\"colorbar\":{\"outlinewidth\":0,\"ticks\":\"\"}}],\"contour\":[{\"type\":\"contour\",\"colorbar\":{\"outlinewidth\":0,\"ticks\":\"\"},\"colorscale\":[[0.0,\"#0d0887\"],[0.1111111111111111,\"#46039f\"],[0.2222222222222222,\"#7201a8\"],[0.3333333333333333,\"#9c179e\"],[0.4444444444444444,\"#bd3786\"],[0.5555555555555556,\"#d8576b\"],[0.6666666666666666,\"#ed7953\"],[0.7777777777777778,\"#fb9f3a\"],[0.8888888888888888,\"#fdca26\"],[1.0,\"#f0f921\"]]}],\"surface\":[{\"type\":\"surface\",\"colorbar\":{\"outlinewidth\":0,\"ticks\":\"\"},\"colorscale\":[[0.0,\"#0d0887\"],[0.1111111111111111,\"#46039f\"],[0.2222222222222222,\"#7201a8\"],[0.3333333333333333,\"#9c179e\"],[0.4444444444444444,\"#bd3786\"],[0.5555555555555556,\"#d8576b\"],[0.6666666666666666,\"#ed7953\"],[0.7777777777777778,\"#fb9f3a\"],[0.8888888888888888,\"#fdca26\"],[1.0,\"#f0f921\"]]}],\"mesh3d\":[{\"type\":\"mesh3d\",\"colorbar\":{\"outlinewidth\":0,\"ticks\":\"\"}}],\"scatter\":[{\"fillpattern\":{\"fillmode\":\"overlay\",\"size\":10,\"solidity\":0.2},\"type\":\"scatter\"}],\"parcoords\":[{\"type\":\"parcoords\",\"line\":{\"colorbar\":{\"outlinewidth\":0,\"ticks\":\"\"}}}],\"scatterpolargl\":[{\"type\":\"scatterpolargl\",\"marker\":{\"colorbar\":{\"outlinewidth\":0,\"ticks\":\"\"}}}],\"bar\":[{\"error_x\":{\"color\":\"#2a3f5f\"},\"error_y\":{\"color\":\"#2a3f5f\"},\"marker\":{\"line\":{\"color\":\"white\",\"width\":0.5},\"pattern\":{\"fillmode\":\"overlay\",\"size\":10,\"solidity\":0.2}},\"type\":\"bar\"}],\"scattergeo\":[{\"type\":\"scattergeo\",\"marker\":{\"colorbar\":{\"outlinewidth\":0,\"ticks\":\"\"}}}],\"scatterpolar\":[{\"type\":\"scatterpolar\",\"marker\":{\"colorbar\":{\"outlinewidth\":0,\"ticks\":\"\"}}}],\"histogram\":[{\"marker\":{\"pattern\":{\"fillmode\":\"overlay\",\"size\":10,\"solidity\":0.2}},\"type\":\"histogram\"}],\"scattergl\":[{\"type\":\"scattergl\",\"marker\":{\"colorbar\":{\"outlinewidth\":0,\"ticks\":\"\"}}}],\"scatter3d\":[{\"type\":\"scatter3d\",\"line\":{\"colorbar\":{\"outlinewidth\":0,\"ticks\":\"\"}},\"marker\":{\"colorbar\":{\"outlinewidth\":0,\"ticks\":\"\"}}}],\"scattermapbox\":[{\"type\":\"scattermapbox\",\"marker\":{\"colorbar\":{\"outlinewidth\":0,\"ticks\":\"\"}}}],\"scatterternary\":[{\"type\":\"scatterternary\",\"marker\":{\"colorbar\":{\"outlinewidth\":0,\"ticks\":\"\"}}}],\"scattercarpet\":[{\"type\":\"scattercarpet\",\"marker\":{\"colorbar\":{\"outlinewidth\":0,\"ticks\":\"\"}}}],\"carpet\":[{\"aaxis\":{\"endlinecolor\":\"#2a3f5f\",\"gridcolor\":\"#C8D4E3\",\"linecolor\":\"#C8D4E3\",\"minorgridcolor\":\"#C8D4E3\",\"startlinecolor\":\"#2a3f5f\"},\"baxis\":{\"endlinecolor\":\"#2a3f5f\",\"gridcolor\":\"#C8D4E3\",\"linecolor\":\"#C8D4E3\",\"minorgridcolor\":\"#C8D4E3\",\"startlinecolor\":\"#2a3f5f\"},\"type\":\"carpet\"}],\"table\":[{\"cells\":{\"fill\":{\"color\":\"#EBF0F8\"},\"line\":{\"color\":\"white\"}},\"header\":{\"fill\":{\"color\":\"#C8D4E3\"},\"line\":{\"color\":\"white\"}},\"type\":\"table\"}],\"barpolar\":[{\"marker\":{\"line\":{\"color\":\"white\",\"width\":0.5},\"pattern\":{\"fillmode\":\"overlay\",\"size\":10,\"solidity\":0.2}},\"type\":\"barpolar\"}],\"pie\":[{\"automargin\":true,\"type\":\"pie\"}]},\"layout\":{\"autotypenumbers\":\"strict\",\"colorway\":[\"#636efa\",\"#EF553B\",\"#00cc96\",\"#ab63fa\",\"#FFA15A\",\"#19d3f3\",\"#FF6692\",\"#B6E880\",\"#FF97FF\",\"#FECB52\"],\"font\":{\"color\":\"#2a3f5f\"},\"hovermode\":\"closest\",\"hoverlabel\":{\"align\":\"left\"},\"paper_bgcolor\":\"white\",\"plot_bgcolor\":\"white\",\"polar\":{\"bgcolor\":\"white\",\"angularaxis\":{\"gridcolor\":\"#EBF0F8\",\"linecolor\":\"#EBF0F8\",\"ticks\":\"\"},\"radialaxis\":{\"gridcolor\":\"#EBF0F8\",\"linecolor\":\"#EBF0F8\",\"ticks\":\"\"}},\"ternary\":{\"bgcolor\":\"white\",\"aaxis\":{\"gridcolor\":\"#DFE8F3\",\"linecolor\":\"#A2B1C6\",\"ticks\":\"\"},\"baxis\":{\"gridcolor\":\"#DFE8F3\",\"linecolor\":\"#A2B1C6\",\"ticks\":\"\"},\"caxis\":{\"gridcolor\":\"#DFE8F3\",\"linecolor\":\"#A2B1C6\",\"ticks\":\"\"}},\"coloraxis\":{\"colorbar\":{\"outlinewidth\":0,\"ticks\":\"\"}},\"colorscale\":{\"sequential\":[[0.0,\"#0d0887\"],[0.1111111111111111,\"#46039f\"],[0.2222222222222222,\"#7201a8\"],[0.3333333333333333,\"#9c179e\"],[0.4444444444444444,\"#bd3786\"],[0.5555555555555556,\"#d8576b\"],[0.6666666666666666,\"#ed7953\"],[0.7777777777777778,\"#fb9f3a\"],[0.8888888888888888,\"#fdca26\"],[1.0,\"#f0f921\"]],\"sequentialminus\":[[0.0,\"#0d0887\"],[0.1111111111111111,\"#46039f\"],[0.2222222222222222,\"#7201a8\"],[0.3333333333333333,\"#9c179e\"],[0.4444444444444444,\"#bd3786\"],[0.5555555555555556,\"#d8576b\"],[0.6666666666666666,\"#ed7953\"],[0.7777777777777778,\"#fb9f3a\"],[0.8888888888888888,\"#fdca26\"],[1.0,\"#f0f921\"]],\"diverging\":[[0,\"#8e0152\"],[0.1,\"#c51b7d\"],[0.2,\"#de77ae\"],[0.3,\"#f1b6da\"],[0.4,\"#fde0ef\"],[0.5,\"#f7f7f7\"],[0.6,\"#e6f5d0\"],[0.7,\"#b8e186\"],[0.8,\"#7fbc41\"],[0.9,\"#4d9221\"],[1,\"#276419\"]]},\"xaxis\":{\"gridcolor\":\"#EBF0F8\",\"linecolor\":\"#EBF0F8\",\"ticks\":\"\",\"title\":{\"standoff\":15},\"zerolinecolor\":\"#EBF0F8\",\"automargin\":true,\"zerolinewidth\":2},\"yaxis\":{\"gridcolor\":\"#EBF0F8\",\"linecolor\":\"#EBF0F8\",\"ticks\":\"\",\"title\":{\"standoff\":15},\"zerolinecolor\":\"#EBF0F8\",\"automargin\":true,\"zerolinewidth\":2},\"scene\":{\"xaxis\":{\"backgroundcolor\":\"white\",\"gridcolor\":\"#DFE8F3\",\"linecolor\":\"#EBF0F8\",\"showbackground\":true,\"ticks\":\"\",\"zerolinecolor\":\"#EBF0F8\",\"gridwidth\":2},\"yaxis\":{\"backgroundcolor\":\"white\",\"gridcolor\":\"#DFE8F3\",\"linecolor\":\"#EBF0F8\",\"showbackground\":true,\"ticks\":\"\",\"zerolinecolor\":\"#EBF0F8\",\"gridwidth\":2},\"zaxis\":{\"backgroundcolor\":\"white\",\"gridcolor\":\"#DFE8F3\",\"linecolor\":\"#EBF0F8\",\"showbackground\":true,\"ticks\":\"\",\"zerolinecolor\":\"#EBF0F8\",\"gridwidth\":2}},\"shapedefaults\":{\"line\":{\"color\":\"#2a3f5f\"}},\"annotationdefaults\":{\"arrowcolor\":\"#2a3f5f\",\"arrowhead\":0,\"arrowwidth\":1},\"geo\":{\"bgcolor\":\"white\",\"landcolor\":\"white\",\"subunitcolor\":\"#C8D4E3\",\"showland\":true,\"showlakes\":true,\"lakecolor\":\"white\"},\"title\":{\"x\":0.05},\"mapbox\":{\"style\":\"light\"}}},\"legend\":{\"tracegroupgap\":0},\"title\":{\"text\":\"Most Popular Pickup Locations on Weekends\"}},                        {\"responsive\": true}                    ).then(function(){\n",
              "                            \n",
              "var gd = document.getElementById('4acdf8d4-b0a4-4f3f-8f2d-47dcec35853e');\n",
              "var x = new MutationObserver(function (mutations, observer) {{\n",
              "        var display = window.getComputedStyle(gd).display;\n",
              "        if (!display || display === 'none') {{\n",
              "            console.log([gd, 'removed!']);\n",
              "            Plotly.purge(gd);\n",
              "            observer.disconnect();\n",
              "        }}\n",
              "}});\n",
              "\n",
              "// Listen for the removal of the full notebook cells\n",
              "var notebookContainer = gd.closest('#notebook-container');\n",
              "if (notebookContainer) {{\n",
              "    x.observe(notebookContainer, {childList: true});\n",
              "}}\n",
              "\n",
              "// Listen for the clearing of the current output cell\n",
              "var outputEl = gd.closest('.output');\n",
              "if (outputEl) {{\n",
              "    x.observe(outputEl, {childList: true});\n",
              "}}\n",
              "\n",
              "                        })                };                            </script>        </div>\n",
              "</body>\n",
              "</html>"
            ]
          },
          "metadata": {}
        }
      ]
    },
    {
      "cell_type": "markdown",
      "source": [
        "## 4. Model that forecast the number of trips per hour for the 12 hours following 12th February at 10:00AM."
      ],
      "metadata": {
        "id": "Pr69GM_hJ0x4"
      }
    },
    {
      "cell_type": "markdown",
      "source": [
        "### 4.1 Install the needed library"
      ],
      "metadata": {
        "id": "X7_IPtYaTpoI"
      }
    },
    {
      "cell_type": "code",
      "source": [
        "!pip install pmdarima"
      ],
      "metadata": {
        "collapsed": true,
        "id": "l4mCPWq0KWG4"
      },
      "execution_count": null,
      "outputs": []
    },
    {
      "cell_type": "markdown",
      "source": [
        "### 4.2 Split the data from train and test."
      ],
      "metadata": {
        "id": "5dyVIaRzTtIG"
      }
    },
    {
      "cell_type": "code",
      "source": [
        "# Build a model to forecast the number of trips per hour for the 12 hours following 12th February at 10:00AM.\n",
        "# 1st Model is to use Auto Arima\n",
        "\n",
        "# Import libraries\n",
        "from pmdarima import auto_arima\n",
        "from prophet import Prophet\n",
        "from datetime import datetime, timedelta\n",
        "\n",
        "# Prepare the data for forecasting\n",
        "df_4 = df_3.copy()\n",
        "df_4['lpep_pickup_datetime'] = pd.to_datetime(df_4['lpep_pickup_datetime'])\n",
        "df_4['pickup_hour'] = df_4['lpep_pickup_datetime'].dt.floor('H')\n",
        "hourly_trips = df_4.groupby('pickup_hour').agg({'pickup_hour' : 'count'}).rename(columns={'pickup_hour': 'num_trips'}).reset_index()\n",
        "\n",
        "# Create a time series dataset for forecasting\n",
        "ts_data = hourly_trips[['pickup_hour', 'num_trips']].rename(columns={'pickup_hour': 'ds', 'num_trips': 'y'})\n",
        "\n",
        "# Split data into training and testing sets\n",
        "train_data = ts_data[ts_data['ds'] < datetime(2016, 2, 12, 10, 0)]\n",
        "test_data = ts_data[ts_data['ds'] >= datetime(2016, 2, 12, 10, 0)]\n"
      ],
      "metadata": {
        "id": "yidyiWecKLGe"
      },
      "execution_count": 24,
      "outputs": []
    },
    {
      "cell_type": "markdown",
      "source": [
        "### 4.3 Checking if the data is stationary"
      ],
      "metadata": {
        "id": "10GiCQRCT870"
      }
    },
    {
      "cell_type": "code",
      "source": [
        "from statsmodels.tsa.stattools import adfuller\n",
        "def adf_test(timeseries):\n",
        "\n",
        "    dftest = adfuller(timeseries)\n",
        "    print('ADF Statistic: %f' % dftest[0])\n",
        "    print('p-value: %f' % dftest[1])\n",
        "    print(dftest)\n",
        "\n",
        "\n",
        "adf_test(train_data['y'])\n",
        "\n",
        "# Our P-Value is 3.2852868897850326e-07 much less than 0.05 it means our data is stationary\n",
        "# Our ADF test statistic (-5.868) is much lower than the our critical values\n",
        "# Therefore, the time series is likely stationary, meaning it does not have a unit root and its properties do not change over time."
      ],
      "metadata": {
        "colab": {
          "base_uri": "https://localhost:8080/",
          "height": 0
        },
        "id": "K-xhMIleUBFW",
        "outputId": "abe895fe-2d59-4c3f-8faf-e460b0132c6a"
      },
      "execution_count": 25,
      "outputs": [
        {
          "output_type": "stream",
          "name": "stdout",
          "text": [
            "ADF Statistic: -5.868318\n",
            "p-value: 0.000000\n",
            "(-5.868318179554332, 3.2852868897850326e-07, 13, 260, {'1%': -3.4557539868570775, '5%': -2.8727214497041422, '10%': -2.572728476331361}, 3620.6070702929906)\n"
          ]
        }
      ]
    },
    {
      "cell_type": "code",
      "source": [
        "# checking the data plots. We can see it is stationary but it has seasonality\n",
        "\n",
        "fig = px.line(hourly_trips, x='pickup_hour', y='num_trips',  markers=True)\n",
        "fig.show()"
      ],
      "metadata": {
        "colab": {
          "base_uri": "https://localhost:8080/",
          "height": 631
        },
        "id": "KN1X0N9laSwm",
        "outputId": "e4cb85eb-a017-42ea-ba2a-cc699e7d2c17"
      },
      "execution_count": 26,
      "outputs": [
        {
          "output_type": "stream",
          "name": "stderr",
          "text": [
            "/usr/local/lib/python3.10/dist-packages/_plotly_utils/basevalidators.py:105: FutureWarning:\n",
            "\n",
            "The behavior of DatetimeProperties.to_pydatetime is deprecated, in a future version this will return a Series containing python datetime objects instead of an ndarray. To retain the old behavior, call `np.array` on the result\n",
            "\n"
          ]
        },
        {
          "output_type": "display_data",
          "data": {
            "text/html": [
              "<html>\n",
              "<head><meta charset=\"utf-8\" /></head>\n",
              "<body>\n",
              "    <div>            <script src=\"https://cdnjs.cloudflare.com/ajax/libs/mathjax/2.7.5/MathJax.js?config=TeX-AMS-MML_SVG\"></script><script type=\"text/javascript\">if (window.MathJax && window.MathJax.Hub && window.MathJax.Hub.Config) {window.MathJax.Hub.Config({SVG: {font: \"STIX-Web\"}});}</script>                <script type=\"text/javascript\">window.PlotlyConfig = {MathJaxConfig: 'local'};</script>\n",
              "        <script charset=\"utf-8\" src=\"https://cdn.plot.ly/plotly-2.24.1.min.js\"></script>                <div id=\"9f8d75f5-53fc-4aa4-887c-0f11d6162b64\" class=\"plotly-graph-div\" style=\"height:525px; width:100%;\"></div>            <script type=\"text/javascript\">                                    window.PLOTLYENV=window.PLOTLYENV || {};                                    if (document.getElementById(\"9f8d75f5-53fc-4aa4-887c-0f11d6162b64\")) {                    Plotly.newPlot(                        \"9f8d75f5-53fc-4aa4-887c-0f11d6162b64\",                        [{\"hovertemplate\":\"pickup_hour=%{x}\\u003cbr\\u003enum_trips=%{y}\\u003cextra\\u003e\\u003c\\u002fextra\\u003e\",\"legendgroup\":\"\",\"line\":{\"color\":\"#636efa\",\"dash\":\"solid\"},\"marker\":{\"symbol\":\"circle\"},\"mode\":\"markers+lines\",\"name\":\"\",\"orientation\":\"v\",\"showlegend\":false,\"x\":[\"2016-02-01T00:00:00\",\"2016-02-01T01:00:00\",\"2016-02-01T02:00:00\",\"2016-02-01T03:00:00\",\"2016-02-01T04:00:00\",\"2016-02-01T05:00:00\",\"2016-02-01T06:00:00\",\"2016-02-01T07:00:00\",\"2016-02-01T08:00:00\",\"2016-02-01T09:00:00\",\"2016-02-01T10:00:00\",\"2016-02-01T11:00:00\",\"2016-02-01T12:00:00\",\"2016-02-01T13:00:00\",\"2016-02-01T14:00:00\",\"2016-02-01T15:00:00\",\"2016-02-01T16:00:00\",\"2016-02-01T17:00:00\",\"2016-02-01T18:00:00\",\"2016-02-01T19:00:00\",\"2016-02-01T20:00:00\",\"2016-02-01T21:00:00\",\"2016-02-01T22:00:00\",\"2016-02-01T23:00:00\",\"2016-02-02T00:00:00\",\"2016-02-02T01:00:00\",\"2016-02-02T02:00:00\",\"2016-02-02T03:00:00\",\"2016-02-02T04:00:00\",\"2016-02-02T05:00:00\",\"2016-02-02T06:00:00\",\"2016-02-02T07:00:00\",\"2016-02-02T08:00:00\",\"2016-02-02T09:00:00\",\"2016-02-02T10:00:00\",\"2016-02-02T11:00:00\",\"2016-02-02T12:00:00\",\"2016-02-02T13:00:00\",\"2016-02-02T14:00:00\",\"2016-02-02T15:00:00\",\"2016-02-02T16:00:00\",\"2016-02-02T17:00:00\",\"2016-02-02T18:00:00\",\"2016-02-02T19:00:00\",\"2016-02-02T20:00:00\",\"2016-02-02T21:00:00\",\"2016-02-02T22:00:00\",\"2016-02-02T23:00:00\",\"2016-02-03T00:00:00\",\"2016-02-03T01:00:00\",\"2016-02-03T02:00:00\",\"2016-02-03T03:00:00\",\"2016-02-03T04:00:00\",\"2016-02-03T05:00:00\",\"2016-02-03T06:00:00\",\"2016-02-03T07:00:00\",\"2016-02-03T08:00:00\",\"2016-02-03T09:00:00\",\"2016-02-03T10:00:00\",\"2016-02-03T11:00:00\",\"2016-02-03T12:00:00\",\"2016-02-03T13:00:00\",\"2016-02-03T14:00:00\",\"2016-02-03T15:00:00\",\"2016-02-03T16:00:00\",\"2016-02-03T17:00:00\",\"2016-02-03T18:00:00\",\"2016-02-03T19:00:00\",\"2016-02-03T20:00:00\",\"2016-02-03T21:00:00\",\"2016-02-03T22:00:00\",\"2016-02-03T23:00:00\",\"2016-02-04T00:00:00\",\"2016-02-04T01:00:00\",\"2016-02-04T02:00:00\",\"2016-02-04T03:00:00\",\"2016-02-04T04:00:00\",\"2016-02-04T05:00:00\",\"2016-02-04T06:00:00\",\"2016-02-04T07:00:00\",\"2016-02-04T08:00:00\",\"2016-02-04T09:00:00\",\"2016-02-04T10:00:00\",\"2016-02-04T11:00:00\",\"2016-02-04T12:00:00\",\"2016-02-04T13:00:00\",\"2016-02-04T14:00:00\",\"2016-02-04T15:00:00\",\"2016-02-04T16:00:00\",\"2016-02-04T17:00:00\",\"2016-02-04T18:00:00\",\"2016-02-04T19:00:00\",\"2016-02-04T20:00:00\",\"2016-02-04T21:00:00\",\"2016-02-04T22:00:00\",\"2016-02-04T23:00:00\",\"2016-02-05T00:00:00\",\"2016-02-05T01:00:00\",\"2016-02-05T02:00:00\",\"2016-02-05T03:00:00\",\"2016-02-05T04:00:00\",\"2016-02-05T05:00:00\",\"2016-02-05T06:00:00\",\"2016-02-05T07:00:00\",\"2016-02-05T08:00:00\",\"2016-02-05T09:00:00\",\"2016-02-05T10:00:00\",\"2016-02-05T11:00:00\",\"2016-02-05T12:00:00\",\"2016-02-05T13:00:00\",\"2016-02-05T14:00:00\",\"2016-02-05T15:00:00\",\"2016-02-05T16:00:00\",\"2016-02-05T17:00:00\",\"2016-02-05T18:00:00\",\"2016-02-05T19:00:00\",\"2016-02-05T20:00:00\",\"2016-02-05T21:00:00\",\"2016-02-05T22:00:00\",\"2016-02-05T23:00:00\",\"2016-02-06T00:00:00\",\"2016-02-06T01:00:00\",\"2016-02-06T02:00:00\",\"2016-02-06T03:00:00\",\"2016-02-06T04:00:00\",\"2016-02-06T05:00:00\",\"2016-02-06T06:00:00\",\"2016-02-06T07:00:00\",\"2016-02-06T08:00:00\",\"2016-02-06T09:00:00\",\"2016-02-06T10:00:00\",\"2016-02-06T11:00:00\",\"2016-02-06T12:00:00\",\"2016-02-06T13:00:00\",\"2016-02-06T14:00:00\",\"2016-02-06T15:00:00\",\"2016-02-06T16:00:00\",\"2016-02-06T17:00:00\",\"2016-02-06T18:00:00\",\"2016-02-06T19:00:00\",\"2016-02-06T20:00:00\",\"2016-02-06T21:00:00\",\"2016-02-06T22:00:00\",\"2016-02-06T23:00:00\",\"2016-02-07T00:00:00\",\"2016-02-07T01:00:00\",\"2016-02-07T02:00:00\",\"2016-02-07T03:00:00\",\"2016-02-07T04:00:00\",\"2016-02-07T05:00:00\",\"2016-02-07T06:00:00\",\"2016-02-07T07:00:00\",\"2016-02-07T08:00:00\",\"2016-02-07T09:00:00\",\"2016-02-07T10:00:00\",\"2016-02-07T11:00:00\",\"2016-02-07T12:00:00\",\"2016-02-07T13:00:00\",\"2016-02-07T14:00:00\",\"2016-02-07T15:00:00\",\"2016-02-07T16:00:00\",\"2016-02-07T17:00:00\",\"2016-02-07T18:00:00\",\"2016-02-07T19:00:00\",\"2016-02-07T20:00:00\",\"2016-02-07T21:00:00\",\"2016-02-07T22:00:00\",\"2016-02-07T23:00:00\",\"2016-02-08T00:00:00\",\"2016-02-08T01:00:00\",\"2016-02-08T02:00:00\",\"2016-02-08T03:00:00\",\"2016-02-08T04:00:00\",\"2016-02-08T05:00:00\",\"2016-02-08T06:00:00\",\"2016-02-08T07:00:00\",\"2016-02-08T08:00:00\",\"2016-02-08T09:00:00\",\"2016-02-08T10:00:00\",\"2016-02-08T11:00:00\",\"2016-02-08T12:00:00\",\"2016-02-08T13:00:00\",\"2016-02-08T14:00:00\",\"2016-02-08T15:00:00\",\"2016-02-08T16:00:00\",\"2016-02-08T17:00:00\",\"2016-02-08T18:00:00\",\"2016-02-08T19:00:00\",\"2016-02-08T20:00:00\",\"2016-02-08T21:00:00\",\"2016-02-08T22:00:00\",\"2016-02-08T23:00:00\",\"2016-02-09T00:00:00\",\"2016-02-09T01:00:00\",\"2016-02-09T02:00:00\",\"2016-02-09T03:00:00\",\"2016-02-09T04:00:00\",\"2016-02-09T05:00:00\",\"2016-02-09T06:00:00\",\"2016-02-09T07:00:00\",\"2016-02-09T08:00:00\",\"2016-02-09T09:00:00\",\"2016-02-09T10:00:00\",\"2016-02-09T11:00:00\",\"2016-02-09T12:00:00\",\"2016-02-09T13:00:00\",\"2016-02-09T14:00:00\",\"2016-02-09T15:00:00\",\"2016-02-09T16:00:00\",\"2016-02-09T17:00:00\",\"2016-02-09T18:00:00\",\"2016-02-09T19:00:00\",\"2016-02-09T20:00:00\",\"2016-02-09T21:00:00\",\"2016-02-09T22:00:00\",\"2016-02-09T23:00:00\",\"2016-02-10T00:00:00\",\"2016-02-10T01:00:00\",\"2016-02-10T02:00:00\",\"2016-02-10T03:00:00\",\"2016-02-10T04:00:00\",\"2016-02-10T05:00:00\",\"2016-02-10T06:00:00\",\"2016-02-10T07:00:00\",\"2016-02-10T08:00:00\",\"2016-02-10T09:00:00\",\"2016-02-10T10:00:00\",\"2016-02-10T11:00:00\",\"2016-02-10T12:00:00\",\"2016-02-10T13:00:00\",\"2016-02-10T14:00:00\",\"2016-02-10T15:00:00\",\"2016-02-10T16:00:00\",\"2016-02-10T17:00:00\",\"2016-02-10T18:00:00\",\"2016-02-10T19:00:00\",\"2016-02-10T20:00:00\",\"2016-02-10T21:00:00\",\"2016-02-10T22:00:00\",\"2016-02-10T23:00:00\",\"2016-02-11T00:00:00\",\"2016-02-11T01:00:00\",\"2016-02-11T02:00:00\",\"2016-02-11T03:00:00\",\"2016-02-11T04:00:00\",\"2016-02-11T05:00:00\",\"2016-02-11T06:00:00\",\"2016-02-11T07:00:00\",\"2016-02-11T08:00:00\",\"2016-02-11T09:00:00\",\"2016-02-11T10:00:00\",\"2016-02-11T11:00:00\",\"2016-02-11T12:00:00\",\"2016-02-11T13:00:00\",\"2016-02-11T14:00:00\",\"2016-02-11T15:00:00\",\"2016-02-11T16:00:00\",\"2016-02-11T17:00:00\",\"2016-02-11T18:00:00\",\"2016-02-11T19:00:00\",\"2016-02-11T20:00:00\",\"2016-02-11T21:00:00\",\"2016-02-11T22:00:00\",\"2016-02-11T23:00:00\",\"2016-02-12T00:00:00\",\"2016-02-12T01:00:00\",\"2016-02-12T02:00:00\",\"2016-02-12T03:00:00\",\"2016-02-12T04:00:00\",\"2016-02-12T05:00:00\",\"2016-02-12T06:00:00\",\"2016-02-12T07:00:00\",\"2016-02-12T08:00:00\",\"2016-02-12T09:00:00\",\"2016-02-12T10:00:00\",\"2016-02-12T11:00:00\",\"2016-02-12T12:00:00\",\"2016-02-12T13:00:00\",\"2016-02-12T14:00:00\",\"2016-02-12T15:00:00\",\"2016-02-12T16:00:00\",\"2016-02-12T17:00:00\",\"2016-02-12T18:00:00\",\"2016-02-12T19:00:00\",\"2016-02-12T20:00:00\",\"2016-02-12T21:00:00\",\"2016-02-12T22:00:00\",\"2016-02-12T23:00:00\",\"2016-02-13T00:00:00\",\"2016-02-13T01:00:00\",\"2016-02-13T02:00:00\",\"2016-02-13T03:00:00\",\"2016-02-13T04:00:00\",\"2016-02-13T05:00:00\",\"2016-02-13T06:00:00\",\"2016-02-13T07:00:00\",\"2016-02-13T08:00:00\",\"2016-02-13T09:00:00\",\"2016-02-13T10:00:00\",\"2016-02-13T11:00:00\",\"2016-02-13T12:00:00\",\"2016-02-13T13:00:00\",\"2016-02-13T14:00:00\",\"2016-02-13T15:00:00\",\"2016-02-13T16:00:00\",\"2016-02-13T17:00:00\",\"2016-02-13T18:00:00\",\"2016-02-13T19:00:00\",\"2016-02-13T20:00:00\",\"2016-02-13T21:00:00\",\"2016-02-13T22:00:00\",\"2016-02-13T23:00:00\",\"2016-02-14T00:00:00\",\"2016-02-14T01:00:00\",\"2016-02-14T02:00:00\",\"2016-02-14T03:00:00\",\"2016-02-14T04:00:00\",\"2016-02-14T05:00:00\",\"2016-02-14T06:00:00\",\"2016-02-14T07:00:00\",\"2016-02-14T08:00:00\",\"2016-02-14T09:00:00\",\"2016-02-14T10:00:00\",\"2016-02-14T11:00:00\",\"2016-02-14T12:00:00\",\"2016-02-14T13:00:00\",\"2016-02-14T14:00:00\",\"2016-02-14T15:00:00\",\"2016-02-14T16:00:00\",\"2016-02-14T17:00:00\",\"2016-02-14T18:00:00\",\"2016-02-14T19:00:00\",\"2016-02-14T20:00:00\",\"2016-02-14T21:00:00\",\"2016-02-14T22:00:00\",\"2016-02-14T23:00:00\",\"2016-02-15T00:00:00\",\"2016-02-15T01:00:00\",\"2016-02-15T02:00:00\",\"2016-02-15T03:00:00\",\"2016-02-15T04:00:00\",\"2016-02-15T05:00:00\",\"2016-02-15T06:00:00\",\"2016-02-15T07:00:00\",\"2016-02-15T08:00:00\",\"2016-02-15T09:00:00\",\"2016-02-15T10:00:00\",\"2016-02-15T11:00:00\",\"2016-02-15T12:00:00\",\"2016-02-15T13:00:00\",\"2016-02-15T14:00:00\",\"2016-02-15T15:00:00\",\"2016-02-15T16:00:00\",\"2016-02-15T17:00:00\",\"2016-02-15T18:00:00\",\"2016-02-15T19:00:00\",\"2016-02-15T20:00:00\",\"2016-02-15T21:00:00\",\"2016-02-15T22:00:00\",\"2016-02-15T23:00:00\",\"2016-02-16T00:00:00\",\"2016-02-16T01:00:00\",\"2016-02-16T02:00:00\",\"2016-02-16T03:00:00\",\"2016-02-16T04:00:00\",\"2016-02-16T05:00:00\",\"2016-02-16T06:00:00\",\"2016-02-16T07:00:00\",\"2016-02-16T08:00:00\",\"2016-02-16T09:00:00\",\"2016-02-16T10:00:00\",\"2016-02-16T11:00:00\",\"2016-02-16T12:00:00\",\"2016-02-16T13:00:00\",\"2016-02-16T14:00:00\",\"2016-02-16T15:00:00\",\"2016-02-16T16:00:00\",\"2016-02-16T17:00:00\",\"2016-02-16T18:00:00\",\"2016-02-16T19:00:00\",\"2016-02-16T20:00:00\",\"2016-02-16T21:00:00\",\"2016-02-16T22:00:00\",\"2016-02-16T23:00:00\",\"2016-02-17T00:00:00\",\"2016-02-17T01:00:00\",\"2016-02-17T02:00:00\",\"2016-02-17T03:00:00\",\"2016-02-17T04:00:00\",\"2016-02-17T05:00:00\",\"2016-02-17T06:00:00\",\"2016-02-17T07:00:00\",\"2016-02-17T08:00:00\",\"2016-02-17T09:00:00\",\"2016-02-17T10:00:00\",\"2016-02-17T11:00:00\",\"2016-02-17T12:00:00\",\"2016-02-17T13:00:00\",\"2016-02-17T14:00:00\",\"2016-02-17T15:00:00\",\"2016-02-17T16:00:00\",\"2016-02-17T17:00:00\",\"2016-02-17T18:00:00\",\"2016-02-17T19:00:00\",\"2016-02-17T20:00:00\",\"2016-02-17T21:00:00\",\"2016-02-17T22:00:00\",\"2016-02-17T23:00:00\",\"2016-02-18T00:00:00\",\"2016-02-18T01:00:00\",\"2016-02-18T02:00:00\",\"2016-02-18T03:00:00\",\"2016-02-18T04:00:00\",\"2016-02-18T05:00:00\",\"2016-02-18T06:00:00\",\"2016-02-18T07:00:00\",\"2016-02-18T08:00:00\",\"2016-02-18T09:00:00\",\"2016-02-18T10:00:00\",\"2016-02-18T11:00:00\",\"2016-02-18T12:00:00\",\"2016-02-18T13:00:00\",\"2016-02-18T14:00:00\",\"2016-02-18T15:00:00\",\"2016-02-18T16:00:00\",\"2016-02-18T17:00:00\",\"2016-02-18T18:00:00\",\"2016-02-18T19:00:00\",\"2016-02-18T20:00:00\",\"2016-02-18T21:00:00\",\"2016-02-18T22:00:00\",\"2016-02-18T23:00:00\",\"2016-02-19T00:00:00\",\"2016-02-19T01:00:00\",\"2016-02-19T02:00:00\",\"2016-02-19T03:00:00\",\"2016-02-19T04:00:00\",\"2016-02-19T05:00:00\",\"2016-02-19T06:00:00\",\"2016-02-19T07:00:00\",\"2016-02-19T08:00:00\",\"2016-02-19T09:00:00\",\"2016-02-19T10:00:00\",\"2016-02-19T11:00:00\",\"2016-02-19T12:00:00\",\"2016-02-19T13:00:00\",\"2016-02-19T14:00:00\",\"2016-02-19T15:00:00\",\"2016-02-19T16:00:00\",\"2016-02-19T17:00:00\",\"2016-02-19T18:00:00\",\"2016-02-19T19:00:00\",\"2016-02-19T20:00:00\",\"2016-02-19T21:00:00\",\"2016-02-19T22:00:00\",\"2016-02-19T23:00:00\",\"2016-02-20T00:00:00\",\"2016-02-20T01:00:00\",\"2016-02-20T02:00:00\",\"2016-02-20T03:00:00\",\"2016-02-20T04:00:00\",\"2016-02-20T05:00:00\",\"2016-02-20T06:00:00\",\"2016-02-20T07:00:00\",\"2016-02-20T08:00:00\",\"2016-02-20T09:00:00\",\"2016-02-20T10:00:00\",\"2016-02-20T11:00:00\",\"2016-02-20T12:00:00\",\"2016-02-20T13:00:00\",\"2016-02-20T14:00:00\",\"2016-02-20T15:00:00\",\"2016-02-20T16:00:00\",\"2016-02-20T17:00:00\",\"2016-02-20T18:00:00\",\"2016-02-20T19:00:00\",\"2016-02-20T20:00:00\",\"2016-02-20T21:00:00\",\"2016-02-20T22:00:00\",\"2016-02-20T23:00:00\",\"2016-02-21T00:00:00\",\"2016-02-21T01:00:00\",\"2016-02-21T02:00:00\",\"2016-02-21T03:00:00\",\"2016-02-21T04:00:00\",\"2016-02-21T05:00:00\",\"2016-02-21T06:00:00\",\"2016-02-21T07:00:00\",\"2016-02-21T08:00:00\",\"2016-02-21T09:00:00\",\"2016-02-21T10:00:00\",\"2016-02-21T11:00:00\",\"2016-02-21T12:00:00\",\"2016-02-21T13:00:00\",\"2016-02-21T14:00:00\",\"2016-02-21T15:00:00\",\"2016-02-21T16:00:00\",\"2016-02-21T17:00:00\",\"2016-02-21T18:00:00\",\"2016-02-21T19:00:00\",\"2016-02-21T20:00:00\",\"2016-02-21T21:00:00\",\"2016-02-21T22:00:00\",\"2016-02-21T23:00:00\",\"2016-02-22T00:00:00\",\"2016-02-22T01:00:00\",\"2016-02-22T02:00:00\",\"2016-02-22T03:00:00\",\"2016-02-22T04:00:00\",\"2016-02-22T05:00:00\",\"2016-02-22T06:00:00\",\"2016-02-22T07:00:00\",\"2016-02-22T08:00:00\",\"2016-02-22T09:00:00\",\"2016-02-22T10:00:00\",\"2016-02-22T11:00:00\",\"2016-02-22T12:00:00\",\"2016-02-22T13:00:00\",\"2016-02-22T14:00:00\",\"2016-02-22T15:00:00\",\"2016-02-22T16:00:00\",\"2016-02-22T17:00:00\",\"2016-02-22T18:00:00\",\"2016-02-22T19:00:00\",\"2016-02-22T20:00:00\",\"2016-02-22T21:00:00\",\"2016-02-22T22:00:00\",\"2016-02-22T23:00:00\",\"2016-02-23T00:00:00\",\"2016-02-23T01:00:00\",\"2016-02-23T02:00:00\",\"2016-02-23T03:00:00\",\"2016-02-23T04:00:00\",\"2016-02-23T05:00:00\",\"2016-02-23T06:00:00\",\"2016-02-23T07:00:00\",\"2016-02-23T08:00:00\",\"2016-02-23T09:00:00\",\"2016-02-23T10:00:00\",\"2016-02-23T11:00:00\",\"2016-02-23T12:00:00\",\"2016-02-23T13:00:00\",\"2016-02-23T14:00:00\",\"2016-02-23T15:00:00\",\"2016-02-23T16:00:00\",\"2016-02-23T17:00:00\",\"2016-02-23T18:00:00\",\"2016-02-23T19:00:00\",\"2016-02-23T20:00:00\",\"2016-02-23T21:00:00\",\"2016-02-23T22:00:00\",\"2016-02-23T23:00:00\",\"2016-02-24T00:00:00\",\"2016-02-24T01:00:00\",\"2016-02-24T02:00:00\",\"2016-02-24T03:00:00\",\"2016-02-24T04:00:00\",\"2016-02-24T05:00:00\",\"2016-02-24T06:00:00\",\"2016-02-24T07:00:00\",\"2016-02-24T08:00:00\",\"2016-02-24T09:00:00\",\"2016-02-24T10:00:00\",\"2016-02-24T11:00:00\",\"2016-02-24T12:00:00\",\"2016-02-24T13:00:00\",\"2016-02-24T14:00:00\",\"2016-02-24T15:00:00\",\"2016-02-24T16:00:00\",\"2016-02-24T17:00:00\",\"2016-02-24T18:00:00\",\"2016-02-24T19:00:00\",\"2016-02-24T20:00:00\",\"2016-02-24T21:00:00\",\"2016-02-24T22:00:00\",\"2016-02-24T23:00:00\",\"2016-02-25T00:00:00\",\"2016-02-25T01:00:00\",\"2016-02-25T02:00:00\",\"2016-02-25T03:00:00\",\"2016-02-25T04:00:00\",\"2016-02-25T05:00:00\",\"2016-02-25T06:00:00\",\"2016-02-25T07:00:00\",\"2016-02-25T08:00:00\",\"2016-02-25T09:00:00\",\"2016-02-25T10:00:00\",\"2016-02-25T11:00:00\",\"2016-02-25T12:00:00\",\"2016-02-25T13:00:00\",\"2016-02-25T14:00:00\",\"2016-02-25T15:00:00\",\"2016-02-25T16:00:00\",\"2016-02-25T17:00:00\",\"2016-02-25T18:00:00\",\"2016-02-25T19:00:00\",\"2016-02-25T20:00:00\",\"2016-02-25T21:00:00\",\"2016-02-25T22:00:00\",\"2016-02-25T23:00:00\",\"2016-02-26T00:00:00\",\"2016-02-26T01:00:00\",\"2016-02-26T02:00:00\",\"2016-02-26T03:00:00\",\"2016-02-26T04:00:00\",\"2016-02-26T05:00:00\",\"2016-02-26T06:00:00\",\"2016-02-26T07:00:00\",\"2016-02-26T08:00:00\",\"2016-02-26T09:00:00\",\"2016-02-26T10:00:00\",\"2016-02-26T11:00:00\",\"2016-02-26T12:00:00\",\"2016-02-26T13:00:00\",\"2016-02-26T14:00:00\",\"2016-02-26T15:00:00\",\"2016-02-26T16:00:00\",\"2016-02-26T17:00:00\",\"2016-02-26T18:00:00\",\"2016-02-26T19:00:00\",\"2016-02-26T20:00:00\",\"2016-02-26T21:00:00\",\"2016-02-26T22:00:00\",\"2016-02-26T23:00:00\",\"2016-02-27T00:00:00\",\"2016-02-27T01:00:00\",\"2016-02-27T02:00:00\",\"2016-02-27T03:00:00\",\"2016-02-27T04:00:00\",\"2016-02-27T05:00:00\",\"2016-02-27T06:00:00\",\"2016-02-27T07:00:00\",\"2016-02-27T08:00:00\",\"2016-02-27T09:00:00\",\"2016-02-27T10:00:00\",\"2016-02-27T11:00:00\",\"2016-02-27T12:00:00\",\"2016-02-27T13:00:00\",\"2016-02-27T14:00:00\",\"2016-02-27T15:00:00\",\"2016-02-27T16:00:00\",\"2016-02-27T17:00:00\",\"2016-02-27T18:00:00\",\"2016-02-27T19:00:00\",\"2016-02-27T20:00:00\",\"2016-02-27T21:00:00\",\"2016-02-27T22:00:00\",\"2016-02-27T23:00:00\",\"2016-02-28T00:00:00\",\"2016-02-28T01:00:00\",\"2016-02-28T02:00:00\",\"2016-02-28T03:00:00\",\"2016-02-28T04:00:00\",\"2016-02-28T05:00:00\",\"2016-02-28T06:00:00\",\"2016-02-28T07:00:00\",\"2016-02-28T08:00:00\",\"2016-02-28T09:00:00\",\"2016-02-28T10:00:00\",\"2016-02-28T11:00:00\",\"2016-02-28T12:00:00\",\"2016-02-28T13:00:00\",\"2016-02-28T14:00:00\",\"2016-02-28T15:00:00\",\"2016-02-28T16:00:00\",\"2016-02-28T17:00:00\",\"2016-02-28T18:00:00\",\"2016-02-28T19:00:00\",\"2016-02-28T20:00:00\",\"2016-02-28T21:00:00\",\"2016-02-28T22:00:00\",\"2016-02-28T23:00:00\",\"2016-02-29T00:00:00\",\"2016-02-29T01:00:00\",\"2016-02-29T02:00:00\",\"2016-02-29T03:00:00\",\"2016-02-29T04:00:00\",\"2016-02-29T05:00:00\",\"2016-02-29T06:00:00\",\"2016-02-29T07:00:00\",\"2016-02-29T08:00:00\",\"2016-02-29T09:00:00\",\"2016-02-29T10:00:00\",\"2016-02-29T11:00:00\",\"2016-02-29T12:00:00\",\"2016-02-29T13:00:00\",\"2016-02-29T14:00:00\",\"2016-02-29T15:00:00\",\"2016-02-29T16:00:00\",\"2016-02-29T17:00:00\",\"2016-02-29T18:00:00\",\"2016-02-29T19:00:00\",\"2016-02-29T20:00:00\",\"2016-02-29T21:00:00\",\"2016-02-29T22:00:00\",\"2016-02-29T23:00:00\"],\"xaxis\":\"x\",\"y\":[1290,819,583,431,463,460,776,1883,2648,2454,1898,1773,1726,1918,2215,2377,2685,2780,2976,2790,2358,2012,1730,1411,1116,738,463,334,341,353,685,1673,2501,2270,1904,1823,1704,1769,2014,2178,2424,2812,3127,3033,2690,2467,2170,1856,1320,871,497,325,328,354,694,1917,2718,2478,1998,1878,2034,2298,2687,2908,3070,3064,3242,3064,2581,2210,1919,1660,1210,837,496,346,352,338,700,1900,2617,2647,2081,1950,1911,1983,2249,2470,2673,3114,3409,3388,3220,2863,2897,2412,1941,1329,853,590,536,424,810,1746,2635,2477,2105,1943,1750,1693,2186,2505,2970,3492,4115,4225,3761,3783,3825,3827,3611,3183,2598,2133,1490,684,612,806,1296,1745,2001,2311,2509,2740,2676,2831,3253,3422,3909,4257,4017,4015,4099,4442,4036,3558,3231,2600,1859,824,593,639,881,1326,1724,1960,1985,2278,2395,2529,3015,3548,3771,2589,2246,2461,3283,2938,1893,1142,745,494,556,424,729,1457,2370,2486,2044,1865,1700,1752,1894,2138,2272,2638,3029,2813,2326,1964,1741,1503,974,584,413,267,283,336,717,1750,2651,2378,1947,1788,1683,1722,1997,2172,2381,2848,3188,3038,2589,2358,1907,1658,1153,706,468,303,315,337,684,1850,2701,2467,2004,1891,1896,2094,2327,2395,2801,3247,3660,3508,3258,2827,2438,1985,1465,1054,606,380,355,372,755,1919,2806,2695,2289,2104,2116,2346,2686,2962,3324,3837,4473,4377,3970,3551,2997,2661,1894,1247,771,555,488,422,879,2053,3016,2673,2311,2175,2024,2106,2716,3009,3517,4040,4564,4725,4432,4048,3870,3828,3736,3164,2686,2076,1517,774,619,813,1269,1958,2139,2502,2714,2926,3155,3384,3957,4199,4824,5124,4721,4295,3947,4153,3511,2738,2216,1752,1348,646,601,675,954,1365,1837,2267,2447,2694,2793,2946,3273,3480,3861,3934,3562,3140,3015,2847,2294,1667,1181,927,791,601,713,1038,1598,1949,1864,1876,1961,2169,2368,2646,2706,2522,2695,2554,2437,2115,1989,1608,1047,633,444,264,303,391,700,1426,2338,2648,2037,1941,2094,2515,2855,2340,2246,2540,2923,2810,2473,2200,1911,1600,1242,854,534,329,344,352,708,1446,2313,2336,2111,2016,1987,2046,2214,2460,2689,2912,3323,3360,2858,2663,2313,2056,1514,973,645,446,401,358,703,1543,2436,2537,2200,2064,1975,2145,2169,2421,2926,3291,3858,3762,3416,3264,2936,2629,1871,1329,953,685,536,422,762,1597,2514,2541,2163,1974,1892,1895,2298,2618,3269,3639,4294,4314,3938,3854,3776,3870,3781,3298,2694,2277,1646,824,687,964,1350,1788,2079,2301,2465,2663,2752,2885,3297,3502,4045,4264,4131,4108,4242,4470,4212,3872,3265,2762,2018,951,684,702,954,1390,1741,1990,2113,2359,2424,2592,2781,2972,3292,2873,2812,2510,2186,1687,1216,822,494,301,448,428,870,1957,2582,2368,1971,1740,1612,1711,1985,2100,2373,2699,2961,2807,2398,2073,1812,1451,1067,672,422,303,297,345,780,1895,2643,2544,2007,2081,2207,2148,2579,2792,2955,3400,3845,3725,3561,2888,2473,1894,1296,746,448,291,331,374,819,1933,2869,2779,2262,2434,2521,2436,2278,2381,2890,3349,3500,3521,2911,2710,2400,2189,1367,811,507,367,385,382,821,1931,2705,2505,2164,1753,1909,1957,2533,2911,3271,3534,3875,3780,3425,3248,2843,2509,1834,1214,872,671,574,462,834,2047,2703,2491,2143,1975,1830,1986,2473,2805,3236,3871,4480,4690,4431,4253,4187,4191,3843,3220,2707,2083,1608,716,749,948,1362,1966,2193,2329,2279,2619,2941,3027,3285,3620,4113,4396,4281,4323,4244,4559,4278,3749,3314,2643,2038,903,621,669,899,1387,1728,1960,2077,2366,2492,2536,2672,2824,3062,2859,2524,2342,2072,1724,1828,904,571,427,474,431,920,1973,2759,2429,2176,2091,1740,1768,2025,2058,2359,2653,2928,2814,2523,2186,1765,1524],\"yaxis\":\"y\",\"type\":\"scatter\"}],                        {\"template\":{\"data\":{\"histogram2dcontour\":[{\"type\":\"histogram2dcontour\",\"colorbar\":{\"outlinewidth\":0,\"ticks\":\"\"},\"colorscale\":[[0.0,\"#0d0887\"],[0.1111111111111111,\"#46039f\"],[0.2222222222222222,\"#7201a8\"],[0.3333333333333333,\"#9c179e\"],[0.4444444444444444,\"#bd3786\"],[0.5555555555555556,\"#d8576b\"],[0.6666666666666666,\"#ed7953\"],[0.7777777777777778,\"#fb9f3a\"],[0.8888888888888888,\"#fdca26\"],[1.0,\"#f0f921\"]]}],\"choropleth\":[{\"type\":\"choropleth\",\"colorbar\":{\"outlinewidth\":0,\"ticks\":\"\"}}],\"histogram2d\":[{\"type\":\"histogram2d\",\"colorbar\":{\"outlinewidth\":0,\"ticks\":\"\"},\"colorscale\":[[0.0,\"#0d0887\"],[0.1111111111111111,\"#46039f\"],[0.2222222222222222,\"#7201a8\"],[0.3333333333333333,\"#9c179e\"],[0.4444444444444444,\"#bd3786\"],[0.5555555555555556,\"#d8576b\"],[0.6666666666666666,\"#ed7953\"],[0.7777777777777778,\"#fb9f3a\"],[0.8888888888888888,\"#fdca26\"],[1.0,\"#f0f921\"]]}],\"heatmap\":[{\"type\":\"heatmap\",\"colorbar\":{\"outlinewidth\":0,\"ticks\":\"\"},\"colorscale\":[[0.0,\"#0d0887\"],[0.1111111111111111,\"#46039f\"],[0.2222222222222222,\"#7201a8\"],[0.3333333333333333,\"#9c179e\"],[0.4444444444444444,\"#bd3786\"],[0.5555555555555556,\"#d8576b\"],[0.6666666666666666,\"#ed7953\"],[0.7777777777777778,\"#fb9f3a\"],[0.8888888888888888,\"#fdca26\"],[1.0,\"#f0f921\"]]}],\"heatmapgl\":[{\"type\":\"heatmapgl\",\"colorbar\":{\"outlinewidth\":0,\"ticks\":\"\"},\"colorscale\":[[0.0,\"#0d0887\"],[0.1111111111111111,\"#46039f\"],[0.2222222222222222,\"#7201a8\"],[0.3333333333333333,\"#9c179e\"],[0.4444444444444444,\"#bd3786\"],[0.5555555555555556,\"#d8576b\"],[0.6666666666666666,\"#ed7953\"],[0.7777777777777778,\"#fb9f3a\"],[0.8888888888888888,\"#fdca26\"],[1.0,\"#f0f921\"]]}],\"contourcarpet\":[{\"type\":\"contourcarpet\",\"colorbar\":{\"outlinewidth\":0,\"ticks\":\"\"}}],\"contour\":[{\"type\":\"contour\",\"colorbar\":{\"outlinewidth\":0,\"ticks\":\"\"},\"colorscale\":[[0.0,\"#0d0887\"],[0.1111111111111111,\"#46039f\"],[0.2222222222222222,\"#7201a8\"],[0.3333333333333333,\"#9c179e\"],[0.4444444444444444,\"#bd3786\"],[0.5555555555555556,\"#d8576b\"],[0.6666666666666666,\"#ed7953\"],[0.7777777777777778,\"#fb9f3a\"],[0.8888888888888888,\"#fdca26\"],[1.0,\"#f0f921\"]]}],\"surface\":[{\"type\":\"surface\",\"colorbar\":{\"outlinewidth\":0,\"ticks\":\"\"},\"colorscale\":[[0.0,\"#0d0887\"],[0.1111111111111111,\"#46039f\"],[0.2222222222222222,\"#7201a8\"],[0.3333333333333333,\"#9c179e\"],[0.4444444444444444,\"#bd3786\"],[0.5555555555555556,\"#d8576b\"],[0.6666666666666666,\"#ed7953\"],[0.7777777777777778,\"#fb9f3a\"],[0.8888888888888888,\"#fdca26\"],[1.0,\"#f0f921\"]]}],\"mesh3d\":[{\"type\":\"mesh3d\",\"colorbar\":{\"outlinewidth\":0,\"ticks\":\"\"}}],\"scatter\":[{\"fillpattern\":{\"fillmode\":\"overlay\",\"size\":10,\"solidity\":0.2},\"type\":\"scatter\"}],\"parcoords\":[{\"type\":\"parcoords\",\"line\":{\"colorbar\":{\"outlinewidth\":0,\"ticks\":\"\"}}}],\"scatterpolargl\":[{\"type\":\"scatterpolargl\",\"marker\":{\"colorbar\":{\"outlinewidth\":0,\"ticks\":\"\"}}}],\"bar\":[{\"error_x\":{\"color\":\"#2a3f5f\"},\"error_y\":{\"color\":\"#2a3f5f\"},\"marker\":{\"line\":{\"color\":\"white\",\"width\":0.5},\"pattern\":{\"fillmode\":\"overlay\",\"size\":10,\"solidity\":0.2}},\"type\":\"bar\"}],\"scattergeo\":[{\"type\":\"scattergeo\",\"marker\":{\"colorbar\":{\"outlinewidth\":0,\"ticks\":\"\"}}}],\"scatterpolar\":[{\"type\":\"scatterpolar\",\"marker\":{\"colorbar\":{\"outlinewidth\":0,\"ticks\":\"\"}}}],\"histogram\":[{\"marker\":{\"pattern\":{\"fillmode\":\"overlay\",\"size\":10,\"solidity\":0.2}},\"type\":\"histogram\"}],\"scattergl\":[{\"type\":\"scattergl\",\"marker\":{\"colorbar\":{\"outlinewidth\":0,\"ticks\":\"\"}}}],\"scatter3d\":[{\"type\":\"scatter3d\",\"line\":{\"colorbar\":{\"outlinewidth\":0,\"ticks\":\"\"}},\"marker\":{\"colorbar\":{\"outlinewidth\":0,\"ticks\":\"\"}}}],\"scattermapbox\":[{\"type\":\"scattermapbox\",\"marker\":{\"colorbar\":{\"outlinewidth\":0,\"ticks\":\"\"}}}],\"scatterternary\":[{\"type\":\"scatterternary\",\"marker\":{\"colorbar\":{\"outlinewidth\":0,\"ticks\":\"\"}}}],\"scattercarpet\":[{\"type\":\"scattercarpet\",\"marker\":{\"colorbar\":{\"outlinewidth\":0,\"ticks\":\"\"}}}],\"carpet\":[{\"aaxis\":{\"endlinecolor\":\"#2a3f5f\",\"gridcolor\":\"#C8D4E3\",\"linecolor\":\"#C8D4E3\",\"minorgridcolor\":\"#C8D4E3\",\"startlinecolor\":\"#2a3f5f\"},\"baxis\":{\"endlinecolor\":\"#2a3f5f\",\"gridcolor\":\"#C8D4E3\",\"linecolor\":\"#C8D4E3\",\"minorgridcolor\":\"#C8D4E3\",\"startlinecolor\":\"#2a3f5f\"},\"type\":\"carpet\"}],\"table\":[{\"cells\":{\"fill\":{\"color\":\"#EBF0F8\"},\"line\":{\"color\":\"white\"}},\"header\":{\"fill\":{\"color\":\"#C8D4E3\"},\"line\":{\"color\":\"white\"}},\"type\":\"table\"}],\"barpolar\":[{\"marker\":{\"line\":{\"color\":\"white\",\"width\":0.5},\"pattern\":{\"fillmode\":\"overlay\",\"size\":10,\"solidity\":0.2}},\"type\":\"barpolar\"}],\"pie\":[{\"automargin\":true,\"type\":\"pie\"}]},\"layout\":{\"autotypenumbers\":\"strict\",\"colorway\":[\"#636efa\",\"#EF553B\",\"#00cc96\",\"#ab63fa\",\"#FFA15A\",\"#19d3f3\",\"#FF6692\",\"#B6E880\",\"#FF97FF\",\"#FECB52\"],\"font\":{\"color\":\"#2a3f5f\"},\"hovermode\":\"closest\",\"hoverlabel\":{\"align\":\"left\"},\"paper_bgcolor\":\"white\",\"plot_bgcolor\":\"white\",\"polar\":{\"bgcolor\":\"white\",\"angularaxis\":{\"gridcolor\":\"#EBF0F8\",\"linecolor\":\"#EBF0F8\",\"ticks\":\"\"},\"radialaxis\":{\"gridcolor\":\"#EBF0F8\",\"linecolor\":\"#EBF0F8\",\"ticks\":\"\"}},\"ternary\":{\"bgcolor\":\"white\",\"aaxis\":{\"gridcolor\":\"#DFE8F3\",\"linecolor\":\"#A2B1C6\",\"ticks\":\"\"},\"baxis\":{\"gridcolor\":\"#DFE8F3\",\"linecolor\":\"#A2B1C6\",\"ticks\":\"\"},\"caxis\":{\"gridcolor\":\"#DFE8F3\",\"linecolor\":\"#A2B1C6\",\"ticks\":\"\"}},\"coloraxis\":{\"colorbar\":{\"outlinewidth\":0,\"ticks\":\"\"}},\"colorscale\":{\"sequential\":[[0.0,\"#0d0887\"],[0.1111111111111111,\"#46039f\"],[0.2222222222222222,\"#7201a8\"],[0.3333333333333333,\"#9c179e\"],[0.4444444444444444,\"#bd3786\"],[0.5555555555555556,\"#d8576b\"],[0.6666666666666666,\"#ed7953\"],[0.7777777777777778,\"#fb9f3a\"],[0.8888888888888888,\"#fdca26\"],[1.0,\"#f0f921\"]],\"sequentialminus\":[[0.0,\"#0d0887\"],[0.1111111111111111,\"#46039f\"],[0.2222222222222222,\"#7201a8\"],[0.3333333333333333,\"#9c179e\"],[0.4444444444444444,\"#bd3786\"],[0.5555555555555556,\"#d8576b\"],[0.6666666666666666,\"#ed7953\"],[0.7777777777777778,\"#fb9f3a\"],[0.8888888888888888,\"#fdca26\"],[1.0,\"#f0f921\"]],\"diverging\":[[0,\"#8e0152\"],[0.1,\"#c51b7d\"],[0.2,\"#de77ae\"],[0.3,\"#f1b6da\"],[0.4,\"#fde0ef\"],[0.5,\"#f7f7f7\"],[0.6,\"#e6f5d0\"],[0.7,\"#b8e186\"],[0.8,\"#7fbc41\"],[0.9,\"#4d9221\"],[1,\"#276419\"]]},\"xaxis\":{\"gridcolor\":\"#EBF0F8\",\"linecolor\":\"#EBF0F8\",\"ticks\":\"\",\"title\":{\"standoff\":15},\"zerolinecolor\":\"#EBF0F8\",\"automargin\":true,\"zerolinewidth\":2},\"yaxis\":{\"gridcolor\":\"#EBF0F8\",\"linecolor\":\"#EBF0F8\",\"ticks\":\"\",\"title\":{\"standoff\":15},\"zerolinecolor\":\"#EBF0F8\",\"automargin\":true,\"zerolinewidth\":2},\"scene\":{\"xaxis\":{\"backgroundcolor\":\"white\",\"gridcolor\":\"#DFE8F3\",\"linecolor\":\"#EBF0F8\",\"showbackground\":true,\"ticks\":\"\",\"zerolinecolor\":\"#EBF0F8\",\"gridwidth\":2},\"yaxis\":{\"backgroundcolor\":\"white\",\"gridcolor\":\"#DFE8F3\",\"linecolor\":\"#EBF0F8\",\"showbackground\":true,\"ticks\":\"\",\"zerolinecolor\":\"#EBF0F8\",\"gridwidth\":2},\"zaxis\":{\"backgroundcolor\":\"white\",\"gridcolor\":\"#DFE8F3\",\"linecolor\":\"#EBF0F8\",\"showbackground\":true,\"ticks\":\"\",\"zerolinecolor\":\"#EBF0F8\",\"gridwidth\":2}},\"shapedefaults\":{\"line\":{\"color\":\"#2a3f5f\"}},\"annotationdefaults\":{\"arrowcolor\":\"#2a3f5f\",\"arrowhead\":0,\"arrowwidth\":1},\"geo\":{\"bgcolor\":\"white\",\"landcolor\":\"white\",\"subunitcolor\":\"#C8D4E3\",\"showland\":true,\"showlakes\":true,\"lakecolor\":\"white\"},\"title\":{\"x\":0.05},\"mapbox\":{\"style\":\"light\"}}},\"xaxis\":{\"anchor\":\"y\",\"domain\":[0.0,1.0],\"title\":{\"text\":\"pickup_hour\"}},\"yaxis\":{\"anchor\":\"x\",\"domain\":[0.0,1.0],\"title\":{\"text\":\"num_trips\"}},\"legend\":{\"tracegroupgap\":0},\"margin\":{\"t\":60}},                        {\"responsive\": true}                    ).then(function(){\n",
              "                            \n",
              "var gd = document.getElementById('9f8d75f5-53fc-4aa4-887c-0f11d6162b64');\n",
              "var x = new MutationObserver(function (mutations, observer) {{\n",
              "        var display = window.getComputedStyle(gd).display;\n",
              "        if (!display || display === 'none') {{\n",
              "            console.log([gd, 'removed!']);\n",
              "            Plotly.purge(gd);\n",
              "            observer.disconnect();\n",
              "        }}\n",
              "}});\n",
              "\n",
              "// Listen for the removal of the full notebook cells\n",
              "var notebookContainer = gd.closest('#notebook-container');\n",
              "if (notebookContainer) {{\n",
              "    x.observe(notebookContainer, {childList: true});\n",
              "}}\n",
              "\n",
              "// Listen for the clearing of the current output cell\n",
              "var outputEl = gd.closest('.output');\n",
              "if (outputEl) {{\n",
              "    x.observe(outputEl, {childList: true});\n",
              "}}\n",
              "\n",
              "                        })                };                            </script>        </div>\n",
              "</body>\n",
              "</html>"
            ]
          },
          "metadata": {}
        }
      ]
    },
    {
      "cell_type": "markdown",
      "source": [
        "### 4.4 Checking the PACF Plot for Verification"
      ],
      "metadata": {
        "id": "jWKw6hEjZ6E8"
      }
    },
    {
      "cell_type": "code",
      "source": [
        "from statsmodels.graphics.tsaplots import plot_pacf"
      ],
      "metadata": {
        "id": "G6JFxfI2Z9_b"
      },
      "execution_count": 27,
      "outputs": []
    },
    {
      "cell_type": "code",
      "source": [
        "plot_pacf(train_data['y'], lags=12)\n",
        "plt.xlabel('Lag')\n",
        "plt.ylabel('Partial Autocorrelation')\n",
        "plt.show()\n",
        "\n",
        "# We can see that the those who have significant impact based on lags of 12 is 1,2,3,4,10.\n",
        "# Thou if I choose 10 as our parameter in AR it would have too much parameter.\n",
        "# We want to take the lower our Number of Parameter. Our goal is to make it Simple as it can be."
      ],
      "metadata": {
        "colab": {
          "base_uri": "https://localhost:8080/",
          "height": 472
        },
        "id": "2KU39nJmaHm2",
        "outputId": "a13cbdfa-26ff-47c4-dc9d-bd393e2c6eb3"
      },
      "execution_count": 118,
      "outputs": [
        {
          "output_type": "display_data",
          "data": {
            "text/plain": [
              "<Figure size 640x480 with 1 Axes>"
            ],
            "image/png": "[encoded data removed]"
          },
          "metadata": {}
        }
      ]
    },
    {
      "cell_type": "markdown",
      "source": [
        "### 4.5 Performing Auto ARIMA to find the best p, q, d values with the lowest AIC"
      ],
      "metadata": {
        "id": "g_ssxQMTNLD4"
      }
    },
    {
      "cell_type": "code",
      "source": [
        "from pmdarima import auto_arima\n",
        "\n",
        "# Ignore harmless warnings\n",
        "import warnings\n",
        "warnings.filterwarnings(\"ignore\")\n",
        "\n",
        "# The 'm' parameter in auto_arima represents the frequency of the seasonal component.\n",
        "# m=12 suggests a yearly seasonality with 12 periods (months) in a year.\n",
        "# m=24 suggests a yearly seasonality with 24 periods (hours) in a day.\n",
        "\n",
        "# In general:\n",
        "# - m=12 might be suitable if you expect a seasonal pattern with a yearly cycle (e.g., more trips in summer).\n",
        "# - m=24 might be suitable if you expect a seasonal pattern with a daily cycle (e.g., more trips during rush hour).\n",
        "\n",
        "# Comparing the AIC (Akaike Information Criterion) values of both models can help determine which model is a better fit.\n",
        "# A lower AIC indicates a better model.\n",
        "\n",
        "# Note:AIC = 2k - 2l  Where k = number of parameters and l = log likelihood\n",
        "\n",
        "# Fit auto_arima function to  dataset\n",
        "stepwise_fit = auto_arima(train_data['y'], start_p = 1, start_q = 1,\n",
        "                          max_p = 3, max_q = 3, m = 24,\n",
        "                          seasonal = True,\n",
        "                          D = 1, trace = True,\n",
        "                          error_action ='ignore',   # we don't want to know if an order does not work\n",
        "                          suppress_warnings = True,  # we don't want convergence warnings\n",
        "                          stepwise = True)           # set to stepwise\n",
        "\n",
        "\n"
      ],
      "metadata": {
        "colab": {
          "base_uri": "https://localhost:8080/",
          "height": 0
        },
        "id": "d4ILLNBjQDZz",
        "outputId": "c287ff0c-30c5-4db7-ca0e-9897e3d72015"
      },
      "execution_count": 19,
      "outputs": [
        {
          "output_type": "stream",
          "name": "stdout",
          "text": [
            "Performing stepwise search to minimize aic\n",
            " ARIMA(1,0,1)(1,1,1)[24] intercept   : AIC=inf, Time=22.46 sec\n",
            " ARIMA(0,0,0)(0,1,0)[24] intercept   : AIC=3909.041, Time=0.26 sec\n",
            " ARIMA(1,0,0)(1,1,0)[24] intercept   : AIC=3511.069, Time=14.97 sec\n",
            " ARIMA(0,0,1)(0,1,1)[24] intercept   : AIC=3676.897, Time=8.07 sec\n",
            " ARIMA(0,0,0)(0,1,0)[24]             : AIC=3909.636, Time=0.10 sec\n",
            " ARIMA(1,0,0)(0,1,0)[24] intercept   : AIC=3519.032, Time=0.67 sec\n",
            " ARIMA(1,0,0)(2,1,0)[24] intercept   : AIC=3497.134, Time=12.96 sec\n",
            " ARIMA(1,0,0)(2,1,1)[24] intercept   : AIC=inf, Time=25.90 sec\n",
            " ARIMA(1,0,0)(1,1,1)[24] intercept   : AIC=inf, Time=10.06 sec\n",
            " ARIMA(0,0,0)(2,1,0)[24] intercept   : AIC=3872.835, Time=6.47 sec\n",
            " ARIMA(2,0,0)(2,1,0)[24] intercept   : AIC=3419.099, Time=15.01 sec\n",
            " ARIMA(2,0,0)(1,1,0)[24] intercept   : AIC=3438.898, Time=8.21 sec\n",
            " ARIMA(2,0,0)(2,1,1)[24] intercept   : AIC=inf, Time=28.62 sec\n",
            " ARIMA(2,0,0)(1,1,1)[24] intercept   : AIC=inf, Time=6.21 sec\n",
            " ARIMA(3,0,0)(2,1,0)[24] intercept   : AIC=3420.129, Time=21.83 sec\n",
            " ARIMA(2,0,1)(2,1,0)[24] intercept   : AIC=3420.146, Time=27.50 sec\n",
            " ARIMA(1,0,1)(2,1,0)[24] intercept   : AIC=3436.407, Time=14.64 sec\n",
            " ARIMA(3,0,1)(2,1,0)[24] intercept   : AIC=3422.141, Time=32.17 sec\n",
            " ARIMA(2,0,0)(2,1,0)[24]             : AIC=3418.237, Time=5.19 sec\n",
            " ARIMA(2,0,0)(1,1,0)[24]             : AIC=3437.549, Time=3.09 sec\n",
            " ARIMA(2,0,0)(2,1,1)[24]             : AIC=inf, Time=25.13 sec\n",
            " ARIMA(2,0,0)(1,1,1)[24]             : AIC=inf, Time=9.90 sec\n",
            " ARIMA(1,0,0)(2,1,0)[24]             : AIC=3495.359, Time=4.24 sec\n",
            " ARIMA(3,0,0)(2,1,0)[24]             : AIC=3419.144, Time=9.52 sec\n",
            " ARIMA(2,0,1)(2,1,0)[24]             : AIC=3419.219, Time=8.72 sec\n",
            " ARIMA(1,0,1)(2,1,0)[24]             : AIC=3434.823, Time=6.74 sec\n",
            " ARIMA(3,0,1)(2,1,0)[24]             : AIC=3419.002, Time=19.19 sec\n",
            "\n",
            "Best model:  ARIMA(2,0,0)(2,1,0)[24]          \n",
            "Total fit time: 347.943 seconds\n"
          ]
        }
      ]
    },
    {
      "cell_type": "markdown",
      "source": [
        "### 4.6 Checking the Summary"
      ],
      "metadata": {
        "id": "FDG3MVdUNNmM"
      }
    },
    {
      "cell_type": "code",
      "source": [
        "summary = stepwise_fit.summary()\n",
        "\n",
        "# Convert the summary to a string and split it by lines\n",
        "summary_str = str(summary)\n",
        "summary_lines = summary_str.splitlines()\n",
        "\n",
        "filtered_summary = \"\\n\".join([line for line in summary_lines if\n",
        "                                   \"inf\" not in line\n",
        "                              and 'HQIC' not in line\n",
        "                              and 'Ljung-Box (L1) (Q):' not in line\n",
        "                              and 'Prob(Q):'not in line\n",
        "                              and 'Heteroskedasticity (H):' not in line\n",
        "                              and 'Prob(H) (two-sided):' not in line])\n",
        "\n",
        "# Print the filtered summary\n",
        "print(filtered_summary)\n"
      ],
      "metadata": {
        "colab": {
          "base_uri": "https://localhost:8080/",
          "height": 0
        },
        "id": "uLnYEjX0gEXg",
        "outputId": "8182dca5-d40c-4f7c-f354-97a835dfc394"
      },
      "execution_count": 20,
      "outputs": [
        {
          "output_type": "stream",
          "name": "stdout",
          "text": [
            "                                     SARIMAX Results                                      \n",
            "==========================================================================================\n",
            "Dep. Variable:                                  y   No. Observations:                  274\n",
            "Model:             SARIMAX(2, 0, 0)x(2, 1, 0, 24)   Log Likelihood               -1704.118\n",
            "Date:                            Wed, 18 Sep 2024   AIC                           3418.237\n",
            "Time:                                    16:07:16   BIC                           3435.844\n",
            "                                            - 274                                         \n",
            "Covariance Type:                              opg                                         \n",
            "==============================================================================\n",
            "                 coef    std err          z      P>|z|      [0.025      0.975]\n",
            "------------------------------------------------------------------------------\n",
            "ar.L1          1.4070      0.040     34.946      0.000       1.328       1.486\n",
            "ar.L2         -0.5325      0.041    -12.993      0.000      -0.613      -0.452\n",
            "ar.S.L24      -0.3815      0.048     -8.013      0.000      -0.475      -0.288\n",
            "ar.S.L48      -0.2712      0.063     -4.286      0.000      -0.395      -0.147\n",
            "sigma2      4.656e+04   2418.679     19.249      0.000    4.18e+04    5.13e+04\n",
            "===================================================================================\n",
            "===================================================================================\n",
            "\n",
            "Warnings:\n",
            "[1] Covariance matrix calculated using the outer product of gradients (complex-step).\n"
          ]
        }
      ]
    },
    {
      "cell_type": "markdown",
      "source": [
        "### 4.7 Fitting the Model"
      ],
      "metadata": {
        "id": "wLQQI8HvNTjI"
      }
    },
    {
      "cell_type": "code",
      "source": [
        "from statsmodels.tsa.statespace.sarimax import SARIMAX\n",
        "model = SARIMAX(train_data['y'],\n",
        "                order = (2, 0, 0),\n",
        "                seasonal_order =(2, 1, 0, 24))\n",
        "\n",
        "result = model.fit()"
      ],
      "metadata": {
        "id": "DEQM9htgkYIR"
      },
      "execution_count": 29,
      "outputs": []
    },
    {
      "cell_type": "markdown",
      "source": [
        "### 4.8 Plotting the Actual vs the Predicted"
      ],
      "metadata": {
        "id": "f39YhorKNWHi"
      }
    },
    {
      "cell_type": "code",
      "source": [
        "#ode : Predictions of ARIMA Model against the test set\n",
        "\n",
        "start = len(train_data)\n",
        "end =  start + len(test_data) - 1\n",
        "\n",
        "# Predictions for one-year against the test set\n",
        "predictions = result.predict(start, end,\n",
        "                             typ = 'levels').rename(\"Predictions\")\n",
        "\n",
        "fig = go.Figure()\n",
        "fig.add_trace(\n",
        "    go.Scatter(\n",
        "        x=test_data['ds'],\n",
        "        y=test_data['y'],\n",
        "        mode='lines',\n",
        "        line=dict(color='navy', width=2.5),\n",
        "        name='Actual'\n",
        "    )\n",
        ")\n",
        "fig.add_trace(\n",
        "    go.Scatter(\n",
        "        x=test_data['ds'],\n",
        "        y=predictions,\n",
        "        mode='lines',\n",
        "        line=dict(color='orange', width=1.5),\n",
        "        name='Predicted',\n",
        "    )\n",
        ")"
      ],
      "metadata": {
        "colab": {
          "base_uri": "https://localhost:8080/",
          "height": 701
        },
        "id": "_08wF3Tbkxru",
        "outputId": "c7f7752d-d768-4744-9cc8-30bdd296a243"
      },
      "execution_count": 30,
      "outputs": [
        {
          "output_type": "stream",
          "name": "stderr",
          "text": [
            "/usr/local/lib/python3.10/dist-packages/statsmodels/tsa/statespace/representation.py:374: FutureWarning:\n",
            "\n",
            "Unknown keyword arguments: dict_keys(['typ']).Passing unknown keyword arguments will raise a TypeError beginning in version 0.15.\n",
            "\n",
            "/usr/local/lib/python3.10/dist-packages/_plotly_utils/basevalidators.py:105: FutureWarning:\n",
            "\n",
            "The behavior of DatetimeProperties.to_pydatetime is deprecated, in a future version this will return a Series containing python datetime objects instead of an ndarray. To retain the old behavior, call `np.array` on the result\n",
            "\n"
          ]
        },
        {
          "output_type": "display_data",
          "data": {
            "text/html": [
              "<html>\n",
              "<head><meta charset=\"utf-8\" /></head>\n",
              "<body>\n",
              "    <div>            <script src=\"https://cdnjs.cloudflare.com/ajax/libs/mathjax/2.7.5/MathJax.js?config=TeX-AMS-MML_SVG\"></script><script type=\"text/javascript\">if (window.MathJax && window.MathJax.Hub && window.MathJax.Hub.Config) {window.MathJax.Hub.Config({SVG: {font: \"STIX-Web\"}});}</script>                <script type=\"text/javascript\">window.PlotlyConfig = {MathJaxConfig: 'local'};</script>\n",
              "        <script charset=\"utf-8\" src=\"https://cdn.plot.ly/plotly-2.24.1.min.js\"></script>                <div id=\"ae8d9e15-d981-4e4d-9e6a-f5f70145b585\" class=\"plotly-graph-div\" style=\"height:525px; width:100%;\"></div>            <script type=\"text/javascript\">                                    window.PLOTLYENV=window.PLOTLYENV || {};                                    if (document.getElementById(\"ae8d9e15-d981-4e4d-9e6a-f5f70145b585\")) {                    Plotly.newPlot(                        \"ae8d9e15-d981-4e4d-9e6a-f5f70145b585\",                        [{\"line\":{\"color\":\"navy\",\"width\":2.5},\"mode\":\"lines\",\"name\":\"Actual\",\"x\":[\"2016-02-12T10:00:00\",\"2016-02-12T11:00:00\",\"2016-02-12T12:00:00\",\"2016-02-12T13:00:00\",\"2016-02-12T14:00:00\",\"2016-02-12T15:00:00\",\"2016-02-12T16:00:00\",\"2016-02-12T17:00:00\",\"2016-02-12T18:00:00\",\"2016-02-12T19:00:00\",\"2016-02-12T20:00:00\",\"2016-02-12T21:00:00\",\"2016-02-12T22:00:00\",\"2016-02-12T23:00:00\",\"2016-02-13T00:00:00\",\"2016-02-13T01:00:00\",\"2016-02-13T02:00:00\",\"2016-02-13T03:00:00\",\"2016-02-13T04:00:00\",\"2016-02-13T05:00:00\",\"2016-02-13T06:00:00\",\"2016-02-13T07:00:00\",\"2016-02-13T08:00:00\",\"2016-02-13T09:00:00\",\"2016-02-13T10:00:00\",\"2016-02-13T11:00:00\",\"2016-02-13T12:00:00\",\"2016-02-13T13:00:00\",\"2016-02-13T14:00:00\",\"2016-02-13T15:00:00\",\"2016-02-13T16:00:00\",\"2016-02-13T17:00:00\",\"2016-02-13T18:00:00\",\"2016-02-13T19:00:00\",\"2016-02-13T20:00:00\",\"2016-02-13T21:00:00\",\"2016-02-13T22:00:00\",\"2016-02-13T23:00:00\",\"2016-02-14T00:00:00\",\"2016-02-14T01:00:00\",\"2016-02-14T02:00:00\",\"2016-02-14T03:00:00\",\"2016-02-14T04:00:00\",\"2016-02-14T05:00:00\",\"2016-02-14T06:00:00\",\"2016-02-14T07:00:00\",\"2016-02-14T08:00:00\",\"2016-02-14T09:00:00\",\"2016-02-14T10:00:00\",\"2016-02-14T11:00:00\",\"2016-02-14T12:00:00\",\"2016-02-14T13:00:00\",\"2016-02-14T14:00:00\",\"2016-02-14T15:00:00\",\"2016-02-14T16:00:00\",\"2016-02-14T17:00:00\",\"2016-02-14T18:00:00\",\"2016-02-14T19:00:00\",\"2016-02-14T20:00:00\",\"2016-02-14T21:00:00\",\"2016-02-14T22:00:00\",\"2016-02-14T23:00:00\",\"2016-02-15T00:00:00\",\"2016-02-15T01:00:00\",\"2016-02-15T02:00:00\",\"2016-02-15T03:00:00\",\"2016-02-15T04:00:00\",\"2016-02-15T05:00:00\",\"2016-02-15T06:00:00\",\"2016-02-15T07:00:00\",\"2016-02-15T08:00:00\",\"2016-02-15T09:00:00\",\"2016-02-15T10:00:00\",\"2016-02-15T11:00:00\",\"2016-02-15T12:00:00\",\"2016-02-15T13:00:00\",\"2016-02-15T14:00:00\",\"2016-02-15T15:00:00\",\"2016-02-15T16:00:00\",\"2016-02-15T17:00:00\",\"2016-02-15T18:00:00\",\"2016-02-15T19:00:00\",\"2016-02-15T20:00:00\",\"2016-02-15T21:00:00\",\"2016-02-15T22:00:00\",\"2016-02-15T23:00:00\",\"2016-02-16T00:00:00\",\"2016-02-16T01:00:00\",\"2016-02-16T02:00:00\",\"2016-02-16T03:00:00\",\"2016-02-16T04:00:00\",\"2016-02-16T05:00:00\",\"2016-02-16T06:00:00\",\"2016-02-16T07:00:00\",\"2016-02-16T08:00:00\",\"2016-02-16T09:00:00\",\"2016-02-16T10:00:00\",\"2016-02-16T11:00:00\",\"2016-02-16T12:00:00\",\"2016-02-16T13:00:00\",\"2016-02-16T14:00:00\",\"2016-02-16T15:00:00\",\"2016-02-16T16:00:00\",\"2016-02-16T17:00:00\",\"2016-02-16T18:00:00\",\"2016-02-16T19:00:00\",\"2016-02-16T20:00:00\",\"2016-02-16T21:00:00\",\"2016-02-16T22:00:00\",\"2016-02-16T23:00:00\",\"2016-02-17T00:00:00\",\"2016-02-17T01:00:00\",\"2016-02-17T02:00:00\",\"2016-02-17T03:00:00\",\"2016-02-17T04:00:00\",\"2016-02-17T05:00:00\",\"2016-02-17T06:00:00\",\"2016-02-17T07:00:00\",\"2016-02-17T08:00:00\",\"2016-02-17T09:00:00\",\"2016-02-17T10:00:00\",\"2016-02-17T11:00:00\",\"2016-02-17T12:00:00\",\"2016-02-17T13:00:00\",\"2016-02-17T14:00:00\",\"2016-02-17T15:00:00\",\"2016-02-17T16:00:00\",\"2016-02-17T17:00:00\",\"2016-02-17T18:00:00\",\"2016-02-17T19:00:00\",\"2016-02-17T20:00:00\",\"2016-02-17T21:00:00\",\"2016-02-17T22:00:00\",\"2016-02-17T23:00:00\",\"2016-02-18T00:00:00\",\"2016-02-18T01:00:00\",\"2016-02-18T02:00:00\",\"2016-02-18T03:00:00\",\"2016-02-18T04:00:00\",\"2016-02-18T05:00:00\",\"2016-02-18T06:00:00\",\"2016-02-18T07:00:00\",\"2016-02-18T08:00:00\",\"2016-02-18T09:00:00\",\"2016-02-18T10:00:00\",\"2016-02-18T11:00:00\",\"2016-02-18T12:00:00\",\"2016-02-18T13:00:00\",\"2016-02-18T14:00:00\",\"2016-02-18T15:00:00\",\"2016-02-18T16:00:00\",\"2016-02-18T17:00:00\",\"2016-02-18T18:00:00\",\"2016-02-18T19:00:00\",\"2016-02-18T20:00:00\",\"2016-02-18T21:00:00\",\"2016-02-18T22:00:00\",\"2016-02-18T23:00:00\",\"2016-02-19T00:00:00\",\"2016-02-19T01:00:00\",\"2016-02-19T02:00:00\",\"2016-02-19T03:00:00\",\"2016-02-19T04:00:00\",\"2016-02-19T05:00:00\",\"2016-02-19T06:00:00\",\"2016-02-19T07:00:00\",\"2016-02-19T08:00:00\",\"2016-02-19T09:00:00\",\"2016-02-19T10:00:00\",\"2016-02-19T11:00:00\",\"2016-02-19T12:00:00\",\"2016-02-19T13:00:00\",\"2016-02-19T14:00:00\",\"2016-02-19T15:00:00\",\"2016-02-19T16:00:00\",\"2016-02-19T17:00:00\",\"2016-02-19T18:00:00\",\"2016-02-19T19:00:00\",\"2016-02-19T20:00:00\",\"2016-02-19T21:00:00\",\"2016-02-19T22:00:00\",\"2016-02-19T23:00:00\",\"2016-02-20T00:00:00\",\"2016-02-20T01:00:00\",\"2016-02-20T02:00:00\",\"2016-02-20T03:00:00\",\"2016-02-20T04:00:00\",\"2016-02-20T05:00:00\",\"2016-02-20T06:00:00\",\"2016-02-20T07:00:00\",\"2016-02-20T08:00:00\",\"2016-02-20T09:00:00\",\"2016-02-20T10:00:00\",\"2016-02-20T11:00:00\",\"2016-02-20T12:00:00\",\"2016-02-20T13:00:00\",\"2016-02-20T14:00:00\",\"2016-02-20T15:00:00\",\"2016-02-20T16:00:00\",\"2016-02-20T17:00:00\",\"2016-02-20T18:00:00\",\"2016-02-20T19:00:00\",\"2016-02-20T20:00:00\",\"2016-02-20T21:00:00\",\"2016-02-20T22:00:00\",\"2016-02-20T23:00:00\",\"2016-02-21T00:00:00\",\"2016-02-21T01:00:00\",\"2016-02-21T02:00:00\",\"2016-02-21T03:00:00\",\"2016-02-21T04:00:00\",\"2016-02-21T05:00:00\",\"2016-02-21T06:00:00\",\"2016-02-21T07:00:00\",\"2016-02-21T08:00:00\",\"2016-02-21T09:00:00\",\"2016-02-21T10:00:00\",\"2016-02-21T11:00:00\",\"2016-02-21T12:00:00\",\"2016-02-21T13:00:00\",\"2016-02-21T14:00:00\",\"2016-02-21T15:00:00\",\"2016-02-21T16:00:00\",\"2016-02-21T17:00:00\",\"2016-02-21T18:00:00\",\"2016-02-21T19:00:00\",\"2016-02-21T20:00:00\",\"2016-02-21T21:00:00\",\"2016-02-21T22:00:00\",\"2016-02-21T23:00:00\",\"2016-02-22T00:00:00\",\"2016-02-22T01:00:00\",\"2016-02-22T02:00:00\",\"2016-02-22T03:00:00\",\"2016-02-22T04:00:00\",\"2016-02-22T05:00:00\",\"2016-02-22T06:00:00\",\"2016-02-22T07:00:00\",\"2016-02-22T08:00:00\",\"2016-02-22T09:00:00\",\"2016-02-22T10:00:00\",\"2016-02-22T11:00:00\",\"2016-02-22T12:00:00\",\"2016-02-22T13:00:00\",\"2016-02-22T14:00:00\",\"2016-02-22T15:00:00\",\"2016-02-22T16:00:00\",\"2016-02-22T17:00:00\",\"2016-02-22T18:00:00\",\"2016-02-22T19:00:00\",\"2016-02-22T20:00:00\",\"2016-02-22T21:00:00\",\"2016-02-22T22:00:00\",\"2016-02-22T23:00:00\",\"2016-02-23T00:00:00\",\"2016-02-23T01:00:00\",\"2016-02-23T02:00:00\",\"2016-02-23T03:00:00\",\"2016-02-23T04:00:00\",\"2016-02-23T05:00:00\",\"2016-02-23T06:00:00\",\"2016-02-23T07:00:00\",\"2016-02-23T08:00:00\",\"2016-02-23T09:00:00\",\"2016-02-23T10:00:00\",\"2016-02-23T11:00:00\",\"2016-02-23T12:00:00\",\"2016-02-23T13:00:00\",\"2016-02-23T14:00:00\",\"2016-02-23T15:00:00\",\"2016-02-23T16:00:00\",\"2016-02-23T17:00:00\",\"2016-02-23T18:00:00\",\"2016-02-23T19:00:00\",\"2016-02-23T20:00:00\",\"2016-02-23T21:00:00\",\"2016-02-23T22:00:00\",\"2016-02-23T23:00:00\",\"2016-02-24T00:00:00\",\"2016-02-24T01:00:00\",\"2016-02-24T02:00:00\",\"2016-02-24T03:00:00\",\"2016-02-24T04:00:00\",\"2016-02-24T05:00:00\",\"2016-02-24T06:00:00\",\"2016-02-24T07:00:00\",\"2016-02-24T08:00:00\",\"2016-02-24T09:00:00\",\"2016-02-24T10:00:00\",\"2016-02-24T11:00:00\",\"2016-02-24T12:00:00\",\"2016-02-24T13:00:00\",\"2016-02-24T14:00:00\",\"2016-02-24T15:00:00\",\"2016-02-24T16:00:00\",\"2016-02-24T17:00:00\",\"2016-02-24T18:00:00\",\"2016-02-24T19:00:00\",\"2016-02-24T20:00:00\",\"2016-02-24T21:00:00\",\"2016-02-24T22:00:00\",\"2016-02-24T23:00:00\",\"2016-02-25T00:00:00\",\"2016-02-25T01:00:00\",\"2016-02-25T02:00:00\",\"2016-02-25T03:00:00\",\"2016-02-25T04:00:00\",\"2016-02-25T05:00:00\",\"2016-02-25T06:00:00\",\"2016-02-25T07:00:00\",\"2016-02-25T08:00:00\",\"2016-02-25T09:00:00\",\"2016-02-25T10:00:00\",\"2016-02-25T11:00:00\",\"2016-02-25T12:00:00\",\"2016-02-25T13:00:00\",\"2016-02-25T14:00:00\",\"2016-02-25T15:00:00\",\"2016-02-25T16:00:00\",\"2016-02-25T17:00:00\",\"2016-02-25T18:00:00\",\"2016-02-25T19:00:00\",\"2016-02-25T20:00:00\",\"2016-02-25T21:00:00\",\"2016-02-25T22:00:00\",\"2016-02-25T23:00:00\",\"2016-02-26T00:00:00\",\"2016-02-26T01:00:00\",\"2016-02-26T02:00:00\",\"2016-02-26T03:00:00\",\"2016-02-26T04:00:00\",\"2016-02-26T05:00:00\",\"2016-02-26T06:00:00\",\"2016-02-26T07:00:00\",\"2016-02-26T08:00:00\",\"2016-02-26T09:00:00\",\"2016-02-26T10:00:00\",\"2016-02-26T11:00:00\",\"2016-02-26T12:00:00\",\"2016-02-26T13:00:00\",\"2016-02-26T14:00:00\",\"2016-02-26T15:00:00\",\"2016-02-26T16:00:00\",\"2016-02-26T17:00:00\",\"2016-02-26T18:00:00\",\"2016-02-26T19:00:00\",\"2016-02-26T20:00:00\",\"2016-02-26T21:00:00\",\"2016-02-26T22:00:00\",\"2016-02-26T23:00:00\",\"2016-02-27T00:00:00\",\"2016-02-27T01:00:00\",\"2016-02-27T02:00:00\",\"2016-02-27T03:00:00\",\"2016-02-27T04:00:00\",\"2016-02-27T05:00:00\",\"2016-02-27T06:00:00\",\"2016-02-27T07:00:00\",\"2016-02-27T08:00:00\",\"2016-02-27T09:00:00\",\"2016-02-27T10:00:00\",\"2016-02-27T11:00:00\",\"2016-02-27T12:00:00\",\"2016-02-27T13:00:00\",\"2016-02-27T14:00:00\",\"2016-02-27T15:00:00\",\"2016-02-27T16:00:00\",\"2016-02-27T17:00:00\",\"2016-02-27T18:00:00\",\"2016-02-27T19:00:00\",\"2016-02-27T20:00:00\",\"2016-02-27T21:00:00\",\"2016-02-27T22:00:00\",\"2016-02-27T23:00:00\",\"2016-02-28T00:00:00\",\"2016-02-28T01:00:00\",\"2016-02-28T02:00:00\",\"2016-02-28T03:00:00\",\"2016-02-28T04:00:00\",\"2016-02-28T05:00:00\",\"2016-02-28T06:00:00\",\"2016-02-28T07:00:00\",\"2016-02-28T08:00:00\",\"2016-02-28T09:00:00\",\"2016-02-28T10:00:00\",\"2016-02-28T11:00:00\",\"2016-02-28T12:00:00\",\"2016-02-28T13:00:00\",\"2016-02-28T14:00:00\",\"2016-02-28T15:00:00\",\"2016-02-28T16:00:00\",\"2016-02-28T17:00:00\",\"2016-02-28T18:00:00\",\"2016-02-28T19:00:00\",\"2016-02-28T20:00:00\",\"2016-02-28T21:00:00\",\"2016-02-28T22:00:00\",\"2016-02-28T23:00:00\",\"2016-02-29T00:00:00\",\"2016-02-29T01:00:00\",\"2016-02-29T02:00:00\",\"2016-02-29T03:00:00\",\"2016-02-29T04:00:00\",\"2016-02-29T05:00:00\",\"2016-02-29T06:00:00\",\"2016-02-29T07:00:00\",\"2016-02-29T08:00:00\",\"2016-02-29T09:00:00\",\"2016-02-29T10:00:00\",\"2016-02-29T11:00:00\",\"2016-02-29T12:00:00\",\"2016-02-29T13:00:00\",\"2016-02-29T14:00:00\",\"2016-02-29T15:00:00\",\"2016-02-29T16:00:00\",\"2016-02-29T17:00:00\",\"2016-02-29T18:00:00\",\"2016-02-29T19:00:00\",\"2016-02-29T20:00:00\",\"2016-02-29T21:00:00\",\"2016-02-29T22:00:00\",\"2016-02-29T23:00:00\"],\"y\":[2311,2175,2024,2106,2716,3009,3517,4040,4564,4725,4432,4048,3870,3828,3736,3164,2686,2076,1517,774,619,813,1269,1958,2139,2502,2714,2926,3155,3384,3957,4199,4824,5124,4721,4295,3947,4153,3511,2738,2216,1752,1348,646,601,675,954,1365,1837,2267,2447,2694,2793,2946,3273,3480,3861,3934,3562,3140,3015,2847,2294,1667,1181,927,791,601,713,1038,1598,1949,1864,1876,1961,2169,2368,2646,2706,2522,2695,2554,2437,2115,1989,1608,1047,633,444,264,303,391,700,1426,2338,2648,2037,1941,2094,2515,2855,2340,2246,2540,2923,2810,2473,2200,1911,1600,1242,854,534,329,344,352,708,1446,2313,2336,2111,2016,1987,2046,2214,2460,2689,2912,3323,3360,2858,2663,2313,2056,1514,973,645,446,401,358,703,1543,2436,2537,2200,2064,1975,2145,2169,2421,2926,3291,3858,3762,3416,3264,2936,2629,1871,1329,953,685,536,422,762,1597,2514,2541,2163,1974,1892,1895,2298,2618,3269,3639,4294,4314,3938,3854,3776,3870,3781,3298,2694,2277,1646,824,687,964,1350,1788,2079,2301,2465,2663,2752,2885,3297,3502,4045,4264,4131,4108,4242,4470,4212,3872,3265,2762,2018,951,684,702,954,1390,1741,1990,2113,2359,2424,2592,2781,2972,3292,2873,2812,2510,2186,1687,1216,822,494,301,448,428,870,1957,2582,2368,1971,1740,1612,1711,1985,2100,2373,2699,2961,2807,2398,2073,1812,1451,1067,672,422,303,297,345,780,1895,2643,2544,2007,2081,2207,2148,2579,2792,2955,3400,3845,3725,3561,2888,2473,1894,1296,746,448,291,331,374,819,1933,2869,2779,2262,2434,2521,2436,2278,2381,2890,3349,3500,3521,2911,2710,2400,2189,1367,811,507,367,385,382,821,1931,2705,2505,2164,1753,1909,1957,2533,2911,3271,3534,3875,3780,3425,3248,2843,2509,1834,1214,872,671,574,462,834,2047,2703,2491,2143,1975,1830,1986,2473,2805,3236,3871,4480,4690,4431,4253,4187,4191,3843,3220,2707,2083,1608,716,749,948,1362,1966,2193,2329,2279,2619,2941,3027,3285,3620,4113,4396,4281,4323,4244,4559,4278,3749,3314,2643,2038,903,621,669,899,1387,1728,1960,2077,2366,2492,2536,2672,2824,3062,2859,2524,2342,2072,1724,1828,904,571,427,474,431,920,1973,2759,2429,2176,2091,1740,1768,2025,2058,2359,2653,2928,2814,2523,2186,1765,1524],\"type\":\"scatter\"},{\"line\":{\"color\":\"orange\",\"width\":1.5},\"mode\":\"lines\",\"name\":\"Predicted\",\"x\":[\"2016-02-12T10:00:00\",\"2016-02-12T11:00:00\",\"2016-02-12T12:00:00\",\"2016-02-12T13:00:00\",\"2016-02-12T14:00:00\",\"2016-02-12T15:00:00\",\"2016-02-12T16:00:00\",\"2016-02-12T17:00:00\",\"2016-02-12T18:00:00\",\"2016-02-12T19:00:00\",\"2016-02-12T20:00:00\",\"2016-02-12T21:00:00\",\"2016-02-12T22:00:00\",\"2016-02-12T23:00:00\",\"2016-02-13T00:00:00\",\"2016-02-13T01:00:00\",\"2016-02-13T02:00:00\",\"2016-02-13T03:00:00\",\"2016-02-13T04:00:00\",\"2016-02-13T05:00:00\",\"2016-02-13T06:00:00\",\"2016-02-13T07:00:00\",\"2016-02-13T08:00:00\",\"2016-02-13T09:00:00\",\"2016-02-13T10:00:00\",\"2016-02-13T11:00:00\",\"2016-02-13T12:00:00\",\"2016-02-13T13:00:00\",\"2016-02-13T14:00:00\",\"2016-02-13T15:00:00\",\"2016-02-13T16:00:00\",\"2016-02-13T17:00:00\",\"2016-02-13T18:00:00\",\"2016-02-13T19:00:00\",\"2016-02-13T20:00:00\",\"2016-02-13T21:00:00\",\"2016-02-13T22:00:00\",\"2016-02-13T23:00:00\",\"2016-02-14T00:00:00\",\"2016-02-14T01:00:00\",\"2016-02-14T02:00:00\",\"2016-02-14T03:00:00\",\"2016-02-14T04:00:00\",\"2016-02-14T05:00:00\",\"2016-02-14T06:00:00\",\"2016-02-14T07:00:00\",\"2016-02-14T08:00:00\",\"2016-02-14T09:00:00\",\"2016-02-14T10:00:00\",\"2016-02-14T11:00:00\",\"2016-02-14T12:00:00\",\"2016-02-14T13:00:00\",\"2016-02-14T14:00:00\",\"2016-02-14T15:00:00\",\"2016-02-14T16:00:00\",\"2016-02-14T17:00:00\",\"2016-02-14T18:00:00\",\"2016-02-14T19:00:00\",\"2016-02-14T20:00:00\",\"2016-02-14T21:00:00\",\"2016-02-14T22:00:00\",\"2016-02-14T23:00:00\",\"2016-02-15T00:00:00\",\"2016-02-15T01:00:00\",\"2016-02-15T02:00:00\",\"2016-02-15T03:00:00\",\"2016-02-15T04:00:00\",\"2016-02-15T05:00:00\",\"2016-02-15T06:00:00\",\"2016-02-15T07:00:00\",\"2016-02-15T08:00:00\",\"2016-02-15T09:00:00\",\"2016-02-15T10:00:00\",\"2016-02-15T11:00:00\",\"2016-02-15T12:00:00\",\"2016-02-15T13:00:00\",\"2016-02-15T14:00:00\",\"2016-02-15T15:00:00\",\"2016-02-15T16:00:00\",\"2016-02-15T17:00:00\",\"2016-02-15T18:00:00\",\"2016-02-15T19:00:00\",\"2016-02-15T20:00:00\",\"2016-02-15T21:00:00\",\"2016-02-15T22:00:00\",\"2016-02-15T23:00:00\",\"2016-02-16T00:00:00\",\"2016-02-16T01:00:00\",\"2016-02-16T02:00:00\",\"2016-02-16T03:00:00\",\"2016-02-16T04:00:00\",\"2016-02-16T05:00:00\",\"2016-02-16T06:00:00\",\"2016-02-16T07:00:00\",\"2016-02-16T08:00:00\",\"2016-02-16T09:00:00\",\"2016-02-16T10:00:00\",\"2016-02-16T11:00:00\",\"2016-02-16T12:00:00\",\"2016-02-16T13:00:00\",\"2016-02-16T14:00:00\",\"2016-02-16T15:00:00\",\"2016-02-16T16:00:00\",\"2016-02-16T17:00:00\",\"2016-02-16T18:00:00\",\"2016-02-16T19:00:00\",\"2016-02-16T20:00:00\",\"2016-02-16T21:00:00\",\"2016-02-16T22:00:00\",\"2016-02-16T23:00:00\",\"2016-02-17T00:00:00\",\"2016-02-17T01:00:00\",\"2016-02-17T02:00:00\",\"2016-02-17T03:00:00\",\"2016-02-17T04:00:00\",\"2016-02-17T05:00:00\",\"2016-02-17T06:00:00\",\"2016-02-17T07:00:00\",\"2016-02-17T08:00:00\",\"2016-02-17T09:00:00\",\"2016-02-17T10:00:00\",\"2016-02-17T11:00:00\",\"2016-02-17T12:00:00\",\"2016-02-17T13:00:00\",\"2016-02-17T14:00:00\",\"2016-02-17T15:00:00\",\"2016-02-17T16:00:00\",\"2016-02-17T17:00:00\",\"2016-02-17T18:00:00\",\"2016-02-17T19:00:00\",\"2016-02-17T20:00:00\",\"2016-02-17T21:00:00\",\"2016-02-17T22:00:00\",\"2016-02-17T23:00:00\",\"2016-02-18T00:00:00\",\"2016-02-18T01:00:00\",\"2016-02-18T02:00:00\",\"2016-02-18T03:00:00\",\"2016-02-18T04:00:00\",\"2016-02-18T05:00:00\",\"2016-02-18T06:00:00\",\"2016-02-18T07:00:00\",\"2016-02-18T08:00:00\",\"2016-02-18T09:00:00\",\"2016-02-18T10:00:00\",\"2016-02-18T11:00:00\",\"2016-02-18T12:00:00\",\"2016-02-18T13:00:00\",\"2016-02-18T14:00:00\",\"2016-02-18T15:00:00\",\"2016-02-18T16:00:00\",\"2016-02-18T17:00:00\",\"2016-02-18T18:00:00\",\"2016-02-18T19:00:00\",\"2016-02-18T20:00:00\",\"2016-02-18T21:00:00\",\"2016-02-18T22:00:00\",\"2016-02-18T23:00:00\",\"2016-02-19T00:00:00\",\"2016-02-19T01:00:00\",\"2016-02-19T02:00:00\",\"2016-02-19T03:00:00\",\"2016-02-19T04:00:00\",\"2016-02-19T05:00:00\",\"2016-02-19T06:00:00\",\"2016-02-19T07:00:00\",\"2016-02-19T08:00:00\",\"2016-02-19T09:00:00\",\"2016-02-19T10:00:00\",\"2016-02-19T11:00:00\",\"2016-02-19T12:00:00\",\"2016-02-19T13:00:00\",\"2016-02-19T14:00:00\",\"2016-02-19T15:00:00\",\"2016-02-19T16:00:00\",\"2016-02-19T17:00:00\",\"2016-02-19T18:00:00\",\"2016-02-19T19:00:00\",\"2016-02-19T20:00:00\",\"2016-02-19T21:00:00\",\"2016-02-19T22:00:00\",\"2016-02-19T23:00:00\",\"2016-02-20T00:00:00\",\"2016-02-20T01:00:00\",\"2016-02-20T02:00:00\",\"2016-02-20T03:00:00\",\"2016-02-20T04:00:00\",\"2016-02-20T05:00:00\",\"2016-02-20T06:00:00\",\"2016-02-20T07:00:00\",\"2016-02-20T08:00:00\",\"2016-02-20T09:00:00\",\"2016-02-20T10:00:00\",\"2016-02-20T11:00:00\",\"2016-02-20T12:00:00\",\"2016-02-20T13:00:00\",\"2016-02-20T14:00:00\",\"2016-02-20T15:00:00\",\"2016-02-20T16:00:00\",\"2016-02-20T17:00:00\",\"2016-02-20T18:00:00\",\"2016-02-20T19:00:00\",\"2016-02-20T20:00:00\",\"2016-02-20T21:00:00\",\"2016-02-20T22:00:00\",\"2016-02-20T23:00:00\",\"2016-02-21T00:00:00\",\"2016-02-21T01:00:00\",\"2016-02-21T02:00:00\",\"2016-02-21T03:00:00\",\"2016-02-21T04:00:00\",\"2016-02-21T05:00:00\",\"2016-02-21T06:00:00\",\"2016-02-21T07:00:00\",\"2016-02-21T08:00:00\",\"2016-02-21T09:00:00\",\"2016-02-21T10:00:00\",\"2016-02-21T11:00:00\",\"2016-02-21T12:00:00\",\"2016-02-21T13:00:00\",\"2016-02-21T14:00:00\",\"2016-02-21T15:00:00\",\"2016-02-21T16:00:00\",\"2016-02-21T17:00:00\",\"2016-02-21T18:00:00\",\"2016-02-21T19:00:00\",\"2016-02-21T20:00:00\",\"2016-02-21T21:00:00\",\"2016-02-21T22:00:00\",\"2016-02-21T23:00:00\",\"2016-02-22T00:00:00\",\"2016-02-22T01:00:00\",\"2016-02-22T02:00:00\",\"2016-02-22T03:00:00\",\"2016-02-22T04:00:00\",\"2016-02-22T05:00:00\",\"2016-02-22T06:00:00\",\"2016-02-22T07:00:00\",\"2016-02-22T08:00:00\",\"2016-02-22T09:00:00\",\"2016-02-22T10:00:00\",\"2016-02-22T11:00:00\",\"2016-02-22T12:00:00\",\"2016-02-22T13:00:00\",\"2016-02-22T14:00:00\",\"2016-02-22T15:00:00\",\"2016-02-22T16:00:00\",\"2016-02-22T17:00:00\",\"2016-02-22T18:00:00\",\"2016-02-22T19:00:00\",\"2016-02-22T20:00:00\",\"2016-02-22T21:00:00\",\"2016-02-22T22:00:00\",\"2016-02-22T23:00:00\",\"2016-02-23T00:00:00\",\"2016-02-23T01:00:00\",\"2016-02-23T02:00:00\",\"2016-02-23T03:00:00\",\"2016-02-23T04:00:00\",\"2016-02-23T05:00:00\",\"2016-02-23T06:00:00\",\"2016-02-23T07:00:00\",\"2016-02-23T08:00:00\",\"2016-02-23T09:00:00\",\"2016-02-23T10:00:00\",\"2016-02-23T11:00:00\",\"2016-02-23T12:00:00\",\"2016-02-23T13:00:00\",\"2016-02-23T14:00:00\",\"2016-02-23T15:00:00\",\"2016-02-23T16:00:00\",\"2016-02-23T17:00:00\",\"2016-02-23T18:00:00\",\"2016-02-23T19:00:00\",\"2016-02-23T20:00:00\",\"2016-02-23T21:00:00\",\"2016-02-23T22:00:00\",\"2016-02-23T23:00:00\",\"2016-02-24T00:00:00\",\"2016-02-24T01:00:00\",\"2016-02-24T02:00:00\",\"2016-02-24T03:00:00\",\"2016-02-24T04:00:00\",\"2016-02-24T05:00:00\",\"2016-02-24T06:00:00\",\"2016-02-24T07:00:00\",\"2016-02-24T08:00:00\",\"2016-02-24T09:00:00\",\"2016-02-24T10:00:00\",\"2016-02-24T11:00:00\",\"2016-02-24T12:00:00\",\"2016-02-24T13:00:00\",\"2016-02-24T14:00:00\",\"2016-02-24T15:00:00\",\"2016-02-24T16:00:00\",\"2016-02-24T17:00:00\",\"2016-02-24T18:00:00\",\"2016-02-24T19:00:00\",\"2016-02-24T20:00:00\",\"2016-02-24T21:00:00\",\"2016-02-24T22:00:00\",\"2016-02-24T23:00:00\",\"2016-02-25T00:00:00\",\"2016-02-25T01:00:00\",\"2016-02-25T02:00:00\",\"2016-02-25T03:00:00\",\"2016-02-25T04:00:00\",\"2016-02-25T05:00:00\",\"2016-02-25T06:00:00\",\"2016-02-25T07:00:00\",\"2016-02-25T08:00:00\",\"2016-02-25T09:00:00\",\"2016-02-25T10:00:00\",\"2016-02-25T11:00:00\",\"2016-02-25T12:00:00\",\"2016-02-25T13:00:00\",\"2016-02-25T14:00:00\",\"2016-02-25T15:00:00\",\"2016-02-25T16:00:00\",\"2016-02-25T17:00:00\",\"2016-02-25T18:00:00\",\"2016-02-25T19:00:00\",\"2016-02-25T20:00:00\",\"2016-02-25T21:00:00\",\"2016-02-25T22:00:00\",\"2016-02-25T23:00:00\",\"2016-02-26T00:00:00\",\"2016-02-26T01:00:00\",\"2016-02-26T02:00:00\",\"2016-02-26T03:00:00\",\"2016-02-26T04:00:00\",\"2016-02-26T05:00:00\",\"2016-02-26T06:00:00\",\"2016-02-26T07:00:00\",\"2016-02-26T08:00:00\",\"2016-02-26T09:00:00\",\"2016-02-26T10:00:00\",\"2016-02-26T11:00:00\",\"2016-02-26T12:00:00\",\"2016-02-26T13:00:00\",\"2016-02-26T14:00:00\",\"2016-02-26T15:00:00\",\"2016-02-26T16:00:00\",\"2016-02-26T17:00:00\",\"2016-02-26T18:00:00\",\"2016-02-26T19:00:00\",\"2016-02-26T20:00:00\",\"2016-02-26T21:00:00\",\"2016-02-26T22:00:00\",\"2016-02-26T23:00:00\",\"2016-02-27T00:00:00\",\"2016-02-27T01:00:00\",\"2016-02-27T02:00:00\",\"2016-02-27T03:00:00\",\"2016-02-27T04:00:00\",\"2016-02-27T05:00:00\",\"2016-02-27T06:00:00\",\"2016-02-27T07:00:00\",\"2016-02-27T08:00:00\",\"2016-02-27T09:00:00\",\"2016-02-27T10:00:00\",\"2016-02-27T11:00:00\",\"2016-02-27T12:00:00\",\"2016-02-27T13:00:00\",\"2016-02-27T14:00:00\",\"2016-02-27T15:00:00\",\"2016-02-27T16:00:00\",\"2016-02-27T17:00:00\",\"2016-02-27T18:00:00\",\"2016-02-27T19:00:00\",\"2016-02-27T20:00:00\",\"2016-02-27T21:00:00\",\"2016-02-27T22:00:00\",\"2016-02-27T23:00:00\",\"2016-02-28T00:00:00\",\"2016-02-28T01:00:00\",\"2016-02-28T02:00:00\",\"2016-02-28T03:00:00\",\"2016-02-28T04:00:00\",\"2016-02-28T05:00:00\",\"2016-02-28T06:00:00\",\"2016-02-28T07:00:00\",\"2016-02-28T08:00:00\",\"2016-02-28T09:00:00\",\"2016-02-28T10:00:00\",\"2016-02-28T11:00:00\",\"2016-02-28T12:00:00\",\"2016-02-28T13:00:00\",\"2016-02-28T14:00:00\",\"2016-02-28T15:00:00\",\"2016-02-28T16:00:00\",\"2016-02-28T17:00:00\",\"2016-02-28T18:00:00\",\"2016-02-28T19:00:00\",\"2016-02-28T20:00:00\",\"2016-02-28T21:00:00\",\"2016-02-28T22:00:00\",\"2016-02-28T23:00:00\",\"2016-02-29T00:00:00\",\"2016-02-29T01:00:00\",\"2016-02-29T02:00:00\",\"2016-02-29T03:00:00\",\"2016-02-29T04:00:00\",\"2016-02-29T05:00:00\",\"2016-02-29T06:00:00\",\"2016-02-29T07:00:00\",\"2016-02-29T08:00:00\",\"2016-02-29T09:00:00\",\"2016-02-29T10:00:00\",\"2016-02-29T11:00:00\",\"2016-02-29T12:00:00\",\"2016-02-29T13:00:00\",\"2016-02-29T14:00:00\",\"2016-02-29T15:00:00\",\"2016-02-29T16:00:00\",\"2016-02-29T17:00:00\",\"2016-02-29T18:00:00\",\"2016-02-29T19:00:00\",\"2016-02-29T20:00:00\",\"2016-02-29T21:00:00\",\"2016-02-29T22:00:00\",\"2016-02-29T23:00:00\"],\"y\":[2149.8125661570793,1926.245546022486,1885.828114553376,2061.004080186707,2382.878834689313,2624.1802310154376,2965.5434489835025,3472.843972220104,4015.383436126194,3907.079924397669,3511.9290570174026,3146.356871977043,2640.664151652997,2316.3751117114393,1647.98839043509,1081.1478513541097,672.4391794757144,468.75781639340414,427.42238334129274,394.10971121156166,812.8489081062061,1983.3830229315759,2907.493297472124,2619.578589640385,2125.6032789724945,1936.2558757384813,1913.936589163386,2101.358693629524,2401.144154174467,2599.2933927765666,2960.4711894146235,3451.786429246212,3969.5224860130115,3850.7326087503006,3493.635989254162,3104.4263423567486,2625.0446981017453,2264.5617793316665,1625.526411468427,1092.0952682185955,665.3040667005272,454.21068768028795,414.47158009373373,391.19339709278256,804.4647798892245,1973.6095788221564,2891.9497561370067,2645.926916233628,2172.5825428055764,1980.6366424722044,1965.625668233344,2163.2414829462755,2476.369929026921,2700.392688003255,3059.6062026570785,3558.566064880257,4111.108717609635,3999.6561265677765,3624.8269902457578,3230.1485662842556,2727.628920541083,2377.780104833925,1700.8056616638119,1132.8910791060312,694.7523766170577,483.1466867005041,435.8392558935356,399.86888881829356,825.6013676135328,1996.2160715004252,2927.303219802316,2650.359634868502,2161.222376609419,1960.9888727519026,1938.2819081782952,2128.6876579003056,2442.7148995620246,2668.566909222136,3023.156933341149,3523.534610411402,4069.522645165432,3958.1140357886375,3579.731831202165,3193.549579395645,2692.723611580811,2348.6317820038203,1678.1739158422174,1114.357036526935,685.4512306402811,476.05086691717696,431.1982450760313,397.34957345160615,819.8102200126726,1990.240815373169,2918.029024314018,2641.5236848317863,2152.817833467476,1956.4510534359135,1934.6987362776717,2125.0913203805467,2435.1575214464233,2653.295675899778,3010.1824174238777,3507.946201954148,4046.9969131597254,3933.581931071548,3561.3637701491243,3173.422752240918,2678.2247084115797,2329.052755355395,1666.3961358549457,1110.366380931306,681.0147991747478,470.9119188765639,427.17491194787107,395.9583489770477,816.2883804414702,1986.3906398151878,2911.9810579313908,2643.693031637496,2159.1050051014668,1963.5101693584863,1943.480467775908,2135.8331692826832,2447.1669747045503,2667.7523050062887,3025.0164547214013,3523.3931050441415,4066.8680935312323,3954.206710893941,3580.600133605939,3191.026330506531,2693.2217081269337,2344.426986577919,1677.0267777337256,1116.9147279073707,685.229621887436,474.796784529522,429.9684676336529,397.1723086316384,819.2024658822862,1989.4799240814114,2916.803449101913,2645.261295747831,2158.985144214572,1962.0472676633144,1941.1014432840216,2132.70983778217,2444.634075338774,2666.377395659788,3022.874764397685,3521.726365352429,4065.3944209196325,3952.9895562397405,3578.2412720366588,3189.7673634745966,2691.4311955426633,2343.870077779453,1676.1643714975985,1115.4983387074453,684.8244593772795,474.7080118127824,429.99356888791453,397.0863728148222,819.045593474953,1989.345237250947,2916.6034573228717,2644.074685241793,2157.3260360932118,1960.6912710140318,1939.6278830729207,2130.9887567814912,2442.3439908351415,2662.981902901556,3019.6694959834017,3518.17369514068,4060.5683916024204,3947.8613058784304,3573.92512204712,3185.4743009130902,2688.047747116096,2339.9136606930597,1673.6107962175101,1114.2630963724262,683.8361490847296,473.6884556722087,429.22648602901853,396.7899819044126,818.3152590669371,1988.5589307750133,2915.372115394055,2644.1021796876985,2157.9915656017574,1961.6053305776522,1940.835216161066,2132.492358315616,2443.9045913474565,2664.650266035257,3021.473201278339,3519.981162106404,4062.809352569549,3950.148020527174,3576.2115694775403,3187.4536900361068,2689.824210486785,2341.574232362202,1674.8189569587291,1115.118470071866,684.3231005554364,474.10153608270537,429.5123577332514,396.92637149275976,818.6364538110865,1988.8954656161477,2915.8961604077663,2644.4134526870557,2158.187521499751,1961.624268317091,1940.774134996536,2132.385354977652,2443.930132223417,2664.9344348771365,3021.6541491444223,3520.2548768099687,4063.2629552432063,3950.6661168164997,3576.509557135943,3187.8625744589585,2690.0638680391926,2342.0134752571125,1675.0504188207085,1115.127055274376,684.40529764036,474.2203911330036,429.61128778470095,396.9547023357416,818.7119416851326,1988.9802780072848,2916.0301054531897,2644.287231948027,2157.932288933883,1961.369184654538,1940.4700577383555,2132.018462508498,2443.4972119551526,2664.373614765443,3021.0960130698068,3519.660325800412,4062.4822215008903,3949.848369075082,3575.7758636536646,3187.1698311219466,2689.4907184255403,2341.395599844742,1674.6344982046385,1114.891834955541,684.2418929542083,474.06303071677496,429.49602383308445,396.90690914167857,818.5960437686558,1988.8566627006826,2915.836898133773,2644.2509857567234,2157.976536416243,1961.4613758833198,1940.6026403981461,2132.1874644655663,2443.655465698687,2664.5105382963065,3021.2599020983876,3519.8129540188097,4062.657108449258,3950.019890401757,3575.974999374862,3187.323271471128,2689.6444160023107,2341.512242500313,1674.7304278785946,1114.979254596444,684.2819508225002,474.0908421723176,429.51317640483586,396.917462252102,818.6197948505265,1988.8808298773133,2915.874295039601,2644.2990416252783,2158.028863238118,1961.4953695330892,1940.6345080072945,2132.2224694839215,2443.712475882192,2664.6103685096064,3021.3487158971793,3519.915938685354,4062.8020860053034,3950.1761888829515,3576.0979693621357,3187.452572278456,2689.74118941758,2341.635282039075,1674.806607971204,1115.0096826517524,684.3109759674052,474.1229009249042,429.5378870706026,396.92639543177154,818.6421597812387,1988.9051287095858,2915.9124168021617,2644.2905346321645,2157.9968998670274,1961.457400617899,1940.586397664066,2132.1632865497545,2443.6478114468628,2664.535150156612,3021.270388812165,3519.8352582488947,4062.6993475885815,3950.070043628577,3575.9970525278986,3187.3616307771676,2689.6625888966214,2341.556707634687,1674.7515292195487,1114.9743680509173,684.2890393457551,474.10312759833363,429.52380766687895,396.9201254031125,818.6271861220257,1988.889304346931,2915.887730944176,2644.2807495351785,2157.9949063626314,1961.4626697668557,1940.5961127459886,2132.1763756006485,2443.6570249884926,2664.536779358679,3021.2761913724107,3519.8381161256416,4062.6992347558003,3950.0681608623827,3576.0022122873415,3187.3612678012355,2689.6663374417253,2341.5533238461308,1674.7518872250182,1114.9795913070132,684.289538688992,474.1019789442283,429.52247903363065,396.9200953771228,818.6268347630321,1988.8887531711287,2915.8868125953472,2644.286789781556,2158.0043342231556,1961.4709550574514,1940.6054516716981,2132.1874296619712,2443.6710441126042,2664.5565540843736,3021.295216734913,3519.8589031624397,4062.727136539393,3950.097661763038,3576.027608385343,3187.3860661535514,2689.686220653033,2341.575921296521,1674.76668588176,1114.9871743592735,684.2952965395582,474.10777898036815,429.5268037659934,396.9218070256207,818.6310291071974,1988.8932544330735,2915.89385684998,2644.2871384877194,2158.0012776129574,1961.4663650373889,1940.599254073138,2132.179662767018,2443.663196796692,2664.548567318694,3021.2863842312945,3519.85019698282,4062.7165212919936,3950.0869163155394,3576.0165194493748,3187.3767028404773,2689.677617810144,2341.5682168600397,1674.7609424204709,1114.9828647205693,684.292964245832,474.1058774647633,429.52551395166466,396.92116209307943,818.6295240426689,1988.891686447653,2915.891418156484,2644.285367555914,2157.999887378076,1961.4658696918266,1940.5990863888364,2132.1796287638963,2443.6623894662284,2664.5462524956733,3021.284595295755,3519.847882149982,4062.713005610895,3950.083016692466,3576.0138639489346,3187.373551019493,2689.675508632415,2341.565028900075],\"type\":\"scatter\"}],                        {\"template\":{\"data\":{\"histogram2dcontour\":[{\"type\":\"histogram2dcontour\",\"colorbar\":{\"outlinewidth\":0,\"ticks\":\"\"},\"colorscale\":[[0.0,\"#0d0887\"],[0.1111111111111111,\"#46039f\"],[0.2222222222222222,\"#7201a8\"],[0.3333333333333333,\"#9c179e\"],[0.4444444444444444,\"#bd3786\"],[0.5555555555555556,\"#d8576b\"],[0.6666666666666666,\"#ed7953\"],[0.7777777777777778,\"#fb9f3a\"],[0.8888888888888888,\"#fdca26\"],[1.0,\"#f0f921\"]]}],\"choropleth\":[{\"type\":\"choropleth\",\"colorbar\":{\"outlinewidth\":0,\"ticks\":\"\"}}],\"histogram2d\":[{\"type\":\"histogram2d\",\"colorbar\":{\"outlinewidth\":0,\"ticks\":\"\"},\"colorscale\":[[0.0,\"#0d0887\"],[0.1111111111111111,\"#46039f\"],[0.2222222222222222,\"#7201a8\"],[0.3333333333333333,\"#9c179e\"],[0.4444444444444444,\"#bd3786\"],[0.5555555555555556,\"#d8576b\"],[0.6666666666666666,\"#ed7953\"],[0.7777777777777778,\"#fb9f3a\"],[0.8888888888888888,\"#fdca26\"],[1.0,\"#f0f921\"]]}],\"heatmap\":[{\"type\":\"heatmap\",\"colorbar\":{\"outlinewidth\":0,\"ticks\":\"\"},\"colorscale\":[[0.0,\"#0d0887\"],[0.1111111111111111,\"#46039f\"],[0.2222222222222222,\"#7201a8\"],[0.3333333333333333,\"#9c179e\"],[0.4444444444444444,\"#bd3786\"],[0.5555555555555556,\"#d8576b\"],[0.6666666666666666,\"#ed7953\"],[0.7777777777777778,\"#fb9f3a\"],[0.8888888888888888,\"#fdca26\"],[1.0,\"#f0f921\"]]}],\"heatmapgl\":[{\"type\":\"heatmapgl\",\"colorbar\":{\"outlinewidth\":0,\"ticks\":\"\"},\"colorscale\":[[0.0,\"#0d0887\"],[0.1111111111111111,\"#46039f\"],[0.2222222222222222,\"#7201a8\"],[0.3333333333333333,\"#9c179e\"],[0.4444444444444444,\"#bd3786\"],[0.5555555555555556,\"#d8576b\"],[0.6666666666666666,\"#ed7953\"],[0.7777777777777778,\"#fb9f3a\"],[0.8888888888888888,\"#fdca26\"],[1.0,\"#f0f921\"]]}],\"contourcarpet\":[{\"type\":\"contourcarpet\",\"colorbar\":{\"outlinewidth\":0,\"ticks\":\"\"}}],\"contour\":[{\"type\":\"contour\",\"colorbar\":{\"outlinewidth\":0,\"ticks\":\"\"},\"colorscale\":[[0.0,\"#0d0887\"],[0.1111111111111111,\"#46039f\"],[0.2222222222222222,\"#7201a8\"],[0.3333333333333333,\"#9c179e\"],[0.4444444444444444,\"#bd3786\"],[0.5555555555555556,\"#d8576b\"],[0.6666666666666666,\"#ed7953\"],[0.7777777777777778,\"#fb9f3a\"],[0.8888888888888888,\"#fdca26\"],[1.0,\"#f0f921\"]]}],\"surface\":[{\"type\":\"surface\",\"colorbar\":{\"outlinewidth\":0,\"ticks\":\"\"},\"colorscale\":[[0.0,\"#0d0887\"],[0.1111111111111111,\"#46039f\"],[0.2222222222222222,\"#7201a8\"],[0.3333333333333333,\"#9c179e\"],[0.4444444444444444,\"#bd3786\"],[0.5555555555555556,\"#d8576b\"],[0.6666666666666666,\"#ed7953\"],[0.7777777777777778,\"#fb9f3a\"],[0.8888888888888888,\"#fdca26\"],[1.0,\"#f0f921\"]]}],\"mesh3d\":[{\"type\":\"mesh3d\",\"colorbar\":{\"outlinewidth\":0,\"ticks\":\"\"}}],\"scatter\":[{\"fillpattern\":{\"fillmode\":\"overlay\",\"size\":10,\"solidity\":0.2},\"type\":\"scatter\"}],\"parcoords\":[{\"type\":\"parcoords\",\"line\":{\"colorbar\":{\"outlinewidth\":0,\"ticks\":\"\"}}}],\"scatterpolargl\":[{\"type\":\"scatterpolargl\",\"marker\":{\"colorbar\":{\"outlinewidth\":0,\"ticks\":\"\"}}}],\"bar\":[{\"error_x\":{\"color\":\"#2a3f5f\"},\"error_y\":{\"color\":\"#2a3f5f\"},\"marker\":{\"line\":{\"color\":\"white\",\"width\":0.5},\"pattern\":{\"fillmode\":\"overlay\",\"size\":10,\"solidity\":0.2}},\"type\":\"bar\"}],\"scattergeo\":[{\"type\":\"scattergeo\",\"marker\":{\"colorbar\":{\"outlinewidth\":0,\"ticks\":\"\"}}}],\"scatterpolar\":[{\"type\":\"scatterpolar\",\"marker\":{\"colorbar\":{\"outlinewidth\":0,\"ticks\":\"\"}}}],\"histogram\":[{\"marker\":{\"pattern\":{\"fillmode\":\"overlay\",\"size\":10,\"solidity\":0.2}},\"type\":\"histogram\"}],\"scattergl\":[{\"type\":\"scattergl\",\"marker\":{\"colorbar\":{\"outlinewidth\":0,\"ticks\":\"\"}}}],\"scatter3d\":[{\"type\":\"scatter3d\",\"line\":{\"colorbar\":{\"outlinewidth\":0,\"ticks\":\"\"}},\"marker\":{\"colorbar\":{\"outlinewidth\":0,\"ticks\":\"\"}}}],\"scattermapbox\":[{\"type\":\"scattermapbox\",\"marker\":{\"colorbar\":{\"outlinewidth\":0,\"ticks\":\"\"}}}],\"scatterternary\":[{\"type\":\"scatterternary\",\"marker\":{\"colorbar\":{\"outlinewidth\":0,\"ticks\":\"\"}}}],\"scattercarpet\":[{\"type\":\"scattercarpet\",\"marker\":{\"colorbar\":{\"outlinewidth\":0,\"ticks\":\"\"}}}],\"carpet\":[{\"aaxis\":{\"endlinecolor\":\"#2a3f5f\",\"gridcolor\":\"#C8D4E3\",\"linecolor\":\"#C8D4E3\",\"minorgridcolor\":\"#C8D4E3\",\"startlinecolor\":\"#2a3f5f\"},\"baxis\":{\"endlinecolor\":\"#2a3f5f\",\"gridcolor\":\"#C8D4E3\",\"linecolor\":\"#C8D4E3\",\"minorgridcolor\":\"#C8D4E3\",\"startlinecolor\":\"#2a3f5f\"},\"type\":\"carpet\"}],\"table\":[{\"cells\":{\"fill\":{\"color\":\"#EBF0F8\"},\"line\":{\"color\":\"white\"}},\"header\":{\"fill\":{\"color\":\"#C8D4E3\"},\"line\":{\"color\":\"white\"}},\"type\":\"table\"}],\"barpolar\":[{\"marker\":{\"line\":{\"color\":\"white\",\"width\":0.5},\"pattern\":{\"fillmode\":\"overlay\",\"size\":10,\"solidity\":0.2}},\"type\":\"barpolar\"}],\"pie\":[{\"automargin\":true,\"type\":\"pie\"}]},\"layout\":{\"autotypenumbers\":\"strict\",\"colorway\":[\"#636efa\",\"#EF553B\",\"#00cc96\",\"#ab63fa\",\"#FFA15A\",\"#19d3f3\",\"#FF6692\",\"#B6E880\",\"#FF97FF\",\"#FECB52\"],\"font\":{\"color\":\"#2a3f5f\"},\"hovermode\":\"closest\",\"hoverlabel\":{\"align\":\"left\"},\"paper_bgcolor\":\"white\",\"plot_bgcolor\":\"white\",\"polar\":{\"bgcolor\":\"white\",\"angularaxis\":{\"gridcolor\":\"#EBF0F8\",\"linecolor\":\"#EBF0F8\",\"ticks\":\"\"},\"radialaxis\":{\"gridcolor\":\"#EBF0F8\",\"linecolor\":\"#EBF0F8\",\"ticks\":\"\"}},\"ternary\":{\"bgcolor\":\"white\",\"aaxis\":{\"gridcolor\":\"#DFE8F3\",\"linecolor\":\"#A2B1C6\",\"ticks\":\"\"},\"baxis\":{\"gridcolor\":\"#DFE8F3\",\"linecolor\":\"#A2B1C6\",\"ticks\":\"\"},\"caxis\":{\"gridcolor\":\"#DFE8F3\",\"linecolor\":\"#A2B1C6\",\"ticks\":\"\"}},\"coloraxis\":{\"colorbar\":{\"outlinewidth\":0,\"ticks\":\"\"}},\"colorscale\":{\"sequential\":[[0.0,\"#0d0887\"],[0.1111111111111111,\"#46039f\"],[0.2222222222222222,\"#7201a8\"],[0.3333333333333333,\"#9c179e\"],[0.4444444444444444,\"#bd3786\"],[0.5555555555555556,\"#d8576b\"],[0.6666666666666666,\"#ed7953\"],[0.7777777777777778,\"#fb9f3a\"],[0.8888888888888888,\"#fdca26\"],[1.0,\"#f0f921\"]],\"sequentialminus\":[[0.0,\"#0d0887\"],[0.1111111111111111,\"#46039f\"],[0.2222222222222222,\"#7201a8\"],[0.3333333333333333,\"#9c179e\"],[0.4444444444444444,\"#bd3786\"],[0.5555555555555556,\"#d8576b\"],[0.6666666666666666,\"#ed7953\"],[0.7777777777777778,\"#fb9f3a\"],[0.8888888888888888,\"#fdca26\"],[1.0,\"#f0f921\"]],\"diverging\":[[0,\"#8e0152\"],[0.1,\"#c51b7d\"],[0.2,\"#de77ae\"],[0.3,\"#f1b6da\"],[0.4,\"#fde0ef\"],[0.5,\"#f7f7f7\"],[0.6,\"#e6f5d0\"],[0.7,\"#b8e186\"],[0.8,\"#7fbc41\"],[0.9,\"#4d9221\"],[1,\"#276419\"]]},\"xaxis\":{\"gridcolor\":\"#EBF0F8\",\"linecolor\":\"#EBF0F8\",\"ticks\":\"\",\"title\":{\"standoff\":15},\"zerolinecolor\":\"#EBF0F8\",\"automargin\":true,\"zerolinewidth\":2},\"yaxis\":{\"gridcolor\":\"#EBF0F8\",\"linecolor\":\"#EBF0F8\",\"ticks\":\"\",\"title\":{\"standoff\":15},\"zerolinecolor\":\"#EBF0F8\",\"automargin\":true,\"zerolinewidth\":2},\"scene\":{\"xaxis\":{\"backgroundcolor\":\"white\",\"gridcolor\":\"#DFE8F3\",\"linecolor\":\"#EBF0F8\",\"showbackground\":true,\"ticks\":\"\",\"zerolinecolor\":\"#EBF0F8\",\"gridwidth\":2},\"yaxis\":{\"backgroundcolor\":\"white\",\"gridcolor\":\"#DFE8F3\",\"linecolor\":\"#EBF0F8\",\"showbackground\":true,\"ticks\":\"\",\"zerolinecolor\":\"#EBF0F8\",\"gridwidth\":2},\"zaxis\":{\"backgroundcolor\":\"white\",\"gridcolor\":\"#DFE8F3\",\"linecolor\":\"#EBF0F8\",\"showbackground\":true,\"ticks\":\"\",\"zerolinecolor\":\"#EBF0F8\",\"gridwidth\":2}},\"shapedefaults\":{\"line\":{\"color\":\"#2a3f5f\"}},\"annotationdefaults\":{\"arrowcolor\":\"#2a3f5f\",\"arrowhead\":0,\"arrowwidth\":1},\"geo\":{\"bgcolor\":\"white\",\"landcolor\":\"white\",\"subunitcolor\":\"#C8D4E3\",\"showland\":true,\"showlakes\":true,\"lakecolor\":\"white\"},\"title\":{\"x\":0.05},\"mapbox\":{\"style\":\"light\"}}}},                        {\"responsive\": true}                    ).then(function(){\n",
              "                            \n",
              "var gd = document.getElementById('ae8d9e15-d981-4e4d-9e6a-f5f70145b585');\n",
              "var x = new MutationObserver(function (mutations, observer) {{\n",
              "        var display = window.getComputedStyle(gd).display;\n",
              "        if (!display || display === 'none') {{\n",
              "            console.log([gd, 'removed!']);\n",
              "            Plotly.purge(gd);\n",
              "            observer.disconnect();\n",
              "        }}\n",
              "}});\n",
              "\n",
              "// Listen for the removal of the full notebook cells\n",
              "var notebookContainer = gd.closest('#notebook-container');\n",
              "if (notebookContainer) {{\n",
              "    x.observe(notebookContainer, {childList: true});\n",
              "}}\n",
              "\n",
              "// Listen for the clearing of the current output cell\n",
              "var outputEl = gd.closest('.output');\n",
              "if (outputEl) {{\n",
              "    x.observe(outputEl, {childList: true});\n",
              "}}\n",
              "\n",
              "                        })                };                            </script>        </div>\n",
              "</body>\n",
              "</html>"
            ]
          },
          "metadata": {}
        }
      ]
    },
    {
      "cell_type": "markdown",
      "source": [
        "## 5.0 Checking the Metrics and Improving the Results"
      ],
      "metadata": {
        "id": "i1_TlM18Nd_B"
      }
    },
    {
      "cell_type": "markdown",
      "source": [
        "### 5.1 Checking the Result Using MAPE and R2"
      ],
      "metadata": {
        "id": "2r_sWZq9b0xx"
      }
    },
    {
      "cell_type": "code",
      "source": [
        "from sklearn.metrics import  r2_score\n",
        "# Compute R²\n",
        "r2 = r2_score(test_data['y'], predictions)\n",
        "\n",
        "def mean_absolute_percentage_error(y_true, y_pred):\n",
        "    mape = np.mean(np.abs((y_true - y_pred)/y_true))*100\n",
        "    return mape\n",
        "\n",
        "# Compute MAPE\n",
        "mape = mean_absolute_percentage_error(test_data['y'], predictions)\n",
        "\n",
        "print(f\"R-squared: {r2:.4f}\")\n",
        "print(f\"MAPE: {mape:.2f}%\")\n",
        "\n",
        "\n",
        "\n",
        "## Based on the result we can say that the MAPE is 27.76% which falls into a Reasonable Forecast based on the criteria provided by\n",
        "# Hyndman, R. J., & Athanasopoulos, G. (2021). Forecasting: Principles and Practice (3rd ed.). OTexts.\n",
        "\n",
        "## The model can still be improve. Let's use and advance model for this problem"
      ],
      "metadata": {
        "colab": {
          "base_uri": "https://localhost:8080/",
          "height": 0
        },
        "id": "bHX-D-YGoXww",
        "outputId": "e2544805-993d-4c73-b2ca-b16c379d5c03"
      },
      "execution_count": 31,
      "outputs": [
        {
          "output_type": "stream",
          "name": "stdout",
          "text": [
            "R-squared: 0.4871\n",
            "MAPE: 27.76%\n"
          ]
        }
      ]
    },
    {
      "cell_type": "markdown",
      "source": [
        "### 5.2 Adding a new Model using XGB Regressor"
      ],
      "metadata": {
        "id": "JNBYy2uMTcbw"
      }
    },
    {
      "cell_type": "code",
      "source": [
        "import xgboost as xgb\n",
        "from sklearn.metrics import r2_score, mean_absolute_percentage_error\n",
        "\n",
        "# Prepare the data for XGBoost\n",
        "X_train = pd.DataFrame({'hour': train_data['ds'].dt.hour,\n",
        "                       'dayofweek': train_data['ds'].dt.dayofweek})\n",
        "y_train = train_data['y']\n",
        "\n",
        "X_test = pd.DataFrame({'hour': test_data['ds'].dt.hour,\n",
        "                      'dayofweek': test_data['ds'].dt.dayofweek})\n",
        "y_test = test_data['y']\n",
        "\n",
        "# Create an XGBRegressor model\n",
        "model_xgb = xgb.XGBRegressor(n_estimators=1000)\n",
        "\n",
        "# Train the model with early stopping\n",
        "model_xgb.fit(X_train, y_train, verbose=False)\n",
        "\n",
        "# Make predictions\n",
        "y_pred_xgb = model_xgb.predict(X_test)"
      ],
      "metadata": {
        "id": "vdZ6TZiYTbED"
      },
      "execution_count": 61,
      "outputs": []
    },
    {
      "cell_type": "markdown",
      "source": [
        "### 5.3 Checking the Result of XGB Regressor Using MAPE and R2"
      ],
      "metadata": {
        "id": "JEgNIyrRcKVB"
      }
    },
    {
      "cell_type": "code",
      "source": [
        "# Compute R²\n",
        "r2_xgb = r2_score(y_test, y_pred_xgb)\n",
        "\n",
        "# Compute MAPE\n",
        "mape_xgb = mean_absolute_percentage_error(y_test, y_pred_xgb)\n",
        "\n",
        "print(f\"XGBoost R-squared: {r2_xgb:.4f}\")\n",
        "print(f\"MAPE: {mape_xgb:.2f}%\")\n",
        "\n",
        "\n",
        "## Find the best attributes in the Model\n",
        "# pd.DataFrame(\n",
        "#   data = model_xgb.feature_importances_,\n",
        "#   index = model_xgb.feature_names_in_,\n",
        "#   columns=['importance']\n",
        "# ).sort_values(by='importance', ascending=False)\n",
        "\n",
        "\n",
        "# Plot the actual vs predicted values for XGBoost\n",
        "fig = go.Figure()\n",
        "\n",
        "fig.add_trace(\n",
        "    go.Scatter(\n",
        "        x=train_data['ds'],\n",
        "        y=y_train,\n",
        "        mode='lines',\n",
        "        line=dict(color='green', width=2.5),\n",
        "        name='Historical Data'\n",
        "    )\n",
        ")\n",
        "\n",
        "fig.add_trace(\n",
        "    go.Scatter(\n",
        "        x=test_data['ds'],\n",
        "        y=y_test,\n",
        "        mode='lines',\n",
        "        line=dict(color='navy', width=2.5),\n",
        "        name='Actual'\n",
        "    )\n",
        ")\n",
        "fig.add_trace(\n",
        "    go.Scatter(\n",
        "        x=test_data['ds'],\n",
        "        y=y_pred_xgb,\n",
        "        mode='lines',\n",
        "        line=dict(color='orange', width=1.5),\n",
        "        name='Predicted (XGBoost)',\n",
        "    )\n",
        ")\n",
        "fig.show()\n",
        "\n",
        "\n",
        "## Based on the result we can say that the our MAPE has improved from 27.76% to 0.10% which falls into a Highly Accurate Forecast based on the criteria provided by\n",
        "# Hyndman, R. J., & Athanasopoulos, G. (2021). Forecasting: Principles and Practice (3rd ed.). OTexts.\n",
        "\n",
        "# Our R2 also improved from 0.4871 to 0.9232\n"
      ],
      "metadata": {
        "colab": {
          "base_uri": "https://localhost:8080/",
          "height": 666
        },
        "id": "elGDy18bcHWa",
        "outputId": "d5c41e86-8719-4697-b08f-643da7dc695b"
      },
      "execution_count": 63,
      "outputs": [
        {
          "output_type": "stream",
          "name": "stdout",
          "text": [
            "XGBoost R-squared: 0.9232\n",
            "MAPE: 0.10%\n"
          ]
        },
        {
          "output_type": "stream",
          "name": "stderr",
          "text": [
            "/usr/local/lib/python3.10/dist-packages/_plotly_utils/basevalidators.py:105: FutureWarning:\n",
            "\n",
            "The behavior of DatetimeProperties.to_pydatetime is deprecated, in a future version this will return a Series containing python datetime objects instead of an ndarray. To retain the old behavior, call `np.array` on the result\n",
            "\n"
          ]
        },
        {
          "output_type": "display_data",
          "data": {
            "text/html": [
              "<html>\n",
              "<head><meta charset=\"utf-8\" /></head>\n",
              "<body>\n",
              "    <div>            <script src=\"https://cdnjs.cloudflare.com/ajax/libs/mathjax/2.7.5/MathJax.js?config=TeX-AMS-MML_SVG\"></script><script type=\"text/javascript\">if (window.MathJax && window.MathJax.Hub && window.MathJax.Hub.Config) {window.MathJax.Hub.Config({SVG: {font: \"STIX-Web\"}});}</script>                <script type=\"text/javascript\">window.PlotlyConfig = {MathJaxConfig: 'local'};</script>\n",
              "        <script charset=\"utf-8\" src=\"https://cdn.plot.ly/plotly-2.24.1.min.js\"></script>                <div id=\"d22631d0-d50d-4cd7-947c-be16eb0f3339\" class=\"plotly-graph-div\" style=\"height:525px; width:100%;\"></div>            <script type=\"text/javascript\">                                    window.PLOTLYENV=window.PLOTLYENV || {};                                    if (document.getElementById(\"d22631d0-d50d-4cd7-947c-be16eb0f3339\")) {                    Plotly.newPlot(                        \"d22631d0-d50d-4cd7-947c-be16eb0f3339\",                        [{\"line\":{\"color\":\"green\",\"width\":2.5},\"mode\":\"lines\",\"name\":\"Historical Data\",\"x\":[\"2016-02-01T00:00:00\",\"2016-02-01T01:00:00\",\"2016-02-01T02:00:00\",\"2016-02-01T03:00:00\",\"2016-02-01T04:00:00\",\"2016-02-01T05:00:00\",\"2016-02-01T06:00:00\",\"2016-02-01T07:00:00\",\"2016-02-01T08:00:00\",\"2016-02-01T09:00:00\",\"2016-02-01T10:00:00\",\"2016-02-01T11:00:00\",\"2016-02-01T12:00:00\",\"2016-02-01T13:00:00\",\"2016-02-01T14:00:00\",\"2016-02-01T15:00:00\",\"2016-02-01T16:00:00\",\"2016-02-01T17:00:00\",\"2016-02-01T18:00:00\",\"2016-02-01T19:00:00\",\"2016-02-01T20:00:00\",\"2016-02-01T21:00:00\",\"2016-02-01T22:00:00\",\"2016-02-01T23:00:00\",\"2016-02-02T00:00:00\",\"2016-02-02T01:00:00\",\"2016-02-02T02:00:00\",\"2016-02-02T03:00:00\",\"2016-02-02T04:00:00\",\"2016-02-02T05:00:00\",\"2016-02-02T06:00:00\",\"2016-02-02T07:00:00\",\"2016-02-02T08:00:00\",\"2016-02-02T09:00:00\",\"2016-02-02T10:00:00\",\"2016-02-02T11:00:00\",\"2016-02-02T12:00:00\",\"2016-02-02T13:00:00\",\"2016-02-02T14:00:00\",\"2016-02-02T15:00:00\",\"2016-02-02T16:00:00\",\"2016-02-02T17:00:00\",\"2016-02-02T18:00:00\",\"2016-02-02T19:00:00\",\"2016-02-02T20:00:00\",\"2016-02-02T21:00:00\",\"2016-02-02T22:00:00\",\"2016-02-02T23:00:00\",\"2016-02-03T00:00:00\",\"2016-02-03T01:00:00\",\"2016-02-03T02:00:00\",\"2016-02-03T03:00:00\",\"2016-02-03T04:00:00\",\"2016-02-03T05:00:00\",\"2016-02-03T06:00:00\",\"2016-02-03T07:00:00\",\"2016-02-03T08:00:00\",\"2016-02-03T09:00:00\",\"2016-02-03T10:00:00\",\"2016-02-03T11:00:00\",\"2016-02-03T12:00:00\",\"2016-02-03T13:00:00\",\"2016-02-03T14:00:00\",\"2016-02-03T15:00:00\",\"2016-02-03T16:00:00\",\"2016-02-03T17:00:00\",\"2016-02-03T18:00:00\",\"2016-02-03T19:00:00\",\"2016-02-03T20:00:00\",\"2016-02-03T21:00:00\",\"2016-02-03T22:00:00\",\"2016-02-03T23:00:00\",\"2016-02-04T00:00:00\",\"2016-02-04T01:00:00\",\"2016-02-04T02:00:00\",\"2016-02-04T03:00:00\",\"2016-02-04T04:00:00\",\"2016-02-04T05:00:00\",\"2016-02-04T06:00:00\",\"2016-02-04T07:00:00\",\"2016-02-04T08:00:00\",\"2016-02-04T09:00:00\",\"2016-02-04T10:00:00\",\"2016-02-04T11:00:00\",\"2016-02-04T12:00:00\",\"2016-02-04T13:00:00\",\"2016-02-04T14:00:00\",\"2016-02-04T15:00:00\",\"2016-02-04T16:00:00\",\"2016-02-04T17:00:00\",\"2016-02-04T18:00:00\",\"2016-02-04T19:00:00\",\"2016-02-04T20:00:00\",\"2016-02-04T21:00:00\",\"2016-02-04T22:00:00\",\"2016-02-04T23:00:00\",\"2016-02-05T00:00:00\",\"2016-02-05T01:00:00\",\"2016-02-05T02:00:00\",\"2016-02-05T03:00:00\",\"2016-02-05T04:00:00\",\"2016-02-05T05:00:00\",\"2016-02-05T06:00:00\",\"2016-02-05T07:00:00\",\"2016-02-05T08:00:00\",\"2016-02-05T09:00:00\",\"2016-02-05T10:00:00\",\"2016-02-05T11:00:00\",\"2016-02-05T12:00:00\",\"2016-02-05T13:00:00\",\"2016-02-05T14:00:00\",\"2016-02-05T15:00:00\",\"2016-02-05T16:00:00\",\"2016-02-05T17:00:00\",\"2016-02-05T18:00:00\",\"2016-02-05T19:00:00\",\"2016-02-05T20:00:00\",\"2016-02-05T21:00:00\",\"2016-02-05T22:00:00\",\"2016-02-05T23:00:00\",\"2016-02-06T00:00:00\",\"2016-02-06T01:00:00\",\"2016-02-06T02:00:00\",\"2016-02-06T03:00:00\",\"2016-02-06T04:00:00\",\"2016-02-06T05:00:00\",\"2016-02-06T06:00:00\",\"2016-02-06T07:00:00\",\"2016-02-06T08:00:00\",\"2016-02-06T09:00:00\",\"2016-02-06T10:00:00\",\"2016-02-06T11:00:00\",\"2016-02-06T12:00:00\",\"2016-02-06T13:00:00\",\"2016-02-06T14:00:00\",\"2016-02-06T15:00:00\",\"2016-02-06T16:00:00\",\"2016-02-06T17:00:00\",\"2016-02-06T18:00:00\",\"2016-02-06T19:00:00\",\"2016-02-06T20:00:00\",\"2016-02-06T21:00:00\",\"2016-02-06T22:00:00\",\"2016-02-06T23:00:00\",\"2016-02-07T00:00:00\",\"2016-02-07T01:00:00\",\"2016-02-07T02:00:00\",\"2016-02-07T03:00:00\",\"2016-02-07T04:00:00\",\"2016-02-07T05:00:00\",\"2016-02-07T06:00:00\",\"2016-02-07T07:00:00\",\"2016-02-07T08:00:00\",\"2016-02-07T09:00:00\",\"2016-02-07T10:00:00\",\"2016-02-07T11:00:00\",\"2016-02-07T12:00:00\",\"2016-02-07T13:00:00\",\"2016-02-07T14:00:00\",\"2016-02-07T15:00:00\",\"2016-02-07T16:00:00\",\"2016-02-07T17:00:00\",\"2016-02-07T18:00:00\",\"2016-02-07T19:00:00\",\"2016-02-07T20:00:00\",\"2016-02-07T21:00:00\",\"2016-02-07T22:00:00\",\"2016-02-07T23:00:00\",\"2016-02-08T00:00:00\",\"2016-02-08T01:00:00\",\"2016-02-08T02:00:00\",\"2016-02-08T03:00:00\",\"2016-02-08T04:00:00\",\"2016-02-08T05:00:00\",\"2016-02-08T06:00:00\",\"2016-02-08T07:00:00\",\"2016-02-08T08:00:00\",\"2016-02-08T09:00:00\",\"2016-02-08T10:00:00\",\"2016-02-08T11:00:00\",\"2016-02-08T12:00:00\",\"2016-02-08T13:00:00\",\"2016-02-08T14:00:00\",\"2016-02-08T15:00:00\",\"2016-02-08T16:00:00\",\"2016-02-08T17:00:00\",\"2016-02-08T18:00:00\",\"2016-02-08T19:00:00\",\"2016-02-08T20:00:00\",\"2016-02-08T21:00:00\",\"2016-02-08T22:00:00\",\"2016-02-08T23:00:00\",\"2016-02-09T00:00:00\",\"2016-02-09T01:00:00\",\"2016-02-09T02:00:00\",\"2016-02-09T03:00:00\",\"2016-02-09T04:00:00\",\"2016-02-09T05:00:00\",\"2016-02-09T06:00:00\",\"2016-02-09T07:00:00\",\"2016-02-09T08:00:00\",\"2016-02-09T09:00:00\",\"2016-02-09T10:00:00\",\"2016-02-09T11:00:00\",\"2016-02-09T12:00:00\",\"2016-02-09T13:00:00\",\"2016-02-09T14:00:00\",\"2016-02-09T15:00:00\",\"2016-02-09T16:00:00\",\"2016-02-09T17:00:00\",\"2016-02-09T18:00:00\",\"2016-02-09T19:00:00\",\"2016-02-09T20:00:00\",\"2016-02-09T21:00:00\",\"2016-02-09T22:00:00\",\"2016-02-09T23:00:00\",\"2016-02-10T00:00:00\",\"2016-02-10T01:00:00\",\"2016-02-10T02:00:00\",\"2016-02-10T03:00:00\",\"2016-02-10T04:00:00\",\"2016-02-10T05:00:00\",\"2016-02-10T06:00:00\",\"2016-02-10T07:00:00\",\"2016-02-10T08:00:00\",\"2016-02-10T09:00:00\",\"2016-02-10T10:00:00\",\"2016-02-10T11:00:00\",\"2016-02-10T12:00:00\",\"2016-02-10T13:00:00\",\"2016-02-10T14:00:00\",\"2016-02-10T15:00:00\",\"2016-02-10T16:00:00\",\"2016-02-10T17:00:00\",\"2016-02-10T18:00:00\",\"2016-02-10T19:00:00\",\"2016-02-10T20:00:00\",\"2016-02-10T21:00:00\",\"2016-02-10T22:00:00\",\"2016-02-10T23:00:00\",\"2016-02-11T00:00:00\",\"2016-02-11T01:00:00\",\"2016-02-11T02:00:00\",\"2016-02-11T03:00:00\",\"2016-02-11T04:00:00\",\"2016-02-11T05:00:00\",\"2016-02-11T06:00:00\",\"2016-02-11T07:00:00\",\"2016-02-11T08:00:00\",\"2016-02-11T09:00:00\",\"2016-02-11T10:00:00\",\"2016-02-11T11:00:00\",\"2016-02-11T12:00:00\",\"2016-02-11T13:00:00\",\"2016-02-11T14:00:00\",\"2016-02-11T15:00:00\",\"2016-02-11T16:00:00\",\"2016-02-11T17:00:00\",\"2016-02-11T18:00:00\",\"2016-02-11T19:00:00\",\"2016-02-11T20:00:00\",\"2016-02-11T21:00:00\",\"2016-02-11T22:00:00\",\"2016-02-11T23:00:00\",\"2016-02-12T00:00:00\",\"2016-02-12T01:00:00\",\"2016-02-12T02:00:00\",\"2016-02-12T03:00:00\",\"2016-02-12T04:00:00\",\"2016-02-12T05:00:00\",\"2016-02-12T06:00:00\",\"2016-02-12T07:00:00\",\"2016-02-12T08:00:00\",\"2016-02-12T09:00:00\"],\"y\":[1290,819,583,431,463,460,776,1883,2648,2454,1898,1773,1726,1918,2215,2377,2685,2780,2976,2790,2358,2012,1730,1411,1116,738,463,334,341,353,685,1673,2501,2270,1904,1823,1704,1769,2014,2178,2424,2812,3127,3033,2690,2467,2170,1856,1320,871,497,325,328,354,694,1917,2718,2478,1998,1878,2034,2298,2687,2908,3070,3064,3242,3064,2581,2210,1919,1660,1210,837,496,346,352,338,700,1900,2617,2647,2081,1950,1911,1983,2249,2470,2673,3114,3409,3388,3220,2863,2897,2412,1941,1329,853,590,536,424,810,1746,2635,2477,2105,1943,1750,1693,2186,2505,2970,3492,4115,4225,3761,3783,3825,3827,3611,3183,2598,2133,1490,684,612,806,1296,1745,2001,2311,2509,2740,2676,2831,3253,3422,3909,4257,4017,4015,4099,4442,4036,3558,3231,2600,1859,824,593,639,881,1326,1724,1960,1985,2278,2395,2529,3015,3548,3771,2589,2246,2461,3283,2938,1893,1142,745,494,556,424,729,1457,2370,2486,2044,1865,1700,1752,1894,2138,2272,2638,3029,2813,2326,1964,1741,1503,974,584,413,267,283,336,717,1750,2651,2378,1947,1788,1683,1722,1997,2172,2381,2848,3188,3038,2589,2358,1907,1658,1153,706,468,303,315,337,684,1850,2701,2467,2004,1891,1896,2094,2327,2395,2801,3247,3660,3508,3258,2827,2438,1985,1465,1054,606,380,355,372,755,1919,2806,2695,2289,2104,2116,2346,2686,2962,3324,3837,4473,4377,3970,3551,2997,2661,1894,1247,771,555,488,422,879,2053,3016,2673],\"type\":\"scatter\"},{\"line\":{\"color\":\"navy\",\"width\":2.5},\"mode\":\"lines\",\"name\":\"Actual\",\"x\":[\"2016-02-12T10:00:00\",\"2016-02-12T11:00:00\",\"2016-02-12T12:00:00\",\"2016-02-12T13:00:00\",\"2016-02-12T14:00:00\",\"2016-02-12T15:00:00\",\"2016-02-12T16:00:00\",\"2016-02-12T17:00:00\",\"2016-02-12T18:00:00\",\"2016-02-12T19:00:00\",\"2016-02-12T20:00:00\",\"2016-02-12T21:00:00\",\"2016-02-12T22:00:00\",\"2016-02-12T23:00:00\",\"2016-02-13T00:00:00\",\"2016-02-13T01:00:00\",\"2016-02-13T02:00:00\",\"2016-02-13T03:00:00\",\"2016-02-13T04:00:00\",\"2016-02-13T05:00:00\",\"2016-02-13T06:00:00\",\"2016-02-13T07:00:00\",\"2016-02-13T08:00:00\",\"2016-02-13T09:00:00\",\"2016-02-13T10:00:00\",\"2016-02-13T11:00:00\",\"2016-02-13T12:00:00\",\"2016-02-13T13:00:00\",\"2016-02-13T14:00:00\",\"2016-02-13T15:00:00\",\"2016-02-13T16:00:00\",\"2016-02-13T17:00:00\",\"2016-02-13T18:00:00\",\"2016-02-13T19:00:00\",\"2016-02-13T20:00:00\",\"2016-02-13T21:00:00\",\"2016-02-13T22:00:00\",\"2016-02-13T23:00:00\",\"2016-02-14T00:00:00\",\"2016-02-14T01:00:00\",\"2016-02-14T02:00:00\",\"2016-02-14T03:00:00\",\"2016-02-14T04:00:00\",\"2016-02-14T05:00:00\",\"2016-02-14T06:00:00\",\"2016-02-14T07:00:00\",\"2016-02-14T08:00:00\",\"2016-02-14T09:00:00\",\"2016-02-14T10:00:00\",\"2016-02-14T11:00:00\",\"2016-02-14T12:00:00\",\"2016-02-14T13:00:00\",\"2016-02-14T14:00:00\",\"2016-02-14T15:00:00\",\"2016-02-14T16:00:00\",\"2016-02-14T17:00:00\",\"2016-02-14T18:00:00\",\"2016-02-14T19:00:00\",\"2016-02-14T20:00:00\",\"2016-02-14T21:00:00\",\"2016-02-14T22:00:00\",\"2016-02-14T23:00:00\",\"2016-02-15T00:00:00\",\"2016-02-15T01:00:00\",\"2016-02-15T02:00:00\",\"2016-02-15T03:00:00\",\"2016-02-15T04:00:00\",\"2016-02-15T05:00:00\",\"2016-02-15T06:00:00\",\"2016-02-15T07:00:00\",\"2016-02-15T08:00:00\",\"2016-02-15T09:00:00\",\"2016-02-15T10:00:00\",\"2016-02-15T11:00:00\",\"2016-02-15T12:00:00\",\"2016-02-15T13:00:00\",\"2016-02-15T14:00:00\",\"2016-02-15T15:00:00\",\"2016-02-15T16:00:00\",\"2016-02-15T17:00:00\",\"2016-02-15T18:00:00\",\"2016-02-15T19:00:00\",\"2016-02-15T20:00:00\",\"2016-02-15T21:00:00\",\"2016-02-15T22:00:00\",\"2016-02-15T23:00:00\",\"2016-02-16T00:00:00\",\"2016-02-16T01:00:00\",\"2016-02-16T02:00:00\",\"2016-02-16T03:00:00\",\"2016-02-16T04:00:00\",\"2016-02-16T05:00:00\",\"2016-02-16T06:00:00\",\"2016-02-16T07:00:00\",\"2016-02-16T08:00:00\",\"2016-02-16T09:00:00\",\"2016-02-16T10:00:00\",\"2016-02-16T11:00:00\",\"2016-02-16T12:00:00\",\"2016-02-16T13:00:00\",\"2016-02-16T14:00:00\",\"2016-02-16T15:00:00\",\"2016-02-16T16:00:00\",\"2016-02-16T17:00:00\",\"2016-02-16T18:00:00\",\"2016-02-16T19:00:00\",\"2016-02-16T20:00:00\",\"2016-02-16T21:00:00\",\"2016-02-16T22:00:00\",\"2016-02-16T23:00:00\",\"2016-02-17T00:00:00\",\"2016-02-17T01:00:00\",\"2016-02-17T02:00:00\",\"2016-02-17T03:00:00\",\"2016-02-17T04:00:00\",\"2016-02-17T05:00:00\",\"2016-02-17T06:00:00\",\"2016-02-17T07:00:00\",\"2016-02-17T08:00:00\",\"2016-02-17T09:00:00\",\"2016-02-17T10:00:00\",\"2016-02-17T11:00:00\",\"2016-02-17T12:00:00\",\"2016-02-17T13:00:00\",\"2016-02-17T14:00:00\",\"2016-02-17T15:00:00\",\"2016-02-17T16:00:00\",\"2016-02-17T17:00:00\",\"2016-02-17T18:00:00\",\"2016-02-17T19:00:00\",\"2016-02-17T20:00:00\",\"2016-02-17T21:00:00\",\"2016-02-17T22:00:00\",\"2016-02-17T23:00:00\",\"2016-02-18T00:00:00\",\"2016-02-18T01:00:00\",\"2016-02-18T02:00:00\",\"2016-02-18T03:00:00\",\"2016-02-18T04:00:00\",\"2016-02-18T05:00:00\",\"2016-02-18T06:00:00\",\"2016-02-18T07:00:00\",\"2016-02-18T08:00:00\",\"2016-02-18T09:00:00\",\"2016-02-18T10:00:00\",\"2016-02-18T11:00:00\",\"2016-02-18T12:00:00\",\"2016-02-18T13:00:00\",\"2016-02-18T14:00:00\",\"2016-02-18T15:00:00\",\"2016-02-18T16:00:00\",\"2016-02-18T17:00:00\",\"2016-02-18T18:00:00\",\"2016-02-18T19:00:00\",\"2016-02-18T20:00:00\",\"2016-02-18T21:00:00\",\"2016-02-18T22:00:00\",\"2016-02-18T23:00:00\",\"2016-02-19T00:00:00\",\"2016-02-19T01:00:00\",\"2016-02-19T02:00:00\",\"2016-02-19T03:00:00\",\"2016-02-19T04:00:00\",\"2016-02-19T05:00:00\",\"2016-02-19T06:00:00\",\"2016-02-19T07:00:00\",\"2016-02-19T08:00:00\",\"2016-02-19T09:00:00\",\"2016-02-19T10:00:00\",\"2016-02-19T11:00:00\",\"2016-02-19T12:00:00\",\"2016-02-19T13:00:00\",\"2016-02-19T14:00:00\",\"2016-02-19T15:00:00\",\"2016-02-19T16:00:00\",\"2016-02-19T17:00:00\",\"2016-02-19T18:00:00\",\"2016-02-19T19:00:00\",\"2016-02-19T20:00:00\",\"2016-02-19T21:00:00\",\"2016-02-19T22:00:00\",\"2016-02-19T23:00:00\",\"2016-02-20T00:00:00\",\"2016-02-20T01:00:00\",\"2016-02-20T02:00:00\",\"2016-02-20T03:00:00\",\"2016-02-20T04:00:00\",\"2016-02-20T05:00:00\",\"2016-02-20T06:00:00\",\"2016-02-20T07:00:00\",\"2016-02-20T08:00:00\",\"2016-02-20T09:00:00\",\"2016-02-20T10:00:00\",\"2016-02-20T11:00:00\",\"2016-02-20T12:00:00\",\"2016-02-20T13:00:00\",\"2016-02-20T14:00:00\",\"2016-02-20T15:00:00\",\"2016-02-20T16:00:00\",\"2016-02-20T17:00:00\",\"2016-02-20T18:00:00\",\"2016-02-20T19:00:00\",\"2016-02-20T20:00:00\",\"2016-02-20T21:00:00\",\"2016-02-20T22:00:00\",\"2016-02-20T23:00:00\",\"2016-02-21T00:00:00\",\"2016-02-21T01:00:00\",\"2016-02-21T02:00:00\",\"2016-02-21T03:00:00\",\"2016-02-21T04:00:00\",\"2016-02-21T05:00:00\",\"2016-02-21T06:00:00\",\"2016-02-21T07:00:00\",\"2016-02-21T08:00:00\",\"2016-02-21T09:00:00\",\"2016-02-21T10:00:00\",\"2016-02-21T11:00:00\",\"2016-02-21T12:00:00\",\"2016-02-21T13:00:00\",\"2016-02-21T14:00:00\",\"2016-02-21T15:00:00\",\"2016-02-21T16:00:00\",\"2016-02-21T17:00:00\",\"2016-02-21T18:00:00\",\"2016-02-21T19:00:00\",\"2016-02-21T20:00:00\",\"2016-02-21T21:00:00\",\"2016-02-21T22:00:00\",\"2016-02-21T23:00:00\",\"2016-02-22T00:00:00\",\"2016-02-22T01:00:00\",\"2016-02-22T02:00:00\",\"2016-02-22T03:00:00\",\"2016-02-22T04:00:00\",\"2016-02-22T05:00:00\",\"2016-02-22T06:00:00\",\"2016-02-22T07:00:00\",\"2016-02-22T08:00:00\",\"2016-02-22T09:00:00\",\"2016-02-22T10:00:00\",\"2016-02-22T11:00:00\",\"2016-02-22T12:00:00\",\"2016-02-22T13:00:00\",\"2016-02-22T14:00:00\",\"2016-02-22T15:00:00\",\"2016-02-22T16:00:00\",\"2016-02-22T17:00:00\",\"2016-02-22T18:00:00\",\"2016-02-22T19:00:00\",\"2016-02-22T20:00:00\",\"2016-02-22T21:00:00\",\"2016-02-22T22:00:00\",\"2016-02-22T23:00:00\",\"2016-02-23T00:00:00\",\"2016-02-23T01:00:00\",\"2016-02-23T02:00:00\",\"2016-02-23T03:00:00\",\"2016-02-23T04:00:00\",\"2016-02-23T05:00:00\",\"2016-02-23T06:00:00\",\"2016-02-23T07:00:00\",\"2016-02-23T08:00:00\",\"2016-02-23T09:00:00\",\"2016-02-23T10:00:00\",\"2016-02-23T11:00:00\",\"2016-02-23T12:00:00\",\"2016-02-23T13:00:00\",\"2016-02-23T14:00:00\",\"2016-02-23T15:00:00\",\"2016-02-23T16:00:00\",\"2016-02-23T17:00:00\",\"2016-02-23T18:00:00\",\"2016-02-23T19:00:00\",\"2016-02-23T20:00:00\",\"2016-02-23T21:00:00\",\"2016-02-23T22:00:00\",\"2016-02-23T23:00:00\",\"2016-02-24T00:00:00\",\"2016-02-24T01:00:00\",\"2016-02-24T02:00:00\",\"2016-02-24T03:00:00\",\"2016-02-24T04:00:00\",\"2016-02-24T05:00:00\",\"2016-02-24T06:00:00\",\"2016-02-24T07:00:00\",\"2016-02-24T08:00:00\",\"2016-02-24T09:00:00\",\"2016-02-24T10:00:00\",\"2016-02-24T11:00:00\",\"2016-02-24T12:00:00\",\"2016-02-24T13:00:00\",\"2016-02-24T14:00:00\",\"2016-02-24T15:00:00\",\"2016-02-24T16:00:00\",\"2016-02-24T17:00:00\",\"2016-02-24T18:00:00\",\"2016-02-24T19:00:00\",\"2016-02-24T20:00:00\",\"2016-02-24T21:00:00\",\"2016-02-24T22:00:00\",\"2016-02-24T23:00:00\",\"2016-02-25T00:00:00\",\"2016-02-25T01:00:00\",\"2016-02-25T02:00:00\",\"2016-02-25T03:00:00\",\"2016-02-25T04:00:00\",\"2016-02-25T05:00:00\",\"2016-02-25T06:00:00\",\"2016-02-25T07:00:00\",\"2016-02-25T08:00:00\",\"2016-02-25T09:00:00\",\"2016-02-25T10:00:00\",\"2016-02-25T11:00:00\",\"2016-02-25T12:00:00\",\"2016-02-25T13:00:00\",\"2016-02-25T14:00:00\",\"2016-02-25T15:00:00\",\"2016-02-25T16:00:00\",\"2016-02-25T17:00:00\",\"2016-02-25T18:00:00\",\"2016-02-25T19:00:00\",\"2016-02-25T20:00:00\",\"2016-02-25T21:00:00\",\"2016-02-25T22:00:00\",\"2016-02-25T23:00:00\",\"2016-02-26T00:00:00\",\"2016-02-26T01:00:00\",\"2016-02-26T02:00:00\",\"2016-02-26T03:00:00\",\"2016-02-26T04:00:00\",\"2016-02-26T05:00:00\",\"2016-02-26T06:00:00\",\"2016-02-26T07:00:00\",\"2016-02-26T08:00:00\",\"2016-02-26T09:00:00\",\"2016-02-26T10:00:00\",\"2016-02-26T11:00:00\",\"2016-02-26T12:00:00\",\"2016-02-26T13:00:00\",\"2016-02-26T14:00:00\",\"2016-02-26T15:00:00\",\"2016-02-26T16:00:00\",\"2016-02-26T17:00:00\",\"2016-02-26T18:00:00\",\"2016-02-26T19:00:00\",\"2016-02-26T20:00:00\",\"2016-02-26T21:00:00\",\"2016-02-26T22:00:00\",\"2016-02-26T23:00:00\",\"2016-02-27T00:00:00\",\"2016-02-27T01:00:00\",\"2016-02-27T02:00:00\",\"2016-02-27T03:00:00\",\"2016-02-27T04:00:00\",\"2016-02-27T05:00:00\",\"2016-02-27T06:00:00\",\"2016-02-27T07:00:00\",\"2016-02-27T08:00:00\",\"2016-02-27T09:00:00\",\"2016-02-27T10:00:00\",\"2016-02-27T11:00:00\",\"2016-02-27T12:00:00\",\"2016-02-27T13:00:00\",\"2016-02-27T14:00:00\",\"2016-02-27T15:00:00\",\"2016-02-27T16:00:00\",\"2016-02-27T17:00:00\",\"2016-02-27T18:00:00\",\"2016-02-27T19:00:00\",\"2016-02-27T20:00:00\",\"2016-02-27T21:00:00\",\"2016-02-27T22:00:00\",\"2016-02-27T23:00:00\",\"2016-02-28T00:00:00\",\"2016-02-28T01:00:00\",\"2016-02-28T02:00:00\",\"2016-02-28T03:00:00\",\"2016-02-28T04:00:00\",\"2016-02-28T05:00:00\",\"2016-02-28T06:00:00\",\"2016-02-28T07:00:00\",\"2016-02-28T08:00:00\",\"2016-02-28T09:00:00\",\"2016-02-28T10:00:00\",\"2016-02-28T11:00:00\",\"2016-02-28T12:00:00\",\"2016-02-28T13:00:00\",\"2016-02-28T14:00:00\",\"2016-02-28T15:00:00\",\"2016-02-28T16:00:00\",\"2016-02-28T17:00:00\",\"2016-02-28T18:00:00\",\"2016-02-28T19:00:00\",\"2016-02-28T20:00:00\",\"2016-02-28T21:00:00\",\"2016-02-28T22:00:00\",\"2016-02-28T23:00:00\",\"2016-02-29T00:00:00\",\"2016-02-29T01:00:00\",\"2016-02-29T02:00:00\",\"2016-02-29T03:00:00\",\"2016-02-29T04:00:00\",\"2016-02-29T05:00:00\",\"2016-02-29T06:00:00\",\"2016-02-29T07:00:00\",\"2016-02-29T08:00:00\",\"2016-02-29T09:00:00\",\"2016-02-29T10:00:00\",\"2016-02-29T11:00:00\",\"2016-02-29T12:00:00\",\"2016-02-29T13:00:00\",\"2016-02-29T14:00:00\",\"2016-02-29T15:00:00\",\"2016-02-29T16:00:00\",\"2016-02-29T17:00:00\",\"2016-02-29T18:00:00\",\"2016-02-29T19:00:00\",\"2016-02-29T20:00:00\",\"2016-02-29T21:00:00\",\"2016-02-29T22:00:00\",\"2016-02-29T23:00:00\"],\"y\":[2311,2175,2024,2106,2716,3009,3517,4040,4564,4725,4432,4048,3870,3828,3736,3164,2686,2076,1517,774,619,813,1269,1958,2139,2502,2714,2926,3155,3384,3957,4199,4824,5124,4721,4295,3947,4153,3511,2738,2216,1752,1348,646,601,675,954,1365,1837,2267,2447,2694,2793,2946,3273,3480,3861,3934,3562,3140,3015,2847,2294,1667,1181,927,791,601,713,1038,1598,1949,1864,1876,1961,2169,2368,2646,2706,2522,2695,2554,2437,2115,1989,1608,1047,633,444,264,303,391,700,1426,2338,2648,2037,1941,2094,2515,2855,2340,2246,2540,2923,2810,2473,2200,1911,1600,1242,854,534,329,344,352,708,1446,2313,2336,2111,2016,1987,2046,2214,2460,2689,2912,3323,3360,2858,2663,2313,2056,1514,973,645,446,401,358,703,1543,2436,2537,2200,2064,1975,2145,2169,2421,2926,3291,3858,3762,3416,3264,2936,2629,1871,1329,953,685,536,422,762,1597,2514,2541,2163,1974,1892,1895,2298,2618,3269,3639,4294,4314,3938,3854,3776,3870,3781,3298,2694,2277,1646,824,687,964,1350,1788,2079,2301,2465,2663,2752,2885,3297,3502,4045,4264,4131,4108,4242,4470,4212,3872,3265,2762,2018,951,684,702,954,1390,1741,1990,2113,2359,2424,2592,2781,2972,3292,2873,2812,2510,2186,1687,1216,822,494,301,448,428,870,1957,2582,2368,1971,1740,1612,1711,1985,2100,2373,2699,2961,2807,2398,2073,1812,1451,1067,672,422,303,297,345,780,1895,2643,2544,2007,2081,2207,2148,2579,2792,2955,3400,3845,3725,3561,2888,2473,1894,1296,746,448,291,331,374,819,1933,2869,2779,2262,2434,2521,2436,2278,2381,2890,3349,3500,3521,2911,2710,2400,2189,1367,811,507,367,385,382,821,1931,2705,2505,2164,1753,1909,1957,2533,2911,3271,3534,3875,3780,3425,3248,2843,2509,1834,1214,872,671,574,462,834,2047,2703,2491,2143,1975,1830,1986,2473,2805,3236,3871,4480,4690,4431,4253,4187,4191,3843,3220,2707,2083,1608,716,749,948,1362,1966,2193,2329,2279,2619,2941,3027,3285,3620,4113,4396,4281,4323,4244,4559,4278,3749,3314,2643,2038,903,621,669,899,1387,1728,1960,2077,2366,2492,2536,2672,2824,3062,2859,2524,2342,2072,1724,1828,904,571,427,474,431,920,1973,2759,2429,2176,2091,1740,1768,2025,2058,2359,2653,2928,2814,2523,2186,1765,1524],\"type\":\"scatter\"},{\"line\":{\"color\":\"orange\",\"width\":1.5},\"mode\":\"lines\",\"name\":\"Predicted (XGBoost)\",\"x\":[\"2016-02-12T10:00:00\",\"2016-02-12T11:00:00\",\"2016-02-12T12:00:00\",\"2016-02-12T13:00:00\",\"2016-02-12T14:00:00\",\"2016-02-12T15:00:00\",\"2016-02-12T16:00:00\",\"2016-02-12T17:00:00\",\"2016-02-12T18:00:00\",\"2016-02-12T19:00:00\",\"2016-02-12T20:00:00\",\"2016-02-12T21:00:00\",\"2016-02-12T22:00:00\",\"2016-02-12T23:00:00\",\"2016-02-13T00:00:00\",\"2016-02-13T01:00:00\",\"2016-02-13T02:00:00\",\"2016-02-13T03:00:00\",\"2016-02-13T04:00:00\",\"2016-02-13T05:00:00\",\"2016-02-13T06:00:00\",\"2016-02-13T07:00:00\",\"2016-02-13T08:00:00\",\"2016-02-13T09:00:00\",\"2016-02-13T10:00:00\",\"2016-02-13T11:00:00\",\"2016-02-13T12:00:00\",\"2016-02-13T13:00:00\",\"2016-02-13T14:00:00\",\"2016-02-13T15:00:00\",\"2016-02-13T16:00:00\",\"2016-02-13T17:00:00\",\"2016-02-13T18:00:00\",\"2016-02-13T19:00:00\",\"2016-02-13T20:00:00\",\"2016-02-13T21:00:00\",\"2016-02-13T22:00:00\",\"2016-02-13T23:00:00\",\"2016-02-14T00:00:00\",\"2016-02-14T01:00:00\",\"2016-02-14T02:00:00\",\"2016-02-14T03:00:00\",\"2016-02-14T04:00:00\",\"2016-02-14T05:00:00\",\"2016-02-14T06:00:00\",\"2016-02-14T07:00:00\",\"2016-02-14T08:00:00\",\"2016-02-14T09:00:00\",\"2016-02-14T10:00:00\",\"2016-02-14T11:00:00\",\"2016-02-14T12:00:00\",\"2016-02-14T13:00:00\",\"2016-02-14T14:00:00\",\"2016-02-14T15:00:00\",\"2016-02-14T16:00:00\",\"2016-02-14T17:00:00\",\"2016-02-14T18:00:00\",\"2016-02-14T19:00:00\",\"2016-02-14T20:00:00\",\"2016-02-14T21:00:00\",\"2016-02-14T22:00:00\",\"2016-02-14T23:00:00\",\"2016-02-15T00:00:00\",\"2016-02-15T01:00:00\",\"2016-02-15T02:00:00\",\"2016-02-15T03:00:00\",\"2016-02-15T04:00:00\",\"2016-02-15T05:00:00\",\"2016-02-15T06:00:00\",\"2016-02-15T07:00:00\",\"2016-02-15T08:00:00\",\"2016-02-15T09:00:00\",\"2016-02-15T10:00:00\",\"2016-02-15T11:00:00\",\"2016-02-15T12:00:00\",\"2016-02-15T13:00:00\",\"2016-02-15T14:00:00\",\"2016-02-15T15:00:00\",\"2016-02-15T16:00:00\",\"2016-02-15T17:00:00\",\"2016-02-15T18:00:00\",\"2016-02-15T19:00:00\",\"2016-02-15T20:00:00\",\"2016-02-15T21:00:00\",\"2016-02-15T22:00:00\",\"2016-02-15T23:00:00\",\"2016-02-16T00:00:00\",\"2016-02-16T01:00:00\",\"2016-02-16T02:00:00\",\"2016-02-16T03:00:00\",\"2016-02-16T04:00:00\",\"2016-02-16T05:00:00\",\"2016-02-16T06:00:00\",\"2016-02-16T07:00:00\",\"2016-02-16T08:00:00\",\"2016-02-16T09:00:00\",\"2016-02-16T10:00:00\",\"2016-02-16T11:00:00\",\"2016-02-16T12:00:00\",\"2016-02-16T13:00:00\",\"2016-02-16T14:00:00\",\"2016-02-16T15:00:00\",\"2016-02-16T16:00:00\",\"2016-02-16T17:00:00\",\"2016-02-16T18:00:00\",\"2016-02-16T19:00:00\",\"2016-02-16T20:00:00\",\"2016-02-16T21:00:00\",\"2016-02-16T22:00:00\",\"2016-02-16T23:00:00\",\"2016-02-17T00:00:00\",\"2016-02-17T01:00:00\",\"2016-02-17T02:00:00\",\"2016-02-17T03:00:00\",\"2016-02-17T04:00:00\",\"2016-02-17T05:00:00\",\"2016-02-17T06:00:00\",\"2016-02-17T07:00:00\",\"2016-02-17T08:00:00\",\"2016-02-17T09:00:00\",\"2016-02-17T10:00:00\",\"2016-02-17T11:00:00\",\"2016-02-17T12:00:00\",\"2016-02-17T13:00:00\",\"2016-02-17T14:00:00\",\"2016-02-17T15:00:00\",\"2016-02-17T16:00:00\",\"2016-02-17T17:00:00\",\"2016-02-17T18:00:00\",\"2016-02-17T19:00:00\",\"2016-02-17T20:00:00\",\"2016-02-17T21:00:00\",\"2016-02-17T22:00:00\",\"2016-02-17T23:00:00\",\"2016-02-18T00:00:00\",\"2016-02-18T01:00:00\",\"2016-02-18T02:00:00\",\"2016-02-18T03:00:00\",\"2016-02-18T04:00:00\",\"2016-02-18T05:00:00\",\"2016-02-18T06:00:00\",\"2016-02-18T07:00:00\",\"2016-02-18T08:00:00\",\"2016-02-18T09:00:00\",\"2016-02-18T10:00:00\",\"2016-02-18T11:00:00\",\"2016-02-18T12:00:00\",\"2016-02-18T13:00:00\",\"2016-02-18T14:00:00\",\"2016-02-18T15:00:00\",\"2016-02-18T16:00:00\",\"2016-02-18T17:00:00\",\"2016-02-18T18:00:00\",\"2016-02-18T19:00:00\",\"2016-02-18T20:00:00\",\"2016-02-18T21:00:00\",\"2016-02-18T22:00:00\",\"2016-02-18T23:00:00\",\"2016-02-19T00:00:00\",\"2016-02-19T01:00:00\",\"2016-02-19T02:00:00\",\"2016-02-19T03:00:00\",\"2016-02-19T04:00:00\",\"2016-02-19T05:00:00\",\"2016-02-19T06:00:00\",\"2016-02-19T07:00:00\",\"2016-02-19T08:00:00\",\"2016-02-19T09:00:00\",\"2016-02-19T10:00:00\",\"2016-02-19T11:00:00\",\"2016-02-19T12:00:00\",\"2016-02-19T13:00:00\",\"2016-02-19T14:00:00\",\"2016-02-19T15:00:00\",\"2016-02-19T16:00:00\",\"2016-02-19T17:00:00\",\"2016-02-19T18:00:00\",\"2016-02-19T19:00:00\",\"2016-02-19T20:00:00\",\"2016-02-19T21:00:00\",\"2016-02-19T22:00:00\",\"2016-02-19T23:00:00\",\"2016-02-20T00:00:00\",\"2016-02-20T01:00:00\",\"2016-02-20T02:00:00\",\"2016-02-20T03:00:00\",\"2016-02-20T04:00:00\",\"2016-02-20T05:00:00\",\"2016-02-20T06:00:00\",\"2016-02-20T07:00:00\",\"2016-02-20T08:00:00\",\"2016-02-20T09:00:00\",\"2016-02-20T10:00:00\",\"2016-02-20T11:00:00\",\"2016-02-20T12:00:00\",\"2016-02-20T13:00:00\",\"2016-02-20T14:00:00\",\"2016-02-20T15:00:00\",\"2016-02-20T16:00:00\",\"2016-02-20T17:00:00\",\"2016-02-20T18:00:00\",\"2016-02-20T19:00:00\",\"2016-02-20T20:00:00\",\"2016-02-20T21:00:00\",\"2016-02-20T22:00:00\",\"2016-02-20T23:00:00\",\"2016-02-21T00:00:00\",\"2016-02-21T01:00:00\",\"2016-02-21T02:00:00\",\"2016-02-21T03:00:00\",\"2016-02-21T04:00:00\",\"2016-02-21T05:00:00\",\"2016-02-21T06:00:00\",\"2016-02-21T07:00:00\",\"2016-02-21T08:00:00\",\"2016-02-21T09:00:00\",\"2016-02-21T10:00:00\",\"2016-02-21T11:00:00\",\"2016-02-21T12:00:00\",\"2016-02-21T13:00:00\",\"2016-02-21T14:00:00\",\"2016-02-21T15:00:00\",\"2016-02-21T16:00:00\",\"2016-02-21T17:00:00\",\"2016-02-21T18:00:00\",\"2016-02-21T19:00:00\",\"2016-02-21T20:00:00\",\"2016-02-21T21:00:00\",\"2016-02-21T22:00:00\",\"2016-02-21T23:00:00\",\"2016-02-22T00:00:00\",\"2016-02-22T01:00:00\",\"2016-02-22T02:00:00\",\"2016-02-22T03:00:00\",\"2016-02-22T04:00:00\",\"2016-02-22T05:00:00\",\"2016-02-22T06:00:00\",\"2016-02-22T07:00:00\",\"2016-02-22T08:00:00\",\"2016-02-22T09:00:00\",\"2016-02-22T10:00:00\",\"2016-02-22T11:00:00\",\"2016-02-22T12:00:00\",\"2016-02-22T13:00:00\",\"2016-02-22T14:00:00\",\"2016-02-22T15:00:00\",\"2016-02-22T16:00:00\",\"2016-02-22T17:00:00\",\"2016-02-22T18:00:00\",\"2016-02-22T19:00:00\",\"2016-02-22T20:00:00\",\"2016-02-22T21:00:00\",\"2016-02-22T22:00:00\",\"2016-02-22T23:00:00\",\"2016-02-23T00:00:00\",\"2016-02-23T01:00:00\",\"2016-02-23T02:00:00\",\"2016-02-23T03:00:00\",\"2016-02-23T04:00:00\",\"2016-02-23T05:00:00\",\"2016-02-23T06:00:00\",\"2016-02-23T07:00:00\",\"2016-02-23T08:00:00\",\"2016-02-23T09:00:00\",\"2016-02-23T10:00:00\",\"2016-02-23T11:00:00\",\"2016-02-23T12:00:00\",\"2016-02-23T13:00:00\",\"2016-02-23T14:00:00\",\"2016-02-23T15:00:00\",\"2016-02-23T16:00:00\",\"2016-02-23T17:00:00\",\"2016-02-23T18:00:00\",\"2016-02-23T19:00:00\",\"2016-02-23T20:00:00\",\"2016-02-23T21:00:00\",\"2016-02-23T22:00:00\",\"2016-02-23T23:00:00\",\"2016-02-24T00:00:00\",\"2016-02-24T01:00:00\",\"2016-02-24T02:00:00\",\"2016-02-24T03:00:00\",\"2016-02-24T04:00:00\",\"2016-02-24T05:00:00\",\"2016-02-24T06:00:00\",\"2016-02-24T07:00:00\",\"2016-02-24T08:00:00\",\"2016-02-24T09:00:00\",\"2016-02-24T10:00:00\",\"2016-02-24T11:00:00\",\"2016-02-24T12:00:00\",\"2016-02-24T13:00:00\",\"2016-02-24T14:00:00\",\"2016-02-24T15:00:00\",\"2016-02-24T16:00:00\",\"2016-02-24T17:00:00\",\"2016-02-24T18:00:00\",\"2016-02-24T19:00:00\",\"2016-02-24T20:00:00\",\"2016-02-24T21:00:00\",\"2016-02-24T22:00:00\",\"2016-02-24T23:00:00\",\"2016-02-25T00:00:00\",\"2016-02-25T01:00:00\",\"2016-02-25T02:00:00\",\"2016-02-25T03:00:00\",\"2016-02-25T04:00:00\",\"2016-02-25T05:00:00\",\"2016-02-25T06:00:00\",\"2016-02-25T07:00:00\",\"2016-02-25T08:00:00\",\"2016-02-25T09:00:00\",\"2016-02-25T10:00:00\",\"2016-02-25T11:00:00\",\"2016-02-25T12:00:00\",\"2016-02-25T13:00:00\",\"2016-02-25T14:00:00\",\"2016-02-25T15:00:00\",\"2016-02-25T16:00:00\",\"2016-02-25T17:00:00\",\"2016-02-25T18:00:00\",\"2016-02-25T19:00:00\",\"2016-02-25T20:00:00\",\"2016-02-25T21:00:00\",\"2016-02-25T22:00:00\",\"2016-02-25T23:00:00\",\"2016-02-26T00:00:00\",\"2016-02-26T01:00:00\",\"2016-02-26T02:00:00\",\"2016-02-26T03:00:00\",\"2016-02-26T04:00:00\",\"2016-02-26T05:00:00\",\"2016-02-26T06:00:00\",\"2016-02-26T07:00:00\",\"2016-02-26T08:00:00\",\"2016-02-26T09:00:00\",\"2016-02-26T10:00:00\",\"2016-02-26T11:00:00\",\"2016-02-26T12:00:00\",\"2016-02-26T13:00:00\",\"2016-02-26T14:00:00\",\"2016-02-26T15:00:00\",\"2016-02-26T16:00:00\",\"2016-02-26T17:00:00\",\"2016-02-26T18:00:00\",\"2016-02-26T19:00:00\",\"2016-02-26T20:00:00\",\"2016-02-26T21:00:00\",\"2016-02-26T22:00:00\",\"2016-02-26T23:00:00\",\"2016-02-27T00:00:00\",\"2016-02-27T01:00:00\",\"2016-02-27T02:00:00\",\"2016-02-27T03:00:00\",\"2016-02-27T04:00:00\",\"2016-02-27T05:00:00\",\"2016-02-27T06:00:00\",\"2016-02-27T07:00:00\",\"2016-02-27T08:00:00\",\"2016-02-27T09:00:00\",\"2016-02-27T10:00:00\",\"2016-02-27T11:00:00\",\"2016-02-27T12:00:00\",\"2016-02-27T13:00:00\",\"2016-02-27T14:00:00\",\"2016-02-27T15:00:00\",\"2016-02-27T16:00:00\",\"2016-02-27T17:00:00\",\"2016-02-27T18:00:00\",\"2016-02-27T19:00:00\",\"2016-02-27T20:00:00\",\"2016-02-27T21:00:00\",\"2016-02-27T22:00:00\",\"2016-02-27T23:00:00\",\"2016-02-28T00:00:00\",\"2016-02-28T01:00:00\",\"2016-02-28T02:00:00\",\"2016-02-28T03:00:00\",\"2016-02-28T04:00:00\",\"2016-02-28T05:00:00\",\"2016-02-28T06:00:00\",\"2016-02-28T07:00:00\",\"2016-02-28T08:00:00\",\"2016-02-28T09:00:00\",\"2016-02-28T10:00:00\",\"2016-02-28T11:00:00\",\"2016-02-28T12:00:00\",\"2016-02-28T13:00:00\",\"2016-02-28T14:00:00\",\"2016-02-28T15:00:00\",\"2016-02-28T16:00:00\",\"2016-02-28T17:00:00\",\"2016-02-28T18:00:00\",\"2016-02-28T19:00:00\",\"2016-02-28T20:00:00\",\"2016-02-28T21:00:00\",\"2016-02-28T22:00:00\",\"2016-02-28T23:00:00\",\"2016-02-29T00:00:00\",\"2016-02-29T01:00:00\",\"2016-02-29T02:00:00\",\"2016-02-29T03:00:00\",\"2016-02-29T04:00:00\",\"2016-02-29T05:00:00\",\"2016-02-29T06:00:00\",\"2016-02-29T07:00:00\",\"2016-02-29T08:00:00\",\"2016-02-29T09:00:00\",\"2016-02-29T10:00:00\",\"2016-02-29T11:00:00\",\"2016-02-29T12:00:00\",\"2016-02-29T13:00:00\",\"2016-02-29T14:00:00\",\"2016-02-29T15:00:00\",\"2016-02-29T16:00:00\",\"2016-02-29T17:00:00\",\"2016-02-29T18:00:00\",\"2016-02-29T19:00:00\",\"2016-02-29T20:00:00\",\"2016-02-29T21:00:00\",\"2016-02-29T22:00:00\",\"2016-02-29T23:00:00\"],\"y\":[2104.97607421875,1943.017822265625,1749.9815673828125,1693.0133056640625,2185.986572265625,2505.01416015625,2969.9990234375,3491.9931640625,4115.0,4225.00244140625,3761.006103515625,3782.9921875,3825.00244140625,3827.000732421875,3611.00244140625,3182.995849609375,2598.008544921875,2132.990478515625,1490.0084228515625,683.992431640625,612.0081787109375,805.98486328125,1296.0159912109375,1744.9853515625,2001.0179443359375,2310.983154296875,2509.016845703125,2739.982666015625,2676.02001953125,2830.98291015625,3252.99853515625,3422.0,3909.011962890625,4256.99072265625,4017.000732421875,4015.000732421875,4099.00390625,4441.9970703125,4035.999755859375,3558.00146484375,3230.9990234375,2600.00341796875,1858.9962158203125,824.0042724609375,592.9966430664062,639.0057983398438,880.9900512695312,1326.0050048828125,1723.989013671875,1960.010498046875,1984.98974609375,2278.009033203125,2394.991455078125,2529.00732421875,3015.000244140625,3548.001708984375,3770.993408203125,2589.005126953125,2245.99658203125,2461.003173828125,3282.995849609375,2938.001708984375,1591.500732421875,980.4996948242188,663.9973754882812,462.5032958984375,509.4966125488281,442.0028076171875,752.4993286132812,1669.997802734375,2509.003173828125,2470.000244140625,1970.9979248046875,1819.002197265625,1713.001708984375,1834.9970703125,2054.503662109375,2257.500732421875,2478.498291015625,2709.002685546875,3002.497314453125,2801.502685546875,2341.9990234375,1988.0008544921875,1735.498291015625,1457.000244140625,1044.99755859375,661.00048828125,438.00555419921875,300.4917297363281,312.0051574707031,344.4986572265625,700.9973754882812,1711.503173828125,2576.00048828125,2323.997802734375,1925.5050048828125,1805.4945068359375,1693.4998779296875,1745.503173828125,2005.502197265625,2174.9951171875,2402.50390625,2829.994873046875,3157.50537109375,3035.494873046875,2639.5029296875,2412.498046875,2038.50341796875,1756.9989013671875,1236.5003662109375,788.5025024414062,482.4939270019531,314.0079650878906,321.4956359863281,345.49530029296875,689.00732421875,1883.4979248046875,2709.495361328125,2472.50732421875,2000.9942626953125,1884.507080078125,1964.99462890625,2196.00537109375,2506.992431640625,2651.507080078125,2935.493896484375,3155.502685546875,3450.99658203125,3286.004150390625,2919.496337890625,2518.50048828125,2178.497802734375,1822.50244140625,1337.5020751953125,945.4946899414062,551.0049438476562,362.99432373046875,353.50604248046875,355.00018310546875,727.498046875,1909.4974365234375,2711.507080078125,2670.992431640625,2185.010498046875,2026.9913330078125,2013.510009765625,2164.49072265625,2467.5048828125,2715.995361328125,2998.504150390625,3475.500732421875,3940.99951171875,3882.499267578125,3594.99951171875,3207.001708984375,2946.9990234375,2536.499267578125,1917.499267578125,1288.0029296875,811.9957275390625,572.5047607421875,511.99517822265625,423.00445556640625,844.4959716796875,1899.50732421875,2825.492919921875,2575.00927734375,2104.97607421875,1943.017822265625,1749.9815673828125,1693.0133056640625,2185.986572265625,2505.01416015625,2969.9990234375,3491.9931640625,4115.0,4225.00244140625,3761.006103515625,3782.9921875,3825.00244140625,3827.000732421875,3611.00244140625,3182.995849609375,2598.008544921875,2132.990478515625,1490.0084228515625,683.992431640625,612.0081787109375,805.98486328125,1296.0159912109375,1744.9853515625,2001.0179443359375,2310.983154296875,2509.016845703125,2739.982666015625,2676.02001953125,2830.98291015625,3252.99853515625,3422.0,3909.011962890625,4256.99072265625,4017.000732421875,4015.000732421875,4099.00390625,4441.9970703125,4035.999755859375,3558.00146484375,3230.9990234375,2600.00341796875,1858.9962158203125,824.0042724609375,592.9966430664062,639.0057983398438,880.9900512695312,1326.0050048828125,1723.989013671875,1960.010498046875,1984.98974609375,2278.009033203125,2394.991455078125,2529.00732421875,3015.000244140625,3548.001708984375,3770.993408203125,2589.005126953125,2245.99658203125,2461.003173828125,3282.995849609375,2938.001708984375,1591.500732421875,980.4996948242188,663.9973754882812,462.5032958984375,509.4966125488281,442.0028076171875,752.4993286132812,1669.997802734375,2509.003173828125,2470.000244140625,1970.9979248046875,1819.002197265625,1713.001708984375,1834.9970703125,2054.503662109375,2257.500732421875,2478.498291015625,2709.002685546875,3002.497314453125,2801.502685546875,2341.9990234375,1988.0008544921875,1735.498291015625,1457.000244140625,1044.99755859375,661.00048828125,438.00555419921875,300.4917297363281,312.0051574707031,344.4986572265625,700.9973754882812,1711.503173828125,2576.00048828125,2323.997802734375,1925.5050048828125,1805.4945068359375,1693.4998779296875,1745.503173828125,2005.502197265625,2174.9951171875,2402.50390625,2829.994873046875,3157.50537109375,3035.494873046875,2639.5029296875,2412.498046875,2038.50341796875,1756.9989013671875,1236.5003662109375,788.5025024414062,482.4939270019531,314.0079650878906,321.4956359863281,345.49530029296875,689.00732421875,1883.4979248046875,2709.495361328125,2472.50732421875,2000.9942626953125,1884.507080078125,1964.99462890625,2196.00537109375,2506.992431640625,2651.507080078125,2935.493896484375,3155.502685546875,3450.99658203125,3286.004150390625,2919.496337890625,2518.50048828125,2178.497802734375,1822.50244140625,1337.5020751953125,945.4946899414062,551.0049438476562,362.99432373046875,353.50604248046875,355.00018310546875,727.498046875,1909.4974365234375,2711.507080078125,2670.992431640625,2185.010498046875,2026.9913330078125,2013.510009765625,2164.49072265625,2467.5048828125,2715.995361328125,2998.504150390625,3475.500732421875,3940.99951171875,3882.499267578125,3594.99951171875,3207.001708984375,2946.9990234375,2536.499267578125,1917.499267578125,1288.0029296875,811.9957275390625,572.5047607421875,511.99517822265625,423.00445556640625,844.4959716796875,1899.50732421875,2825.492919921875,2575.00927734375,2104.97607421875,1943.017822265625,1749.9815673828125,1693.0133056640625,2185.986572265625,2505.01416015625,2969.9990234375,3491.9931640625,4115.0,4225.00244140625,3761.006103515625,3782.9921875,3825.00244140625,3827.000732421875,3611.00244140625,3182.995849609375,2598.008544921875,2132.990478515625,1490.0084228515625,683.992431640625,612.0081787109375,805.98486328125,1296.0159912109375,1744.9853515625,2001.0179443359375,2310.983154296875,2509.016845703125,2739.982666015625,2676.02001953125,2830.98291015625,3252.99853515625,3422.0,3909.011962890625,4256.99072265625,4017.000732421875,4015.000732421875,4099.00390625,4441.9970703125,4035.999755859375,3558.00146484375,3230.9990234375,2600.00341796875,1858.9962158203125,824.0042724609375,592.9966430664062,639.0057983398438,880.9900512695312,1326.0050048828125,1723.989013671875,1960.010498046875,1984.98974609375,2278.009033203125,2394.991455078125,2529.00732421875,3015.000244140625,3548.001708984375,3770.993408203125,2589.005126953125,2245.99658203125,2461.003173828125,3282.995849609375,2938.001708984375,1591.500732421875,980.4996948242188,663.9973754882812,462.5032958984375,509.4966125488281,442.0028076171875,752.4993286132812,1669.997802734375,2509.003173828125,2470.000244140625,1970.9979248046875,1819.002197265625,1713.001708984375,1834.9970703125,2054.503662109375,2257.500732421875,2478.498291015625,2709.002685546875,3002.497314453125,2801.502685546875,2341.9990234375,1988.0008544921875,1735.498291015625,1457.000244140625],\"type\":\"scatter\"}],                        {\"template\":{\"data\":{\"histogram2dcontour\":[{\"type\":\"histogram2dcontour\",\"colorbar\":{\"outlinewidth\":0,\"ticks\":\"\"},\"colorscale\":[[0.0,\"#0d0887\"],[0.1111111111111111,\"#46039f\"],[0.2222222222222222,\"#7201a8\"],[0.3333333333333333,\"#9c179e\"],[0.4444444444444444,\"#bd3786\"],[0.5555555555555556,\"#d8576b\"],[0.6666666666666666,\"#ed7953\"],[0.7777777777777778,\"#fb9f3a\"],[0.8888888888888888,\"#fdca26\"],[1.0,\"#f0f921\"]]}],\"choropleth\":[{\"type\":\"choropleth\",\"colorbar\":{\"outlinewidth\":0,\"ticks\":\"\"}}],\"histogram2d\":[{\"type\":\"histogram2d\",\"colorbar\":{\"outlinewidth\":0,\"ticks\":\"\"},\"colorscale\":[[0.0,\"#0d0887\"],[0.1111111111111111,\"#46039f\"],[0.2222222222222222,\"#7201a8\"],[0.3333333333333333,\"#9c179e\"],[0.4444444444444444,\"#bd3786\"],[0.5555555555555556,\"#d8576b\"],[0.6666666666666666,\"#ed7953\"],[0.7777777777777778,\"#fb9f3a\"],[0.8888888888888888,\"#fdca26\"],[1.0,\"#f0f921\"]]}],\"heatmap\":[{\"type\":\"heatmap\",\"colorbar\":{\"outlinewidth\":0,\"ticks\":\"\"},\"colorscale\":[[0.0,\"#0d0887\"],[0.1111111111111111,\"#46039f\"],[0.2222222222222222,\"#7201a8\"],[0.3333333333333333,\"#9c179e\"],[0.4444444444444444,\"#bd3786\"],[0.5555555555555556,\"#d8576b\"],[0.6666666666666666,\"#ed7953\"],[0.7777777777777778,\"#fb9f3a\"],[0.8888888888888888,\"#fdca26\"],[1.0,\"#f0f921\"]]}],\"heatmapgl\":[{\"type\":\"heatmapgl\",\"colorbar\":{\"outlinewidth\":0,\"ticks\":\"\"},\"colorscale\":[[0.0,\"#0d0887\"],[0.1111111111111111,\"#46039f\"],[0.2222222222222222,\"#7201a8\"],[0.3333333333333333,\"#9c179e\"],[0.4444444444444444,\"#bd3786\"],[0.5555555555555556,\"#d8576b\"],[0.6666666666666666,\"#ed7953\"],[0.7777777777777778,\"#fb9f3a\"],[0.8888888888888888,\"#fdca26\"],[1.0,\"#f0f921\"]]}],\"contourcarpet\":[{\"type\":\"contourcarpet\",\"colorbar\":{\"outlinewidth\":0,\"ticks\":\"\"}}],\"contour\":[{\"type\":\"contour\",\"colorbar\":{\"outlinewidth\":0,\"ticks\":\"\"},\"colorscale\":[[0.0,\"#0d0887\"],[0.1111111111111111,\"#46039f\"],[0.2222222222222222,\"#7201a8\"],[0.3333333333333333,\"#9c179e\"],[0.4444444444444444,\"#bd3786\"],[0.5555555555555556,\"#d8576b\"],[0.6666666666666666,\"#ed7953\"],[0.7777777777777778,\"#fb9f3a\"],[0.8888888888888888,\"#fdca26\"],[1.0,\"#f0f921\"]]}],\"surface\":[{\"type\":\"surface\",\"colorbar\":{\"outlinewidth\":0,\"ticks\":\"\"},\"colorscale\":[[0.0,\"#0d0887\"],[0.1111111111111111,\"#46039f\"],[0.2222222222222222,\"#7201a8\"],[0.3333333333333333,\"#9c179e\"],[0.4444444444444444,\"#bd3786\"],[0.5555555555555556,\"#d8576b\"],[0.6666666666666666,\"#ed7953\"],[0.7777777777777778,\"#fb9f3a\"],[0.8888888888888888,\"#fdca26\"],[1.0,\"#f0f921\"]]}],\"mesh3d\":[{\"type\":\"mesh3d\",\"colorbar\":{\"outlinewidth\":0,\"ticks\":\"\"}}],\"scatter\":[{\"fillpattern\":{\"fillmode\":\"overlay\",\"size\":10,\"solidity\":0.2},\"type\":\"scatter\"}],\"parcoords\":[{\"type\":\"parcoords\",\"line\":{\"colorbar\":{\"outlinewidth\":0,\"ticks\":\"\"}}}],\"scatterpolargl\":[{\"type\":\"scatterpolargl\",\"marker\":{\"colorbar\":{\"outlinewidth\":0,\"ticks\":\"\"}}}],\"bar\":[{\"error_x\":{\"color\":\"#2a3f5f\"},\"error_y\":{\"color\":\"#2a3f5f\"},\"marker\":{\"line\":{\"color\":\"white\",\"width\":0.5},\"pattern\":{\"fillmode\":\"overlay\",\"size\":10,\"solidity\":0.2}},\"type\":\"bar\"}],\"scattergeo\":[{\"type\":\"scattergeo\",\"marker\":{\"colorbar\":{\"outlinewidth\":0,\"ticks\":\"\"}}}],\"scatterpolar\":[{\"type\":\"scatterpolar\",\"marker\":{\"colorbar\":{\"outlinewidth\":0,\"ticks\":\"\"}}}],\"histogram\":[{\"marker\":{\"pattern\":{\"fillmode\":\"overlay\",\"size\":10,\"solidity\":0.2}},\"type\":\"histogram\"}],\"scattergl\":[{\"type\":\"scattergl\",\"marker\":{\"colorbar\":{\"outlinewidth\":0,\"ticks\":\"\"}}}],\"scatter3d\":[{\"type\":\"scatter3d\",\"line\":{\"colorbar\":{\"outlinewidth\":0,\"ticks\":\"\"}},\"marker\":{\"colorbar\":{\"outlinewidth\":0,\"ticks\":\"\"}}}],\"scattermapbox\":[{\"type\":\"scattermapbox\",\"marker\":{\"colorbar\":{\"outlinewidth\":0,\"ticks\":\"\"}}}],\"scatterternary\":[{\"type\":\"scatterternary\",\"marker\":{\"colorbar\":{\"outlinewidth\":0,\"ticks\":\"\"}}}],\"scattercarpet\":[{\"type\":\"scattercarpet\",\"marker\":{\"colorbar\":{\"outlinewidth\":0,\"ticks\":\"\"}}}],\"carpet\":[{\"aaxis\":{\"endlinecolor\":\"#2a3f5f\",\"gridcolor\":\"#C8D4E3\",\"linecolor\":\"#C8D4E3\",\"minorgridcolor\":\"#C8D4E3\",\"startlinecolor\":\"#2a3f5f\"},\"baxis\":{\"endlinecolor\":\"#2a3f5f\",\"gridcolor\":\"#C8D4E3\",\"linecolor\":\"#C8D4E3\",\"minorgridcolor\":\"#C8D4E3\",\"startlinecolor\":\"#2a3f5f\"},\"type\":\"carpet\"}],\"table\":[{\"cells\":{\"fill\":{\"color\":\"#EBF0F8\"},\"line\":{\"color\":\"white\"}},\"header\":{\"fill\":{\"color\":\"#C8D4E3\"},\"line\":{\"color\":\"white\"}},\"type\":\"table\"}],\"barpolar\":[{\"marker\":{\"line\":{\"color\":\"white\",\"width\":0.5},\"pattern\":{\"fillmode\":\"overlay\",\"size\":10,\"solidity\":0.2}},\"type\":\"barpolar\"}],\"pie\":[{\"automargin\":true,\"type\":\"pie\"}]},\"layout\":{\"autotypenumbers\":\"strict\",\"colorway\":[\"#636efa\",\"#EF553B\",\"#00cc96\",\"#ab63fa\",\"#FFA15A\",\"#19d3f3\",\"#FF6692\",\"#B6E880\",\"#FF97FF\",\"#FECB52\"],\"font\":{\"color\":\"#2a3f5f\"},\"hovermode\":\"closest\",\"hoverlabel\":{\"align\":\"left\"},\"paper_bgcolor\":\"white\",\"plot_bgcolor\":\"white\",\"polar\":{\"bgcolor\":\"white\",\"angularaxis\":{\"gridcolor\":\"#EBF0F8\",\"linecolor\":\"#EBF0F8\",\"ticks\":\"\"},\"radialaxis\":{\"gridcolor\":\"#EBF0F8\",\"linecolor\":\"#EBF0F8\",\"ticks\":\"\"}},\"ternary\":{\"bgcolor\":\"white\",\"aaxis\":{\"gridcolor\":\"#DFE8F3\",\"linecolor\":\"#A2B1C6\",\"ticks\":\"\"},\"baxis\":{\"gridcolor\":\"#DFE8F3\",\"linecolor\":\"#A2B1C6\",\"ticks\":\"\"},\"caxis\":{\"gridcolor\":\"#DFE8F3\",\"linecolor\":\"#A2B1C6\",\"ticks\":\"\"}},\"coloraxis\":{\"colorbar\":{\"outlinewidth\":0,\"ticks\":\"\"}},\"colorscale\":{\"sequential\":[[0.0,\"#0d0887\"],[0.1111111111111111,\"#46039f\"],[0.2222222222222222,\"#7201a8\"],[0.3333333333333333,\"#9c179e\"],[0.4444444444444444,\"#bd3786\"],[0.5555555555555556,\"#d8576b\"],[0.6666666666666666,\"#ed7953\"],[0.7777777777777778,\"#fb9f3a\"],[0.8888888888888888,\"#fdca26\"],[1.0,\"#f0f921\"]],\"sequentialminus\":[[0.0,\"#0d0887\"],[0.1111111111111111,\"#46039f\"],[0.2222222222222222,\"#7201a8\"],[0.3333333333333333,\"#9c179e\"],[0.4444444444444444,\"#bd3786\"],[0.5555555555555556,\"#d8576b\"],[0.6666666666666666,\"#ed7953\"],[0.7777777777777778,\"#fb9f3a\"],[0.8888888888888888,\"#fdca26\"],[1.0,\"#f0f921\"]],\"diverging\":[[0,\"#8e0152\"],[0.1,\"#c51b7d\"],[0.2,\"#de77ae\"],[0.3,\"#f1b6da\"],[0.4,\"#fde0ef\"],[0.5,\"#f7f7f7\"],[0.6,\"#e6f5d0\"],[0.7,\"#b8e186\"],[0.8,\"#7fbc41\"],[0.9,\"#4d9221\"],[1,\"#276419\"]]},\"xaxis\":{\"gridcolor\":\"#EBF0F8\",\"linecolor\":\"#EBF0F8\",\"ticks\":\"\",\"title\":{\"standoff\":15},\"zerolinecolor\":\"#EBF0F8\",\"automargin\":true,\"zerolinewidth\":2},\"yaxis\":{\"gridcolor\":\"#EBF0F8\",\"linecolor\":\"#EBF0F8\",\"ticks\":\"\",\"title\":{\"standoff\":15},\"zerolinecolor\":\"#EBF0F8\",\"automargin\":true,\"zerolinewidth\":2},\"scene\":{\"xaxis\":{\"backgroundcolor\":\"white\",\"gridcolor\":\"#DFE8F3\",\"linecolor\":\"#EBF0F8\",\"showbackground\":true,\"ticks\":\"\",\"zerolinecolor\":\"#EBF0F8\",\"gridwidth\":2},\"yaxis\":{\"backgroundcolor\":\"white\",\"gridcolor\":\"#DFE8F3\",\"linecolor\":\"#EBF0F8\",\"showbackground\":true,\"ticks\":\"\",\"zerolinecolor\":\"#EBF0F8\",\"gridwidth\":2},\"zaxis\":{\"backgroundcolor\":\"white\",\"gridcolor\":\"#DFE8F3\",\"linecolor\":\"#EBF0F8\",\"showbackground\":true,\"ticks\":\"\",\"zerolinecolor\":\"#EBF0F8\",\"gridwidth\":2}},\"shapedefaults\":{\"line\":{\"color\":\"#2a3f5f\"}},\"annotationdefaults\":{\"arrowcolor\":\"#2a3f5f\",\"arrowhead\":0,\"arrowwidth\":1},\"geo\":{\"bgcolor\":\"white\",\"landcolor\":\"white\",\"subunitcolor\":\"#C8D4E3\",\"showland\":true,\"showlakes\":true,\"lakecolor\":\"white\"},\"title\":{\"x\":0.05},\"mapbox\":{\"style\":\"light\"}}}},                        {\"responsive\": true}                    ).then(function(){\n",
              "                            \n",
              "var gd = document.getElementById('d22631d0-d50d-4cd7-947c-be16eb0f3339');\n",
              "var x = new MutationObserver(function (mutations, observer) {{\n",
              "        var display = window.getComputedStyle(gd).display;\n",
              "        if (!display || display === 'none') {{\n",
              "            console.log([gd, 'removed!']);\n",
              "            Plotly.purge(gd);\n",
              "            observer.disconnect();\n",
              "        }}\n",
              "}});\n",
              "\n",
              "// Listen for the removal of the full notebook cells\n",
              "var notebookContainer = gd.closest('#notebook-container');\n",
              "if (notebookContainer) {{\n",
              "    x.observe(notebookContainer, {childList: true});\n",
              "}}\n",
              "\n",
              "// Listen for the clearing of the current output cell\n",
              "var outputEl = gd.closest('.output');\n",
              "if (outputEl) {{\n",
              "    x.observe(outputEl, {childList: true});\n",
              "}}\n",
              "\n",
              "                        })                };                            </script>        </div>\n",
              "</body>\n",
              "</html>"
            ]
          },
          "metadata": {}
        }
      ]
    },
    {
      "cell_type": "code",
      "source": [],
      "metadata": {
        "colab": {
          "base_uri": "https://localhost:8080/",
          "height": 112
        },
        "id": "VPT30ilTuHms",
        "outputId": "f3a6b261-9938-4702-dab5-bd982cb7606e"
      },
      "execution_count": 109,
      "outputs": [
        {
          "output_type": "execute_result",
          "data": {
            "text/plain": [
              "           importance\n",
              "hour          0.78754\n",
              "dayofweek     0.21246"
            ],
            "text/html": [
              "\n",
              "  <div id=\"df-3eb9a2dc-4cd2-46a7-91ab-916e30fd73c6\" class=\"colab-df-container\">\n",
              "    <div>\n",
              "<style scoped>\n",
              "    .dataframe tbody tr th:only-of-type {\n",
              "        vertical-align: middle;\n",
              "    }\n",
              "\n",
              "    .dataframe tbody tr th {\n",
              "        vertical-align: top;\n",
              "    }\n",
              "\n",
              "    .dataframe thead th {\n",
              "        text-align: right;\n",
              "    }\n",
              "</style>\n",
              "<table border=\"1\" class=\"dataframe\">\n",
              "  <thead>\n",
              "    <tr style=\"text-align: right;\">\n",
              "      <th></th>\n",
              "      <th>importance</th>\n",
              "    </tr>\n",
              "  </thead>\n",
              "  <tbody>\n",
              "    <tr>\n",
              "      <th>hour</th>\n",
              "      <td>0.78754</td>\n",
              "    </tr>\n",
              "    <tr>\n",
              "      <th>dayofweek</th>\n",
              "      <td>0.21246</td>\n",
              "    </tr>\n",
              "  </tbody>\n",
              "</table>\n",
              "</div>\n",
              "    <div class=\"colab-df-buttons\">\n",
              "\n",
              "  <div class=\"colab-df-container\">\n",
              "    <button class=\"colab-df-convert\" onclick=\"convertToInteractive('df-3eb9a2dc-4cd2-46a7-91ab-916e30fd73c6')\"\n",
              "            title=\"Convert this dataframe to an interactive table.\"\n",
              "            style=\"display:none;\">\n",
              "\n",
              "  <svg xmlns=\"http://www.w3.org/2000/svg\" height=\"24px\" viewBox=\"0 -960 960 960\">\n",
              "    <path d=\"M120-120v-720h720v720H120Zm60-500h600v-160H180v160Zm220 220h160v-160H400v160Zm0 220h160v-160H400v160ZM180-400h160v-160H180v160Zm440 0h160v-160H620v160ZM180-180h160v-160H180v160Zm440 0h160v-160H620v160Z\"/>\n",
              "  </svg>\n",
              "    </button>\n",
              "\n",
              "  <style>\n",
              "    .colab-df-container {\n",
              "      display:flex;\n",
              "      gap: 12px;\n",
              "    }\n",
              "\n",
              "    .colab-df-convert {\n",
              "      background-color: #E8F0FE;\n",
              "      border: none;\n",
              "      border-radius: 50%;\n",
              "      cursor: pointer;\n",
              "      display: none;\n",
              "      fill: #1967D2;\n",
              "      height: 32px;\n",
              "      padding: 0 0 0 0;\n",
              "      width: 32px;\n",
              "    }\n",
              "\n",
              "    .colab-df-convert:hover {\n",
              "      background-color: #E2EBFA;\n",
              "      box-shadow: 0px 1px 2px rgba(60, 64, 67, 0.3), 0px 1px 3px 1px rgba(60, 64, 67, 0.15);\n",
              "      fill: #174EA6;\n",
              "    }\n",
              "\n",
              "    .colab-df-buttons div {\n",
              "      margin-bottom: 4px;\n",
              "    }\n",
              "\n",
              "    [theme=dark] .colab-df-convert {\n",
              "      background-color: #3B4455;\n",
              "      fill: #D2E3FC;\n",
              "    }\n",
              "\n",
              "    [theme=dark] .colab-df-convert:hover {\n",
              "      background-color: #434B5C;\n",
              "      box-shadow: 0px 1px 3px 1px rgba(0, 0, 0, 0.15);\n",
              "      filter: drop-shadow(0px 1px 2px rgba(0, 0, 0, 0.3));\n",
              "      fill: #FFFFFF;\n",
              "    }\n",
              "  </style>\n",
              "\n",
              "    <script>\n",
              "      const buttonEl =\n",
              "        document.querySelector('#df-3eb9a2dc-4cd2-46a7-91ab-916e30fd73c6 button.colab-df-convert');\n",
              "      buttonEl.style.display =\n",
              "        google.colab.kernel.accessAllowed ? 'block' : 'none';\n",
              "\n",
              "      async function convertToInteractive(key) {\n",
              "        const element = document.querySelector('#df-3eb9a2dc-4cd2-46a7-91ab-916e30fd73c6');\n",
              "        const dataTable =\n",
              "          await google.colab.kernel.invokeFunction('convertToInteractive',\n",
              "                                                    [key], {});\n",
              "        if (!dataTable) return;\n",
              "\n",
              "        const docLinkHtml = 'Like what you see? Visit the ' +\n",
              "          '<a target=\"_blank\" href=https://colab.research.google.com/notebooks/data_table.ipynb>data table notebook</a>'\n",
              "          + ' to learn more about interactive tables.';\n",
              "        element.innerHTML = '';\n",
              "        dataTable['output_type'] = 'display_data';\n",
              "        await google.colab.output.renderOutput(dataTable, element);\n",
              "        const docLink = document.createElement('div');\n",
              "        docLink.innerHTML = docLinkHtml;\n",
              "        element.appendChild(docLink);\n",
              "      }\n",
              "    </script>\n",
              "  </div>\n",
              "\n",
              "\n",
              "<div id=\"df-960abc0e-666b-4d9b-8317-c45c442d2461\">\n",
              "  <button class=\"colab-df-quickchart\" onclick=\"quickchart('df-960abc0e-666b-4d9b-8317-c45c442d2461')\"\n",
              "            title=\"Suggest charts\"\n",
              "            style=\"display:none;\">\n",
              "\n",
              "<svg xmlns=\"http://www.w3.org/2000/svg\" height=\"24px\"viewBox=\"0 0 24 24\"\n",
              "     width=\"24px\">\n",
              "    <g>\n",
              "        <path d=\"M19 3H5c-1.1 0-2 .9-2 2v14c0 1.1.9 2 2 2h14c1.1 0 2-.9 2-2V5c0-1.1-.9-2-2-2zM9 17H7v-7h2v7zm4 0h-2V7h2v10zm4 0h-2v-4h2v4z\"/>\n",
              "    </g>\n",
              "</svg>\n",
              "  </button>\n",
              "\n",
              "<style>\n",
              "  .colab-df-quickchart {\n",
              "      --bg-color: #E8F0FE;\n",
              "      --fill-color: #1967D2;\n",
              "      --hover-bg-color: #E2EBFA;\n",
              "      --hover-fill-color: #174EA6;\n",
              "      --disabled-fill-color: #AAA;\n",
              "      --disabled-bg-color: #DDD;\n",
              "  }\n",
              "\n",
              "  [theme=dark] .colab-df-quickchart {\n",
              "      --bg-color: #3B4455;\n",
              "      --fill-color: #D2E3FC;\n",
              "      --hover-bg-color: #434B5C;\n",
              "      --hover-fill-color: #FFFFFF;\n",
              "      --disabled-bg-color: #3B4455;\n",
              "      --disabled-fill-color: #666;\n",
              "  }\n",
              "\n",
              "  .colab-df-quickchart {\n",
              "    background-color: var(--bg-color);\n",
              "    border: none;\n",
              "    border-radius: 50%;\n",
              "    cursor: pointer;\n",
              "    display: none;\n",
              "    fill: var(--fill-color);\n",
              "    height: 32px;\n",
              "    padding: 0;\n",
              "    width: 32px;\n",
              "  }\n",
              "\n",
              "  .colab-df-quickchart:hover {\n",
              "    background-color: var(--hover-bg-color);\n",
              "    box-shadow: 0 1px 2px rgba(60, 64, 67, 0.3), 0 1px 3px 1px rgba(60, 64, 67, 0.15);\n",
              "    fill: var(--button-hover-fill-color);\n",
              "  }\n",
              "\n",
              "  .colab-df-quickchart-complete:disabled,\n",
              "  .colab-df-quickchart-complete:disabled:hover {\n",
              "    background-color: var(--disabled-bg-color);\n",
              "    fill: var(--disabled-fill-color);\n",
              "    box-shadow: none;\n",
              "  }\n",
              "\n",
              "  .colab-df-spinner {\n",
              "    border: 2px solid var(--fill-color);\n",
              "    border-color: transparent;\n",
              "    border-bottom-color: var(--fill-color);\n",
              "    animation:\n",
              "      spin 1s steps(1) infinite;\n",
              "  }\n",
              "\n",
              "  @keyframes spin {\n",
              "    0% {\n",
              "      border-color: transparent;\n",
              "      border-bottom-color: var(--fill-color);\n",
              "      border-left-color: var(--fill-color);\n",
              "    }\n",
              "    20% {\n",
              "      border-color: transparent;\n",
              "      border-left-color: var(--fill-color);\n",
              "      border-top-color: var(--fill-color);\n",
              "    }\n",
              "    30% {\n",
              "      border-color: transparent;\n",
              "      border-left-color: var(--fill-color);\n",
              "      border-top-color: var(--fill-color);\n",
              "      border-right-color: var(--fill-color);\n",
              "    }\n",
              "    40% {\n",
              "      border-color: transparent;\n",
              "      border-right-color: var(--fill-color);\n",
              "      border-top-color: var(--fill-color);\n",
              "    }\n",
              "    60% {\n",
              "      border-color: transparent;\n",
              "      border-right-color: var(--fill-color);\n",
              "    }\n",
              "    80% {\n",
              "      border-color: transparent;\n",
              "      border-right-color: var(--fill-color);\n",
              "      border-bottom-color: var(--fill-color);\n",
              "    }\n",
              "    90% {\n",
              "      border-color: transparent;\n",
              "      border-bottom-color: var(--fill-color);\n",
              "    }\n",
              "  }\n",
              "</style>\n",
              "\n",
              "  <script>\n",
              "    async function quickchart(key) {\n",
              "      const quickchartButtonEl =\n",
              "        document.querySelector('#' + key + ' button');\n",
              "      quickchartButtonEl.disabled = true;  // To prevent multiple clicks.\n",
              "      quickchartButtonEl.classList.add('colab-df-spinner');\n",
              "      try {\n",
              "        const charts = await google.colab.kernel.invokeFunction(\n",
              "            'suggestCharts', [key], {});\n",
              "      } catch (error) {\n",
              "        console.error('Error during call to suggestCharts:', error);\n",
              "      }\n",
              "      quickchartButtonEl.classList.remove('colab-df-spinner');\n",
              "      quickchartButtonEl.classList.add('colab-df-quickchart-complete');\n",
              "    }\n",
              "    (() => {\n",
              "      let quickchartButtonEl =\n",
              "        document.querySelector('#df-960abc0e-666b-4d9b-8317-c45c442d2461 button');\n",
              "      quickchartButtonEl.style.display =\n",
              "        google.colab.kernel.accessAllowed ? 'block' : 'none';\n",
              "    })();\n",
              "  </script>\n",
              "</div>\n",
              "\n",
              "    </div>\n",
              "  </div>\n"
            ],
            "application/vnd.google.colaboratory.intrinsic+json": {
              "type": "dataframe",
              "summary": "{\n  \"name\": \")\",\n  \"rows\": 2,\n  \"fields\": [\n    {\n      \"column\": \"importance\",\n      \"properties\": {\n        \"dtype\": \"float32\",\n        \"num_unique_values\": 2,\n        \"samples\": [\n          0.2124595195055008,\n          0.7875404953956604\n        ],\n        \"semantic_type\": \"\",\n        \"description\": \"\"\n      }\n    }\n  ]\n}"
            }
          },
          "metadata": {},
          "execution_count": 109
        }
      ]
    },
    {
      "cell_type": "markdown",
      "source": [
        "### 5.4 Save the Model"
      ],
      "metadata": {
        "id": "INcV8Vuqtz2I"
      }
    },
    {
      "cell_type": "code",
      "source": [
        "## Save the Model\n",
        "\n",
        "import pickle\n",
        "\n",
        "# Save the trained XGBoost model to a file\n",
        "with open('xgb_model.pkl', 'wb') as f:\n",
        "    pickle.dump(model_xgb, f)\n"
      ],
      "metadata": {
        "id": "maC-wzgJt7LK"
      },
      "execution_count": null,
      "outputs": []
    },
    {
      "cell_type": "markdown",
      "source": [
        "## 6.0 Additional Findings and Insights"
      ],
      "metadata": {
        "id": "y3kf58_3e2ld"
      }
    },
    {
      "cell_type": "markdown",
      "source": [
        "### 6.1 Find the Average Trip Duration and the Median Duration of Trip to Determine the traffic"
      ],
      "metadata": {
        "id": "P1bgOaOJkfvB"
      }
    },
    {
      "cell_type": "code",
      "source": [
        "# Create a copy of the dataframe\n",
        "df_duration = df_4.copy()\n",
        "\n",
        "# Convert pickup and dropoff datetime columns to datetime objects\n",
        "df_duration['lpep_pickup_datetime'] = pd.to_datetime(df_duration['lpep_pickup_datetime'])\n",
        "df_duration['lpep_dropoff_datetime'] = pd.to_datetime(df_duration['lpep_dropoff_datetime'])\n",
        "\n",
        "# Calculate trip duration in minutes\n",
        "df_duration['trip_duration_minutes'] = (df_duration['lpep_dropoff_datetime'] - df_duration['lpep_pickup_datetime']).dt.total_seconds() / 60\n",
        "\n",
        "# Print the first few rows to verify the calculation\n",
        "print(df_duration[['lpep_pickup_datetime', 'lpep_dropoff_datetime', 'trip_duration_minutes']].head())\n",
        "\n",
        "# You can now analyze the trip duration data, such as calculating the average trip duration,\n",
        "# finding the longest and shortest trips, or visualizing the distribution of trip durations.\n"
      ],
      "metadata": {
        "colab": {
          "base_uri": "https://localhost:8080/",
          "height": 0
        },
        "id": "wAeNgZyxe4tK",
        "outputId": "c452df9a-4479-48de-e779-f729a21719c2"
      },
      "execution_count": 67,
      "outputs": [
        {
          "output_type": "stream",
          "name": "stdout",
          "text": [
            "  lpep_pickup_datetime lpep_dropoff_datetime  trip_duration_minutes\n",
            "0  2016-02-01 00:11:39   2016-02-01 00:22:25              10.766667\n",
            "1  2016-02-01 00:44:47   2016-02-01 00:51:57               7.166667\n",
            "2  2016-02-01 00:10:55   2016-02-01 00:35:08              24.216667\n",
            "3  2016-02-01 00:36:25   2016-02-01 00:40:10               3.750000\n",
            "4  2016-02-01 00:06:28   2016-02-01 00:17:09              10.683333\n"
          ]
        }
      ]
    },
    {
      "cell_type": "code",
      "source": [],
      "metadata": {
        "colab": {
          "base_uri": "https://localhost:8080/",
          "height": 458
        },
        "id": "1i6AE03USul9",
        "outputId": "fe76fe28-4409-4c8b-df42-8e29446951bf"
      },
      "execution_count": 121,
      "outputs": [
        {
          "output_type": "execute_result",
          "data": {
            "text/plain": [
              "0           0\n",
              "1           0\n",
              "2           0\n",
              "3           0\n",
              "4           0\n",
              "           ..\n",
              "1510717    23\n",
              "1510718    23\n",
              "1510719    23\n",
              "1510720    23\n",
              "1510721    23\n",
              "Name: pickup_hour, Length: 1510722, dtype: int32"
            ],
            "text/html": [
              "<div>\n",
              "<style scoped>\n",
              "    .dataframe tbody tr th:only-of-type {\n",
              "        vertical-align: middle;\n",
              "    }\n",
              "\n",
              "    .dataframe tbody tr th {\n",
              "        vertical-align: top;\n",
              "    }\n",
              "\n",
              "    .dataframe thead th {\n",
              "        text-align: right;\n",
              "    }\n",
              "</style>\n",
              "<table border=\"1\" class=\"dataframe\">\n",
              "  <thead>\n",
              "    <tr style=\"text-align: right;\">\n",
              "      <th></th>\n",
              "      <th>pickup_hour</th>\n",
              "    </tr>\n",
              "  </thead>\n",
              "  <tbody>\n",
              "    <tr>\n",
              "      <th>0</th>\n",
              "      <td>0</td>\n",
              "    </tr>\n",
              "    <tr>\n",
              "      <th>1</th>\n",
              "      <td>0</td>\n",
              "    </tr>\n",
              "    <tr>\n",
              "      <th>2</th>\n",
              "      <td>0</td>\n",
              "    </tr>\n",
              "    <tr>\n",
              "      <th>3</th>\n",
              "      <td>0</td>\n",
              "    </tr>\n",
              "    <tr>\n",
              "      <th>4</th>\n",
              "      <td>0</td>\n",
              "    </tr>\n",
              "    <tr>\n",
              "      <th>...</th>\n",
              "      <td>...</td>\n",
              "    </tr>\n",
              "    <tr>\n",
              "      <th>1510717</th>\n",
              "      <td>23</td>\n",
              "    </tr>\n",
              "    <tr>\n",
              "      <th>1510718</th>\n",
              "      <td>23</td>\n",
              "    </tr>\n",
              "    <tr>\n",
              "      <th>1510719</th>\n",
              "      <td>23</td>\n",
              "    </tr>\n",
              "    <tr>\n",
              "      <th>1510720</th>\n",
              "      <td>23</td>\n",
              "    </tr>\n",
              "    <tr>\n",
              "      <th>1510721</th>\n",
              "      <td>23</td>\n",
              "    </tr>\n",
              "  </tbody>\n",
              "</table>\n",
              "<p>1510722 rows × 1 columns</p>\n",
              "</div><br><label><b>dtype:</b> int32</label>"
            ]
          },
          "metadata": {},
          "execution_count": 121
        }
      ]
    },
    {
      "cell_type": "code",
      "source": [
        "# Plot the Average Duration and the Median Duration of Trip to Determine the traffic.\n",
        "\n",
        "df_duration['pickup_hour'] = df_duration['pickup_hour'].dt.hour\n",
        "\n",
        "# Group by pickup hour and calculate the average trip duration\n",
        "hourly_trip_duration_mean = df_duration.groupby('pickup_hour')['trip_duration_minutes'].mean()\n",
        "hourly_trip_duration_median = df_duration.groupby('pickup_hour')['trip_duration_minutes'].median()\n",
        "\n",
        "# Create the Plotly figure\n",
        "fig = go.Figure()\n",
        "\n",
        "# Add the trace for the line plot\n",
        "fig.add_trace(go.Scatter(\n",
        "    x=hourly_trip_duration_mean.index,\n",
        "    y=hourly_trip_duration_mean.values,\n",
        "    mode='lines+markers',\n",
        "    name='Avg Trip Duration',\n",
        "    line=dict(color='royalblue', width=2),\n",
        "    marker=dict(size=8)\n",
        "))\n",
        "\n",
        "fig.add_trace(go.Scatter(\n",
        "    x=hourly_trip_duration_median.index,\n",
        "    y=hourly_trip_duration_median.values,\n",
        "    mode='lines+markers',\n",
        "    name='Median Trip Duration',\n",
        "    line=dict(color='red', width=2),\n",
        "    marker=dict(size=8)\n",
        "))\n",
        "\n",
        "\n",
        "# Customize layout\n",
        "fig.update_layout(\n",
        "    title='Average and Median Trip Duration by Time of Day',\n",
        "    xaxis_title='February Hour of Day',\n",
        "    yaxis_title='Average Trip Duration (minutes)',\n",
        "    xaxis=dict(tickmode='linear'),\n",
        "    yaxis=dict(gridcolor='LightGray'),\n",
        "    template='plotly_white'\n",
        ")\n",
        "\n",
        "# Show the interactive plot\n",
        "fig.show()\n",
        "\n",
        "# Create a copy of the dataframe\n",
        "df_day_duration = df_duration.copy()\n",
        "\n",
        "# Extract the weekday name from the 'lpep_pickup_datetime' column\n",
        "df_day_duration['pickup_weekday'] = df_day_duration['lpep_pickup_datetime'].dt.day_name()\n",
        "\n",
        "# Group by weekday and calculate the average trip duration\n",
        "daily_trip_duration_mean = df_day_duration.groupby('pickup_weekday')['trip_duration_minutes'].mean()\n",
        "daily_trip_duration_median = df_day_duration.groupby('pickup_weekday')['trip_duration_minutes'].median()\n",
        "\n",
        "# Define a custom ordering of weekdays, starting with Sunday\n",
        "weekday_order = ['Sunday', 'Monday', 'Tuesday', 'Wednesday', 'Thursday', 'Friday', 'Saturday']\n",
        "\n",
        "# Reorder the data based on the specified order\n",
        "daily_trip_duration_mean = daily_trip_duration_mean.reindex(weekday_order)\n",
        "daily_trip_duration_median = daily_trip_duration_median.reindex(weekday_order)\n",
        "\n",
        "# Create the Plotly figure\n",
        "fig = go.Figure()\n",
        "\n",
        "fig.add_trace(go.Bar(\n",
        "    x=daily_trip_duration_mean.index,\n",
        "    y=daily_trip_duration_mean.values,\n",
        "    name='Avg Trip Duration',\n",
        "    text=daily_trip_duration_mean.index,\n",
        "    hovertemplate='Day: %{text}<br>Average Duration: %{y:.2f} minutes',\n",
        "    marker=dict(color='royalblue')\n",
        "))\n",
        "\n",
        "fig.add_trace(go.Bar(\n",
        "    x=daily_trip_duration_median.index,\n",
        "    y=daily_trip_duration_median.values,\n",
        "    name='Median Trip Duration',\n",
        "    text=daily_trip_duration_median.index,\n",
        "    hovertemplate='Day: %{text}<br>Median Duration: %{y:.2f} minutes',\n",
        "    marker=dict(color='red')\n",
        "))\n",
        "\n",
        "\n",
        "# Customize layout\n",
        "fig.update_layout(\n",
        "    title='Average and Median Trip Duration by Day of Week',\n",
        "    xaxis_title='Day of Week',\n",
        "    yaxis_title='Trip Duration (minutes)',\n",
        "    xaxis=dict(categoryorder='array', categoryarray=weekday_order),\n",
        "    yaxis=dict(gridcolor='LightGray'),\n",
        "    barmode='group',\n",
        "    template='plotly_white'\n",
        ")\n",
        "\n",
        "# Show the interactive plot\n",
        "fig.show()\n",
        "\n",
        "\n",
        "## From the plot below we can observe that most of the longer trip duration are during Sunday, Saturday, and Friday. It means that during this days there are observable traffics on the road."
      ],
      "metadata": {
        "colab": {
          "base_uri": "https://localhost:8080/",
          "height": 1000
        },
        "id": "UxgQJKC7gem1",
        "outputId": "ce1f1a55-d039-45b1-f687-79fbb2fc1ccc"
      },
      "execution_count": 122,
      "outputs": [
        {
          "output_type": "display_data",
          "data": {
            "text/html": [
              "<html>\n",
              "<head><meta charset=\"utf-8\" /></head>\n",
              "<body>\n",
              "    <div>            <script src=\"https://cdnjs.cloudflare.com/ajax/libs/mathjax/2.7.5/MathJax.js?config=TeX-AMS-MML_SVG\"></script><script type=\"text/javascript\">if (window.MathJax && window.MathJax.Hub && window.MathJax.Hub.Config) {window.MathJax.Hub.Config({SVG: {font: \"STIX-Web\"}});}</script>                <script type=\"text/javascript\">window.PlotlyConfig = {MathJaxConfig: 'local'};</script>\n",
              "        <script charset=\"utf-8\" src=\"https://cdn.plot.ly/plotly-2.24.1.min.js\"></script>                <div id=\"2638317c-a11b-4391-af01-ee17221fe068\" class=\"plotly-graph-div\" style=\"height:525px; width:100%;\"></div>            <script type=\"text/javascript\">                                    window.PLOTLYENV=window.PLOTLYENV || {};                                    if (document.getElementById(\"2638317c-a11b-4391-af01-ee17221fe068\")) {                    Plotly.newPlot(                        \"2638317c-a11b-4391-af01-ee17221fe068\",                        [{\"line\":{\"color\":\"royalblue\",\"width\":2},\"marker\":{\"size\":8},\"mode\":\"lines+markers\",\"name\":\"Avg Trip Duration\",\"x\":[0,1,2,3,4,5,6,7,8,9,10,11,12,13,14,15,16,17,18,19,20,21,22,23],\"y\":[23.69453077835274,25.00790323961142,23.87254019863404,24.5836780937066,26.621946488294316,24.02653980573711,21.83757989791912,21.58712630359212,21.038591596922817,20.07912882687688,19.238670692308993,19.32145264232831,19.94622981827243,20.025927334579993,20.88358341858967,22.063788650675722,21.225257774624573,21.60113124984461,21.104577471473863,20.350324809305505,20.220290001775883,20.707164489436686,21.06903577117315,20.97254841943698],\"type\":\"scatter\"},{\"line\":{\"color\":\"red\",\"width\":2},\"marker\":{\"size\":8},\"mode\":\"lines+markers\",\"name\":\"Median Trip Duration\",\"x\":[0,1,2,3,4,5,6,7,8,9,10,11,12,13,14,15,16,17,18,19,20,21,22,23],\"y\":[8.85,8.75,8.983333333333333,9.166666666666666,9.416666666666666,10.366666666666667,11.166666666666666,11.083333333333334,10.816666666666666,10.216666666666667,9.8,9.9,9.983333333333333,9.983333333333333,10.25,10.5,10.433333333333334,10.5,10.0,9.283333333333333,8.95,8.9,9.033333333333333,9.066666666666666],\"type\":\"scatter\"}],                        {\"template\":{\"data\":{\"histogram2dcontour\":[{\"type\":\"histogram2dcontour\",\"colorbar\":{\"outlinewidth\":0,\"ticks\":\"\"},\"colorscale\":[[0.0,\"#0d0887\"],[0.1111111111111111,\"#46039f\"],[0.2222222222222222,\"#7201a8\"],[0.3333333333333333,\"#9c179e\"],[0.4444444444444444,\"#bd3786\"],[0.5555555555555556,\"#d8576b\"],[0.6666666666666666,\"#ed7953\"],[0.7777777777777778,\"#fb9f3a\"],[0.8888888888888888,\"#fdca26\"],[1.0,\"#f0f921\"]]}],\"choropleth\":[{\"type\":\"choropleth\",\"colorbar\":{\"outlinewidth\":0,\"ticks\":\"\"}}],\"histogram2d\":[{\"type\":\"histogram2d\",\"colorbar\":{\"outlinewidth\":0,\"ticks\":\"\"},\"colorscale\":[[0.0,\"#0d0887\"],[0.1111111111111111,\"#46039f\"],[0.2222222222222222,\"#7201a8\"],[0.3333333333333333,\"#9c179e\"],[0.4444444444444444,\"#bd3786\"],[0.5555555555555556,\"#d8576b\"],[0.6666666666666666,\"#ed7953\"],[0.7777777777777778,\"#fb9f3a\"],[0.8888888888888888,\"#fdca26\"],[1.0,\"#f0f921\"]]}],\"heatmap\":[{\"type\":\"heatmap\",\"colorbar\":{\"outlinewidth\":0,\"ticks\":\"\"},\"colorscale\":[[0.0,\"#0d0887\"],[0.1111111111111111,\"#46039f\"],[0.2222222222222222,\"#7201a8\"],[0.3333333333333333,\"#9c179e\"],[0.4444444444444444,\"#bd3786\"],[0.5555555555555556,\"#d8576b\"],[0.6666666666666666,\"#ed7953\"],[0.7777777777777778,\"#fb9f3a\"],[0.8888888888888888,\"#fdca26\"],[1.0,\"#f0f921\"]]}],\"heatmapgl\":[{\"type\":\"heatmapgl\",\"colorbar\":{\"outlinewidth\":0,\"ticks\":\"\"},\"colorscale\":[[0.0,\"#0d0887\"],[0.1111111111111111,\"#46039f\"],[0.2222222222222222,\"#7201a8\"],[0.3333333333333333,\"#9c179e\"],[0.4444444444444444,\"#bd3786\"],[0.5555555555555556,\"#d8576b\"],[0.6666666666666666,\"#ed7953\"],[0.7777777777777778,\"#fb9f3a\"],[0.8888888888888888,\"#fdca26\"],[1.0,\"#f0f921\"]]}],\"contourcarpet\":[{\"type\":\"contourcarpet\",\"colorbar\":{\"outlinewidth\":0,\"ticks\":\"\"}}],\"contour\":[{\"type\":\"contour\",\"colorbar\":{\"outlinewidth\":0,\"ticks\":\"\"},\"colorscale\":[[0.0,\"#0d0887\"],[0.1111111111111111,\"#46039f\"],[0.2222222222222222,\"#7201a8\"],[0.3333333333333333,\"#9c179e\"],[0.4444444444444444,\"#bd3786\"],[0.5555555555555556,\"#d8576b\"],[0.6666666666666666,\"#ed7953\"],[0.7777777777777778,\"#fb9f3a\"],[0.8888888888888888,\"#fdca26\"],[1.0,\"#f0f921\"]]}],\"surface\":[{\"type\":\"surface\",\"colorbar\":{\"outlinewidth\":0,\"ticks\":\"\"},\"colorscale\":[[0.0,\"#0d0887\"],[0.1111111111111111,\"#46039f\"],[0.2222222222222222,\"#7201a8\"],[0.3333333333333333,\"#9c179e\"],[0.4444444444444444,\"#bd3786\"],[0.5555555555555556,\"#d8576b\"],[0.6666666666666666,\"#ed7953\"],[0.7777777777777778,\"#fb9f3a\"],[0.8888888888888888,\"#fdca26\"],[1.0,\"#f0f921\"]]}],\"mesh3d\":[{\"type\":\"mesh3d\",\"colorbar\":{\"outlinewidth\":0,\"ticks\":\"\"}}],\"scatter\":[{\"fillpattern\":{\"fillmode\":\"overlay\",\"size\":10,\"solidity\":0.2},\"type\":\"scatter\"}],\"parcoords\":[{\"type\":\"parcoords\",\"line\":{\"colorbar\":{\"outlinewidth\":0,\"ticks\":\"\"}}}],\"scatterpolargl\":[{\"type\":\"scatterpolargl\",\"marker\":{\"colorbar\":{\"outlinewidth\":0,\"ticks\":\"\"}}}],\"bar\":[{\"error_x\":{\"color\":\"#2a3f5f\"},\"error_y\":{\"color\":\"#2a3f5f\"},\"marker\":{\"line\":{\"color\":\"white\",\"width\":0.5},\"pattern\":{\"fillmode\":\"overlay\",\"size\":10,\"solidity\":0.2}},\"type\":\"bar\"}],\"scattergeo\":[{\"type\":\"scattergeo\",\"marker\":{\"colorbar\":{\"outlinewidth\":0,\"ticks\":\"\"}}}],\"scatterpolar\":[{\"type\":\"scatterpolar\",\"marker\":{\"colorbar\":{\"outlinewidth\":0,\"ticks\":\"\"}}}],\"histogram\":[{\"marker\":{\"pattern\":{\"fillmode\":\"overlay\",\"size\":10,\"solidity\":0.2}},\"type\":\"histogram\"}],\"scattergl\":[{\"type\":\"scattergl\",\"marker\":{\"colorbar\":{\"outlinewidth\":0,\"ticks\":\"\"}}}],\"scatter3d\":[{\"type\":\"scatter3d\",\"line\":{\"colorbar\":{\"outlinewidth\":0,\"ticks\":\"\"}},\"marker\":{\"colorbar\":{\"outlinewidth\":0,\"ticks\":\"\"}}}],\"scattermapbox\":[{\"type\":\"scattermapbox\",\"marker\":{\"colorbar\":{\"outlinewidth\":0,\"ticks\":\"\"}}}],\"scatterternary\":[{\"type\":\"scatterternary\",\"marker\":{\"colorbar\":{\"outlinewidth\":0,\"ticks\":\"\"}}}],\"scattercarpet\":[{\"type\":\"scattercarpet\",\"marker\":{\"colorbar\":{\"outlinewidth\":0,\"ticks\":\"\"}}}],\"carpet\":[{\"aaxis\":{\"endlinecolor\":\"#2a3f5f\",\"gridcolor\":\"#C8D4E3\",\"linecolor\":\"#C8D4E3\",\"minorgridcolor\":\"#C8D4E3\",\"startlinecolor\":\"#2a3f5f\"},\"baxis\":{\"endlinecolor\":\"#2a3f5f\",\"gridcolor\":\"#C8D4E3\",\"linecolor\":\"#C8D4E3\",\"minorgridcolor\":\"#C8D4E3\",\"startlinecolor\":\"#2a3f5f\"},\"type\":\"carpet\"}],\"table\":[{\"cells\":{\"fill\":{\"color\":\"#EBF0F8\"},\"line\":{\"color\":\"white\"}},\"header\":{\"fill\":{\"color\":\"#C8D4E3\"},\"line\":{\"color\":\"white\"}},\"type\":\"table\"}],\"barpolar\":[{\"marker\":{\"line\":{\"color\":\"white\",\"width\":0.5},\"pattern\":{\"fillmode\":\"overlay\",\"size\":10,\"solidity\":0.2}},\"type\":\"barpolar\"}],\"pie\":[{\"automargin\":true,\"type\":\"pie\"}]},\"layout\":{\"autotypenumbers\":\"strict\",\"colorway\":[\"#636efa\",\"#EF553B\",\"#00cc96\",\"#ab63fa\",\"#FFA15A\",\"#19d3f3\",\"#FF6692\",\"#B6E880\",\"#FF97FF\",\"#FECB52\"],\"font\":{\"color\":\"#2a3f5f\"},\"hovermode\":\"closest\",\"hoverlabel\":{\"align\":\"left\"},\"paper_bgcolor\":\"white\",\"plot_bgcolor\":\"white\",\"polar\":{\"bgcolor\":\"white\",\"angularaxis\":{\"gridcolor\":\"#EBF0F8\",\"linecolor\":\"#EBF0F8\",\"ticks\":\"\"},\"radialaxis\":{\"gridcolor\":\"#EBF0F8\",\"linecolor\":\"#EBF0F8\",\"ticks\":\"\"}},\"ternary\":{\"bgcolor\":\"white\",\"aaxis\":{\"gridcolor\":\"#DFE8F3\",\"linecolor\":\"#A2B1C6\",\"ticks\":\"\"},\"baxis\":{\"gridcolor\":\"#DFE8F3\",\"linecolor\":\"#A2B1C6\",\"ticks\":\"\"},\"caxis\":{\"gridcolor\":\"#DFE8F3\",\"linecolor\":\"#A2B1C6\",\"ticks\":\"\"}},\"coloraxis\":{\"colorbar\":{\"outlinewidth\":0,\"ticks\":\"\"}},\"colorscale\":{\"sequential\":[[0.0,\"#0d0887\"],[0.1111111111111111,\"#46039f\"],[0.2222222222222222,\"#7201a8\"],[0.3333333333333333,\"#9c179e\"],[0.4444444444444444,\"#bd3786\"],[0.5555555555555556,\"#d8576b\"],[0.6666666666666666,\"#ed7953\"],[0.7777777777777778,\"#fb9f3a\"],[0.8888888888888888,\"#fdca26\"],[1.0,\"#f0f921\"]],\"sequentialminus\":[[0.0,\"#0d0887\"],[0.1111111111111111,\"#46039f\"],[0.2222222222222222,\"#7201a8\"],[0.3333333333333333,\"#9c179e\"],[0.4444444444444444,\"#bd3786\"],[0.5555555555555556,\"#d8576b\"],[0.6666666666666666,\"#ed7953\"],[0.7777777777777778,\"#fb9f3a\"],[0.8888888888888888,\"#fdca26\"],[1.0,\"#f0f921\"]],\"diverging\":[[0,\"#8e0152\"],[0.1,\"#c51b7d\"],[0.2,\"#de77ae\"],[0.3,\"#f1b6da\"],[0.4,\"#fde0ef\"],[0.5,\"#f7f7f7\"],[0.6,\"#e6f5d0\"],[0.7,\"#b8e186\"],[0.8,\"#7fbc41\"],[0.9,\"#4d9221\"],[1,\"#276419\"]]},\"xaxis\":{\"gridcolor\":\"#EBF0F8\",\"linecolor\":\"#EBF0F8\",\"ticks\":\"\",\"title\":{\"standoff\":15},\"zerolinecolor\":\"#EBF0F8\",\"automargin\":true,\"zerolinewidth\":2},\"yaxis\":{\"gridcolor\":\"#EBF0F8\",\"linecolor\":\"#EBF0F8\",\"ticks\":\"\",\"title\":{\"standoff\":15},\"zerolinecolor\":\"#EBF0F8\",\"automargin\":true,\"zerolinewidth\":2},\"scene\":{\"xaxis\":{\"backgroundcolor\":\"white\",\"gridcolor\":\"#DFE8F3\",\"linecolor\":\"#EBF0F8\",\"showbackground\":true,\"ticks\":\"\",\"zerolinecolor\":\"#EBF0F8\",\"gridwidth\":2},\"yaxis\":{\"backgroundcolor\":\"white\",\"gridcolor\":\"#DFE8F3\",\"linecolor\":\"#EBF0F8\",\"showbackground\":true,\"ticks\":\"\",\"zerolinecolor\":\"#EBF0F8\",\"gridwidth\":2},\"zaxis\":{\"backgroundcolor\":\"white\",\"gridcolor\":\"#DFE8F3\",\"linecolor\":\"#EBF0F8\",\"showbackground\":true,\"ticks\":\"\",\"zerolinecolor\":\"#EBF0F8\",\"gridwidth\":2}},\"shapedefaults\":{\"line\":{\"color\":\"#2a3f5f\"}},\"annotationdefaults\":{\"arrowcolor\":\"#2a3f5f\",\"arrowhead\":0,\"arrowwidth\":1},\"geo\":{\"bgcolor\":\"white\",\"landcolor\":\"white\",\"subunitcolor\":\"#C8D4E3\",\"showland\":true,\"showlakes\":true,\"lakecolor\":\"white\"},\"title\":{\"x\":0.05},\"mapbox\":{\"style\":\"light\"}}},\"xaxis\":{\"title\":{\"text\":\"February Hour of Day\"},\"tickmode\":\"linear\"},\"yaxis\":{\"title\":{\"text\":\"Average Trip Duration (minutes)\"},\"gridcolor\":\"LightGray\"},\"title\":{\"text\":\"Average and Median Trip Duration by Time of Day\"}},                        {\"responsive\": true}                    ).then(function(){\n",
              "                            \n",
              "var gd = document.getElementById('2638317c-a11b-4391-af01-ee17221fe068');\n",
              "var x = new MutationObserver(function (mutations, observer) {{\n",
              "        var display = window.getComputedStyle(gd).display;\n",
              "        if (!display || display === 'none') {{\n",
              "            console.log([gd, 'removed!']);\n",
              "            Plotly.purge(gd);\n",
              "            observer.disconnect();\n",
              "        }}\n",
              "}});\n",
              "\n",
              "// Listen for the removal of the full notebook cells\n",
              "var notebookContainer = gd.closest('#notebook-container');\n",
              "if (notebookContainer) {{\n",
              "    x.observe(notebookContainer, {childList: true});\n",
              "}}\n",
              "\n",
              "// Listen for the clearing of the current output cell\n",
              "var outputEl = gd.closest('.output');\n",
              "if (outputEl) {{\n",
              "    x.observe(outputEl, {childList: true});\n",
              "}}\n",
              "\n",
              "                        })                };                            </script>        </div>\n",
              "</body>\n",
              "</html>"
            ]
          },
          "metadata": {}
        },
        {
          "output_type": "display_data",
          "data": {
            "text/html": [
              "<html>\n",
              "<head><meta charset=\"utf-8\" /></head>\n",
              "<body>\n",
              "    <div>            <script src=\"https://cdnjs.cloudflare.com/ajax/libs/mathjax/2.7.5/MathJax.js?config=TeX-AMS-MML_SVG\"></script><script type=\"text/javascript\">if (window.MathJax && window.MathJax.Hub && window.MathJax.Hub.Config) {window.MathJax.Hub.Config({SVG: {font: \"STIX-Web\"}});}</script>                <script type=\"text/javascript\">window.PlotlyConfig = {MathJaxConfig: 'local'};</script>\n",
              "        <script charset=\"utf-8\" src=\"https://cdn.plot.ly/plotly-2.24.1.min.js\"></script>                <div id=\"89ce1e64-a21e-41a9-9622-45ea77c3d53c\" class=\"plotly-graph-div\" style=\"height:525px; width:100%;\"></div>            <script type=\"text/javascript\">                                    window.PLOTLYENV=window.PLOTLYENV || {};                                    if (document.getElementById(\"89ce1e64-a21e-41a9-9622-45ea77c3d53c\")) {                    Plotly.newPlot(                        \"89ce1e64-a21e-41a9-9622-45ea77c3d53c\",                        [{\"hovertemplate\":\"Day: %{text}\\u003cbr\\u003eAverage Duration: %{y:.2f} minutes\",\"marker\":{\"color\":\"royalblue\"},\"name\":\"Avg Trip Duration\",\"text\":[\"Sunday\",\"Monday\",\"Tuesday\",\"Wednesday\",\"Thursday\",\"Friday\",\"Saturday\"],\"x\":[\"Sunday\",\"Monday\",\"Tuesday\",\"Wednesday\",\"Thursday\",\"Friday\",\"Saturday\"],\"y\":[22.6846411748531,19.988194695246357,20.212019503505868,20.328596833612636,20.856526541522033,21.464746242648662,22.5113181732636],\"type\":\"bar\"},{\"hovertemplate\":\"Day: %{text}\\u003cbr\\u003eMedian Duration: %{y:.2f} minutes\",\"marker\":{\"color\":\"red\"},\"name\":\"Median Trip Duration\",\"text\":[\"Sunday\",\"Monday\",\"Tuesday\",\"Wednesday\",\"Thursday\",\"Friday\",\"Saturday\"],\"x\":[\"Sunday\",\"Monday\",\"Tuesday\",\"Wednesday\",\"Thursday\",\"Friday\",\"Saturday\"],\"y\":[9.833333333333334,9.533333333333333,9.483333333333333,9.533333333333333,9.616666666666667,9.883333333333333,10.033333333333333],\"type\":\"bar\"}],                        {\"template\":{\"data\":{\"histogram2dcontour\":[{\"type\":\"histogram2dcontour\",\"colorbar\":{\"outlinewidth\":0,\"ticks\":\"\"},\"colorscale\":[[0.0,\"#0d0887\"],[0.1111111111111111,\"#46039f\"],[0.2222222222222222,\"#7201a8\"],[0.3333333333333333,\"#9c179e\"],[0.4444444444444444,\"#bd3786\"],[0.5555555555555556,\"#d8576b\"],[0.6666666666666666,\"#ed7953\"],[0.7777777777777778,\"#fb9f3a\"],[0.8888888888888888,\"#fdca26\"],[1.0,\"#f0f921\"]]}],\"choropleth\":[{\"type\":\"choropleth\",\"colorbar\":{\"outlinewidth\":0,\"ticks\":\"\"}}],\"histogram2d\":[{\"type\":\"histogram2d\",\"colorbar\":{\"outlinewidth\":0,\"ticks\":\"\"},\"colorscale\":[[0.0,\"#0d0887\"],[0.1111111111111111,\"#46039f\"],[0.2222222222222222,\"#7201a8\"],[0.3333333333333333,\"#9c179e\"],[0.4444444444444444,\"#bd3786\"],[0.5555555555555556,\"#d8576b\"],[0.6666666666666666,\"#ed7953\"],[0.7777777777777778,\"#fb9f3a\"],[0.8888888888888888,\"#fdca26\"],[1.0,\"#f0f921\"]]}],\"heatmap\":[{\"type\":\"heatmap\",\"colorbar\":{\"outlinewidth\":0,\"ticks\":\"\"},\"colorscale\":[[0.0,\"#0d0887\"],[0.1111111111111111,\"#46039f\"],[0.2222222222222222,\"#7201a8\"],[0.3333333333333333,\"#9c179e\"],[0.4444444444444444,\"#bd3786\"],[0.5555555555555556,\"#d8576b\"],[0.6666666666666666,\"#ed7953\"],[0.7777777777777778,\"#fb9f3a\"],[0.8888888888888888,\"#fdca26\"],[1.0,\"#f0f921\"]]}],\"heatmapgl\":[{\"type\":\"heatmapgl\",\"colorbar\":{\"outlinewidth\":0,\"ticks\":\"\"},\"colorscale\":[[0.0,\"#0d0887\"],[0.1111111111111111,\"#46039f\"],[0.2222222222222222,\"#7201a8\"],[0.3333333333333333,\"#9c179e\"],[0.4444444444444444,\"#bd3786\"],[0.5555555555555556,\"#d8576b\"],[0.6666666666666666,\"#ed7953\"],[0.7777777777777778,\"#fb9f3a\"],[0.8888888888888888,\"#fdca26\"],[1.0,\"#f0f921\"]]}],\"contourcarpet\":[{\"type\":\"contourcarpet\",\"colorbar\":{\"outlinewidth\":0,\"ticks\":\"\"}}],\"contour\":[{\"type\":\"contour\",\"colorbar\":{\"outlinewidth\":0,\"ticks\":\"\"},\"colorscale\":[[0.0,\"#0d0887\"],[0.1111111111111111,\"#46039f\"],[0.2222222222222222,\"#7201a8\"],[0.3333333333333333,\"#9c179e\"],[0.4444444444444444,\"#bd3786\"],[0.5555555555555556,\"#d8576b\"],[0.6666666666666666,\"#ed7953\"],[0.7777777777777778,\"#fb9f3a\"],[0.8888888888888888,\"#fdca26\"],[1.0,\"#f0f921\"]]}],\"surface\":[{\"type\":\"surface\",\"colorbar\":{\"outlinewidth\":0,\"ticks\":\"\"},\"colorscale\":[[0.0,\"#0d0887\"],[0.1111111111111111,\"#46039f\"],[0.2222222222222222,\"#7201a8\"],[0.3333333333333333,\"#9c179e\"],[0.4444444444444444,\"#bd3786\"],[0.5555555555555556,\"#d8576b\"],[0.6666666666666666,\"#ed7953\"],[0.7777777777777778,\"#fb9f3a\"],[0.8888888888888888,\"#fdca26\"],[1.0,\"#f0f921\"]]}],\"mesh3d\":[{\"type\":\"mesh3d\",\"colorbar\":{\"outlinewidth\":0,\"ticks\":\"\"}}],\"scatter\":[{\"fillpattern\":{\"fillmode\":\"overlay\",\"size\":10,\"solidity\":0.2},\"type\":\"scatter\"}],\"parcoords\":[{\"type\":\"parcoords\",\"line\":{\"colorbar\":{\"outlinewidth\":0,\"ticks\":\"\"}}}],\"scatterpolargl\":[{\"type\":\"scatterpolargl\",\"marker\":{\"colorbar\":{\"outlinewidth\":0,\"ticks\":\"\"}}}],\"bar\":[{\"error_x\":{\"color\":\"#2a3f5f\"},\"error_y\":{\"color\":\"#2a3f5f\"},\"marker\":{\"line\":{\"color\":\"white\",\"width\":0.5},\"pattern\":{\"fillmode\":\"overlay\",\"size\":10,\"solidity\":0.2}},\"type\":\"bar\"}],\"scattergeo\":[{\"type\":\"scattergeo\",\"marker\":{\"colorbar\":{\"outlinewidth\":0,\"ticks\":\"\"}}}],\"scatterpolar\":[{\"type\":\"scatterpolar\",\"marker\":{\"colorbar\":{\"outlinewidth\":0,\"ticks\":\"\"}}}],\"histogram\":[{\"marker\":{\"pattern\":{\"fillmode\":\"overlay\",\"size\":10,\"solidity\":0.2}},\"type\":\"histogram\"}],\"scattergl\":[{\"type\":\"scattergl\",\"marker\":{\"colorbar\":{\"outlinewidth\":0,\"ticks\":\"\"}}}],\"scatter3d\":[{\"type\":\"scatter3d\",\"line\":{\"colorbar\":{\"outlinewidth\":0,\"ticks\":\"\"}},\"marker\":{\"colorbar\":{\"outlinewidth\":0,\"ticks\":\"\"}}}],\"scattermapbox\":[{\"type\":\"scattermapbox\",\"marker\":{\"colorbar\":{\"outlinewidth\":0,\"ticks\":\"\"}}}],\"scatterternary\":[{\"type\":\"scatterternary\",\"marker\":{\"colorbar\":{\"outlinewidth\":0,\"ticks\":\"\"}}}],\"scattercarpet\":[{\"type\":\"scattercarpet\",\"marker\":{\"colorbar\":{\"outlinewidth\":0,\"ticks\":\"\"}}}],\"carpet\":[{\"aaxis\":{\"endlinecolor\":\"#2a3f5f\",\"gridcolor\":\"#C8D4E3\",\"linecolor\":\"#C8D4E3\",\"minorgridcolor\":\"#C8D4E3\",\"startlinecolor\":\"#2a3f5f\"},\"baxis\":{\"endlinecolor\":\"#2a3f5f\",\"gridcolor\":\"#C8D4E3\",\"linecolor\":\"#C8D4E3\",\"minorgridcolor\":\"#C8D4E3\",\"startlinecolor\":\"#2a3f5f\"},\"type\":\"carpet\"}],\"table\":[{\"cells\":{\"fill\":{\"color\":\"#EBF0F8\"},\"line\":{\"color\":\"white\"}},\"header\":{\"fill\":{\"color\":\"#C8D4E3\"},\"line\":{\"color\":\"white\"}},\"type\":\"table\"}],\"barpolar\":[{\"marker\":{\"line\":{\"color\":\"white\",\"width\":0.5},\"pattern\":{\"fillmode\":\"overlay\",\"size\":10,\"solidity\":0.2}},\"type\":\"barpolar\"}],\"pie\":[{\"automargin\":true,\"type\":\"pie\"}]},\"layout\":{\"autotypenumbers\":\"strict\",\"colorway\":[\"#636efa\",\"#EF553B\",\"#00cc96\",\"#ab63fa\",\"#FFA15A\",\"#19d3f3\",\"#FF6692\",\"#B6E880\",\"#FF97FF\",\"#FECB52\"],\"font\":{\"color\":\"#2a3f5f\"},\"hovermode\":\"closest\",\"hoverlabel\":{\"align\":\"left\"},\"paper_bgcolor\":\"white\",\"plot_bgcolor\":\"white\",\"polar\":{\"bgcolor\":\"white\",\"angularaxis\":{\"gridcolor\":\"#EBF0F8\",\"linecolor\":\"#EBF0F8\",\"ticks\":\"\"},\"radialaxis\":{\"gridcolor\":\"#EBF0F8\",\"linecolor\":\"#EBF0F8\",\"ticks\":\"\"}},\"ternary\":{\"bgcolor\":\"white\",\"aaxis\":{\"gridcolor\":\"#DFE8F3\",\"linecolor\":\"#A2B1C6\",\"ticks\":\"\"},\"baxis\":{\"gridcolor\":\"#DFE8F3\",\"linecolor\":\"#A2B1C6\",\"ticks\":\"\"},\"caxis\":{\"gridcolor\":\"#DFE8F3\",\"linecolor\":\"#A2B1C6\",\"ticks\":\"\"}},\"coloraxis\":{\"colorbar\":{\"outlinewidth\":0,\"ticks\":\"\"}},\"colorscale\":{\"sequential\":[[0.0,\"#0d0887\"],[0.1111111111111111,\"#46039f\"],[0.2222222222222222,\"#7201a8\"],[0.3333333333333333,\"#9c179e\"],[0.4444444444444444,\"#bd3786\"],[0.5555555555555556,\"#d8576b\"],[0.6666666666666666,\"#ed7953\"],[0.7777777777777778,\"#fb9f3a\"],[0.8888888888888888,\"#fdca26\"],[1.0,\"#f0f921\"]],\"sequentialminus\":[[0.0,\"#0d0887\"],[0.1111111111111111,\"#46039f\"],[0.2222222222222222,\"#7201a8\"],[0.3333333333333333,\"#9c179e\"],[0.4444444444444444,\"#bd3786\"],[0.5555555555555556,\"#d8576b\"],[0.6666666666666666,\"#ed7953\"],[0.7777777777777778,\"#fb9f3a\"],[0.8888888888888888,\"#fdca26\"],[1.0,\"#f0f921\"]],\"diverging\":[[0,\"#8e0152\"],[0.1,\"#c51b7d\"],[0.2,\"#de77ae\"],[0.3,\"#f1b6da\"],[0.4,\"#fde0ef\"],[0.5,\"#f7f7f7\"],[0.6,\"#e6f5d0\"],[0.7,\"#b8e186\"],[0.8,\"#7fbc41\"],[0.9,\"#4d9221\"],[1,\"#276419\"]]},\"xaxis\":{\"gridcolor\":\"#EBF0F8\",\"linecolor\":\"#EBF0F8\",\"ticks\":\"\",\"title\":{\"standoff\":15},\"zerolinecolor\":\"#EBF0F8\",\"automargin\":true,\"zerolinewidth\":2},\"yaxis\":{\"gridcolor\":\"#EBF0F8\",\"linecolor\":\"#EBF0F8\",\"ticks\":\"\",\"title\":{\"standoff\":15},\"zerolinecolor\":\"#EBF0F8\",\"automargin\":true,\"zerolinewidth\":2},\"scene\":{\"xaxis\":{\"backgroundcolor\":\"white\",\"gridcolor\":\"#DFE8F3\",\"linecolor\":\"#EBF0F8\",\"showbackground\":true,\"ticks\":\"\",\"zerolinecolor\":\"#EBF0F8\",\"gridwidth\":2},\"yaxis\":{\"backgroundcolor\":\"white\",\"gridcolor\":\"#DFE8F3\",\"linecolor\":\"#EBF0F8\",\"showbackground\":true,\"ticks\":\"\",\"zerolinecolor\":\"#EBF0F8\",\"gridwidth\":2},\"zaxis\":{\"backgroundcolor\":\"white\",\"gridcolor\":\"#DFE8F3\",\"linecolor\":\"#EBF0F8\",\"showbackground\":true,\"ticks\":\"\",\"zerolinecolor\":\"#EBF0F8\",\"gridwidth\":2}},\"shapedefaults\":{\"line\":{\"color\":\"#2a3f5f\"}},\"annotationdefaults\":{\"arrowcolor\":\"#2a3f5f\",\"arrowhead\":0,\"arrowwidth\":1},\"geo\":{\"bgcolor\":\"white\",\"landcolor\":\"white\",\"subunitcolor\":\"#C8D4E3\",\"showland\":true,\"showlakes\":true,\"lakecolor\":\"white\"},\"title\":{\"x\":0.05},\"mapbox\":{\"style\":\"light\"}}},\"xaxis\":{\"title\":{\"text\":\"Day of Week\"},\"categoryorder\":\"array\",\"categoryarray\":[\"Sunday\",\"Monday\",\"Tuesday\",\"Wednesday\",\"Thursday\",\"Friday\",\"Saturday\"]},\"yaxis\":{\"title\":{\"text\":\"Trip Duration (minutes)\"},\"gridcolor\":\"LightGray\"},\"title\":{\"text\":\"Average and Median Trip Duration by Day of Week\"},\"barmode\":\"group\"},                        {\"responsive\": true}                    ).then(function(){\n",
              "                            \n",
              "var gd = document.getElementById('89ce1e64-a21e-41a9-9622-45ea77c3d53c');\n",
              "var x = new MutationObserver(function (mutations, observer) {{\n",
              "        var display = window.getComputedStyle(gd).display;\n",
              "        if (!display || display === 'none') {{\n",
              "            console.log([gd, 'removed!']);\n",
              "            Plotly.purge(gd);\n",
              "            observer.disconnect();\n",
              "        }}\n",
              "}});\n",
              "\n",
              "// Listen for the removal of the full notebook cells\n",
              "var notebookContainer = gd.closest('#notebook-container');\n",
              "if (notebookContainer) {{\n",
              "    x.observe(notebookContainer, {childList: true});\n",
              "}}\n",
              "\n",
              "// Listen for the clearing of the current output cell\n",
              "var outputEl = gd.closest('.output');\n",
              "if (outputEl) {{\n",
              "    x.observe(outputEl, {childList: true});\n",
              "}}\n",
              "\n",
              "                        })                };                            </script>        </div>\n",
              "</body>\n",
              "</html>"
            ]
          },
          "metadata": {}
        }
      ]
    },
    {
      "cell_type": "markdown",
      "source": [
        "### 6.2 Revenue Analysis Find the aggregate fare amounts by different factors such as location, time, or day of the week.\n"
      ],
      "metadata": {
        "id": "xOpQtiqhkwOS"
      }
    },
    {
      "cell_type": "code",
      "source": [
        "# prompt: Revenue Analysis Find the aggregate fare amounts by different factors such as time of the day by mean and median\n",
        "\n",
        "# Create a copy of the dataframe\n",
        "df_revenue = df_4.copy()\n",
        "\n",
        "df_revenue['pickup_hour'] = df_revenue['lpep_pickup_datetime'].dt.hour\n",
        "\n",
        "# Group by pickup hour and calculate the average fare amount\n",
        "hourly_fare_amount_mean = df_revenue.groupby('pickup_hour')['fare_amount'].mean()\n",
        "hourly_fare_amount_median = df_revenue.groupby('pickup_hour')['fare_amount'].median()\n",
        "\n",
        "# Create the Plotly figure\n",
        "fig = go.Figure()\n",
        "\n",
        "# Add the trace for the line plot\n",
        "fig.add_trace(go.Scatter(\n",
        "    x=hourly_fare_amount_mean.index,\n",
        "    y=hourly_fare_amount_mean.values,\n",
        "    mode='lines+markers',\n",
        "    name='Avg Fare Amount',\n",
        "    line=dict(color='royalblue', width=2),\n",
        "    marker=dict(size=8)\n",
        "))\n",
        "\n",
        "fig.add_trace(go.Scatter(\n",
        "    x=hourly_fare_amount_median.index,\n",
        "    y=hourly_fare_amount_median.values,\n",
        "    mode='lines+markers',\n",
        "    name='Median Fare Amount',\n",
        "    line=dict(color='red', width=2),\n",
        "    marker=dict(size=8)\n",
        "))\n",
        "\n",
        "\n",
        "# Customize layout\n",
        "fig.update_layout(\n",
        "    title='Average and Median Fare Amount by Time of Day',\n",
        "    xaxis_title='February Hour of Day',\n",
        "    yaxis_title='Fare Amount ($)',\n",
        "    xaxis=dict(tickmode='linear'),\n",
        "    yaxis=dict(gridcolor='LightGray'),\n",
        "    template='plotly_white'\n",
        ")\n",
        "\n",
        "# Show the interactive plot\n",
        "fig.show()\n",
        "\n",
        "\n",
        "# Group by pickup daily and calculate the average fees amount and median fees amount\n",
        "weekly_fare_amount_mean = df_revenue.groupby('pickup_weekday')['fare_amount'].mean()\n",
        "weekly_fare_amount_median = df_revenue.groupby('pickup_weekday')['fare_amount'].median()\n",
        "\n",
        "# Create the Plotly figure\n",
        "fig = go.Figure()\n",
        "\n",
        "fig.add_trace(go.Bar(\n",
        "    x=weekly_fare_amount_mean.index,\n",
        "    y=weekly_fare_amount_mean.values,\n",
        "    name='Avg Fees Amount',\n",
        "    marker=dict(color='royalblue')\n",
        "))\n",
        "\n",
        "fig.add_trace(go.Bar(\n",
        "    x=weekly_fare_amount_median.index,\n",
        "    y=weekly_fare_amount_median.values,\n",
        "    name='Median Fees Amount',\n",
        "    marker=dict(color='red')\n",
        "))\n",
        "\n",
        "\n",
        "# Customize layout\n",
        "fig.update_layout(\n",
        "    title='Average and Median Fees Amount by Day of Week',\n",
        "    xaxis_title='Day of Week',\n",
        "    yaxis_title='Fees Amount $',\n",
        "    xaxis=dict(categoryorder='array', categoryarray=weekday_order),\n",
        "    yaxis=dict(gridcolor='LightGray'),\n",
        "    barmode='group',\n",
        "    template='plotly_white'\n",
        ")\n",
        "\n",
        "# Show the interactive plot\n",
        "fig.show()\n",
        "\n",
        "\n",
        "## On the image below we can observe that the fee amount are higher during the rush hours in the morning. To specific its around 5 ~ 6 AM in the morning.\n",
        "\n",
        "## It can also be observed that the fees are higher during Friday, Saturday, and Sunday."
      ],
      "metadata": {
        "colab": {
          "base_uri": "https://localhost:8080/",
          "height": 1067
        },
        "id": "sb3cr8xkkboq",
        "outputId": "b125dbeb-dcd5-494b-b90b-df9be088acfc"
      },
      "execution_count": 92,
      "outputs": [
        {
          "output_type": "display_data",
          "data": {
            "text/html": [
              "<html>\n",
              "<head><meta charset=\"utf-8\" /></head>\n",
              "<body>\n",
              "    <div>            <script src=\"https://cdnjs.cloudflare.com/ajax/libs/mathjax/2.7.5/MathJax.js?config=TeX-AMS-MML_SVG\"></script><script type=\"text/javascript\">if (window.MathJax && window.MathJax.Hub && window.MathJax.Hub.Config) {window.MathJax.Hub.Config({SVG: {font: \"STIX-Web\"}});}</script>                <script type=\"text/javascript\">window.PlotlyConfig = {MathJaxConfig: 'local'};</script>\n",
              "        <script charset=\"utf-8\" src=\"https://cdn.plot.ly/plotly-2.24.1.min.js\"></script>                <div id=\"a3a9ec1f-339c-4a3a-94d0-083f2c591383\" class=\"plotly-graph-div\" style=\"height:525px; width:100%;\"></div>            <script type=\"text/javascript\">                                    window.PLOTLYENV=window.PLOTLYENV || {};                                    if (document.getElementById(\"a3a9ec1f-339c-4a3a-94d0-083f2c591383\")) {                    Plotly.newPlot(                        \"a3a9ec1f-339c-4a3a-94d0-083f2c591383\",                        [{\"line\":{\"color\":\"royalblue\",\"width\":2},\"marker\":{\"size\":8},\"mode\":\"lines+markers\",\"name\":\"Avg Fare Amount\",\"x\":[0,1,2,3,4,5,6,7,8,9,10,11,12,13,14,15,16,17,18,19,20,21,22,23],\"y\":[11.368837322121605,11.358292035776952,11.715631359138941,12.13943132811929,12.91463054626533,14.995656998910675,14.670518256772674,13.174323754345306,12.64350890819173,12.359693747406919,12.020831853317771,11.981901284997022,11.941632490103805,11.98640597762353,12.03240010799136,12.008369242199109,11.800953293129952,11.627242059052309,11.17711862315126,10.840469949900381,10.832030261054875,10.976284604120787,11.402901823749492,11.547383088020014],\"type\":\"scatter\"},{\"line\":{\"color\":\"red\",\"width\":2},\"marker\":{\"size\":8},\"mode\":\"lines+markers\",\"name\":\"Median Fare Amount\",\"x\":[0,1,2,3,4,5,6,7,8,9,10,11,12,13,14,15,16,17,18,19,20,21,22,23],\"y\":[9.0,9.0,9.0,9.5,10.0,11.0,11.5,10.0,9.5,9.5,9.0,9.0,9.0,9.0,9.0,9.0,9.0,9.0,8.5,8.5,8.5,8.5,9.0,9.0],\"type\":\"scatter\"}],                        {\"template\":{\"data\":{\"histogram2dcontour\":[{\"type\":\"histogram2dcontour\",\"colorbar\":{\"outlinewidth\":0,\"ticks\":\"\"},\"colorscale\":[[0.0,\"#0d0887\"],[0.1111111111111111,\"#46039f\"],[0.2222222222222222,\"#7201a8\"],[0.3333333333333333,\"#9c179e\"],[0.4444444444444444,\"#bd3786\"],[0.5555555555555556,\"#d8576b\"],[0.6666666666666666,\"#ed7953\"],[0.7777777777777778,\"#fb9f3a\"],[0.8888888888888888,\"#fdca26\"],[1.0,\"#f0f921\"]]}],\"choropleth\":[{\"type\":\"choropleth\",\"colorbar\":{\"outlinewidth\":0,\"ticks\":\"\"}}],\"histogram2d\":[{\"type\":\"histogram2d\",\"colorbar\":{\"outlinewidth\":0,\"ticks\":\"\"},\"colorscale\":[[0.0,\"#0d0887\"],[0.1111111111111111,\"#46039f\"],[0.2222222222222222,\"#7201a8\"],[0.3333333333333333,\"#9c179e\"],[0.4444444444444444,\"#bd3786\"],[0.5555555555555556,\"#d8576b\"],[0.6666666666666666,\"#ed7953\"],[0.7777777777777778,\"#fb9f3a\"],[0.8888888888888888,\"#fdca26\"],[1.0,\"#f0f921\"]]}],\"heatmap\":[{\"type\":\"heatmap\",\"colorbar\":{\"outlinewidth\":0,\"ticks\":\"\"},\"colorscale\":[[0.0,\"#0d0887\"],[0.1111111111111111,\"#46039f\"],[0.2222222222222222,\"#7201a8\"],[0.3333333333333333,\"#9c179e\"],[0.4444444444444444,\"#bd3786\"],[0.5555555555555556,\"#d8576b\"],[0.6666666666666666,\"#ed7953\"],[0.7777777777777778,\"#fb9f3a\"],[0.8888888888888888,\"#fdca26\"],[1.0,\"#f0f921\"]]}],\"heatmapgl\":[{\"type\":\"heatmapgl\",\"colorbar\":{\"outlinewidth\":0,\"ticks\":\"\"},\"colorscale\":[[0.0,\"#0d0887\"],[0.1111111111111111,\"#46039f\"],[0.2222222222222222,\"#7201a8\"],[0.3333333333333333,\"#9c179e\"],[0.4444444444444444,\"#bd3786\"],[0.5555555555555556,\"#d8576b\"],[0.6666666666666666,\"#ed7953\"],[0.7777777777777778,\"#fb9f3a\"],[0.8888888888888888,\"#fdca26\"],[1.0,\"#f0f921\"]]}],\"contourcarpet\":[{\"type\":\"contourcarpet\",\"colorbar\":{\"outlinewidth\":0,\"ticks\":\"\"}}],\"contour\":[{\"type\":\"contour\",\"colorbar\":{\"outlinewidth\":0,\"ticks\":\"\"},\"colorscale\":[[0.0,\"#0d0887\"],[0.1111111111111111,\"#46039f\"],[0.2222222222222222,\"#7201a8\"],[0.3333333333333333,\"#9c179e\"],[0.4444444444444444,\"#bd3786\"],[0.5555555555555556,\"#d8576b\"],[0.6666666666666666,\"#ed7953\"],[0.7777777777777778,\"#fb9f3a\"],[0.8888888888888888,\"#fdca26\"],[1.0,\"#f0f921\"]]}],\"surface\":[{\"type\":\"surface\",\"colorbar\":{\"outlinewidth\":0,\"ticks\":\"\"},\"colorscale\":[[0.0,\"#0d0887\"],[0.1111111111111111,\"#46039f\"],[0.2222222222222222,\"#7201a8\"],[0.3333333333333333,\"#9c179e\"],[0.4444444444444444,\"#bd3786\"],[0.5555555555555556,\"#d8576b\"],[0.6666666666666666,\"#ed7953\"],[0.7777777777777778,\"#fb9f3a\"],[0.8888888888888888,\"#fdca26\"],[1.0,\"#f0f921\"]]}],\"mesh3d\":[{\"type\":\"mesh3d\",\"colorbar\":{\"outlinewidth\":0,\"ticks\":\"\"}}],\"scatter\":[{\"fillpattern\":{\"fillmode\":\"overlay\",\"size\":10,\"solidity\":0.2},\"type\":\"scatter\"}],\"parcoords\":[{\"type\":\"parcoords\",\"line\":{\"colorbar\":{\"outlinewidth\":0,\"ticks\":\"\"}}}],\"scatterpolargl\":[{\"type\":\"scatterpolargl\",\"marker\":{\"colorbar\":{\"outlinewidth\":0,\"ticks\":\"\"}}}],\"bar\":[{\"error_x\":{\"color\":\"#2a3f5f\"},\"error_y\":{\"color\":\"#2a3f5f\"},\"marker\":{\"line\":{\"color\":\"white\",\"width\":0.5},\"pattern\":{\"fillmode\":\"overlay\",\"size\":10,\"solidity\":0.2}},\"type\":\"bar\"}],\"scattergeo\":[{\"type\":\"scattergeo\",\"marker\":{\"colorbar\":{\"outlinewidth\":0,\"ticks\":\"\"}}}],\"scatterpolar\":[{\"type\":\"scatterpolar\",\"marker\":{\"colorbar\":{\"outlinewidth\":0,\"ticks\":\"\"}}}],\"histogram\":[{\"marker\":{\"pattern\":{\"fillmode\":\"overlay\",\"size\":10,\"solidity\":0.2}},\"type\":\"histogram\"}],\"scattergl\":[{\"type\":\"scattergl\",\"marker\":{\"colorbar\":{\"outlinewidth\":0,\"ticks\":\"\"}}}],\"scatter3d\":[{\"type\":\"scatter3d\",\"line\":{\"colorbar\":{\"outlinewidth\":0,\"ticks\":\"\"}},\"marker\":{\"colorbar\":{\"outlinewidth\":0,\"ticks\":\"\"}}}],\"scattermapbox\":[{\"type\":\"scattermapbox\",\"marker\":{\"colorbar\":{\"outlinewidth\":0,\"ticks\":\"\"}}}],\"scatterternary\":[{\"type\":\"scatterternary\",\"marker\":{\"colorbar\":{\"outlinewidth\":0,\"ticks\":\"\"}}}],\"scattercarpet\":[{\"type\":\"scattercarpet\",\"marker\":{\"colorbar\":{\"outlinewidth\":0,\"ticks\":\"\"}}}],\"carpet\":[{\"aaxis\":{\"endlinecolor\":\"#2a3f5f\",\"gridcolor\":\"#C8D4E3\",\"linecolor\":\"#C8D4E3\",\"minorgridcolor\":\"#C8D4E3\",\"startlinecolor\":\"#2a3f5f\"},\"baxis\":{\"endlinecolor\":\"#2a3f5f\",\"gridcolor\":\"#C8D4E3\",\"linecolor\":\"#C8D4E3\",\"minorgridcolor\":\"#C8D4E3\",\"startlinecolor\":\"#2a3f5f\"},\"type\":\"carpet\"}],\"table\":[{\"cells\":{\"fill\":{\"color\":\"#EBF0F8\"},\"line\":{\"color\":\"white\"}},\"header\":{\"fill\":{\"color\":\"#C8D4E3\"},\"line\":{\"color\":\"white\"}},\"type\":\"table\"}],\"barpolar\":[{\"marker\":{\"line\":{\"color\":\"white\",\"width\":0.5},\"pattern\":{\"fillmode\":\"overlay\",\"size\":10,\"solidity\":0.2}},\"type\":\"barpolar\"}],\"pie\":[{\"automargin\":true,\"type\":\"pie\"}]},\"layout\":{\"autotypenumbers\":\"strict\",\"colorway\":[\"#636efa\",\"#EF553B\",\"#00cc96\",\"#ab63fa\",\"#FFA15A\",\"#19d3f3\",\"#FF6692\",\"#B6E880\",\"#FF97FF\",\"#FECB52\"],\"font\":{\"color\":\"#2a3f5f\"},\"hovermode\":\"closest\",\"hoverlabel\":{\"align\":\"left\"},\"paper_bgcolor\":\"white\",\"plot_bgcolor\":\"white\",\"polar\":{\"bgcolor\":\"white\",\"angularaxis\":{\"gridcolor\":\"#EBF0F8\",\"linecolor\":\"#EBF0F8\",\"ticks\":\"\"},\"radialaxis\":{\"gridcolor\":\"#EBF0F8\",\"linecolor\":\"#EBF0F8\",\"ticks\":\"\"}},\"ternary\":{\"bgcolor\":\"white\",\"aaxis\":{\"gridcolor\":\"#DFE8F3\",\"linecolor\":\"#A2B1C6\",\"ticks\":\"\"},\"baxis\":{\"gridcolor\":\"#DFE8F3\",\"linecolor\":\"#A2B1C6\",\"ticks\":\"\"},\"caxis\":{\"gridcolor\":\"#DFE8F3\",\"linecolor\":\"#A2B1C6\",\"ticks\":\"\"}},\"coloraxis\":{\"colorbar\":{\"outlinewidth\":0,\"ticks\":\"\"}},\"colorscale\":{\"sequential\":[[0.0,\"#0d0887\"],[0.1111111111111111,\"#46039f\"],[0.2222222222222222,\"#7201a8\"],[0.3333333333333333,\"#9c179e\"],[0.4444444444444444,\"#bd3786\"],[0.5555555555555556,\"#d8576b\"],[0.6666666666666666,\"#ed7953\"],[0.7777777777777778,\"#fb9f3a\"],[0.8888888888888888,\"#fdca26\"],[1.0,\"#f0f921\"]],\"sequentialminus\":[[0.0,\"#0d0887\"],[0.1111111111111111,\"#46039f\"],[0.2222222222222222,\"#7201a8\"],[0.3333333333333333,\"#9c179e\"],[0.4444444444444444,\"#bd3786\"],[0.5555555555555556,\"#d8576b\"],[0.6666666666666666,\"#ed7953\"],[0.7777777777777778,\"#fb9f3a\"],[0.8888888888888888,\"#fdca26\"],[1.0,\"#f0f921\"]],\"diverging\":[[0,\"#8e0152\"],[0.1,\"#c51b7d\"],[0.2,\"#de77ae\"],[0.3,\"#f1b6da\"],[0.4,\"#fde0ef\"],[0.5,\"#f7f7f7\"],[0.6,\"#e6f5d0\"],[0.7,\"#b8e186\"],[0.8,\"#7fbc41\"],[0.9,\"#4d9221\"],[1,\"#276419\"]]},\"xaxis\":{\"gridcolor\":\"#EBF0F8\",\"linecolor\":\"#EBF0F8\",\"ticks\":\"\",\"title\":{\"standoff\":15},\"zerolinecolor\":\"#EBF0F8\",\"automargin\":true,\"zerolinewidth\":2},\"yaxis\":{\"gridcolor\":\"#EBF0F8\",\"linecolor\":\"#EBF0F8\",\"ticks\":\"\",\"title\":{\"standoff\":15},\"zerolinecolor\":\"#EBF0F8\",\"automargin\":true,\"zerolinewidth\":2},\"scene\":{\"xaxis\":{\"backgroundcolor\":\"white\",\"gridcolor\":\"#DFE8F3\",\"linecolor\":\"#EBF0F8\",\"showbackground\":true,\"ticks\":\"\",\"zerolinecolor\":\"#EBF0F8\",\"gridwidth\":2},\"yaxis\":{\"backgroundcolor\":\"white\",\"gridcolor\":\"#DFE8F3\",\"linecolor\":\"#EBF0F8\",\"showbackground\":true,\"ticks\":\"\",\"zerolinecolor\":\"#EBF0F8\",\"gridwidth\":2},\"zaxis\":{\"backgroundcolor\":\"white\",\"gridcolor\":\"#DFE8F3\",\"linecolor\":\"#EBF0F8\",\"showbackground\":true,\"ticks\":\"\",\"zerolinecolor\":\"#EBF0F8\",\"gridwidth\":2}},\"shapedefaults\":{\"line\":{\"color\":\"#2a3f5f\"}},\"annotationdefaults\":{\"arrowcolor\":\"#2a3f5f\",\"arrowhead\":0,\"arrowwidth\":1},\"geo\":{\"bgcolor\":\"white\",\"landcolor\":\"white\",\"subunitcolor\":\"#C8D4E3\",\"showland\":true,\"showlakes\":true,\"lakecolor\":\"white\"},\"title\":{\"x\":0.05},\"mapbox\":{\"style\":\"light\"}}},\"xaxis\":{\"title\":{\"text\":\"February Hour of Day\"},\"tickmode\":\"linear\"},\"yaxis\":{\"title\":{\"text\":\"Fare Amount ($)\"},\"gridcolor\":\"LightGray\"},\"title\":{\"text\":\"Average and Median Fare Amount by Time of Day\"}},                        {\"responsive\": true}                    ).then(function(){\n",
              "                            \n",
              "var gd = document.getElementById('a3a9ec1f-339c-4a3a-94d0-083f2c591383');\n",
              "var x = new MutationObserver(function (mutations, observer) {{\n",
              "        var display = window.getComputedStyle(gd).display;\n",
              "        if (!display || display === 'none') {{\n",
              "            console.log([gd, 'removed!']);\n",
              "            Plotly.purge(gd);\n",
              "            observer.disconnect();\n",
              "        }}\n",
              "}});\n",
              "\n",
              "// Listen for the removal of the full notebook cells\n",
              "var notebookContainer = gd.closest('#notebook-container');\n",
              "if (notebookContainer) {{\n",
              "    x.observe(notebookContainer, {childList: true});\n",
              "}}\n",
              "\n",
              "// Listen for the clearing of the current output cell\n",
              "var outputEl = gd.closest('.output');\n",
              "if (outputEl) {{\n",
              "    x.observe(outputEl, {childList: true});\n",
              "}}\n",
              "\n",
              "                        })                };                            </script>        </div>\n",
              "</body>\n",
              "</html>"
            ]
          },
          "metadata": {}
        },
        {
          "output_type": "display_data",
          "data": {
            "text/html": [
              "<html>\n",
              "<head><meta charset=\"utf-8\" /></head>\n",
              "<body>\n",
              "    <div>            <script src=\"https://cdnjs.cloudflare.com/ajax/libs/mathjax/2.7.5/MathJax.js?config=TeX-AMS-MML_SVG\"></script><script type=\"text/javascript\">if (window.MathJax && window.MathJax.Hub && window.MathJax.Hub.Config) {window.MathJax.Hub.Config({SVG: {font: \"STIX-Web\"}});}</script>                <script type=\"text/javascript\">window.PlotlyConfig = {MathJaxConfig: 'local'};</script>\n",
              "        <script charset=\"utf-8\" src=\"https://cdn.plot.ly/plotly-2.24.1.min.js\"></script>                <div id=\"cc7ebab0-5415-4353-ac0a-ee19372b6fee\" class=\"plotly-graph-div\" style=\"height:525px; width:100%;\"></div>            <script type=\"text/javascript\">                                    window.PLOTLYENV=window.PLOTLYENV || {};                                    if (document.getElementById(\"cc7ebab0-5415-4353-ac0a-ee19372b6fee\")) {                    Plotly.newPlot(                        \"cc7ebab0-5415-4353-ac0a-ee19372b6fee\",                        [{\"marker\":{\"color\":\"royalblue\"},\"name\":\"Avg Fees Amount\",\"x\":[\"Friday\",\"Monday\",\"Saturday\",\"Sunday\",\"Thursday\",\"Tuesday\",\"Wednesday\"],\"y\":[11.775753755215874,11.649191013343964,11.982166847438487,12.047475431737892,11.63706929819458,11.496390433184324,11.497745539975817],\"type\":\"bar\"},{\"marker\":{\"color\":\"red\"},\"name\":\"Median Fees Amount\",\"x\":[\"Friday\",\"Monday\",\"Saturday\",\"Sunday\",\"Thursday\",\"Tuesday\",\"Wednesday\"],\"y\":[9.0,9.0,9.5,9.5,9.0,8.5,8.5],\"type\":\"bar\"}],                        {\"template\":{\"data\":{\"histogram2dcontour\":[{\"type\":\"histogram2dcontour\",\"colorbar\":{\"outlinewidth\":0,\"ticks\":\"\"},\"colorscale\":[[0.0,\"#0d0887\"],[0.1111111111111111,\"#46039f\"],[0.2222222222222222,\"#7201a8\"],[0.3333333333333333,\"#9c179e\"],[0.4444444444444444,\"#bd3786\"],[0.5555555555555556,\"#d8576b\"],[0.6666666666666666,\"#ed7953\"],[0.7777777777777778,\"#fb9f3a\"],[0.8888888888888888,\"#fdca26\"],[1.0,\"#f0f921\"]]}],\"choropleth\":[{\"type\":\"choropleth\",\"colorbar\":{\"outlinewidth\":0,\"ticks\":\"\"}}],\"histogram2d\":[{\"type\":\"histogram2d\",\"colorbar\":{\"outlinewidth\":0,\"ticks\":\"\"},\"colorscale\":[[0.0,\"#0d0887\"],[0.1111111111111111,\"#46039f\"],[0.2222222222222222,\"#7201a8\"],[0.3333333333333333,\"#9c179e\"],[0.4444444444444444,\"#bd3786\"],[0.5555555555555556,\"#d8576b\"],[0.6666666666666666,\"#ed7953\"],[0.7777777777777778,\"#fb9f3a\"],[0.8888888888888888,\"#fdca26\"],[1.0,\"#f0f921\"]]}],\"heatmap\":[{\"type\":\"heatmap\",\"colorbar\":{\"outlinewidth\":0,\"ticks\":\"\"},\"colorscale\":[[0.0,\"#0d0887\"],[0.1111111111111111,\"#46039f\"],[0.2222222222222222,\"#7201a8\"],[0.3333333333333333,\"#9c179e\"],[0.4444444444444444,\"#bd3786\"],[0.5555555555555556,\"#d8576b\"],[0.6666666666666666,\"#ed7953\"],[0.7777777777777778,\"#fb9f3a\"],[0.8888888888888888,\"#fdca26\"],[1.0,\"#f0f921\"]]}],\"heatmapgl\":[{\"type\":\"heatmapgl\",\"colorbar\":{\"outlinewidth\":0,\"ticks\":\"\"},\"colorscale\":[[0.0,\"#0d0887\"],[0.1111111111111111,\"#46039f\"],[0.2222222222222222,\"#7201a8\"],[0.3333333333333333,\"#9c179e\"],[0.4444444444444444,\"#bd3786\"],[0.5555555555555556,\"#d8576b\"],[0.6666666666666666,\"#ed7953\"],[0.7777777777777778,\"#fb9f3a\"],[0.8888888888888888,\"#fdca26\"],[1.0,\"#f0f921\"]]}],\"contourcarpet\":[{\"type\":\"contourcarpet\",\"colorbar\":{\"outlinewidth\":0,\"ticks\":\"\"}}],\"contour\":[{\"type\":\"contour\",\"colorbar\":{\"outlinewidth\":0,\"ticks\":\"\"},\"colorscale\":[[0.0,\"#0d0887\"],[0.1111111111111111,\"#46039f\"],[0.2222222222222222,\"#7201a8\"],[0.3333333333333333,\"#9c179e\"],[0.4444444444444444,\"#bd3786\"],[0.5555555555555556,\"#d8576b\"],[0.6666666666666666,\"#ed7953\"],[0.7777777777777778,\"#fb9f3a\"],[0.8888888888888888,\"#fdca26\"],[1.0,\"#f0f921\"]]}],\"surface\":[{\"type\":\"surface\",\"colorbar\":{\"outlinewidth\":0,\"ticks\":\"\"},\"colorscale\":[[0.0,\"#0d0887\"],[0.1111111111111111,\"#46039f\"],[0.2222222222222222,\"#7201a8\"],[0.3333333333333333,\"#9c179e\"],[0.4444444444444444,\"#bd3786\"],[0.5555555555555556,\"#d8576b\"],[0.6666666666666666,\"#ed7953\"],[0.7777777777777778,\"#fb9f3a\"],[0.8888888888888888,\"#fdca26\"],[1.0,\"#f0f921\"]]}],\"mesh3d\":[{\"type\":\"mesh3d\",\"colorbar\":{\"outlinewidth\":0,\"ticks\":\"\"}}],\"scatter\":[{\"fillpattern\":{\"fillmode\":\"overlay\",\"size\":10,\"solidity\":0.2},\"type\":\"scatter\"}],\"parcoords\":[{\"type\":\"parcoords\",\"line\":{\"colorbar\":{\"outlinewidth\":0,\"ticks\":\"\"}}}],\"scatterpolargl\":[{\"type\":\"scatterpolargl\",\"marker\":{\"colorbar\":{\"outlinewidth\":0,\"ticks\":\"\"}}}],\"bar\":[{\"error_x\":{\"color\":\"#2a3f5f\"},\"error_y\":{\"color\":\"#2a3f5f\"},\"marker\":{\"line\":{\"color\":\"white\",\"width\":0.5},\"pattern\":{\"fillmode\":\"overlay\",\"size\":10,\"solidity\":0.2}},\"type\":\"bar\"}],\"scattergeo\":[{\"type\":\"scattergeo\",\"marker\":{\"colorbar\":{\"outlinewidth\":0,\"ticks\":\"\"}}}],\"scatterpolar\":[{\"type\":\"scatterpolar\",\"marker\":{\"colorbar\":{\"outlinewidth\":0,\"ticks\":\"\"}}}],\"histogram\":[{\"marker\":{\"pattern\":{\"fillmode\":\"overlay\",\"size\":10,\"solidity\":0.2}},\"type\":\"histogram\"}],\"scattergl\":[{\"type\":\"scattergl\",\"marker\":{\"colorbar\":{\"outlinewidth\":0,\"ticks\":\"\"}}}],\"scatter3d\":[{\"type\":\"scatter3d\",\"line\":{\"colorbar\":{\"outlinewidth\":0,\"ticks\":\"\"}},\"marker\":{\"colorbar\":{\"outlinewidth\":0,\"ticks\":\"\"}}}],\"scattermapbox\":[{\"type\":\"scattermapbox\",\"marker\":{\"colorbar\":{\"outlinewidth\":0,\"ticks\":\"\"}}}],\"scatterternary\":[{\"type\":\"scatterternary\",\"marker\":{\"colorbar\":{\"outlinewidth\":0,\"ticks\":\"\"}}}],\"scattercarpet\":[{\"type\":\"scattercarpet\",\"marker\":{\"colorbar\":{\"outlinewidth\":0,\"ticks\":\"\"}}}],\"carpet\":[{\"aaxis\":{\"endlinecolor\":\"#2a3f5f\",\"gridcolor\":\"#C8D4E3\",\"linecolor\":\"#C8D4E3\",\"minorgridcolor\":\"#C8D4E3\",\"startlinecolor\":\"#2a3f5f\"},\"baxis\":{\"endlinecolor\":\"#2a3f5f\",\"gridcolor\":\"#C8D4E3\",\"linecolor\":\"#C8D4E3\",\"minorgridcolor\":\"#C8D4E3\",\"startlinecolor\":\"#2a3f5f\"},\"type\":\"carpet\"}],\"table\":[{\"cells\":{\"fill\":{\"color\":\"#EBF0F8\"},\"line\":{\"color\":\"white\"}},\"header\":{\"fill\":{\"color\":\"#C8D4E3\"},\"line\":{\"color\":\"white\"}},\"type\":\"table\"}],\"barpolar\":[{\"marker\":{\"line\":{\"color\":\"white\",\"width\":0.5},\"pattern\":{\"fillmode\":\"overlay\",\"size\":10,\"solidity\":0.2}},\"type\":\"barpolar\"}],\"pie\":[{\"automargin\":true,\"type\":\"pie\"}]},\"layout\":{\"autotypenumbers\":\"strict\",\"colorway\":[\"#636efa\",\"#EF553B\",\"#00cc96\",\"#ab63fa\",\"#FFA15A\",\"#19d3f3\",\"#FF6692\",\"#B6E880\",\"#FF97FF\",\"#FECB52\"],\"font\":{\"color\":\"#2a3f5f\"},\"hovermode\":\"closest\",\"hoverlabel\":{\"align\":\"left\"},\"paper_bgcolor\":\"white\",\"plot_bgcolor\":\"white\",\"polar\":{\"bgcolor\":\"white\",\"angularaxis\":{\"gridcolor\":\"#EBF0F8\",\"linecolor\":\"#EBF0F8\",\"ticks\":\"\"},\"radialaxis\":{\"gridcolor\":\"#EBF0F8\",\"linecolor\":\"#EBF0F8\",\"ticks\":\"\"}},\"ternary\":{\"bgcolor\":\"white\",\"aaxis\":{\"gridcolor\":\"#DFE8F3\",\"linecolor\":\"#A2B1C6\",\"ticks\":\"\"},\"baxis\":{\"gridcolor\":\"#DFE8F3\",\"linecolor\":\"#A2B1C6\",\"ticks\":\"\"},\"caxis\":{\"gridcolor\":\"#DFE8F3\",\"linecolor\":\"#A2B1C6\",\"ticks\":\"\"}},\"coloraxis\":{\"colorbar\":{\"outlinewidth\":0,\"ticks\":\"\"}},\"colorscale\":{\"sequential\":[[0.0,\"#0d0887\"],[0.1111111111111111,\"#46039f\"],[0.2222222222222222,\"#7201a8\"],[0.3333333333333333,\"#9c179e\"],[0.4444444444444444,\"#bd3786\"],[0.5555555555555556,\"#d8576b\"],[0.6666666666666666,\"#ed7953\"],[0.7777777777777778,\"#fb9f3a\"],[0.8888888888888888,\"#fdca26\"],[1.0,\"#f0f921\"]],\"sequentialminus\":[[0.0,\"#0d0887\"],[0.1111111111111111,\"#46039f\"],[0.2222222222222222,\"#7201a8\"],[0.3333333333333333,\"#9c179e\"],[0.4444444444444444,\"#bd3786\"],[0.5555555555555556,\"#d8576b\"],[0.6666666666666666,\"#ed7953\"],[0.7777777777777778,\"#fb9f3a\"],[0.8888888888888888,\"#fdca26\"],[1.0,\"#f0f921\"]],\"diverging\":[[0,\"#8e0152\"],[0.1,\"#c51b7d\"],[0.2,\"#de77ae\"],[0.3,\"#f1b6da\"],[0.4,\"#fde0ef\"],[0.5,\"#f7f7f7\"],[0.6,\"#e6f5d0\"],[0.7,\"#b8e186\"],[0.8,\"#7fbc41\"],[0.9,\"#4d9221\"],[1,\"#276419\"]]},\"xaxis\":{\"gridcolor\":\"#EBF0F8\",\"linecolor\":\"#EBF0F8\",\"ticks\":\"\",\"title\":{\"standoff\":15},\"zerolinecolor\":\"#EBF0F8\",\"automargin\":true,\"zerolinewidth\":2},\"yaxis\":{\"gridcolor\":\"#EBF0F8\",\"linecolor\":\"#EBF0F8\",\"ticks\":\"\",\"title\":{\"standoff\":15},\"zerolinecolor\":\"#EBF0F8\",\"automargin\":true,\"zerolinewidth\":2},\"scene\":{\"xaxis\":{\"backgroundcolor\":\"white\",\"gridcolor\":\"#DFE8F3\",\"linecolor\":\"#EBF0F8\",\"showbackground\":true,\"ticks\":\"\",\"zerolinecolor\":\"#EBF0F8\",\"gridwidth\":2},\"yaxis\":{\"backgroundcolor\":\"white\",\"gridcolor\":\"#DFE8F3\",\"linecolor\":\"#EBF0F8\",\"showbackground\":true,\"ticks\":\"\",\"zerolinecolor\":\"#EBF0F8\",\"gridwidth\":2},\"zaxis\":{\"backgroundcolor\":\"white\",\"gridcolor\":\"#DFE8F3\",\"linecolor\":\"#EBF0F8\",\"showbackground\":true,\"ticks\":\"\",\"zerolinecolor\":\"#EBF0F8\",\"gridwidth\":2}},\"shapedefaults\":{\"line\":{\"color\":\"#2a3f5f\"}},\"annotationdefaults\":{\"arrowcolor\":\"#2a3f5f\",\"arrowhead\":0,\"arrowwidth\":1},\"geo\":{\"bgcolor\":\"white\",\"landcolor\":\"white\",\"subunitcolor\":\"#C8D4E3\",\"showland\":true,\"showlakes\":true,\"lakecolor\":\"white\"},\"title\":{\"x\":0.05},\"mapbox\":{\"style\":\"light\"}}},\"xaxis\":{\"title\":{\"text\":\"Day of Week\"},\"categoryorder\":\"array\",\"categoryarray\":[\"Sunday\",\"Monday\",\"Tuesday\",\"Wednesday\",\"Thursday\",\"Friday\",\"Saturday\"]},\"yaxis\":{\"title\":{\"text\":\"Fees Amount $\"},\"gridcolor\":\"LightGray\"},\"title\":{\"text\":\"Average and Median Fees Amount by Day of Week\"},\"barmode\":\"group\"},                        {\"responsive\": true}                    ).then(function(){\n",
              "                            \n",
              "var gd = document.getElementById('cc7ebab0-5415-4353-ac0a-ee19372b6fee');\n",
              "var x = new MutationObserver(function (mutations, observer) {{\n",
              "        var display = window.getComputedStyle(gd).display;\n",
              "        if (!display || display === 'none') {{\n",
              "            console.log([gd, 'removed!']);\n",
              "            Plotly.purge(gd);\n",
              "            observer.disconnect();\n",
              "        }}\n",
              "}});\n",
              "\n",
              "// Listen for the removal of the full notebook cells\n",
              "var notebookContainer = gd.closest('#notebook-container');\n",
              "if (notebookContainer) {{\n",
              "    x.observe(notebookContainer, {childList: true});\n",
              "}}\n",
              "\n",
              "// Listen for the clearing of the current output cell\n",
              "var outputEl = gd.closest('.output');\n",
              "if (outputEl) {{\n",
              "    x.observe(outputEl, {childList: true});\n",
              "}}\n",
              "\n",
              "                        })                };                            </script>        </div>\n",
              "</body>\n",
              "</html>"
            ]
          },
          "metadata": {}
        }
      ]
    },
    {
      "cell_type": "markdown",
      "source": [
        "# Media Insight Task"
      ],
      "metadata": {
        "id": "dTUD4JWqvW7D"
      }
    },
    {
      "cell_type": "code",
      "source": [
        "from google.colab import drive\n",
        "drive.mount('/content/drive')"
      ],
      "metadata": {
        "colab": {
          "base_uri": "https://localhost:8080/",
          "height": 0
        },
        "id": "NoslNVnowIBu",
        "outputId": "d0fd00ae-d2e9-4abc-b920-9cd579c0aa56"
      },
      "execution_count": 112,
      "outputs": [
        {
          "output_type": "stream",
          "name": "stdout",
          "text": [
            "Drive already mounted at /content/drive; to attempt to forcibly remount, call drive.mount(\"/content/drive\", force_remount=True).\n"
          ]
        }
      ]
    },
    {
      "cell_type": "code",
      "source": [
        "import matplotlib.pyplot as plt\n",
        "import matplotlib.image as mpimg\n",
        "\n",
        "img = mpimg.imread('/content/drive/MyDrive/MMM_Task.png')\n",
        "plt.imshow(img)\n",
        "plt.axis('off')  # Turn off axis labels and ticks\n",
        "plt.show()\n"
      ],
      "metadata": {
        "colab": {
          "base_uri": "https://localhost:8080/",
          "height": 282
        },
        "id": "N-qwm_kfxKbm",
        "outputId": "ebd7ccb9-63c4-484f-f6b4-55c55572ccdb"
      },
      "execution_count": 116,
      "outputs": [
        {
          "output_type": "display_data",
          "data": {
            "text/plain": [
              "<Figure size 640x480 with 1 Axes>"
            ],
            "image/png": "[encoded data removed]"
          },
          "metadata": {}
        }
      ]
    },
    {
      "cell_type": "markdown",
      "source": [
        "## 1. In what year was the modelled TV spending the most efficient according to this curve?"
      ],
      "metadata": {
        "id": "QhBgmjO6yMtb"
      }
    },
    {
      "cell_type": "code",
      "source": [
        "'''\n",
        "For me the efficiency of TV spending is best determine by the steepness of the curve, which indicates the incremental sessions per dollar spend.\n",
        "In the graph, the steepest slope occurs in the range of $0 to $20 million, then the curve flattens.\n",
        "Therefore, the modelled TV spending was most efficient at around $10–20 million which is Year 2, where the incremental gain in sessions per dollar spent was at its peak.\n",
        "'''"
      ],
      "metadata": {
        "colab": {
          "base_uri": "https://localhost:8080/",
          "height": 70
        },
        "id": "AitYLWvQypS2",
        "outputId": "4aa20ef0-55e3-4c40-d6be-9b2e5770943b"
      },
      "execution_count": 117,
      "outputs": [
        {
          "output_type": "execute_result",
          "data": {
            "text/plain": [
              "'\\nFor me the efficiency of TV spending is best determine by the steepness of the curve, which indicates the incremental sessions per dollar spend. \\nIn the graph, the steepest slope occurs in the range of $0 to $20 million, then the curve flattens.\\nTherefore, the modelled TV spending was most efficient at around $10–20 million which is Year 2, where the incremental gain in sessions per dollar spent was at its peak.\\n'"
            ],
            "application/vnd.google.colaboratory.intrinsic+json": {
              "type": "string"
            }
          },
          "metadata": {},
          "execution_count": 117
        }
      ]
    },
    {
      "cell_type": "markdown",
      "source": [
        "## 2. What are some things a planner should consider when using this curve to recommend channel spend in year 4 onward?\n"
      ],
      "metadata": {
        "id": "9GuHNVna1k0f"
      }
    },
    {
      "cell_type": "code",
      "source": [
        "'''\n",
        "Firstly, we need to consider the Diminishing Returns, because beyond $20M, the curve flattens, indicating a possible diminishing returns on investment.\n",
        "It means that any additional spending results in smaller incremental gains in sessions.\n",
        "\n",
        "Secondly, we need to consider Budget Optimization, as additional spend yields fewer sessions, it is best to allocate\n",
        "excess budget to other channels or activities with higher potential incremental gains.\n",
        "\n",
        "Thirdly, we need to consider Cross-Channel. As TV approaches saturation, it would be more reasonable to evaluate the effectiveness of\n",
        "other channels such as web / application advertisements, social media, or etc. to maximize the overall campaign impact.\n",
        "\n",
        "'''"
      ],
      "metadata": {
        "id": "scmAfOct1i0T"
      },
      "execution_count": null,
      "outputs": []
    },
    {
      "cell_type": "markdown",
      "source": [
        "# The Link for the Google Colab Notebook: https://colab.research.google.com/drive/12SO7R58aSayoHqCg3olReTUvTW-V6zKM?usp=sharing\n",
        "\n"
      ],
      "metadata": {
        "id": "-1CPhEDGHnxK"
      }
    }
  ]
}